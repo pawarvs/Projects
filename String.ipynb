{
 "cells": [
  {
   "cell_type": "markdown",
   "id": "7ffa02ef",
   "metadata": {},
   "source": [
    "## String"
   ]
  },
  {
   "cell_type": "code",
   "execution_count": 2,
   "id": "181506b3",
   "metadata": {},
   "outputs": [],
   "source": [
    "s = 'HelloWorld'"
   ]
  },
  {
   "cell_type": "code",
   "execution_count": 3,
   "id": "838b264b",
   "metadata": {},
   "outputs": [
    {
     "data": {
      "text/plain": [
       "str"
      ]
     },
     "execution_count": 3,
     "metadata": {},
     "output_type": "execute_result"
    }
   ],
   "source": [
    "type(s)"
   ]
  },
  {
   "cell_type": "markdown",
   "id": "b3e3501b",
   "metadata": {},
   "source": [
    "### Slicing"
   ]
  },
  {
   "cell_type": "code",
   "execution_count": 4,
   "id": "21a6642a",
   "metadata": {},
   "outputs": [
    {
     "data": {
      "text/plain": [
       "'Hello'"
      ]
     },
     "execution_count": 4,
     "metadata": {},
     "output_type": "execute_result"
    }
   ],
   "source": [
    "s[:5]"
   ]
  },
  {
   "cell_type": "code",
   "execution_count": 5,
   "id": "114276c6",
   "metadata": {},
   "outputs": [
    {
     "data": {
      "text/plain": [
       "'o'"
      ]
     },
     "execution_count": 5,
     "metadata": {},
     "output_type": "execute_result"
    }
   ],
   "source": [
    "s[6]"
   ]
  },
  {
   "cell_type": "code",
   "execution_count": 6,
   "id": "6f214237",
   "metadata": {},
   "outputs": [
    {
     "data": {
      "text/plain": [
       "'W'"
      ]
     },
     "execution_count": 6,
     "metadata": {},
     "output_type": "execute_result"
    }
   ],
   "source": [
    "s[5]"
   ]
  },
  {
   "cell_type": "code",
   "execution_count": 7,
   "id": "ce54ea19",
   "metadata": {},
   "outputs": [
    {
     "data": {
      "text/plain": [
       "'d'"
      ]
     },
     "execution_count": 7,
     "metadata": {},
     "output_type": "execute_result"
    }
   ],
   "source": [
    "s[-1]"
   ]
  },
  {
   "cell_type": "code",
   "execution_count": 8,
   "id": "f0c59661",
   "metadata": {},
   "outputs": [
    {
     "data": {
      "text/plain": [
       "'o'"
      ]
     },
     "execution_count": 8,
     "metadata": {},
     "output_type": "execute_result"
    }
   ],
   "source": [
    "s[4]"
   ]
  },
  {
   "cell_type": "code",
   "execution_count": 9,
   "id": "d480618f",
   "metadata": {},
   "outputs": [
    {
     "data": {
      "text/plain": [
       "'lloWorld'"
      ]
     },
     "execution_count": 9,
     "metadata": {},
     "output_type": "execute_result"
    }
   ],
   "source": [
    "s[2:]"
   ]
  },
  {
   "cell_type": "code",
   "execution_count": 10,
   "id": "7a2815b9",
   "metadata": {},
   "outputs": [
    {
     "data": {
      "text/plain": [
       "'World'"
      ]
     },
     "execution_count": 10,
     "metadata": {},
     "output_type": "execute_result"
    }
   ],
   "source": [
    "s[5:]"
   ]
  },
  {
   "cell_type": "code",
   "execution_count": 11,
   "id": "8aae3413",
   "metadata": {},
   "outputs": [],
   "source": [
    "s1 = \"This is my very first python class's'\""
   ]
  },
  {
   "cell_type": "code",
   "execution_count": 12,
   "id": "2e0af568",
   "metadata": {},
   "outputs": [
    {
     "data": {
      "text/plain": [
       "\"'s'ssalc nohtyp tsrif yrev ym si sihT\""
      ]
     },
     "execution_count": 12,
     "metadata": {},
     "output_type": "execute_result"
    }
   ],
   "source": [
    "# reverse string\n",
    "s1[::-1]"
   ]
  },
  {
   "cell_type": "code",
   "execution_count": 13,
   "id": "904ac4e5",
   "metadata": {},
   "outputs": [
    {
     "data": {
      "text/plain": [
       "' '"
      ]
     },
     "execution_count": 13,
     "metadata": {},
     "output_type": "execute_result"
    }
   ],
   "source": [
    "s1[4]"
   ]
  },
  {
   "cell_type": "code",
   "execution_count": 14,
   "id": "7364ab03",
   "metadata": {},
   "outputs": [
    {
     "data": {
      "text/plain": [
       "'s'"
      ]
     },
     "execution_count": 14,
     "metadata": {},
     "output_type": "execute_result"
    }
   ],
   "source": [
    "s1[6]"
   ]
  },
  {
   "cell_type": "code",
   "execution_count": 15,
   "id": "13428828",
   "metadata": {},
   "outputs": [
    {
     "data": {
      "text/plain": [
       "'his '"
      ]
     },
     "execution_count": 15,
     "metadata": {},
     "output_type": "execute_result"
    }
   ],
   "source": [
    "s1[1:5]"
   ]
  },
  {
   "cell_type": "code",
   "execution_count": 16,
   "id": "83d717b6",
   "metadata": {},
   "outputs": [
    {
     "data": {
      "text/plain": [
       "'i yvr is yhnc'"
      ]
     },
     "execution_count": 16,
     "metadata": {},
     "output_type": "execute_result"
    }
   ],
   "source": [
    "# s1[Start:End:Step]\n",
    "s1[5:30:2]"
   ]
  },
  {
   "cell_type": "code",
   "execution_count": 17,
   "id": "54749148",
   "metadata": {},
   "outputs": [],
   "source": [
    "s2='VishalPawar'"
   ]
  },
  {
   "cell_type": "code",
   "execution_count": 18,
   "id": "b8409dd3",
   "metadata": {},
   "outputs": [
    {
     "data": {
      "text/plain": [
       "'VhPa'"
      ]
     },
     "execution_count": 18,
     "metadata": {},
     "output_type": "execute_result"
    }
   ],
   "source": [
    "s2[0:len(s2):3]"
   ]
  },
  {
   "cell_type": "code",
   "execution_count": 19,
   "id": "1c5454f5",
   "metadata": {},
   "outputs": [
    {
     "data": {
      "text/plain": [
       "''"
      ]
     },
     "execution_count": 19,
     "metadata": {},
     "output_type": "execute_result"
    }
   ],
   "source": [
    "# moves in a positive direction and jumps in a negative direction, it's a contradiction.\n",
    "# Because of contadiction cannot access any kind of dataset\n",
    "s2[0:9:-1]"
   ]
  },
  {
   "cell_type": "code",
   "execution_count": 20,
   "id": "d088ee8e",
   "metadata": {},
   "outputs": [
    {
     "data": {
      "text/plain": [
       "'rawaPlahsiV'"
      ]
     },
     "execution_count": 20,
     "metadata": {},
     "output_type": "execute_result"
    }
   ],
   "source": [
    "# Moving and jumping in a same direction, so no contradiction\n",
    "s2[10::-1]"
   ]
  },
  {
   "cell_type": "code",
   "execution_count": 21,
   "id": "129b1408",
   "metadata": {},
   "outputs": [
    {
     "data": {
      "text/plain": [
       "'rawaPlahsi'"
      ]
     },
     "execution_count": 21,
     "metadata": {},
     "output_type": "execute_result"
    }
   ],
   "source": [
    "s2[10:0:-1]"
   ]
  },
  {
   "cell_type": "code",
   "execution_count": 22,
   "id": "e8859584",
   "metadata": {},
   "outputs": [
    {
     "data": {
      "text/plain": [
       "'VishalPa'"
      ]
     },
     "execution_count": 22,
     "metadata": {},
     "output_type": "execute_result"
    }
   ],
   "source": [
    "# Starting from the 0th index excluding last 3 characters as after colon (:) backword indexing\n",
    "s2[:-3]"
   ]
  },
  {
   "cell_type": "code",
   "execution_count": 23,
   "id": "856716a5",
   "metadata": {},
   "outputs": [
    {
     "data": {
      "text/plain": [
       "'ar'"
      ]
     },
     "execution_count": 23,
     "metadata": {},
     "output_type": "execute_result"
    }
   ],
   "source": [
    "# If not mentioned, then the jump will going to be 1 always\n",
    "s2[-2:]"
   ]
  },
  {
   "cell_type": "code",
   "execution_count": 24,
   "id": "1d2fc8d2",
   "metadata": {},
   "outputs": [
    {
     "data": {
      "text/plain": [
       "'VishalPawar'"
      ]
     },
     "execution_count": 24,
     "metadata": {},
     "output_type": "execute_result"
    }
   ],
   "source": [
    "# If an upper bound is not mentioned, consdered as string length + 1 automatically by the system\n",
    "s2[::1]"
   ]
  },
  {
   "cell_type": "code",
   "execution_count": 25,
   "id": "77ebcf3a",
   "metadata": {},
   "outputs": [
    {
     "data": {
      "text/plain": [
       "'VishalPawar'"
      ]
     },
     "execution_count": 25,
     "metadata": {},
     "output_type": "execute_result"
    }
   ],
   "source": [
    "# Upper bound of above string length doesn't affect the end point of the string.\n",
    "s2[0:100:1]"
   ]
  },
  {
   "cell_type": "code",
   "execution_count": 26,
   "id": "e2b78790",
   "metadata": {},
   "outputs": [
    {
     "data": {
      "text/plain": [
       "'rawaPlahsiV'"
      ]
     },
     "execution_count": 26,
     "metadata": {},
     "output_type": "execute_result"
    }
   ],
   "source": [
    "# If step is negative and start and end is not given, it will reverse the whole string and print it.\n",
    "s2[::-1]"
   ]
  },
  {
   "cell_type": "code",
   "execution_count": 27,
   "id": "0928e054",
   "metadata": {},
   "outputs": [
    {
     "data": {
      "text/plain": [
       "'VishalPawar'"
      ]
     },
     "execution_count": 27,
     "metadata": {},
     "output_type": "execute_result"
    }
   ],
   "source": [
    "s2"
   ]
  },
  {
   "cell_type": "code",
   "execution_count": 28,
   "id": "5f928907",
   "metadata": {},
   "outputs": [
    {
     "data": {
      "text/plain": [
       "'rawaPlahsi'"
      ]
     },
     "execution_count": 28,
     "metadata": {},
     "output_type": "execute_result"
    }
   ],
   "source": [
    "s2[10:0:-1]"
   ]
  },
  {
   "cell_type": "code",
   "execution_count": 29,
   "id": "b15bdafa",
   "metadata": {},
   "outputs": [
    {
     "data": {
      "text/plain": [
       "'rawaPlahsiV'"
      ]
     },
     "execution_count": 29,
     "metadata": {},
     "output_type": "execute_result"
    }
   ],
   "source": [
    "s2[10::-1]"
   ]
  },
  {
   "cell_type": "code",
   "execution_count": 30,
   "id": "98f35449",
   "metadata": {},
   "outputs": [
    {
     "data": {
      "text/plain": [
       "''"
      ]
     },
     "execution_count": 30,
     "metadata": {},
     "output_type": "execute_result"
    }
   ],
   "source": [
    "# movement - negative, jump - positive , complete contradiction,giving output as blank\n",
    "s2[-2:-7:1]"
   ]
  },
  {
   "cell_type": "code",
   "execution_count": 31,
   "id": "aef97729",
   "metadata": {},
   "outputs": [
    {
     "data": {
      "text/plain": [
       "'alPaw'"
      ]
     },
     "execution_count": 31,
     "metadata": {},
     "output_type": "execute_result"
    }
   ],
   "source": [
    "s2[-7:-2:1]"
   ]
  },
  {
   "cell_type": "code",
   "execution_count": 32,
   "id": "f43b1156",
   "metadata": {},
   "outputs": [
    {
     "data": {
      "text/plain": [
       "''"
      ]
     },
     "execution_count": 32,
     "metadata": {},
     "output_type": "execute_result"
    }
   ],
   "source": [
    "# Backword moment but jump is forworded, so gives output as blank\n",
    "s2[5:0]"
   ]
  },
  {
   "cell_type": "code",
   "execution_count": 33,
   "id": "acc5e25f",
   "metadata": {},
   "outputs": [
    {
     "data": {
      "text/plain": [
       "'lahsi'"
      ]
     },
     "execution_count": 33,
     "metadata": {},
     "output_type": "execute_result"
    }
   ],
   "source": [
    "s2[5:0:-1]"
   ]
  },
  {
   "cell_type": "code",
   "execution_count": 34,
   "id": "1f8aa302",
   "metadata": {},
   "outputs": [
    {
     "data": {
      "text/plain": [
       "'ahsi'"
      ]
     },
     "execution_count": 34,
     "metadata": {},
     "output_type": "execute_result"
    }
   ],
   "source": [
    "s2[-7:0:-1]"
   ]
  },
  {
   "cell_type": "code",
   "execution_count": 35,
   "id": "4f64c5ac",
   "metadata": {},
   "outputs": [
    {
     "data": {
      "text/plain": [
       "''"
      ]
     },
     "execution_count": 35,
     "metadata": {},
     "output_type": "execute_result"
    }
   ],
   "source": [
    "s2[-7:0:1]"
   ]
  },
  {
   "cell_type": "code",
   "execution_count": 36,
   "id": "347d8080",
   "metadata": {},
   "outputs": [
    {
     "data": {
      "text/plain": [
       "''"
      ]
     },
     "execution_count": 36,
     "metadata": {},
     "output_type": "execute_result"
    }
   ],
   "source": [
    "# no lower bound, upper bound as -1 and step -1 forms contradiction\n",
    "s2[:-1:-1]"
   ]
  },
  {
   "cell_type": "code",
   "execution_count": 37,
   "id": "e23ad0e0",
   "metadata": {},
   "outputs": [
    {
     "ename": "TypeError",
     "evalue": "can only concatenate str (not \"int\") to str",
     "output_type": "error",
     "traceback": [
      "\u001b[1;31m---------------------------------------------------------------------------\u001b[0m",
      "\u001b[1;31mTypeError\u001b[0m                                 Traceback (most recent call last)",
      "\u001b[1;32m~\\AppData\\Local\\Temp/ipykernel_8888/767339885.py\u001b[0m in \u001b[0;36m<module>\u001b[1;34m\u001b[0m\n\u001b[1;32m----> 1\u001b[1;33m \u001b[0ms2\u001b[0m\u001b[1;33m+\u001b[0m\u001b[1;36m1\u001b[0m\u001b[1;33m\u001b[0m\u001b[1;33m\u001b[0m\u001b[0m\n\u001b[0m",
      "\u001b[1;31mTypeError\u001b[0m: can only concatenate str (not \"int\") to str"
     ]
    }
   ],
   "source": [
    "s2+1"
   ]
  },
  {
   "cell_type": "code",
   "execution_count": 38,
   "id": "3ef6a17a",
   "metadata": {},
   "outputs": [
    {
     "data": {
      "text/plain": [
       "'VishalPawar1'"
      ]
     },
     "execution_count": 38,
     "metadata": {},
     "output_type": "execute_result"
    }
   ],
   "source": [
    "# you cannot add a string and a integer, to add you need to do the typecasting.\n",
    "# writing 1 in a string format '1' will add as it behaves like a string.\n",
    "s2+'1'"
   ]
  },
  {
   "cell_type": "code",
   "execution_count": 39,
   "id": "249723ba",
   "metadata": {},
   "outputs": [
    {
     "data": {
      "text/plain": [
       "'VishalPawar1'"
      ]
     },
     "execution_count": 39,
     "metadata": {},
     "output_type": "execute_result"
    }
   ],
   "source": [
    "s2+str(1)"
   ]
  },
  {
   "cell_type": "code",
   "execution_count": 40,
   "id": "823d6d7f",
   "metadata": {},
   "outputs": [
    {
     "data": {
      "text/plain": [
       "11"
      ]
     },
     "execution_count": 40,
     "metadata": {},
     "output_type": "execute_result"
    }
   ],
   "source": [
    "# length of a string : len(variable name)\n",
    "len(s2)"
   ]
  },
  {
   "cell_type": "code",
   "execution_count": 41,
   "id": "30fc8c05",
   "metadata": {},
   "outputs": [
    {
     "data": {
      "text/plain": [
       "'VishalPawarVishalPawar'"
      ]
     },
     "execution_count": 41,
     "metadata": {},
     "output_type": "execute_result"
    }
   ],
   "source": [
    "# multiplication with string, \n",
    "# If a string is multiplied by n number, the sting will be repeated by n number of times.\n",
    "s2*2"
   ]
  },
  {
   "cell_type": "code",
   "execution_count": 42,
   "id": "df52cd68",
   "metadata": {},
   "outputs": [
    {
     "data": {
      "text/plain": [
       "3"
      ]
     },
     "execution_count": 42,
     "metadata": {},
     "output_type": "execute_result"
    }
   ],
   "source": [
    "# function 'count' will counts number of times substrings appears in the string.\n",
    "s2.count('a')"
   ]
  },
  {
   "cell_type": "code",
   "execution_count": 43,
   "id": "ffe2bd0e",
   "metadata": {},
   "outputs": [
    {
     "data": {
      "text/plain": [
       "'VishalPawar'"
      ]
     },
     "execution_count": 43,
     "metadata": {},
     "output_type": "execute_result"
    }
   ],
   "source": [
    "s2"
   ]
  },
  {
   "cell_type": "code",
   "execution_count": 44,
   "id": "970fe9c5",
   "metadata": {},
   "outputs": [
    {
     "data": {
      "text/plain": [
       "['Vish', 'lP', 'w', 'r']"
      ]
     },
     "execution_count": 44,
     "metadata": {},
     "output_type": "execute_result"
    }
   ],
   "source": [
    "# Return a list of the words in the string, using sep as the delimiter (you can choose the delimeter)\n",
    "s2.split('a')"
   ]
  },
  {
   "cell_type": "code",
   "execution_count": 49,
   "id": "3bdd36d1",
   "metadata": {},
   "outputs": [
    {
     "data": {
      "text/plain": [
       "'VP'"
      ]
     },
     "execution_count": 49,
     "metadata": {},
     "output_type": "execute_result"
    }
   ],
   "source": [
    "# If seperator is not passed then it will return entire string as one item of a list.\n",
    "l = s2.split()\n",
    "#l[0]\n",
    "#l[0][6]\n",
    "l[0][0::6]"
   ]
  },
  {
   "cell_type": "code",
   "execution_count": 42,
   "id": "3a628976",
   "metadata": {},
   "outputs": [
    {
     "ename": "SyntaxError",
     "evalue": "EOL while scanning string literal (Temp/ipykernel_5804/404260889.py, line 1)",
     "output_type": "error",
     "traceback": [
      "\u001b[1;36m  File \u001b[1;32m\"C:\\Users\\svish\\AppData\\Local\\Temp/ipykernel_5804/404260889.py\"\u001b[1;36m, line \u001b[1;32m1\u001b[0m\n\u001b[1;33m    sw = \" The Samsung Group[3] (or simply Samsung, stylized as SΛMSUNG) (Korean: 삼성 [samsʌŋ]) is a South Korean multinational manufacturing conglomerate headquartered in Samsung Town, Seoul, South Korea.[1] It comprises numerous affiliated businesses,[1] most of them united under the Samsung brand, and is the largest South Korean chaebol (business conglomerate). As of 2020, Samsung has the 8th highest global brand value.[4]\u001b[0m\n\u001b[1;37m                                                                                                                                                                                                                                                                                                                                                                                                                                            ^\u001b[0m\n\u001b[1;31mSyntaxError\u001b[0m\u001b[1;31m:\u001b[0m EOL while scanning string literal\n"
     ]
    }
   ],
   "source": [
    "sw = \" The Samsung Group[3] (or simply Samsung, stylized as SΛMSUNG) (Korean: 삼성 [samsʌŋ]) is a South Korean multinational manufacturing conglomerate headquartered in Samsung Town, Seoul, South Korea.[1] It comprises numerous affiliated businesses,[1] most of them united under the Samsung brand, and is the largest South Korean chaebol (business conglomerate). As of 2020, Samsung has the 8th highest global brand value.[4]\n",
    "\n",
    "Samsung was founded by Lee Byung-chul in 1938 as a trading company. Over the next three decades, the group diversified into areas including food processing, textiles, insurance, securities, and retail. Samsung entered the electronics industry in the late 1960s and the construction and shipbuilding industries in the mid-1970s; these areas would drive its subsequent growth. Following Lee's death in 1987, Samsung was separated into five business groups – Samsung Group, Shinsegae Group, CJ Group and Hansol Group, and Joongang Group. \""
   ]
  },
  {
   "cell_type": "code",
   "execution_count": 43,
   "id": "8e6b5c38",
   "metadata": {},
   "outputs": [],
   "source": [
    "# In case of multiline string you have inclose your data in tipple coat (\"\"\" \"\"\")\n",
    "sw1 = \"\"\"The Samsung Group[3] (or simply Samsung, stylized as SΛMSUNG) (Korean: 삼성 [samsʌŋ]) is a South Korean multinational manufacturing conglomerate headquartered in Samsung Town, Seoul, South Korea.[1] It comprises numerous affiliated businesses,[1] most of them united under the Samsung brand, and is the largest South Korean chaebol (business conglomerate). As of 2020, Samsung has the 8th highest global brand value.[4]\n",
    "\n",
    "Samsung was founded by Lee Byung-chul in 1938 as a trading company. Over the next three decades, the group diversified into areas including food processing, textiles, insurance, securities, and retail. Samsung entered the electronics industry in the late 1960s and the construction and shipbuilding industries in the mid-1970s; these areas would drive its subsequent growth. Following Lee's death in 1987, Samsung was separated into five business groups – Samsung Group, Shinsegae Group, CJ Group and Hansol Group, and Joongang Group. \"\"\""
   ]
  },
  {
   "cell_type": "code",
   "execution_count": 44,
   "id": "7c4db173",
   "metadata": {},
   "outputs": [
    {
     "data": {
      "text/plain": [
       "\"The Samsung Group[3] (or simply Samsung, stylized as SΛMSUNG) (Korean: 삼성 [samsʌŋ]) is a South Korean multinational manufacturing conglomerate headquartered in Samsung Town, Seoul, South Korea.[1] It comprises numerous affiliated businesses,[1] most of them united under the Samsung brand, and is the largest South Korean chaebol (business conglomerate). As of 2020, Samsung has the 8th highest global brand value.[4]\\n\\nSamsung was founded by Lee Byung-chul in 1938 as a trading company. Over the next three decades, the group diversified into areas including food processing, textiles, insurance, securities, and retail. Samsung entered the electronics industry in the late 1960s and the construction and shipbuilding industries in the mid-1970s; these areas would drive its subsequent growth. Following Lee's death in 1987, Samsung was separated into five business groups – Samsung Group, Shinsegae Group, CJ Group and Hansol Group, and Joongang Group. \""
      ]
     },
     "execution_count": 44,
     "metadata": {},
     "output_type": "execute_result"
    }
   ],
   "source": [
    "sw1"
   ]
  },
  {
   "cell_type": "code",
   "execution_count": 45,
   "id": "a0d15e6b",
   "metadata": {},
   "outputs": [
    {
     "data": {
      "text/plain": [
       "['The',\n",
       " 'Samsung',\n",
       " 'Group[3]',\n",
       " '(or',\n",
       " 'simply',\n",
       " 'Samsung,',\n",
       " 'stylized',\n",
       " 'as',\n",
       " 'SΛMSUNG)',\n",
       " '(Korean:',\n",
       " '삼성',\n",
       " '[samsʌŋ])',\n",
       " 'is',\n",
       " 'a',\n",
       " 'South',\n",
       " 'Korean',\n",
       " 'multinational',\n",
       " 'manufacturing',\n",
       " 'conglomerate',\n",
       " 'headquartered',\n",
       " 'in',\n",
       " 'Samsung',\n",
       " 'Town,',\n",
       " 'Seoul,',\n",
       " 'South',\n",
       " 'Korea.[1]',\n",
       " 'It',\n",
       " 'comprises',\n",
       " 'numerous',\n",
       " 'affiliated',\n",
       " 'businesses,[1]',\n",
       " 'most',\n",
       " 'of',\n",
       " 'them',\n",
       " 'united',\n",
       " 'under',\n",
       " 'the',\n",
       " 'Samsung',\n",
       " 'brand,',\n",
       " 'and',\n",
       " 'is',\n",
       " 'the',\n",
       " 'largest',\n",
       " 'South',\n",
       " 'Korean',\n",
       " 'chaebol',\n",
       " '(business',\n",
       " 'conglomerate).',\n",
       " 'As',\n",
       " 'of',\n",
       " '2020,',\n",
       " 'Samsung',\n",
       " 'has',\n",
       " 'the',\n",
       " '8th',\n",
       " 'highest',\n",
       " 'global',\n",
       " 'brand',\n",
       " 'value.[4]\\n\\nSamsung',\n",
       " 'was',\n",
       " 'founded',\n",
       " 'by',\n",
       " 'Lee',\n",
       " 'Byung-chul',\n",
       " 'in',\n",
       " '1938',\n",
       " 'as',\n",
       " 'a',\n",
       " 'trading',\n",
       " 'company.',\n",
       " 'Over',\n",
       " 'the',\n",
       " 'next',\n",
       " 'three',\n",
       " 'decades,',\n",
       " 'the',\n",
       " 'group',\n",
       " 'diversified',\n",
       " 'into',\n",
       " 'areas',\n",
       " 'including',\n",
       " 'food',\n",
       " 'processing,',\n",
       " 'textiles,',\n",
       " 'insurance,',\n",
       " 'securities,',\n",
       " 'and',\n",
       " 'retail.',\n",
       " 'Samsung',\n",
       " 'entered',\n",
       " 'the',\n",
       " 'electronics',\n",
       " 'industry',\n",
       " 'in',\n",
       " 'the',\n",
       " 'late',\n",
       " '1960s',\n",
       " 'and',\n",
       " 'the',\n",
       " 'construction',\n",
       " 'and',\n",
       " 'shipbuilding',\n",
       " 'industries',\n",
       " 'in',\n",
       " 'the',\n",
       " 'mid-1970s;',\n",
       " 'these',\n",
       " 'areas',\n",
       " 'would',\n",
       " 'drive',\n",
       " 'its',\n",
       " 'subsequent',\n",
       " 'growth.',\n",
       " 'Following',\n",
       " \"Lee's\",\n",
       " 'death',\n",
       " 'in',\n",
       " '1987,',\n",
       " 'Samsung',\n",
       " 'was',\n",
       " 'separated',\n",
       " 'into',\n",
       " 'five',\n",
       " 'business',\n",
       " 'groups',\n",
       " '–',\n",
       " 'Samsung',\n",
       " 'Group,',\n",
       " 'Shinsegae',\n",
       " 'Group,',\n",
       " 'CJ',\n",
       " 'Group',\n",
       " 'and',\n",
       " 'Hansol',\n",
       " 'Group,',\n",
       " 'and',\n",
       " 'Joongang',\n",
       " 'Group.',\n",
       " '']"
      ]
     },
     "execution_count": 45,
     "metadata": {},
     "output_type": "execute_result"
    }
   ],
   "source": [
    "sw1.split(\" \")"
   ]
  },
  {
   "cell_type": "code",
   "execution_count": 46,
   "id": "3ad7c9e2",
   "metadata": {},
   "outputs": [
    {
     "data": {
      "text/plain": [
       "\"The Samsung Group[3] (or simply Samsung, stylized as SΛMSUNG) (Korean: 삼성 [samsʌŋ]) is a South Korean multinational manufacturing conglomerate headquartered in Samsung Town, Seoul, South Korea.[1] It comprises numerous affiliated businesses,[1] most of them united under the Samsung brand, and is the largest South Korean chaebol (business conglomerate). As of 2020, Samsung has the 8th highest global brand value.[4]\\n\\nSamsung was founded by Lee Byung-chul in 1938 as a trading company. Over the next three decades, the group diversified into areas including food processing, textiles, insurance, securities, and retail. Samsung entered the electronics industry in the late 1960s and the construction and shipbuilding industries in the mid-1970s; these areas would drive its subsequent growth. Following Lee's death in 1987, Samsung was separated into five business groups – Samsung Group, Shinsegae Group, CJ Group and Hansol Group, and Joongang Group. \""
      ]
     },
     "execution_count": 46,
     "metadata": {},
     "output_type": "execute_result"
    }
   ],
   "source": [
    "sw1"
   ]
  },
  {
   "cell_type": "code",
   "execution_count": 47,
   "id": "62336148",
   "metadata": {},
   "outputs": [
    {
     "data": {
      "text/plain": [
       "\"THE SAMSUNG GROUP[3] (OR SIMPLY SAMSUNG, STYLIZED AS SΛMSUNG) (KOREAN: 삼성 [SAMSɅŊ]) IS A SOUTH KOREAN MULTINATIONAL MANUFACTURING CONGLOMERATE HEADQUARTERED IN SAMSUNG TOWN, SEOUL, SOUTH KOREA.[1] IT COMPRISES NUMEROUS AFFILIATED BUSINESSES,[1] MOST OF THEM UNITED UNDER THE SAMSUNG BRAND, AND IS THE LARGEST SOUTH KOREAN CHAEBOL (BUSINESS CONGLOMERATE). AS OF 2020, SAMSUNG HAS THE 8TH HIGHEST GLOBAL BRAND VALUE.[4]\\n\\nSAMSUNG WAS FOUNDED BY LEE BYUNG-CHUL IN 1938 AS A TRADING COMPANY. OVER THE NEXT THREE DECADES, THE GROUP DIVERSIFIED INTO AREAS INCLUDING FOOD PROCESSING, TEXTILES, INSURANCE, SECURITIES, AND RETAIL. SAMSUNG ENTERED THE ELECTRONICS INDUSTRY IN THE LATE 1960S AND THE CONSTRUCTION AND SHIPBUILDING INDUSTRIES IN THE MID-1970S; THESE AREAS WOULD DRIVE ITS SUBSEQUENT GROWTH. FOLLOWING LEE'S DEATH IN 1987, SAMSUNG WAS SEPARATED INTO FIVE BUSINESS GROUPS – SAMSUNG GROUP, SHINSEGAE GROUP, CJ GROUP AND HANSOL GROUP, AND JOONGANG GROUP. \""
      ]
     },
     "execution_count": 47,
     "metadata": {},
     "output_type": "execute_result"
    }
   ],
   "source": [
    "# To convert entire sting into upper case \n",
    "sw1.upper()"
   ]
  },
  {
   "cell_type": "code",
   "execution_count": 48,
   "id": "97bec7b3",
   "metadata": {},
   "outputs": [
    {
     "data": {
      "text/plain": [
       "\"The samsung group[3] (or simply samsung, stylized as sλmsung) (korean: 삼성 [samsʌŋ]) is a south korean multinational manufacturing conglomerate headquartered in samsung town, seoul, south korea.[1] it comprises numerous affiliated businesses,[1] most of them united under the samsung brand, and is the largest south korean chaebol (business conglomerate). as of 2020, samsung has the 8th highest global brand value.[4]\\n\\nsamsung was founded by lee byung-chul in 1938 as a trading company. over the next three decades, the group diversified into areas including food processing, textiles, insurance, securities, and retail. samsung entered the electronics industry in the late 1960s and the construction and shipbuilding industries in the mid-1970s; these areas would drive its subsequent growth. following lee's death in 1987, samsung was separated into five business groups – samsung group, shinsegae group, cj group and hansol group, and joongang group. \""
      ]
     },
     "execution_count": 48,
     "metadata": {},
     "output_type": "execute_result"
    }
   ],
   "source": [
    "# To capitalize each first word of every sentence\n",
    "sw1.capitalize()"
   ]
  },
  {
   "cell_type": "code",
   "execution_count": 49,
   "id": "426ba374",
   "metadata": {},
   "outputs": [
    {
     "data": {
      "text/plain": [
       "\"the samsung group[3] (or simply samsung, stylized as sλmsung) (korean: 삼성 [samsʌŋ]) is a south korean multinational manufacturing conglomerate headquartered in samsung town, seoul, south korea.[1] it comprises numerous affiliated businesses,[1] most of them united under the samsung brand, and is the largest south korean chaebol (business conglomerate). as of 2020, samsung has the 8th highest global brand value.[4]\\n\\nsamsung was founded by lee byung-chul in 1938 as a trading company. over the next three decades, the group diversified into areas including food processing, textiles, insurance, securities, and retail. samsung entered the electronics industry in the late 1960s and the construction and shipbuilding industries in the mid-1970s; these areas would drive its subsequent growth. following lee's death in 1987, samsung was separated into five business groups – samsung group, shinsegae group, cj group and hansol group, and joongang group. \""
      ]
     },
     "execution_count": 49,
     "metadata": {},
     "output_type": "execute_result"
    }
   ],
   "source": [
    "# To write entire string into a lower case\n",
    "sw1.lower()"
   ]
  },
  {
   "cell_type": "code",
   "execution_count": 50,
   "id": "cd267183",
   "metadata": {},
   "outputs": [],
   "source": [
    "sw = sw1.upper()"
   ]
  },
  {
   "cell_type": "code",
   "execution_count": 51,
   "id": "1b1cc0c7",
   "metadata": {},
   "outputs": [
    {
     "data": {
      "text/plain": [
       "\"THE SAMSUNG GROUP[3] (OR SIMPLY SAMSUNG, STYLIZED AS SΛMSUNG) (KOREAN: 삼성 [SAMSɅŊ]) IS A SOUTH KOREAN MULTINATIONAL MANUFACTURING CONGLOMERATE HEADQUARTERED IN SAMSUNG TOWN, SEOUL, SOUTH KOREA.[1] IT COMPRISES NUMEROUS AFFILIATED BUSINESSES,[1] MOST OF THEM UNITED UNDER THE SAMSUNG BRAND, AND IS THE LARGEST SOUTH KOREAN CHAEBOL (BUSINESS CONGLOMERATE). AS OF 2020, SAMSUNG HAS THE 8TH HIGHEST GLOBAL BRAND VALUE.[4]\\n\\nSAMSUNG WAS FOUNDED BY LEE BYUNG-CHUL IN 1938 AS A TRADING COMPANY. OVER THE NEXT THREE DECADES, THE GROUP DIVERSIFIED INTO AREAS INCLUDING FOOD PROCESSING, TEXTILES, INSURANCE, SECURITIES, AND RETAIL. SAMSUNG ENTERED THE ELECTRONICS INDUSTRY IN THE LATE 1960S AND THE CONSTRUCTION AND SHIPBUILDING INDUSTRIES IN THE MID-1970S; THESE AREAS WOULD DRIVE ITS SUBSEQUENT GROWTH. FOLLOWING LEE'S DEATH IN 1987, SAMSUNG WAS SEPARATED INTO FIVE BUSINESS GROUPS – SAMSUNG GROUP, SHINSEGAE GROUP, CJ GROUP AND HANSOL GROUP, AND JOONGANG GROUP. \""
      ]
     },
     "execution_count": 51,
     "metadata": {},
     "output_type": "execute_result"
    }
   ],
   "source": [
    "sw"
   ]
  },
  {
   "cell_type": "code",
   "execution_count": 50,
   "id": "8b93162b",
   "metadata": {},
   "outputs": [],
   "source": [
    "str = 'vishal sanjay pawar'"
   ]
  },
  {
   "cell_type": "code",
   "execution_count": 51,
   "id": "3259ea53",
   "metadata": {},
   "outputs": [
    {
     "data": {
      "text/plain": [
       "'Vishal Sanjay Pawar'"
      ]
     },
     "execution_count": 51,
     "metadata": {},
     "output_type": "execute_result"
    }
   ],
   "source": [
    "# Return the string where each word is titlecased ( capitalize ).\n",
    "#words start with uppercased characters and all remaining cased characters have lower case\n",
    "str.title()"
   ]
  },
  {
   "cell_type": "code",
   "execution_count": 52,
   "id": "bc652090",
   "metadata": {},
   "outputs": [
    {
     "data": {
      "text/plain": [
       "'Vishal sanjay pawar'"
      ]
     },
     "execution_count": 52,
     "metadata": {},
     "output_type": "execute_result"
    }
   ],
   "source": [
    "# returns the string where first word is capitalize instead of entire string.\n",
    "str.capitalize()"
   ]
  },
  {
   "cell_type": "code",
   "execution_count": 53,
   "id": "16dc449f",
   "metadata": {},
   "outputs": [
    {
     "data": {
      "text/plain": [
       "'VISHAL SANJAY PAWAR'"
      ]
     },
     "execution_count": 53,
     "metadata": {},
     "output_type": "execute_result"
    }
   ],
   "source": [
    "# Convert uppercase characters to lowercase and lowercase characters to uppercase.\n",
    "str.swapcase()"
   ]
  },
  {
   "cell_type": "code",
   "execution_count": 54,
   "id": "ac2f5d64",
   "metadata": {},
   "outputs": [
    {
     "data": {
      "text/plain": [
       "'hELLOwORLD'"
      ]
     },
     "execution_count": 54,
     "metadata": {},
     "output_type": "execute_result"
    }
   ],
   "source": [
    "s.swapcase()"
   ]
  },
  {
   "cell_type": "code",
   "execution_count": 57,
   "id": "a576bdde",
   "metadata": {},
   "outputs": [],
   "source": [
    "s = \"  Vishal  \""
   ]
  },
  {
   "cell_type": "code",
   "execution_count": 58,
   "id": "99635882",
   "metadata": {},
   "outputs": [
    {
     "data": {
      "text/plain": [
       "'Vishal'"
      ]
     },
     "execution_count": 58,
     "metadata": {},
     "output_type": "execute_result"
    }
   ],
   "source": [
    "# removes the space before and after the string\n",
    "s.strip()"
   ]
  },
  {
   "cell_type": "code",
   "execution_count": 59,
   "id": "0fb09e1e",
   "metadata": {},
   "outputs": [],
   "source": [
    "# space between the string \"vis  hal\" will not be removed \n",
    "s = \"  Vis  hal  \""
   ]
  },
  {
   "cell_type": "code",
   "execution_count": 60,
   "id": "eecf9bf1",
   "metadata": {},
   "outputs": [
    {
     "data": {
      "text/plain": [
       "'Vis  hal'"
      ]
     },
     "execution_count": 60,
     "metadata": {},
     "output_type": "execute_result"
    }
   ],
   "source": [
    "s.strip()"
   ]
  },
  {
   "cell_type": "code",
   "execution_count": 61,
   "id": "697e18ed",
   "metadata": {},
   "outputs": [
    {
     "data": {
      "text/plain": [
       "'Vis  hal  '"
      ]
     },
     "execution_count": 61,
     "metadata": {},
     "output_type": "execute_result"
    }
   ],
   "source": [
    "s.lstrip()"
   ]
  },
  {
   "cell_type": "code",
   "execution_count": 62,
   "id": "ce953b2f",
   "metadata": {},
   "outputs": [
    {
     "data": {
      "text/plain": [
       "'  Vis  hal'"
      ]
     },
     "execution_count": 62,
     "metadata": {},
     "output_type": "execute_result"
    }
   ],
   "source": [
    "s.rstrip()"
   ]
  },
  {
   "cell_type": "code",
   "execution_count": 63,
   "id": "1a533096",
   "metadata": {},
   "outputs": [
    {
     "data": {
      "text/plain": [
       "'V  i  s  h  a  l'"
      ]
     },
     "execution_count": 63,
     "metadata": {},
     "output_type": "execute_result"
    }
   ],
   "source": [
    "\"  \" .join(\"Vishal\")"
   ]
  },
  {
   "cell_type": "code",
   "execution_count": 64,
   "id": "7cd2fbbc",
   "metadata": {},
   "outputs": [
    {
     "data": {
      "text/plain": [
       "'V # i # s # h # a # l'"
      ]
     },
     "execution_count": 64,
     "metadata": {},
     "output_type": "execute_result"
    }
   ],
   "source": [
    "\" # \".join('Vishal')"
   ]
  },
  {
   "cell_type": "code",
   "execution_count": 65,
   "id": "f6c6aec5",
   "metadata": {},
   "outputs": [
    {
     "data": {
      "text/plain": [
       "'V#i#s#h#a#l'"
      ]
     },
     "execution_count": 65,
     "metadata": {},
     "output_type": "execute_result"
    }
   ],
   "source": [
    "\"#\".join('Vishal')"
   ]
  },
  {
   "cell_type": "code",
   "execution_count": 66,
   "id": "9df3f93e",
   "metadata": {},
   "outputs": [],
   "source": [
    "s='vishal'"
   ]
  },
  {
   "cell_type": "code",
   "execution_count": 67,
   "id": "58a79763",
   "metadata": {},
   "outputs": [
    {
     "data": {
      "text/plain": [
       "'#######vishal#######'"
      ]
     },
     "execution_count": 67,
     "metadata": {},
     "output_type": "execute_result"
    }
   ],
   "source": [
    "s.center(20,'#')"
   ]
  },
  {
   "cell_type": "code",
   "execution_count": 68,
   "id": "493195bd",
   "metadata": {},
   "outputs": [],
   "source": [
    "s = 'Maharashtra'"
   ]
  },
  {
   "cell_type": "code",
   "execution_count": 69,
   "id": "58a8d669",
   "metadata": {},
   "outputs": [
    {
     "data": {
      "text/plain": [
       "False"
      ]
     },
     "execution_count": 69,
     "metadata": {},
     "output_type": "execute_result"
    }
   ],
   "source": [
    "s.isupper()"
   ]
  },
  {
   "cell_type": "code",
   "execution_count": 70,
   "id": "41e0a9e5",
   "metadata": {},
   "outputs": [
    {
     "data": {
      "text/plain": [
       "False"
      ]
     },
     "execution_count": 70,
     "metadata": {},
     "output_type": "execute_result"
    }
   ],
   "source": [
    "s.islower()"
   ]
  },
  {
   "cell_type": "code",
   "execution_count": 58,
   "id": "eeba4709",
   "metadata": {},
   "outputs": [],
   "source": [
    "s = 'Radhika'\n",
    "# s=' radhika'"
   ]
  },
  {
   "cell_type": "code",
   "execution_count": 59,
   "id": "839b6db4",
   "metadata": {},
   "outputs": [
    {
     "data": {
      "text/plain": [
       "False"
      ]
     },
     "execution_count": 59,
     "metadata": {},
     "output_type": "execute_result"
    }
   ],
   "source": [
    "s.islower()"
   ]
  },
  {
   "cell_type": "code",
   "execution_count": 60,
   "id": "d181a12f",
   "metadata": {},
   "outputs": [
    {
     "data": {
      "text/plain": [
       "False"
      ]
     },
     "execution_count": 60,
     "metadata": {},
     "output_type": "execute_result"
    }
   ],
   "source": [
    "s.isspace()"
   ]
  },
  {
   "cell_type": "code",
   "execution_count": 78,
   "id": "43e45107",
   "metadata": {},
   "outputs": [],
   "source": [
    "# The function \"is space \" returns True only if string is empty with space in it.\n",
    "s = \"    \""
   ]
  },
  {
   "cell_type": "code",
   "execution_count": 79,
   "id": "6be9dc99",
   "metadata": {},
   "outputs": [
    {
     "data": {
      "text/plain": [
       "True"
      ]
     },
     "execution_count": 79,
     "metadata": {},
     "output_type": "execute_result"
    }
   ],
   "source": [
    "s.isspace()"
   ]
  },
  {
   "cell_type": "code",
   "execution_count": 80,
   "id": "a760b78b",
   "metadata": {},
   "outputs": [],
   "source": [
    "s = \"Radhika\""
   ]
  },
  {
   "cell_type": "code",
   "execution_count": 81,
   "id": "3fb9f47f",
   "metadata": {},
   "outputs": [
    {
     "data": {
      "text/plain": [
       "False"
      ]
     },
     "execution_count": 81,
     "metadata": {},
     "output_type": "execute_result"
    }
   ],
   "source": [
    "s.isdigit()"
   ]
  },
  {
   "cell_type": "code",
   "execution_count": 84,
   "id": "a40a0771",
   "metadata": {},
   "outputs": [],
   "source": [
    "s = '9850'"
   ]
  },
  {
   "cell_type": "code",
   "execution_count": 85,
   "id": "ade2bd2d",
   "metadata": {},
   "outputs": [
    {
     "data": {
      "text/plain": [
       "True"
      ]
     },
     "execution_count": 85,
     "metadata": {},
     "output_type": "execute_result"
    }
   ],
   "source": [
    "s.isdigit()"
   ]
  },
  {
   "cell_type": "code",
   "execution_count": 86,
   "id": "63f612d1",
   "metadata": {},
   "outputs": [],
   "source": [
    "s = ' Vishal_123'"
   ]
  },
  {
   "cell_type": "code",
   "execution_count": 87,
   "id": "88d89f70",
   "metadata": {},
   "outputs": [
    {
     "data": {
      "text/plain": [
       "False"
      ]
     },
     "execution_count": 87,
     "metadata": {},
     "output_type": "execute_result"
    }
   ],
   "source": [
    "s.isdigit()"
   ]
  },
  {
   "cell_type": "code",
   "execution_count": 88,
   "id": "00423293",
   "metadata": {},
   "outputs": [],
   "source": [
    "s = 'Radhika'"
   ]
  },
  {
   "cell_type": "code",
   "execution_count": 89,
   "id": "cc74ec85",
   "metadata": {},
   "outputs": [
    {
     "data": {
      "text/plain": [
       "True"
      ]
     },
     "execution_count": 89,
     "metadata": {},
     "output_type": "execute_result"
    }
   ],
   "source": [
    "s.isalnum()"
   ]
  },
  {
   "cell_type": "code",
   "execution_count": 90,
   "id": "43a65409",
   "metadata": {},
   "outputs": [
    {
     "data": {
      "text/plain": [
       "True"
      ]
     },
     "execution_count": 90,
     "metadata": {},
     "output_type": "execute_result"
    }
   ],
   "source": [
    "s.isalpha()"
   ]
  },
  {
   "cell_type": "code",
   "execution_count": 93,
   "id": "c0b35723",
   "metadata": {},
   "outputs": [
    {
     "data": {
      "text/plain": [
       "'9850'"
      ]
     },
     "execution_count": 93,
     "metadata": {},
     "output_type": "execute_result"
    }
   ],
   "source": [
    "s"
   ]
  },
  {
   "cell_type": "code",
   "execution_count": 94,
   "id": "0cbb96ce",
   "metadata": {},
   "outputs": [],
   "source": [
    "s='Radhika'"
   ]
  },
  {
   "cell_type": "code",
   "execution_count": 95,
   "id": "e394a1d3",
   "metadata": {},
   "outputs": [
    {
     "data": {
      "text/plain": [
       "False"
      ]
     },
     "execution_count": 95,
     "metadata": {},
     "output_type": "execute_result"
    }
   ],
   "source": [
    "s.startswith('a')"
   ]
  },
  {
   "cell_type": "code",
   "execution_count": 97,
   "id": "468442f3",
   "metadata": {},
   "outputs": [
    {
     "data": {
      "text/plain": [
       "False"
      ]
     },
     "execution_count": 97,
     "metadata": {},
     "output_type": "execute_result"
    }
   ],
   "source": [
    "# pythan is a case sensetive language.\n",
    "s.startswith('r')"
   ]
  },
  {
   "cell_type": "code",
   "execution_count": 98,
   "id": "131ef676",
   "metadata": {},
   "outputs": [
    {
     "data": {
      "text/plain": [
       "True"
      ]
     },
     "execution_count": 98,
     "metadata": {},
     "output_type": "execute_result"
    }
   ],
   "source": [
    "s.startswith('R')"
   ]
  },
  {
   "cell_type": "code",
   "execution_count": 99,
   "id": "ef89c030",
   "metadata": {},
   "outputs": [
    {
     "data": {
      "text/plain": [
       "True"
      ]
     },
     "execution_count": 99,
     "metadata": {},
     "output_type": "execute_result"
    }
   ],
   "source": [
    "# s.endswith('r')\n",
    "s.endswith('a')"
   ]
  },
  {
   "cell_type": "code",
   "execution_count": 100,
   "id": "59baabf3",
   "metadata": {},
   "outputs": [
    {
     "data": {
      "text/plain": [
       "False"
      ]
     },
     "execution_count": 100,
     "metadata": {},
     "output_type": "execute_result"
    }
   ],
   "source": [
    "#s.startswith(\"\")\n",
    "#s.startswith('')\n",
    "s.startswith(\" \")"
   ]
  },
  {
   "cell_type": "code",
   "execution_count": 101,
   "id": "6feeb8aa",
   "metadata": {},
   "outputs": [
    {
     "data": {
      "text/plain": [
       "True"
      ]
     },
     "execution_count": 101,
     "metadata": {},
     "output_type": "execute_result"
    }
   ],
   "source": [
    "s.isascii()"
   ]
  },
  {
   "cell_type": "code",
   "execution_count": 102,
   "id": "09775f08",
   "metadata": {},
   "outputs": [],
   "source": [
    "s = 'Vishal123 '"
   ]
  },
  {
   "cell_type": "code",
   "execution_count": 103,
   "id": "eaace16a",
   "metadata": {},
   "outputs": [
    {
     "data": {
      "text/plain": [
       "False"
      ]
     },
     "execution_count": 103,
     "metadata": {},
     "output_type": "execute_result"
    }
   ],
   "source": [
    "s.isalnum()"
   ]
  },
  {
   "cell_type": "code",
   "execution_count": 104,
   "id": "55644317",
   "metadata": {},
   "outputs": [],
   "source": [
    "s = 'vishal123'"
   ]
  },
  {
   "cell_type": "code",
   "execution_count": 105,
   "id": "9c2b7eff",
   "metadata": {},
   "outputs": [
    {
     "data": {
      "text/plain": [
       "True"
      ]
     },
     "execution_count": 105,
     "metadata": {},
     "output_type": "execute_result"
    }
   ],
   "source": [
    "s.isalnum()"
   ]
  },
  {
   "cell_type": "code",
   "execution_count": 106,
   "id": "18f9508e",
   "metadata": {},
   "outputs": [
    {
     "data": {
      "text/plain": [
       "True"
      ]
     },
     "execution_count": 106,
     "metadata": {},
     "output_type": "execute_result"
    }
   ],
   "source": [
    "# To use \"str.isspace()\" function the string should be empty\n",
    "s = ' '\n",
    "s.isspace()"
   ]
  },
  {
   "cell_type": "code",
   "execution_count": 108,
   "id": "119a54bf",
   "metadata": {},
   "outputs": [
    {
     "data": {
      "text/plain": [
       "'@@@@@@@@@@@@  5  @@@@@@@@@@@@@'"
      ]
     },
     "execution_count": 108,
     "metadata": {},
     "output_type": "execute_result"
    }
   ],
   "source": [
    "s = '  5  '\n",
    "s.center(30,'@')"
   ]
  },
  {
   "cell_type": "code",
   "execution_count": 110,
   "id": "136ed8db",
   "metadata": {},
   "outputs": [
    {
     "data": {
      "text/plain": [
       "True"
      ]
     },
     "execution_count": 110,
     "metadata": {},
     "output_type": "execute_result"
    }
   ],
   "source": [
    "# To use str.isalnum(), it uses or condition. It returns True if anyone of alphabet or numeric values are present.\n",
    "# Sting should be free from space\n",
    "s = '9850'\n",
    "s.isalnum()"
   ]
  },
  {
   "cell_type": "code",
   "execution_count": 112,
   "id": "810e9321",
   "metadata": {},
   "outputs": [
    {
     "data": {
      "text/plain": [
       "'a k i h d a R'"
      ]
     },
     "execution_count": 112,
     "metadata": {},
     "output_type": "execute_result"
    }
   ],
   "source": [
    "# To reverse the string\n",
    "\" \".join(reversed('Radhika'))"
   ]
  },
  {
   "cell_type": "code",
   "execution_count": 113,
   "id": "99fe7da7",
   "metadata": {},
   "outputs": [
    {
     "data": {
      "text/plain": [
       "False"
      ]
     },
     "execution_count": 113,
     "metadata": {},
     "output_type": "execute_result"
    }
   ],
   "source": [
    "# string of floating point will show as False for str.isdigit() and str.isnumeric()\n",
    "s='123.34'\n",
    "s.isdigit()"
   ]
  },
  {
   "cell_type": "code",
   "execution_count": 114,
   "id": "34e2558f",
   "metadata": {},
   "outputs": [
    {
     "data": {
      "text/plain": [
       "False"
      ]
     },
     "execution_count": 114,
     "metadata": {},
     "output_type": "execute_result"
    }
   ],
   "source": [
    "s.isnumeric()"
   ]
  },
  {
   "cell_type": "code",
   "execution_count": 115,
   "id": "342828c0",
   "metadata": {},
   "outputs": [],
   "source": [
    "s = 'vishal\\tsanjay\\tpawar'"
   ]
  },
  {
   "cell_type": "code",
   "execution_count": 117,
   "id": "16820453",
   "metadata": {},
   "outputs": [
    {
     "data": {
      "text/plain": [
       "'VISHAL  SANJAY  PAWAR'"
      ]
     },
     "execution_count": 117,
     "metadata": {},
     "output_type": "execute_result"
    }
   ],
   "source": [
    "s.expandtabs().upper()"
   ]
  },
  {
   "cell_type": "markdown",
   "id": "68b46cd6",
   "metadata": {},
   "source": [
    " #### Formatting in Strings"
   ]
  },
  {
   "cell_type": "code",
   "execution_count": 1,
   "id": "3856d6ef",
   "metadata": {},
   "outputs": [
    {
     "name": "stdout",
     "output_type": "stream",
     "text": [
      "The letter that comes after d is e\n"
     ]
    }
   ],
   "source": [
    "print(\"The letter that comes after d is %c\"%('e',))"
   ]
  },
  {
   "cell_type": "code",
   "execution_count": 2,
   "id": "40907e6f",
   "metadata": {},
   "outputs": [],
   "source": [
    "balltype = 'Basketball'\n",
    "result ='hit'"
   ]
  },
  {
   "cell_type": "code",
   "execution_count": 9,
   "id": "310db57f",
   "metadata": {},
   "outputs": [
    {
     "name": "stdout",
     "output_type": "stream",
     "text": [
      "I wondered why the Basketball was getting bigger. Than it hit me.\n"
     ]
    }
   ],
   "source": [
    "print('I wondered why the %s was getting bigger. Than it %s me.'%('Basketball','hit'))"
   ]
  },
  {
   "cell_type": "code",
   "execution_count": 10,
   "id": "dcae6bca",
   "metadata": {},
   "outputs": [
    {
     "name": "stdout",
     "output_type": "stream",
     "text": [
      "I wondered why the Basketball was getting bigger. Than it hit me.\n"
     ]
    }
   ],
   "source": [
    "print('I wondered why the %s was getting bigger. Than it %s me.'%(balltype,result))"
   ]
  },
  {
   "cell_type": "code",
   "execution_count": 11,
   "id": "f24cf1df",
   "metadata": {},
   "outputs": [
    {
     "name": "stdout",
     "output_type": "stream",
     "text": [
      "         InternShala\n"
     ]
    }
   ],
   "source": [
    "print(\"%20s\"%('InternShala',))"
   ]
  },
  {
   "cell_type": "code",
   "execution_count": 12,
   "id": "a92a0b54",
   "metadata": {},
   "outputs": [
    {
     "name": "stdout",
     "output_type": "stream",
     "text": [
      "InternShala         \n"
     ]
    }
   ],
   "source": [
    "print(\"%-20s\"%('InternShala',))"
   ]
  },
  {
   "cell_type": "code",
   "execution_count": 13,
   "id": "c4025b04",
   "metadata": {},
   "outputs": [
    {
     "name": "stdout",
     "output_type": "stream",
     "text": [
      "Inter\n"
     ]
    }
   ],
   "source": [
    "print(\"%.5s\"%('InternShala',))"
   ]
  },
  {
   "cell_type": "markdown",
   "id": "f4361842",
   "metadata": {},
   "source": [
    "Integer"
   ]
  },
  {
   "cell_type": "code",
   "execution_count": 14,
   "id": "e6fc2cb8",
   "metadata": {},
   "outputs": [
    {
     "name": "stdout",
     "output_type": "stream",
     "text": [
      "eBay is so useless. I tried to look up lighters and all the had was 12553 mathces.\n"
     ]
    }
   ],
   "source": [
    "match = 12553\n",
    "site = 'eBay'\n",
    "print(\"%s is so useless. I tried to look up lighters and all the had was %d mathces.\"%(site,match))"
   ]
  },
  {
   "cell_type": "code",
   "execution_count": 15,
   "id": "69d55c0b",
   "metadata": {},
   "outputs": [
    {
     "name": "stdout",
     "output_type": "stream",
     "text": [
      "eBay is so useless. I tried to look up lighters and all the had was 12553 mathces.\n"
     ]
    }
   ],
   "source": [
    "print(\"%s is so useless. I tried to look up lighters and all the had was %i mathces.\"%(site,match))"
   ]
  },
  {
   "cell_type": "markdown",
   "id": "be83044a",
   "metadata": {},
   "source": [
    "octal integer"
   ]
  },
  {
   "cell_type": "code",
   "execution_count": 16,
   "id": "4ce7c701",
   "metadata": {},
   "outputs": [
    {
     "name": "stdout",
     "output_type": "stream",
     "text": [
      "83 is represented in ocatal as 123\n"
     ]
    }
   ],
   "source": [
    "print(\"83 is represented in ocatal as %o\"%(0o123,))"
   ]
  },
  {
   "cell_type": "markdown",
   "id": "c8b3493f",
   "metadata": {},
   "source": [
    "Hexadecimal integer"
   ]
  },
  {
   "cell_type": "code",
   "execution_count": 17,
   "id": "657b23e1",
   "metadata": {},
   "outputs": [
    {
     "name": "stdout",
     "output_type": "stream",
     "text": [
      "83 is represented in ocatal as 53\n"
     ]
    }
   ],
   "source": [
    "print(\"83 is represented in ocatal as %x\"%(0x53,))"
   ]
  },
  {
   "cell_type": "code",
   "execution_count": 22,
   "id": "9b0a6e0e",
   "metadata": {},
   "outputs": [
    {
     "data": {
      "text/plain": [
       "'My name is Malhar and my age is 24 years'"
      ]
     },
     "execution_count": 22,
     "metadata": {},
     "output_type": "execute_result"
    }
   ],
   "source": [
    "name = \"Malhar\"\n",
    "age = 24\n",
    "percentage = 72.2\n",
    "\"My name is {} and my age is {} years\".format(name, age)"
   ]
  },
  {
   "cell_type": "code",
   "execution_count": 25,
   "id": "dd8d0fc5",
   "metadata": {},
   "outputs": [
    {
     "data": {
      "text/plain": [
       "'My name is Malhar, age 24 and I have scored 72.20 percent marks'"
      ]
     },
     "execution_count": 25,
     "metadata": {},
     "output_type": "execute_result"
    }
   ],
   "source": [
    "\"My name is {:s}, age {:d} and I have scored {:.2f} percent marks\".format(name,age, percentage)"
   ]
  },
  {
   "cell_type": "markdown",
   "id": "e6baa947",
   "metadata": {},
   "source": [
    "#### find()\n"
   ]
  },
  {
   "cell_type": "markdown",
   "id": "205a7aa2",
   "metadata": {},
   "source": [
    "find(): This method finds the first occurrence of a substring in another string. If not found, the method returns -1."
   ]
  },
  {
   "cell_type": "code",
   "execution_count": null,
   "id": "3ba4afc6",
   "metadata": {},
   "outputs": [],
   "source": [
    "var = 'python training from internshala'\n",
    "var.find(\"in\")"
   ]
  },
  {
   "cell_type": "code",
   "execution_count": 27,
   "id": "ba6ca23e",
   "metadata": {},
   "outputs": [
    {
     "data": {
      "text/plain": [
       "4"
      ]
     },
     "execution_count": 27,
     "metadata": {},
     "output_type": "execute_result"
    }
   ],
   "source": [
    "var.find('on')"
   ]
  },
  {
   "cell_type": "code",
   "execution_count": 28,
   "id": "6a61d5dc",
   "metadata": {},
   "outputs": [
    {
     "data": {
      "text/plain": [
       "-1"
      ]
     },
     "execution_count": 28,
     "metadata": {},
     "output_type": "execute_result"
    }
   ],
   "source": [
    "var.find('run')"
   ]
  },
  {
   "cell_type": "markdown",
   "id": "641e0256",
   "metadata": {},
   "source": [
    "The substring 'in' first occurs at the 10th position (count starts from 0), 'on' is found at the 4th position, but 'run' is not found hence returns -1."
   ]
  },
  {
   "cell_type": "markdown",
   "id": "c9d10ffe",
   "metadata": {},
   "source": [
    "#### Index()"
   ]
  },
  {
   "cell_type": "markdown",
   "id": "b01e52d5",
   "metadata": {},
   "source": [
    "This method is similar to find() but throws a ValueError if the substring is not found."
   ]
  },
  {
   "cell_type": "code",
   "execution_count": 29,
   "id": "c46bd048",
   "metadata": {},
   "outputs": [
    {
     "data": {
      "text/plain": [
       "10"
      ]
     },
     "execution_count": 29,
     "metadata": {},
     "output_type": "execute_result"
    }
   ],
   "source": [
    "var.index('in')"
   ]
  },
  {
   "cell_type": "code",
   "execution_count": 30,
   "id": "6c9e32ef",
   "metadata": {},
   "outputs": [
    {
     "ename": "ValueError",
     "evalue": "substring not found",
     "output_type": "error",
     "traceback": [
      "\u001b[1;31m---------------------------------------------------------------------------\u001b[0m",
      "\u001b[1;31mValueError\u001b[0m                                Traceback (most recent call last)",
      "\u001b[1;32m~\\AppData\\Local\\Temp/ipykernel_28860/2176294410.py\u001b[0m in \u001b[0;36m<module>\u001b[1;34m\u001b[0m\n\u001b[1;32m----> 1\u001b[1;33m \u001b[0mvar\u001b[0m\u001b[1;33m.\u001b[0m\u001b[0mindex\u001b[0m\u001b[1;33m(\u001b[0m\u001b[1;34m'run'\u001b[0m\u001b[1;33m)\u001b[0m\u001b[1;33m\u001b[0m\u001b[1;33m\u001b[0m\u001b[0m\n\u001b[0m",
      "\u001b[1;31mValueError\u001b[0m: substring not found"
     ]
    }
   ],
   "source": [
    "var.index('run')"
   ]
  },
  {
   "cell_type": "code",
   "execution_count": 31,
   "id": "4c7ec51c",
   "metadata": {},
   "outputs": [
    {
     "data": {
      "text/plain": [
       "False"
      ]
     },
     "execution_count": 31,
     "metadata": {},
     "output_type": "execute_result"
    }
   ],
   "source": [
    "'0x12'.isdigit()"
   ]
  },
  {
   "cell_type": "code",
   "execution_count": 32,
   "id": "e98d4319",
   "metadata": {},
   "outputs": [
    {
     "data": {
      "text/plain": [
       "False"
      ]
     },
     "execution_count": 32,
     "metadata": {},
     "output_type": "execute_result"
    }
   ],
   "source": [
    "'12.0'.isdigit()"
   ]
  },
  {
   "cell_type": "code",
   "execution_count": 33,
   "id": "157a30df",
   "metadata": {},
   "outputs": [
    {
     "data": {
      "text/plain": [
       "True"
      ]
     },
     "execution_count": 33,
     "metadata": {},
     "output_type": "execute_result"
    }
   ],
   "source": [
    "'012'.isdigit()"
   ]
  },
  {
   "cell_type": "code",
   "execution_count": null,
   "id": "195cc6dd",
   "metadata": {},
   "outputs": [],
   "source": []
  }
 ],
 "metadata": {
  "kernelspec": {
   "display_name": "Python 3 (ipykernel)",
   "language": "python",
   "name": "python3"
  },
  "language_info": {
   "codemirror_mode": {
    "name": "ipython",
    "version": 3
   },
   "file_extension": ".py",
   "mimetype": "text/x-python",
   "name": "python",
   "nbconvert_exporter": "python",
   "pygments_lexer": "ipython3",
   "version": "3.9.7"
  }
 },
 "nbformat": 4,
 "nbformat_minor": 5
}
