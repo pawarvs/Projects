{
 "cells": [
  {
   "cell_type": "code",
   "execution_count": 1,
   "id": "3054404f",
   "metadata": {},
   "outputs": [],
   "source": [
    "import random"
   ]
  },
  {
   "cell_type": "code",
   "execution_count": 6,
   "id": "2cbb25c6",
   "metadata": {},
   "outputs": [
    {
     "data": {
      "text/plain": [
       "26"
      ]
     },
     "execution_count": 6,
     "metadata": {},
     "output_type": "execute_result"
    }
   ],
   "source": [
    "# it will alter number for every run of a code.\n",
    "random.randint(1,100)"
   ]
  },
  {
   "cell_type": "code",
   "execution_count": 9,
   "id": "f09082d9",
   "metadata": {},
   "outputs": [
    {
     "name": "stdout",
     "output_type": "stream",
     "text": [
      "Please!, guess the number : 60\n",
      "Guess higher\n",
      "Please!, guess the number : 80\n",
      "Ohh, guess lower: \n",
      "Please!, guess the number : 70\n",
      "Guess higher\n",
      "Please!, guess the number : 76\n",
      "Ohh, guess lower: \n",
      "Please!, guess the number : 75\n",
      "Ohh, guess lower: \n",
      "Please!, guess the number : 73\n",
      "Ohh, guess lower: \n",
      "Please!, guess the number : 72\n",
      "Awesome, correctly guess !\n",
      "You took almost  7 attempts to guess it correct.\n"
     ]
    }
   ],
   "source": [
    "Jackpot = random.randint(10,100)\n",
    "\n",
    "guess = int(input(\"Please!, guess the number : \"))\n",
    "\n",
    "count = 1\n",
    "\n",
    "while guess != Jackpot :\n",
    "    if guess < Jackpot :\n",
    "        print(\"Guess higher\")\n",
    "    else :\n",
    "        print(\"Ohh, guess lower: \")\n",
    "    \n",
    "    guess = int(input(\"Please!, guess the number : \"))\n",
    "    count = count+1\n",
    "    \n",
    "print(\"Awesome, correctly guess !\")\n",
    "print(\"You took almost \",count,\"attempts to guess it correct.\")\n",
    "        \n",
    "    "
   ]
  }
 ],
 "metadata": {
  "kernelspec": {
   "display_name": "Python 3 (ipykernel)",
   "language": "python",
   "name": "python3"
  },
  "language_info": {
   "codemirror_mode": {
    "name": "ipython",
    "version": 3
   },
   "file_extension": ".py",
   "mimetype": "text/x-python",
   "name": "python",
   "nbconvert_exporter": "python",
   "pygments_lexer": "ipython3",
   "version": "3.9.7"
  }
 },
 "nbformat": 4,
 "nbformat_minor": 5
}
