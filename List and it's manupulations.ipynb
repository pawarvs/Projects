{
 "cells": [
  {
   "cell_type": "markdown",
   "id": "c27560c4",
   "metadata": {},
   "source": [
    "## LIST"
   ]
  },
  {
   "cell_type": "code",
   "execution_count": 1,
   "id": "4bcee8fd",
   "metadata": {},
   "outputs": [],
   "source": [
    "# defining a list\n",
    "l = [98,50,57,48,36, 'Vishal', 52.32,True]"
   ]
  },
  {
   "cell_type": "code",
   "execution_count": 2,
   "id": "dbef86fe",
   "metadata": {},
   "outputs": [
    {
     "data": {
      "text/plain": [
       "[98, 50, 57, 48]"
      ]
     },
     "execution_count": 2,
     "metadata": {},
     "output_type": "execute_result"
    }
   ],
   "source": [
    "# list slicing \n",
    "#l[0]\n",
    "#l[-1]\n",
    "l[0:4]"
   ]
  },
  {
   "cell_type": "code",
   "execution_count": 3,
   "id": "c4bc5fea",
   "metadata": {},
   "outputs": [
    {
     "data": {
      "text/plain": [
       "[98, 50, 57, 48, 36]"
      ]
     },
     "execution_count": 3,
     "metadata": {},
     "output_type": "execute_result"
    }
   ],
   "source": [
    "# In slicing operations the upper bound is excluded, \n",
    "#it will gives the values till the index = upper bound -1\n",
    "l[0:5]"
   ]
  },
  {
   "cell_type": "code",
   "execution_count": 4,
   "id": "e49ddf46",
   "metadata": {},
   "outputs": [
    {
     "data": {
      "text/plain": [
       "[True, 52.32, 'Vishal', 36, 48, 57, 50, 98]"
      ]
     },
     "execution_count": 4,
     "metadata": {},
     "output_type": "execute_result"
    }
   ],
   "source": [
    "#To reverse the list without using reverse function\n",
    "l[::-1]"
   ]
  },
  {
   "cell_type": "code",
   "execution_count": 5,
   "id": "5b13e66a",
   "metadata": {},
   "outputs": [
    {
     "data": {
      "text/plain": [
       "[98, 50, 57, 48, 36, 'Vishal', 52.32, True]"
      ]
     },
     "execution_count": 5,
     "metadata": {},
     "output_type": "execute_result"
    }
   ],
   "source": [
    "# in case of slicing operation if the upper bound index is not avilable even though it works.\n",
    "# If upper bound is greater than the total length of list then it will print the whole list itself.\n",
    "l[0:25]"
   ]
  },
  {
   "cell_type": "code",
   "execution_count": 6,
   "id": "6bf08b4c",
   "metadata": {},
   "outputs": [
    {
     "ename": "IndexError",
     "evalue": "list index out of range",
     "output_type": "error",
     "traceback": [
      "\u001b[1;31m---------------------------------------------------------------------------\u001b[0m",
      "\u001b[1;31mIndexError\u001b[0m                                Traceback (most recent call last)",
      "\u001b[1;32m~\\AppData\\Local\\Temp/ipykernel_14440/2050433101.py\u001b[0m in \u001b[0;36m<module>\u001b[1;34m\u001b[0m\n\u001b[0;32m      1\u001b[0m \u001b[1;31m# In case of indexing if index value is greater than the length of list, it will give an error\u001b[0m\u001b[1;33m\u001b[0m\u001b[1;33m\u001b[0m\u001b[0m\n\u001b[1;32m----> 2\u001b[1;33m \u001b[0ml\u001b[0m\u001b[1;33m[\u001b[0m\u001b[1;36m25\u001b[0m\u001b[1;33m]\u001b[0m\u001b[1;33m\u001b[0m\u001b[1;33m\u001b[0m\u001b[0m\n\u001b[0m",
      "\u001b[1;31mIndexError\u001b[0m: list index out of range"
     ]
    }
   ],
   "source": [
    "# In case of indexing if index value is greater than the length of list, it will give an error\n",
    "l[25]"
   ]
  },
  {
   "cell_type": "markdown",
   "id": "eac5cf7b",
   "metadata": {},
   "source": [
    "Syntax: Lst[Initial : End : IndexJump ] If Lst is a list, then the above expression returns the portion of the list from index Initial to index End, at a step size IndexJump. Indexing. 1. Positive Indexes if the step size is not mentioned.\n"
   ]
  },
  {
   "cell_type": "code",
   "execution_count": 7,
   "id": "7783da26",
   "metadata": {},
   "outputs": [
    {
     "data": {
      "text/plain": [
       "[98, 57, 36, 52.32]"
      ]
     },
     "execution_count": 7,
     "metadata": {},
     "output_type": "execute_result"
    }
   ],
   "source": [
    "# for below slicing operation the step size is 2\n",
    "l[0:25:2]"
   ]
  },
  {
   "cell_type": "code",
   "execution_count": 8,
   "id": "7aa1a949",
   "metadata": {},
   "outputs": [
    {
     "data": {
      "text/plain": [
       "[]"
      ]
     },
     "execution_count": 8,
     "metadata": {},
     "output_type": "execute_result"
    }
   ],
   "source": [
    "# movement from 0 to 8 is in positive direction, while step is in the negative direction\n",
    "# it is a contradiction\n",
    "l[0:8:-1]"
   ]
  },
  {
   "cell_type": "code",
   "execution_count": 9,
   "id": "b9ff62f4",
   "metadata": {},
   "outputs": [
    {
     "data": {
      "text/plain": [
       "[98, 50, 57]"
      ]
     },
     "execution_count": 9,
     "metadata": {},
     "output_type": "execute_result"
    }
   ],
   "source": [
    "l[:3]"
   ]
  },
  {
   "cell_type": "code",
   "execution_count": 10,
   "id": "07ed21f6",
   "metadata": {},
   "outputs": [
    {
     "data": {
      "text/plain": [
       "[98, 50, 57, 48, 36, 'Vishal', 52.32, True]"
      ]
     },
     "execution_count": 10,
     "metadata": {},
     "output_type": "execute_result"
    }
   ],
   "source": [
    "l"
   ]
  },
  {
   "cell_type": "code",
   "execution_count": 11,
   "id": "ac4110d4",
   "metadata": {},
   "outputs": [
    {
     "data": {
      "text/plain": [
       "[98, 50, 57, 48, 36, 'Vishal', 52.32, True, 'VIP']"
      ]
     },
     "execution_count": 11,
     "metadata": {},
     "output_type": "execute_result"
    }
   ],
   "source": [
    "# To concatinate both the datatypes should be same, unless it will throw an error.\n",
    "l+['VIP']"
   ]
  },
  {
   "cell_type": "code",
   "execution_count": 12,
   "id": "5616c50a",
   "metadata": {},
   "outputs": [
    {
     "data": {
      "text/plain": [
       "[98,\n",
       " 50,\n",
       " 57,\n",
       " 48,\n",
       " 36,\n",
       " 'Vishal',\n",
       " 52.32,\n",
       " True,\n",
       " 98,\n",
       " 50,\n",
       " 57,\n",
       " 48,\n",
       " 36,\n",
       " 'Vishal',\n",
       " 52.32,\n",
       " True]"
      ]
     },
     "execution_count": 12,
     "metadata": {},
     "output_type": "execute_result"
    }
   ],
   "source": [
    "l*2"
   ]
  },
  {
   "cell_type": "code",
   "execution_count": 14,
   "id": "58842841",
   "metadata": {},
   "outputs": [
    {
     "data": {
      "text/plain": [
       "False"
      ]
     },
     "execution_count": 14,
     "metadata": {},
     "output_type": "execute_result"
    }
   ],
   "source": [
    "# item in list, will check whether it is present in the list of not. if yes it returns true and if not then it returns false\n",
    "51 in l"
   ]
  },
  {
   "cell_type": "code",
   "execution_count": 14,
   "id": "431c21d4",
   "metadata": {},
   "outputs": [
    {
     "data": {
      "text/plain": [
       "True"
      ]
     },
     "execution_count": 14,
     "metadata": {},
     "output_type": "execute_result"
    }
   ],
   "source": [
    "50 in l"
   ]
  },
  {
   "cell_type": "code",
   "execution_count": 15,
   "id": "e0d35424",
   "metadata": {},
   "outputs": [
    {
     "ename": "TypeError",
     "evalue": "'>' not supported between instances of 'str' and 'int'",
     "output_type": "error",
     "traceback": [
      "\u001b[1;31m---------------------------------------------------------------------------\u001b[0m",
      "\u001b[1;31mTypeError\u001b[0m                                 Traceback (most recent call last)",
      "\u001b[1;32m~\\AppData\\Local\\Temp/ipykernel_3216/3569087232.py\u001b[0m in \u001b[0;36m<module>\u001b[1;34m\u001b[0m\n\u001b[0;32m      1\u001b[0m \u001b[1;31m# Max or Min will work with the list, if list is of numbers only.\u001b[0m\u001b[1;33m\u001b[0m\u001b[1;33m\u001b[0m\u001b[0m\n\u001b[1;32m----> 2\u001b[1;33m \u001b[0mmax\u001b[0m\u001b[1;33m(\u001b[0m\u001b[0ml\u001b[0m\u001b[1;33m)\u001b[0m\u001b[1;33m\u001b[0m\u001b[1;33m\u001b[0m\u001b[0m\n\u001b[0m",
      "\u001b[1;31mTypeError\u001b[0m: '>' not supported between instances of 'str' and 'int'"
     ]
    }
   ],
   "source": [
    "# Max or Min will work with the list, if list is of numbers only. \n",
    "max(l)"
   ]
  },
  {
   "cell_type": "code",
   "execution_count": 16,
   "id": "832b7460",
   "metadata": {},
   "outputs": [],
   "source": [
    "l1 = [20,30,40,55,92,15.36]"
   ]
  },
  {
   "cell_type": "code",
   "execution_count": 17,
   "id": "58ab52f5",
   "metadata": {},
   "outputs": [
    {
     "data": {
      "text/plain": [
       "92"
      ]
     },
     "execution_count": 17,
     "metadata": {},
     "output_type": "execute_result"
    }
   ],
   "source": [
    "# max function will give the maximum value present in the list\n",
    "max(l1)"
   ]
  },
  {
   "cell_type": "code",
   "execution_count": 18,
   "id": "b107e715",
   "metadata": {},
   "outputs": [
    {
     "data": {
      "text/plain": [
       "15.36"
      ]
     },
     "execution_count": 18,
     "metadata": {},
     "output_type": "execute_result"
    }
   ],
   "source": [
    "# min function will gives the minimum value present in the list\n",
    "min(l1)"
   ]
  },
  {
   "cell_type": "code",
   "execution_count": 19,
   "id": "26477b0a",
   "metadata": {},
   "outputs": [],
   "source": [
    "l2 = ['Vishal','Pawar', 'Trivium']"
   ]
  },
  {
   "cell_type": "code",
   "execution_count": 20,
   "id": "45f0337d",
   "metadata": {},
   "outputs": [
    {
     "data": {
      "text/plain": [
       "'Vishal'"
      ]
     },
     "execution_count": 20,
     "metadata": {},
     "output_type": "execute_result"
    }
   ],
   "source": [
    "# in case of string object it will return maximum value which has maximum ascii value. \n",
    "# String character with maximum ascii value will be considered as the maximum.\n",
    "max(l2)"
   ]
  },
  {
   "cell_type": "code",
   "execution_count": 21,
   "id": "d9ec7b5d",
   "metadata": {},
   "outputs": [
    {
     "data": {
      "text/plain": [
       "'Pawar'"
      ]
     },
     "execution_count": 21,
     "metadata": {},
     "output_type": "execute_result"
    }
   ],
   "source": [
    "min(l2)"
   ]
  },
  {
   "cell_type": "markdown",
   "id": "8abda30b",
   "metadata": {},
   "source": [
    "### Functions of list"
   ]
  },
  {
   "cell_type": "code",
   "execution_count": 22,
   "id": "80dba73a",
   "metadata": {},
   "outputs": [
    {
     "data": {
      "text/plain": [
       "[98, 50, 57, 48, 36, 'Vishal', 52.32, True]"
      ]
     },
     "execution_count": 22,
     "metadata": {},
     "output_type": "execute_result"
    }
   ],
   "source": [
    "l"
   ]
  },
  {
   "cell_type": "code",
   "execution_count": 23,
   "id": "6794ee97",
   "metadata": {},
   "outputs": [],
   "source": [
    "# append function will append the item pass to the existing list.\n",
    "l.append('Sanjay')"
   ]
  },
  {
   "cell_type": "code",
   "execution_count": 24,
   "id": "beb0a2da",
   "metadata": {},
   "outputs": [
    {
     "data": {
      "text/plain": [
       "[98, 50, 57, 48, 36, 'Vishal', 52.32, True, 'Sanjay']"
      ]
     },
     "execution_count": 24,
     "metadata": {},
     "output_type": "execute_result"
    }
   ],
   "source": [
    "l"
   ]
  },
  {
   "cell_type": "code",
   "execution_count": 25,
   "id": "5def6b31",
   "metadata": {},
   "outputs": [],
   "source": [
    "l.append([1,2,3,4])"
   ]
  },
  {
   "cell_type": "code",
   "execution_count": 26,
   "id": "0be0be91",
   "metadata": {},
   "outputs": [
    {
     "data": {
      "text/plain": [
       "[98, 50, 57, 48, 36, 'Vishal', 52.32, True, 'Sanjay', [1, 2, 3, 4]]"
      ]
     },
     "execution_count": 26,
     "metadata": {},
     "output_type": "execute_result"
    }
   ],
   "source": [
    "l"
   ]
  },
  {
   "cell_type": "code",
   "execution_count": 27,
   "id": "847748b1",
   "metadata": {},
   "outputs": [
    {
     "data": {
      "text/plain": [
       "98"
      ]
     },
     "execution_count": 27,
     "metadata": {},
     "output_type": "execute_result"
    }
   ],
   "source": [
    "# list.pop(), it removes value of the index number passed to it.\n",
    "l.pop(0)"
   ]
  },
  {
   "cell_type": "code",
   "execution_count": 20,
   "id": "b3aea1c9",
   "metadata": {},
   "outputs": [
    {
     "data": {
      "text/plain": [
       "[98, 50, 57, 48, 36, 'Vishal', 52.32, True]"
      ]
     },
     "execution_count": 20,
     "metadata": {},
     "output_type": "execute_result"
    }
   ],
   "source": [
    "l"
   ]
  },
  {
   "cell_type": "code",
   "execution_count": 21,
   "id": "85c1b32a",
   "metadata": {},
   "outputs": [
    {
     "data": {
      "text/plain": [
       "True"
      ]
     },
     "execution_count": 21,
     "metadata": {},
     "output_type": "execute_result"
    }
   ],
   "source": [
    "# if index number is not pass to the function, it will removes the default last index value\n",
    "l.pop()"
   ]
  },
  {
   "cell_type": "code",
   "execution_count": 22,
   "id": "f9c3113f",
   "metadata": {},
   "outputs": [
    {
     "data": {
      "text/plain": [
       "[98, 50, 57, 48, 36, 'Vishal', 52.32]"
      ]
     },
     "execution_count": 22,
     "metadata": {},
     "output_type": "execute_result"
    }
   ],
   "source": [
    "l"
   ]
  },
  {
   "cell_type": "code",
   "execution_count": 23,
   "id": "d2c7787f",
   "metadata": {},
   "outputs": [
    {
     "data": {
      "text/plain": [
       "'Trivium'"
      ]
     },
     "execution_count": 23,
     "metadata": {},
     "output_type": "execute_result"
    }
   ],
   "source": [
    "l2 = ['Vishal','Pawar', 'Trivium']\n",
    "l2.pop()"
   ]
  },
  {
   "cell_type": "code",
   "execution_count": 24,
   "id": "b84acc21",
   "metadata": {},
   "outputs": [],
   "source": [
    "# To reverse the list permanently\n",
    "l.reverse()"
   ]
  },
  {
   "cell_type": "code",
   "execution_count": 25,
   "id": "371f335a",
   "metadata": {},
   "outputs": [
    {
     "data": {
      "text/plain": [
       "[52.32, 'Vishal', 36, 48, 57, 50, 98]"
      ]
     },
     "execution_count": 25,
     "metadata": {},
     "output_type": "execute_result"
    }
   ],
   "source": [
    "l"
   ]
  },
  {
   "cell_type": "code",
   "execution_count": 26,
   "id": "5f7fd255",
   "metadata": {},
   "outputs": [
    {
     "data": {
      "text/plain": [
       "[98, 50, 57, 48, 36, 'Vishal', 52.32]"
      ]
     },
     "execution_count": 26,
     "metadata": {},
     "output_type": "execute_result"
    }
   ],
   "source": [
    "# To reverse the list in run time\n",
    "l[::-1]\n"
   ]
  },
  {
   "cell_type": "code",
   "execution_count": 30,
   "id": "64205642",
   "metadata": {},
   "outputs": [
    {
     "data": {
      "text/plain": [
       "[98, 50, 57, 48, 36, 'Vishal', 52.32]"
      ]
     },
     "execution_count": 30,
     "metadata": {},
     "output_type": "execute_result"
    }
   ],
   "source": [
    "# To reverse list permanently without using the function reverse, \n",
    "l = l[::-1]\n",
    "l"
   ]
  },
  {
   "cell_type": "code",
   "execution_count": 28,
   "id": "dbb3a8aa",
   "metadata": {},
   "outputs": [],
   "source": [
    "l.reverse()"
   ]
  },
  {
   "cell_type": "code",
   "execution_count": 36,
   "id": "b348ed6b",
   "metadata": {},
   "outputs": [
    {
     "data": {
      "text/plain": [
       "[50, 57, 48, 36, 'Vishal', 52.32, True, 'Sanjay']"
      ]
     },
     "execution_count": 36,
     "metadata": {},
     "output_type": "execute_result"
    }
   ],
   "source": [
    "l"
   ]
  },
  {
   "cell_type": "markdown",
   "id": "cf6e4c6b",
   "metadata": {},
   "source": [
    "###### Sort function will sort the list in ascending order by default with the exception that if A list which has both integers and string, the function sort will give an error.  Also if list has only string then also it will be able to sort the list.\n"
   ]
  },
  {
   "cell_type": "code",
   "execution_count": 37,
   "id": "92d996f4",
   "metadata": {
    "scrolled": true
   },
   "outputs": [
    {
     "ename": "TypeError",
     "evalue": "'<' not supported between instances of 'str' and 'int'",
     "output_type": "error",
     "traceback": [
      "\u001b[1;31m---------------------------------------------------------------------------\u001b[0m",
      "\u001b[1;31mTypeError\u001b[0m                                 Traceback (most recent call last)",
      "\u001b[1;32m~\\AppData\\Local\\Temp/ipykernel_3216/1007855302.py\u001b[0m in \u001b[0;36m<module>\u001b[1;34m\u001b[0m\n\u001b[0;32m      1\u001b[0m \u001b[1;31m# A list which has both integers and string, the function sort will give an error.\u001b[0m\u001b[1;33m\u001b[0m\u001b[1;33m\u001b[0m\u001b[0m\n\u001b[1;32m----> 2\u001b[1;33m \u001b[0ml\u001b[0m\u001b[1;33m.\u001b[0m\u001b[0msort\u001b[0m\u001b[1;33m(\u001b[0m\u001b[1;33m)\u001b[0m\u001b[1;33m\u001b[0m\u001b[1;33m\u001b[0m\u001b[0m\n\u001b[0m",
      "\u001b[1;31mTypeError\u001b[0m: '<' not supported between instances of 'str' and 'int'"
     ]
    }
   ],
   "source": [
    "l.sort()"
   ]
  },
  {
   "cell_type": "code",
   "execution_count": 38,
   "id": "e02199dd",
   "metadata": {},
   "outputs": [
    {
     "data": {
      "text/plain": [
       "[15.36, 20, 30, 40, 55, 92]"
      ]
     },
     "execution_count": 38,
     "metadata": {},
     "output_type": "execute_result"
    }
   ],
   "source": [
    "l1.sort()\n",
    "l1"
   ]
  },
  {
   "cell_type": "code",
   "execution_count": 39,
   "id": "6a12e386",
   "metadata": {},
   "outputs": [
    {
     "data": {
      "text/plain": [
       "['Pawar', 'Vishal']"
      ]
     },
     "execution_count": 39,
     "metadata": {},
     "output_type": "execute_result"
    }
   ],
   "source": [
    "l2.sort()\n",
    "l2"
   ]
  },
  {
   "cell_type": "code",
   "execution_count": 40,
   "id": "fbe8d84f",
   "metadata": {},
   "outputs": [],
   "source": [
    "l3 = [8,91,50,34,2,0,10]"
   ]
  },
  {
   "cell_type": "code",
   "execution_count": 41,
   "id": "d78bc16a",
   "metadata": {},
   "outputs": [
    {
     "data": {
      "text/plain": [
       "[91, 50, 34, 10, 8, 2, 0]"
      ]
     },
     "execution_count": 41,
     "metadata": {},
     "output_type": "execute_result"
    }
   ],
   "source": [
    "l3.sort(reverse = True)\n",
    "l3"
   ]
  },
  {
   "cell_type": "code",
   "execution_count": 42,
   "id": "6396c803",
   "metadata": {},
   "outputs": [],
   "source": [
    "l1 = [10,20,30]\n",
    "l2 = [60,70,80]\n",
    "l3 = [30,20,40]"
   ]
  },
  {
   "cell_type": "code",
   "execution_count": 43,
   "id": "440f1abc",
   "metadata": {},
   "outputs": [],
   "source": [
    "l4 = [l1,l2,l3]"
   ]
  },
  {
   "cell_type": "code",
   "execution_count": 44,
   "id": "c48a31c6",
   "metadata": {},
   "outputs": [
    {
     "data": {
      "text/plain": [
       "[[10, 20, 30], [60, 70, 80], [30, 20, 40]]"
      ]
     },
     "execution_count": 44,
     "metadata": {},
     "output_type": "execute_result"
    }
   ],
   "source": [
    "l4"
   ]
  },
  {
   "cell_type": "code",
   "execution_count": 45,
   "id": "cd7b70c6",
   "metadata": {},
   "outputs": [
    {
     "data": {
      "text/plain": [
       "[30, 20, 40]"
      ]
     },
     "execution_count": 45,
     "metadata": {},
     "output_type": "execute_result"
    }
   ],
   "source": [
    "l4[2]"
   ]
  },
  {
   "cell_type": "code",
   "execution_count": 46,
   "id": "926e194e",
   "metadata": {},
   "outputs": [
    {
     "data": {
      "text/plain": [
       "40"
      ]
     },
     "execution_count": 46,
     "metadata": {},
     "output_type": "execute_result"
    }
   ],
   "source": [
    "# slicing last element of l3 \n",
    "l4[2][2]"
   ]
  },
  {
   "cell_type": "code",
   "execution_count": 47,
   "id": "9ebe7b45",
   "metadata": {},
   "outputs": [
    {
     "data": {
      "text/plain": [
       "80"
      ]
     },
     "execution_count": 47,
     "metadata": {},
     "output_type": "execute_result"
    }
   ],
   "source": [
    "# slicing last element of 2nd list\n",
    "l4[1][2]"
   ]
  },
  {
   "cell_type": "code",
   "execution_count": 48,
   "id": "8f27d623",
   "metadata": {},
   "outputs": [
    {
     "data": {
      "text/plain": [
       "[36, 48, 50, 57, 'Vishal', 52.32, True, 'Sanjay']"
      ]
     },
     "execution_count": 48,
     "metadata": {},
     "output_type": "execute_result"
    }
   ],
   "source": [
    "l"
   ]
  },
  {
   "cell_type": "code",
   "execution_count": 49,
   "id": "8ac4e79e",
   "metadata": {},
   "outputs": [
    {
     "data": {
      "text/plain": [
       "0"
      ]
     },
     "execution_count": 49,
     "metadata": {},
     "output_type": "execute_result"
    }
   ],
   "source": [
    "#l.count(36)\n",
    "#l.count(\"Sanjay\")\n",
    "l.count('sanjay')"
   ]
  },
  {
   "cell_type": "code",
   "execution_count": 32,
   "id": "8903c67a",
   "metadata": {},
   "outputs": [],
   "source": [
    "l5 = [1,2,4]"
   ]
  },
  {
   "cell_type": "code",
   "execution_count": 33,
   "id": "cfcff1cf",
   "metadata": {},
   "outputs": [],
   "source": [
    "l5.append(45)"
   ]
  },
  {
   "cell_type": "code",
   "execution_count": 34,
   "id": "6c54c4d4",
   "metadata": {},
   "outputs": [],
   "source": [
    "l5.append([5,6,7])"
   ]
  },
  {
   "cell_type": "code",
   "execution_count": 35,
   "id": "916222f0",
   "metadata": {},
   "outputs": [],
   "source": [
    "l5.append('Vishal')"
   ]
  },
  {
   "cell_type": "code",
   "execution_count": 36,
   "id": "ed3f02ae",
   "metadata": {},
   "outputs": [
    {
     "data": {
      "text/plain": [
       "[1, 2, 4, 45, [5, 6, 7], 'Vishal']"
      ]
     },
     "execution_count": 36,
     "metadata": {},
     "output_type": "execute_result"
    }
   ],
   "source": [
    "l5"
   ]
  },
  {
   "cell_type": "markdown",
   "id": "4baa72b8",
   "metadata": {},
   "source": [
    "The list.extend method extends a list by appending elements from an iterable: So with extend, each element of the iterable gets appended onto the list. For example: Keep in mind that a string is an iterable, so if you extend a list with a string, you'll append each character as you iterate over the string "
   ]
  },
  {
   "cell_type": "code",
   "execution_count": 37,
   "id": "fa87242a",
   "metadata": {},
   "outputs": [
    {
     "ename": "TypeError",
     "evalue": "'int' object is not iterable",
     "output_type": "error",
     "traceback": [
      "\u001b[1;31m---------------------------------------------------------------------------\u001b[0m",
      "\u001b[1;31mTypeError\u001b[0m                                 Traceback (most recent call last)",
      "\u001b[1;32m~\\AppData\\Local\\Temp/ipykernel_14440/528252336.py\u001b[0m in \u001b[0;36m<module>\u001b[1;34m\u001b[0m\n\u001b[1;32m----> 1\u001b[1;33m \u001b[0ml\u001b[0m\u001b[1;33m.\u001b[0m\u001b[0mextend\u001b[0m\u001b[1;33m(\u001b[0m\u001b[1;36m54\u001b[0m\u001b[1;33m)\u001b[0m\u001b[1;33m\u001b[0m\u001b[1;33m\u001b[0m\u001b[0m\n\u001b[0m",
      "\u001b[1;31mTypeError\u001b[0m: 'int' object is not iterable"
     ]
    }
   ],
   "source": [
    "l.extend(54)"
   ]
  },
  {
   "cell_type": "code",
   "execution_count": 38,
   "id": "3231272e",
   "metadata": {},
   "outputs": [],
   "source": [
    "l5.extend('Pawar')"
   ]
  },
  {
   "cell_type": "code",
   "execution_count": 39,
   "id": "b45a9e33",
   "metadata": {},
   "outputs": [
    {
     "data": {
      "text/plain": [
       "[1, 2, 4, 45, [5, 6, 7], 'Vishal', 'P', 'a', 'w', 'a', 'r']"
      ]
     },
     "execution_count": 39,
     "metadata": {},
     "output_type": "execute_result"
    }
   ],
   "source": [
    "l5"
   ]
  },
  {
   "cell_type": "code",
   "execution_count": null,
   "id": "1c55a609",
   "metadata": {},
   "outputs": [],
   "source": [
    "l5.extend()"
   ]
  },
  {
   "cell_type": "code",
   "execution_count": 41,
   "id": "6fae6a42",
   "metadata": {},
   "outputs": [
    {
     "data": {
      "text/plain": [
       "[1, 2, 4, 45, [5, 6, 7], 'Vishal', 'P', 'a', 'w', 'a', 'r', 10, 20, 10, 20]"
      ]
     },
     "execution_count": 41,
     "metadata": {},
     "output_type": "execute_result"
    }
   ],
   "source": [
    "l5.extend([10,20])\n",
    "l5"
   ]
  },
  {
   "cell_type": "code",
   "execution_count": 59,
   "id": "b7d80aee",
   "metadata": {},
   "outputs": [
    {
     "data": {
      "text/plain": [
       "[36, 48, 50, 57, 'Vishal', 52.32, True, 'Sanjay']"
      ]
     },
     "execution_count": 59,
     "metadata": {},
     "output_type": "execute_result"
    }
   ],
   "source": [
    "l"
   ]
  },
  {
   "cell_type": "markdown",
   "id": "3d6244cd",
   "metadata": {},
   "source": [
    "### Append the list passed to it as it is\n",
    "### Extend will break the list and string append the elements to last of list"
   ]
  },
  {
   "cell_type": "code",
   "execution_count": 60,
   "id": "598b7879",
   "metadata": {},
   "outputs": [
    {
     "data": {
      "text/plain": [
       "0"
      ]
     },
     "execution_count": 60,
     "metadata": {},
     "output_type": "execute_result"
    }
   ],
   "source": [
    "l.index(36)"
   ]
  },
  {
   "cell_type": "code",
   "execution_count": 61,
   "id": "694ee141",
   "metadata": {},
   "outputs": [
    {
     "data": {
      "text/plain": [
       "4"
      ]
     },
     "execution_count": 61,
     "metadata": {},
     "output_type": "execute_result"
    }
   ],
   "source": [
    "l.index('Vishal')"
   ]
  },
  {
   "cell_type": "code",
   "execution_count": 62,
   "id": "6ede219c",
   "metadata": {},
   "outputs": [
    {
     "data": {
      "text/plain": [
       "11"
      ]
     },
     "execution_count": 62,
     "metadata": {},
     "output_type": "execute_result"
    }
   ],
   "source": [
    "l5.index(10)"
   ]
  },
  {
   "cell_type": "code",
   "execution_count": 63,
   "id": "99712369",
   "metadata": {},
   "outputs": [],
   "source": [
    "l = [1,2,3,4,5,6]"
   ]
  },
  {
   "cell_type": "code",
   "execution_count": 64,
   "id": "a5967dcf",
   "metadata": {},
   "outputs": [],
   "source": [
    "# list.append() will insert the data at the last index of the list\n",
    "l.append(10)"
   ]
  },
  {
   "cell_type": "code",
   "execution_count": 65,
   "id": "e9c7927d",
   "metadata": {},
   "outputs": [],
   "source": [
    "# list.insert() will insert the data whereever you want to insert.\n",
    "l.insert(1,\"Vishal\")"
   ]
  },
  {
   "cell_type": "code",
   "execution_count": 66,
   "id": "313401a1",
   "metadata": {},
   "outputs": [
    {
     "data": {
      "text/plain": [
       "[1, 'Vishal', 2, 3, 4, 5, 6, 10]"
      ]
     },
     "execution_count": 66,
     "metadata": {},
     "output_type": "execute_result"
    }
   ],
   "source": [
    "l"
   ]
  },
  {
   "cell_type": "code",
   "execution_count": 67,
   "id": "ba4d6656",
   "metadata": {},
   "outputs": [],
   "source": [
    "l.insert(3,[10,20,25])"
   ]
  },
  {
   "cell_type": "code",
   "execution_count": 68,
   "id": "482e4679",
   "metadata": {},
   "outputs": [
    {
     "data": {
      "text/plain": [
       "[1, 'Vishal', 2, [10, 20, 25], 3, 4, 5, 6, 10]"
      ]
     },
     "execution_count": 68,
     "metadata": {},
     "output_type": "execute_result"
    }
   ],
   "source": [
    "l"
   ]
  },
  {
   "cell_type": "code",
   "execution_count": 69,
   "id": "52a25d1f",
   "metadata": {},
   "outputs": [
    {
     "data": {
      "text/plain": [
       "10"
      ]
     },
     "execution_count": 69,
     "metadata": {},
     "output_type": "execute_result"
    }
   ],
   "source": [
    "# list.pop() -performed operation based on indexes\n",
    "l.pop()"
   ]
  },
  {
   "cell_type": "code",
   "execution_count": 70,
   "id": "bc0af932",
   "metadata": {},
   "outputs": [],
   "source": [
    "# list.remove() - performed operation based on values\n",
    "l.remove([10,20,25])"
   ]
  },
  {
   "cell_type": "code",
   "execution_count": 71,
   "id": "c0b7714e",
   "metadata": {},
   "outputs": [
    {
     "data": {
      "text/plain": [
       "[1, 'Vishal', 2, 3, 4, 5, 6]"
      ]
     },
     "execution_count": 71,
     "metadata": {},
     "output_type": "execute_result"
    }
   ],
   "source": [
    "l"
   ]
  },
  {
   "cell_type": "code",
   "execution_count": 72,
   "id": "cb31e18c",
   "metadata": {},
   "outputs": [],
   "source": [
    "# item re- assignment operation\n",
    "l = [1,2,3,4]\n",
    "l[2] = \"Vish\""
   ]
  },
  {
   "cell_type": "code",
   "execution_count": 73,
   "id": "93e8d659",
   "metadata": {},
   "outputs": [
    {
     "data": {
      "text/plain": [
       "[1, 2, 'Vish', 4]"
      ]
     },
     "execution_count": 73,
     "metadata": {},
     "output_type": "execute_result"
    }
   ],
   "source": [
    "l"
   ]
  },
  {
   "cell_type": "code",
   "execution_count": 74,
   "id": "49c80ba4",
   "metadata": {},
   "outputs": [
    {
     "data": {
      "text/plain": [
       "'h'"
      ]
     },
     "execution_count": 74,
     "metadata": {},
     "output_type": "execute_result"
    }
   ],
   "source": [
    "s = 'Mahhrashtra'\n",
    "s[2]"
   ]
  },
  {
   "cell_type": "code",
   "execution_count": 75,
   "id": "eae1c0ae",
   "metadata": {},
   "outputs": [
    {
     "ename": "TypeError",
     "evalue": "'str' object does not support item assignment",
     "output_type": "error",
     "traceback": [
      "\u001b[1;31m---------------------------------------------------------------------------\u001b[0m",
      "\u001b[1;31mTypeError\u001b[0m                                 Traceback (most recent call last)",
      "\u001b[1;32m~\\AppData\\Local\\Temp/ipykernel_3216/1373150089.py\u001b[0m in \u001b[0;36m<module>\u001b[1;34m\u001b[0m\n\u001b[0;32m      1\u001b[0m \u001b[1;31m# string - does not supports item re-assignment.\u001b[0m\u001b[1;33m\u001b[0m\u001b[1;33m\u001b[0m\u001b[0m\n\u001b[1;32m----> 2\u001b[1;33m \u001b[0ms\u001b[0m\u001b[1;33m[\u001b[0m\u001b[1;36m3\u001b[0m\u001b[1;33m]\u001b[0m\u001b[1;33m=\u001b[0m\u001b[1;34m'a'\u001b[0m\u001b[1;33m\u001b[0m\u001b[1;33m\u001b[0m\u001b[0m\n\u001b[0m",
      "\u001b[1;31mTypeError\u001b[0m: 'str' object does not support item assignment"
     ]
    }
   ],
   "source": [
    "# string - does not supports item re-assignment.\n",
    "s[3]='a'"
   ]
  },
  {
   "cell_type": "markdown",
   "id": "a7dea349",
   "metadata": {},
   "source": [
    "#### Mutable: Where you can do item assignment, it is known as mutable\n",
    "#### immutable : Where item assignment is not supported, it is known as immutable"
   ]
  },
  {
   "cell_type": "code",
   "execution_count": 76,
   "id": "05cd671d",
   "metadata": {},
   "outputs": [],
   "source": [
    "l = [10,20,(5,7,8),'Vishal',{'1':'V','2':'P','a':25},{20,20,25,20,30},20.3]"
   ]
  },
  {
   "cell_type": "code",
   "execution_count": 77,
   "id": "cc0e2374",
   "metadata": {},
   "outputs": [
    {
     "data": {
      "text/plain": [
       "{'1': 'V', '2': 'P', 'a': 25}"
      ]
     },
     "execution_count": 77,
     "metadata": {},
     "output_type": "execute_result"
    }
   ],
   "source": [
    "l[4]"
   ]
  },
  {
   "cell_type": "code",
   "execution_count": 78,
   "id": "7715e330",
   "metadata": {},
   "outputs": [
    {
     "data": {
      "text/plain": [
       "{20, 25, 30}"
      ]
     },
     "execution_count": 78,
     "metadata": {},
     "output_type": "execute_result"
    }
   ],
   "source": [
    "l[-2]"
   ]
  },
  {
   "cell_type": "code",
   "execution_count": 79,
   "id": "17e6cfbd",
   "metadata": {},
   "outputs": [
    {
     "data": {
      "text/plain": [
       "'Vishal'"
      ]
     },
     "execution_count": 79,
     "metadata": {},
     "output_type": "execute_result"
    }
   ],
   "source": [
    "l[3]"
   ]
  },
  {
   "cell_type": "code",
   "execution_count": 80,
   "id": "1d74af1c",
   "metadata": {},
   "outputs": [
    {
     "data": {
      "text/plain": [
       "(5, 7, 8)"
      ]
     },
     "execution_count": 80,
     "metadata": {},
     "output_type": "execute_result"
    }
   ],
   "source": [
    "l[2]"
   ]
  },
  {
   "cell_type": "code",
   "execution_count": 81,
   "id": "1dd3d4fe",
   "metadata": {},
   "outputs": [],
   "source": [
    "l = ['Vishal',98,50,57,[10,20,30,'S'],True,\"PAWAR\"]"
   ]
  },
  {
   "cell_type": "code",
   "execution_count": 82,
   "id": "3a2e456b",
   "metadata": {},
   "outputs": [
    {
     "name": "stdout",
     "output_type": "stream",
     "text": [
      "Vishal\n",
      "98\n",
      "50\n",
      "57\n",
      "[10, 20, 30, 'S']\n",
      "True\n",
      "PAWAR\n"
     ]
    }
   ],
   "source": [
    "for i in l:\n",
    "    print(i)"
   ]
  },
  {
   "cell_type": "code",
   "execution_count": 85,
   "id": "ad8c25c6",
   "metadata": {},
   "outputs": [
    {
     "name": "stdout",
     "output_type": "stream",
     "text": [
      "The element is not a list Vishal\n",
      "The element is not a list 98\n",
      "The element is not a list 50\n",
      "The element is not a list 57\n",
      "This is a list inside a list [10, 20, 30, 'S']\n",
      "The element is not a list True\n",
      "The element is not a list PAWAR\n"
     ]
    }
   ],
   "source": [
    "for i in l:\n",
    "    if type(i) == list:\n",
    "        print(\"This is a list inside a list\",i)\n",
    "    else:\n",
    "        print('The element is not a list',i)"
   ]
  },
  {
   "cell_type": "code",
   "execution_count": 86,
   "id": "af99e657",
   "metadata": {},
   "outputs": [
    {
     "data": {
      "text/plain": [
       "['Vishal', 98, 50, 57, [10, 20, 30, 'S'], True, 'PAWAR']"
      ]
     },
     "execution_count": 86,
     "metadata": {},
     "output_type": "execute_result"
    }
   ],
   "source": [
    "l"
   ]
  },
  {
   "cell_type": "code",
   "execution_count": 87,
   "id": "f7d1fa2b",
   "metadata": {},
   "outputs": [],
   "source": [
    "l1 =['Tech','ML']"
   ]
  },
  {
   "cell_type": "code",
   "execution_count": 88,
   "id": "a7522b18",
   "metadata": {},
   "outputs": [
    {
     "data": {
      "text/plain": [
       "['Vishal', 98, 50, 57, [10, 20, 30, 'S'], True, 'PAWAR', 'Tech', 'ML']"
      ]
     },
     "execution_count": 88,
     "metadata": {},
     "output_type": "execute_result"
    }
   ],
   "source": [
    "l+l1"
   ]
  },
  {
   "cell_type": "code",
   "execution_count": 89,
   "id": "9037b8ae",
   "metadata": {},
   "outputs": [
    {
     "data": {
      "text/plain": [
       "7"
      ]
     },
     "execution_count": 89,
     "metadata": {},
     "output_type": "execute_result"
    }
   ],
   "source": [
    "len(l)"
   ]
  },
  {
   "cell_type": "code",
   "execution_count": 91,
   "id": "62aa4494",
   "metadata": {},
   "outputs": [
    {
     "data": {
      "text/plain": [
       "'Tech'"
      ]
     },
     "execution_count": 91,
     "metadata": {},
     "output_type": "execute_result"
    }
   ],
   "source": [
    "max(l1)"
   ]
  },
  {
   "cell_type": "code",
   "execution_count": 93,
   "id": "22e816b1",
   "metadata": {},
   "outputs": [
    {
     "data": {
      "text/plain": [
       "True"
      ]
     },
     "execution_count": 93,
     "metadata": {},
     "output_type": "execute_result"
    }
   ],
   "source": [
    "98 in l"
   ]
  },
  {
   "cell_type": "code",
   "execution_count": 94,
   "id": "c1770744",
   "metadata": {},
   "outputs": [],
   "source": [
    "# insert object before the index position\n",
    "l.insert(-1,'NLP')"
   ]
  },
  {
   "cell_type": "code",
   "execution_count": 95,
   "id": "c7980cae",
   "metadata": {},
   "outputs": [
    {
     "data": {
      "text/plain": [
       "['Vishal', 98, 50, 57, [10, 20, 30, 'S'], True, 'NLP', 'PAWAR']"
      ]
     },
     "execution_count": 95,
     "metadata": {},
     "output_type": "execute_result"
    }
   ],
   "source": [
    "l"
   ]
  },
  {
   "cell_type": "code",
   "execution_count": 96,
   "id": "042b91ab",
   "metadata": {},
   "outputs": [],
   "source": [
    "# extend always expects iterable object\n",
    "#l.extend(30)\n",
    "l.extend('VIP')"
   ]
  },
  {
   "cell_type": "code",
   "execution_count": 97,
   "id": "49fc4290",
   "metadata": {},
   "outputs": [
    {
     "data": {
      "text/plain": [
       "['Vishal', 98, 50, 57, [10, 20, 30, 'S'], True, 'NLP', 'PAWAR', 'V', 'I', 'P']"
      ]
     },
     "execution_count": 97,
     "metadata": {},
     "output_type": "execute_result"
    }
   ],
   "source": [
    "l"
   ]
  },
  {
   "cell_type": "code",
   "execution_count": 98,
   "id": "7d9557f0",
   "metadata": {},
   "outputs": [],
   "source": [
    "# entire list can be extended as list is iterable\n",
    "l.extend([1,2,3])"
   ]
  },
  {
   "cell_type": "code",
   "execution_count": 99,
   "id": "2524cddd",
   "metadata": {},
   "outputs": [
    {
     "data": {
      "text/plain": [
       "['Vishal',\n",
       " 98,\n",
       " 50,\n",
       " 57,\n",
       " [10, 20, 30, 'S'],\n",
       " True,\n",
       " 'NLP',\n",
       " 'PAWAR',\n",
       " 'V',\n",
       " 'I',\n",
       " 'P',\n",
       " 1,\n",
       " 2,\n",
       " 3]"
      ]
     },
     "execution_count": 99,
     "metadata": {},
     "output_type": "execute_result"
    }
   ],
   "source": [
    "l"
   ]
  },
  {
   "cell_type": "code",
   "execution_count": 101,
   "id": "161eac66",
   "metadata": {},
   "outputs": [
    {
     "data": {
      "text/plain": [
       "[36, 48, 50, 58, 98]"
      ]
     },
     "execution_count": 101,
     "metadata": {},
     "output_type": "execute_result"
    }
   ],
   "source": [
    "# List of only numbers (either float or integers) only can be sorted\n",
    "l = [98,50,58,48,36]\n",
    "l.sort()\n",
    "l"
   ]
  },
  {
   "cell_type": "markdown",
   "id": "4acda610",
   "metadata": {},
   "source": [
    "#### Concatination of lists"
   ]
  },
  {
   "cell_type": "code",
   "execution_count": 1,
   "id": "8c06e907",
   "metadata": {},
   "outputs": [
    {
     "data": {
      "text/plain": [
       "['Iron Man', 'Thor', 'Ant-Man', 'Hulk', 'Wasp', 'Captain America', 'Hawkeye']"
      ]
     },
     "execution_count": 1,
     "metadata": {},
     "output_type": "execute_result"
    }
   ],
   "source": [
    "founders=[\"Iron Man\", \"Thor\", \"Ant-Man\", \"Hulk\", \"Wasp\"]\n",
    "recruits=[\"Captain America\", \"Hawkeye\"]\n",
    "founders + recruits\n"
   ]
  },
  {
   "cell_type": "markdown",
   "id": "48af7073",
   "metadata": {},
   "source": [
    "#### Repetition"
   ]
  },
  {
   "cell_type": "code",
   "execution_count": 2,
   "id": "b20cb4db",
   "metadata": {},
   "outputs": [
    {
     "data": {
      "text/plain": [
       "['A', 'G', 'T', 'C', 'A', 'G', 'T', 'C', 'A', 'G', 'T', 'C']"
      ]
     },
     "execution_count": 2,
     "metadata": {},
     "output_type": "execute_result"
    }
   ],
   "source": [
    "dna=[\"A\", \"G\",\"T\",\"C\"]\n",
    "dna * 3\n"
   ]
  },
  {
   "cell_type": "markdown",
   "id": "81503891",
   "metadata": {},
   "source": [
    "#### In membership // Not in membership"
   ]
  },
  {
   "cell_type": "code",
   "execution_count": 3,
   "id": "cd79e544",
   "metadata": {},
   "outputs": [
    {
     "data": {
      "text/plain": [
       "True"
      ]
     },
     "execution_count": 3,
     "metadata": {},
     "output_type": "execute_result"
    }
   ],
   "source": [
    "avengers=[\"Iron Man\", \"Thor\", \"Ant-Man\", \"Hulk\", \"Wasp\", \"Captain America\", \"Hawkeye\"]\n",
    ">>> \"Wasp\" in avengers"
   ]
  },
  {
   "cell_type": "code",
   "execution_count": 4,
   "id": "8ed68b45",
   "metadata": {},
   "outputs": [
    {
     "data": {
      "text/plain": [
       "False"
      ]
     },
     "execution_count": 4,
     "metadata": {},
     "output_type": "execute_result"
    }
   ],
   "source": [
    "\"Black Widow\" in avengers\n"
   ]
  },
  {
   "cell_type": "code",
   "execution_count": 5,
   "id": "9c6832dd",
   "metadata": {},
   "outputs": [
    {
     "data": {
      "text/plain": [
       "False"
      ]
     },
     "execution_count": 5,
     "metadata": {},
     "output_type": "execute_result"
    }
   ],
   "source": [
    "\"Wasp\" not in avengers"
   ]
  },
  {
   "cell_type": "code",
   "execution_count": 6,
   "id": "51aa8cef",
   "metadata": {},
   "outputs": [
    {
     "data": {
      "text/plain": [
       "True"
      ]
     },
     "execution_count": 6,
     "metadata": {},
     "output_type": "execute_result"
    }
   ],
   "source": [
    "\"Black Widow\" not in avengers"
   ]
  },
  {
   "cell_type": "code",
   "execution_count": 7,
   "id": "eb535866",
   "metadata": {},
   "outputs": [
    {
     "data": {
      "text/plain": [
       "[1, 2, 4]"
      ]
     },
     "execution_count": 7,
     "metadata": {},
     "output_type": "execute_result"
    }
   ],
   "source": [
    "[1,2]+[4]"
   ]
  },
  {
   "cell_type": "code",
   "execution_count": 8,
   "id": "b84db905",
   "metadata": {},
   "outputs": [
    {
     "data": {
      "text/plain": [
       "[1, 2, 1, 2, 1, 2, 1, 2]"
      ]
     },
     "execution_count": 8,
     "metadata": {},
     "output_type": "execute_result"
    }
   ],
   "source": [
    "[1,2]*4"
   ]
  },
  {
   "cell_type": "code",
   "execution_count": 9,
   "id": "db407947",
   "metadata": {},
   "outputs": [
    {
     "data": {
      "text/plain": [
       "(1, 2, 1, 2, 1, 2, 1, 2)"
      ]
     },
     "execution_count": 9,
     "metadata": {},
     "output_type": "execute_result"
    }
   ],
   "source": [
    "(1,2)*4"
   ]
  },
  {
   "cell_type": "code",
   "execution_count": 10,
   "id": "556963e9",
   "metadata": {},
   "outputs": [],
   "source": [
    "l1 = ['Python','Java','C++']"
   ]
  },
  {
   "cell_type": "code",
   "execution_count": 13,
   "id": "9fe862ff",
   "metadata": {},
   "outputs": [
    {
     "data": {
      "text/plain": [
       "['Python', 'Java', 'C++', 'SQL', 'SQL']"
      ]
     },
     "execution_count": 13,
     "metadata": {},
     "output_type": "execute_result"
    }
   ],
   "source": [
    "l1.insert(len(l1),'SQL')\n",
    "l1"
   ]
  }
 ],
 "metadata": {
  "kernelspec": {
   "display_name": "Python 3 (ipykernel)",
   "language": "python",
   "name": "python3"
  },
  "language_info": {
   "codemirror_mode": {
    "name": "ipython",
    "version": 3
   },
   "file_extension": ".py",
   "mimetype": "text/x-python",
   "name": "python",
   "nbconvert_exporter": "python",
   "pygments_lexer": "ipython3",
   "version": "3.9.7"
  }
 },
 "nbformat": 4,
 "nbformat_minor": 5
}
