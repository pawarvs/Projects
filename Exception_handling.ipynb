{
 "cells": [
  {
   "cell_type": "markdown",
   "id": "55f3754c",
   "metadata": {},
   "source": [
    "### Exception Handling "
   ]
  },
  {
   "cell_type": "code",
   "execution_count": 2,
   "id": "f755235c",
   "metadata": {},
   "outputs": [
    {
     "name": "stdout",
     "output_type": "stream",
     "text": [
      "Enter first number : 10\n",
      "Enter second number : 0\n",
      "b must be other than 0\n"
     ]
    }
   ],
   "source": [
    "a = int(input(\"Enter first number : \"))\n",
    "b = int(input(\"Enter second number : \"))\n",
    "try :\n",
    "    c = a/b\n",
    "    print(\"division = \",int(c))\n",
    "except :\n",
    "    print('b must be other than 0')"
   ]
  },
  {
   "cell_type": "code",
   "execution_count": 3,
   "id": "ba804de8",
   "metadata": {},
   "outputs": [
    {
     "name": "stdout",
     "output_type": "stream",
     "text": [
      " Enter first number : 2\n",
      " Enter second number : 0\n"
     ]
    },
    {
     "ename": "ZeroDivisionError",
     "evalue": "division by zero",
     "output_type": "error",
     "traceback": [
      "\u001b[1;31m---------------------------------------------------------------------------\u001b[0m",
      "\u001b[1;31mZeroDivisionError\u001b[0m                         Traceback (most recent call last)",
      "\u001b[1;32m~\\AppData\\Local\\Temp/ipykernel_28472/1198890215.py\u001b[0m in \u001b[0;36m<module>\u001b[1;34m\u001b[0m\n\u001b[0;32m      1\u001b[0m \u001b[0ma\u001b[0m \u001b[1;33m=\u001b[0m \u001b[0mint\u001b[0m\u001b[1;33m(\u001b[0m\u001b[0minput\u001b[0m\u001b[1;33m(\u001b[0m\u001b[1;34m\" Enter first number : \"\u001b[0m\u001b[1;33m)\u001b[0m\u001b[1;33m)\u001b[0m\u001b[1;33m\u001b[0m\u001b[1;33m\u001b[0m\u001b[0m\n\u001b[0;32m      2\u001b[0m \u001b[0mb\u001b[0m \u001b[1;33m=\u001b[0m \u001b[0mint\u001b[0m\u001b[1;33m(\u001b[0m\u001b[0minput\u001b[0m\u001b[1;33m(\u001b[0m\u001b[1;34m\" Enter second number : \"\u001b[0m\u001b[1;33m)\u001b[0m\u001b[1;33m)\u001b[0m\u001b[1;33m\u001b[0m\u001b[1;33m\u001b[0m\u001b[0m\n\u001b[1;32m----> 3\u001b[1;33m \u001b[0mc\u001b[0m \u001b[1;33m=\u001b[0m \u001b[0ma\u001b[0m\u001b[1;33m/\u001b[0m\u001b[0mb\u001b[0m\u001b[1;33m\u001b[0m\u001b[1;33m\u001b[0m\u001b[0m\n\u001b[0m\u001b[0;32m      4\u001b[0m \u001b[0mprint\u001b[0m\u001b[1;33m(\u001b[0m\u001b[0mc\u001b[0m\u001b[1;33m)\u001b[0m\u001b[1;33m\u001b[0m\u001b[1;33m\u001b[0m\u001b[0m\n",
      "\u001b[1;31mZeroDivisionError\u001b[0m: division by zero"
     ]
    }
   ],
   "source": [
    "a = int(input(\" Enter first number : \"))\n",
    "b = int(input(\" Enter second number : \"))\n",
    "c = a/b\n",
    "print(c)"
   ]
  },
  {
   "cell_type": "code",
   "execution_count": 5,
   "id": "5e61bc65",
   "metadata": {},
   "outputs": [
    {
     "ename": "SyntaxError",
     "evalue": "unexpected EOF while parsing (Temp/ipykernel_28472/1267019663.py, line 4)",
     "output_type": "error",
     "traceback": [
      "\u001b[1;36m  File \u001b[1;32m\"C:\\Users\\svish\\AppData\\Local\\Temp/ipykernel_28472/1267019663.py\"\u001b[1;36m, line \u001b[1;32m4\u001b[0m\n\u001b[1;33m    c = a/b\u001b[0m\n\u001b[1;37m           ^\u001b[0m\n\u001b[1;31mSyntaxError\u001b[0m\u001b[1;31m:\u001b[0m unexpected EOF while parsing\n"
     ]
    }
   ],
   "source": [
    "a = int(input(\" Enter first number : \"))\n",
    "b = int(input(\" Enter second number : \"))\n",
    "try :\n",
    "    c = a/b"
   ]
  },
  {
   "cell_type": "code",
   "execution_count": 7,
   "id": "e9e6398c",
   "metadata": {},
   "outputs": [
    {
     "name": "stdout",
     "output_type": "stream",
     "text": [
      " Enter first number : 10\n",
      " Enter second number : 0\n",
      "Show my error\n"
     ]
    }
   ],
   "source": [
    "a = int(input(\" Enter first number : \"))\n",
    "b = int(input(\" Enter second number : \"))\n",
    "try :\n",
    "    c = a/b\n",
    "except:\n",
    "    print(\"Show my error\")"
   ]
  },
  {
   "cell_type": "code",
   "execution_count": 8,
   "id": "d9fece8d",
   "metadata": {},
   "outputs": [
    {
     "ename": "ZeroDivisionError",
     "evalue": "division by zero",
     "output_type": "error",
     "traceback": [
      "\u001b[1;31m---------------------------------------------------------------------------\u001b[0m",
      "\u001b[1;31mZeroDivisionError\u001b[0m                         Traceback (most recent call last)",
      "\u001b[1;32m~\\AppData\\Local\\Temp/ipykernel_28472/358941512.py\u001b[0m in \u001b[0;36m<module>\u001b[1;34m\u001b[0m\n\u001b[0;32m      1\u001b[0m \u001b[0ma\u001b[0m\u001b[1;33m=\u001b[0m\u001b[1;36m10\u001b[0m\u001b[1;33m\u001b[0m\u001b[1;33m\u001b[0m\u001b[0m\n\u001b[1;32m----> 2\u001b[1;33m \u001b[0ma\u001b[0m\u001b[1;33m/\u001b[0m\u001b[1;36m0\u001b[0m\u001b[1;33m\u001b[0m\u001b[1;33m\u001b[0m\u001b[0m\n\u001b[0m",
      "\u001b[1;31mZeroDivisionError\u001b[0m: division by zero"
     ]
    }
   ],
   "source": [
    "a=10\n",
    "a/0"
   ]
  },
  {
   "cell_type": "code",
   "execution_count": 6,
   "id": "b04f114a",
   "metadata": {},
   "outputs": [
    {
     "ename": "FileNotFoundError",
     "evalue": "[Errno 2] No such file or directory: 'vish.txt'",
     "output_type": "error",
     "traceback": [
      "\u001b[1;31m---------------------------------------------------------------------------\u001b[0m",
      "\u001b[1;31mFileNotFoundError\u001b[0m                         Traceback (most recent call last)",
      "\u001b[1;32m~\\AppData\\Local\\Temp/ipykernel_26220/2317791208.py\u001b[0m in \u001b[0;36m<module>\u001b[1;34m\u001b[0m\n\u001b[1;32m----> 1\u001b[1;33m \u001b[0mf\u001b[0m \u001b[1;33m=\u001b[0m \u001b[0mopen\u001b[0m\u001b[1;33m(\u001b[0m\u001b[1;34m\"vish.txt\"\u001b[0m\u001b[1;33m,\u001b[0m\u001b[1;34m'r'\u001b[0m\u001b[1;33m)\u001b[0m\u001b[1;33m\u001b[0m\u001b[1;33m\u001b[0m\u001b[0m\n\u001b[0m\u001b[0;32m      2\u001b[0m \u001b[0mprint\u001b[0m\u001b[1;33m(\u001b[0m\u001b[1;34m\"This is the code to handle an exception\"\u001b[0m\u001b[1;33m)\u001b[0m\u001b[1;33m\u001b[0m\u001b[1;33m\u001b[0m\u001b[0m\n",
      "\u001b[1;31mFileNotFoundError\u001b[0m: [Errno 2] No such file or directory: 'vish.txt'"
     ]
    }
   ],
   "source": [
    "f = open(\"vish.txt\",'r')\n",
    "print(\"This is the code to handle an exception\")"
   ]
  },
  {
   "cell_type": "code",
   "execution_count": 10,
   "id": "46228ed7",
   "metadata": {},
   "outputs": [
    {
     "name": "stdout",
     "output_type": "stream",
     "text": [
      "division by zero\n",
      "Should replace zero to get the output\n"
     ]
    }
   ],
   "source": [
    "try :\n",
    "    a = 10\n",
    "    #a/10\n",
    "    a/0\n",
    "except Exception as e :\n",
    "    print(e)\n",
    "    print(\"Should replace zero to get the output.\")"
   ]
  },
  {
   "cell_type": "code",
   "execution_count": 12,
   "id": "bf073ea2",
   "metadata": {},
   "outputs": [
    {
     "name": "stdout",
     "output_type": "stream",
     "text": [
      "1.0\n"
     ]
    }
   ],
   "source": [
    "try :\n",
    "    a = 10\n",
    "    a/10\n",
    "    print(a/10)\n",
    "    \n",
    "      \n",
    "    #a/0\n",
    "except Exception as e :\n",
    "    print(e)\n",
    "    print(\"Should replace zero to get the output.\")"
   ]
  },
  {
   "cell_type": "code",
   "execution_count": 13,
   "id": "a5e18ffd",
   "metadata": {},
   "outputs": [
    {
     "name": "stdout",
     "output_type": "stream",
     "text": [
      "[Errno 2] No such file or directory: 'vish.txt'\n"
     ]
    }
   ],
   "source": [
    "try :\n",
    "    f = open(\"vish.txt\",'r')\n",
    "except Exception as e :\n",
    "    print(e)"
   ]
  },
  {
   "cell_type": "code",
   "execution_count": 14,
   "id": "c46ed8dd",
   "metadata": {},
   "outputs": [
    {
     "ename": "FileNotFoundError",
     "evalue": "[Errno 2] No such file or directory: 'vish.txt'",
     "output_type": "error",
     "traceback": [
      "\u001b[1;31m---------------------------------------------------------------------------\u001b[0m",
      "\u001b[1;31mFileNotFoundError\u001b[0m                         Traceback (most recent call last)",
      "\u001b[1;32m~\\AppData\\Local\\Temp/ipykernel_26220/2210731479.py\u001b[0m in \u001b[0;36m<module>\u001b[1;34m\u001b[0m\n\u001b[1;32m----> 1\u001b[1;33m \u001b[0mf\u001b[0m \u001b[1;33m=\u001b[0m \u001b[0mopen\u001b[0m\u001b[1;33m(\u001b[0m\u001b[1;34m\"vish.txt\"\u001b[0m\u001b[1;33m,\u001b[0m\u001b[1;34m\"r\"\u001b[0m\u001b[1;33m)\u001b[0m\u001b[1;33m\u001b[0m\u001b[1;33m\u001b[0m\u001b[0m\n\u001b[0m\u001b[0;32m      2\u001b[0m \u001b[0mf\u001b[0m\u001b[1;33m.\u001b[0m\u001b[0mwrite\u001b[0m\u001b[1;33m(\u001b[0m\u001b[1;34m\"The suspicuous code\"\u001b[0m\u001b[1;33m)\u001b[0m\u001b[1;33m\u001b[0m\u001b[1;33m\u001b[0m\u001b[0m\n",
      "\u001b[1;31mFileNotFoundError\u001b[0m: [Errno 2] No such file or directory: 'vish.txt'"
     ]
    }
   ],
   "source": [
    "f = open(\"vish.txt\",\"r\") \n",
    "f.write(\"The suspicuous code\")"
   ]
  },
  {
   "cell_type": "code",
   "execution_count": 1,
   "id": "65c87e51",
   "metadata": {},
   "outputs": [],
   "source": [
    "try :\n",
    "    f = open(\"vish.txt\",\"r\") \n",
    "    f.write(\"The suspicuous code\")\n",
    "except :\n",
    "    pass"
   ]
  },
  {
   "cell_type": "code",
   "execution_count": 9,
   "id": "fc5c45be",
   "metadata": {},
   "outputs": [
    {
     "ename": "SyntaxError",
     "evalue": "invalid syntax (Temp/ipykernel_28472/2864915207.py, line 3)",
     "output_type": "error",
     "traceback": [
      "\u001b[1;36m  File \u001b[1;32m\"C:\\Users\\svish\\AppData\\Local\\Temp/ipykernel_28472/2864915207.py\"\u001b[1;36m, line \u001b[1;32m3\u001b[0m\n\u001b[1;33m    f.write(\"The suspicuous code\")\u001b[0m\n\u001b[1;37m    ^\u001b[0m\n\u001b[1;31mSyntaxError\u001b[0m\u001b[1;31m:\u001b[0m invalid syntax\n"
     ]
    }
   ],
   "source": [
    "# compile time error \n",
    "try :\n",
    "    f = open(\"vish.txt\",\"r\"\n",
    "    f.write(\"The suspicuous code\")\n",
    "except :\n",
    "    pass"
   ]
  },
  {
   "cell_type": "markdown",
   "id": "6815f8ff",
   "metadata": {},
   "source": [
    "#### In exception handling, try and except are able to handle runtime error. It is unable to handle compile time error."
   ]
  },
  {
   "cell_type": "code",
   "execution_count": 10,
   "id": "4a48469c",
   "metadata": {},
   "outputs": [
    {
     "name": "stdout",
     "output_type": "stream",
     "text": [
      "[Errno 2] No such file or directory: 'vish.txt'\n",
      "\n",
      " This is not my set of code\n"
     ]
    }
   ],
   "source": [
    "try :\n",
    "    f = open(\"vish.txt\",\"r\") \n",
    "    f.write(\"The suspicuous code\")\n",
    "except Exception as e :\n",
    "    print(e)\n",
    "    print(\"\\n This is not my set of code\")"
   ]
  },
  {
   "cell_type": "code",
   "execution_count": 11,
   "id": "e478009c",
   "metadata": {},
   "outputs": [
    {
     "name": "stdout",
     "output_type": "stream",
     "text": [
      "Code issue\n"
     ]
    }
   ],
   "source": [
    "try :\n",
    "    f = open(\"vish.txt\",\"r\") \n",
    "    f.write(\"The suspicuous code\")\n",
    "except IOError:\n",
    "    print(\"Code issue\")"
   ]
  },
  {
   "cell_type": "code",
   "execution_count": 12,
   "id": "2b5236db",
   "metadata": {},
   "outputs": [
    {
     "ename": "ZeroDivisionError",
     "evalue": "division by zero",
     "output_type": "error",
     "traceback": [
      "\u001b[1;31m---------------------------------------------------------------------------\u001b[0m",
      "\u001b[1;31mZeroDivisionError\u001b[0m                         Traceback (most recent call last)",
      "\u001b[1;32m~\\AppData\\Local\\Temp/ipykernel_28472/3712958741.py\u001b[0m in \u001b[0;36m<module>\u001b[1;34m\u001b[0m\n\u001b[0;32m      1\u001b[0m \u001b[1;32mtry\u001b[0m \u001b[1;33m:\u001b[0m\u001b[1;33m\u001b[0m\u001b[1;33m\u001b[0m\u001b[0m\n\u001b[1;32m----> 2\u001b[1;33m     \u001b[0ma\u001b[0m \u001b[1;33m=\u001b[0m \u001b[1;36m5\u001b[0m\u001b[1;33m/\u001b[0m\u001b[1;36m0\u001b[0m\u001b[1;33m\u001b[0m\u001b[1;33m\u001b[0m\u001b[0m\n\u001b[0m\u001b[0;32m      3\u001b[0m \u001b[1;32mexcept\u001b[0m \u001b[0mIOError\u001b[0m\u001b[1;33m:\u001b[0m\u001b[1;33m\u001b[0m\u001b[1;33m\u001b[0m\u001b[0m\n\u001b[0;32m      4\u001b[0m     \u001b[0mprint\u001b[0m\u001b[1;33m(\u001b[0m\u001b[1;34m\"Code error!\"\u001b[0m\u001b[1;33m)\u001b[0m\u001b[1;33m\u001b[0m\u001b[1;33m\u001b[0m\u001b[0m\n",
      "\u001b[1;31mZeroDivisionError\u001b[0m: division by zero"
     ]
    }
   ],
   "source": [
    "try :\n",
    "    a = 5/0\n",
    "except IOError:\n",
    "    print(\"Code error!\")"
   ]
  },
  {
   "cell_type": "code",
   "execution_count": 13,
   "id": "b8f26018",
   "metadata": {},
   "outputs": [
    {
     "name": "stdout",
     "output_type": "stream",
     "text": [
      "Please check your code again!,code error.\n"
     ]
    }
   ],
   "source": [
    "try :\n",
    "    a = 5/0\n",
    "except ArithmeticError:\n",
    "    print(\"Please check your code again!,code error.\")"
   ]
  },
  {
   "cell_type": "code",
   "execution_count": 14,
   "id": "66aa27c8",
   "metadata": {},
   "outputs": [
    {
     "name": "stdout",
     "output_type": "stream",
     "text": [
      "Please check your code again!,code error. \n",
      " division by zero\n"
     ]
    }
   ],
   "source": [
    "try :\n",
    "    a = 5/0\n",
    "except ArithmeticError as e:\n",
    "    print(\"Please check your code again!,code error. \\n\",e)"
   ]
  },
  {
   "cell_type": "code",
   "execution_count": null,
   "id": "ccf0f2e1",
   "metadata": {},
   "outputs": [],
   "source": [
    "try :\n",
    "    a = 5/0\n",
    "except ArithmeticError as e:\n",
    "    print(\"Please check your code again!,code error. \\n\",e)"
   ]
  },
  {
   "cell_type": "code",
   "execution_count": 18,
   "id": "542c637a",
   "metadata": {},
   "outputs": [
    {
     "name": "stdout",
     "output_type": "stream",
     "text": [
      "Executed successfully : division =  1.25\n"
     ]
    }
   ],
   "source": [
    "try :\n",
    "    a = 5/4\n",
    "except ArithmeticError as e:\n",
    "    print(\"Please check your code again!,code error. \\n\",e)\n",
    "    \n",
    "else : \n",
    "    print(\"Executed successfully : division = \", a)"
   ]
  },
  {
   "cell_type": "code",
   "execution_count": 19,
   "id": "47009989",
   "metadata": {},
   "outputs": [
    {
     "name": "stdout",
     "output_type": "stream",
     "text": [
      "Executed successfully : division =  1.25\n",
      "Issue with the internal try block,please check\n"
     ]
    }
   ],
   "source": [
    "try :\n",
    "    a = 5/4\n",
    "except ArithmeticError as e:\n",
    "    print(\"Please check your code again!,code error. \\n\",e)\n",
    "    \n",
    "else : \n",
    "    print(\"Executed successfully : division = \", a)\n",
    "    \n",
    "    try : \n",
    "        f = open(\"text.txt\",'r')\n",
    "        \n",
    "    except :\n",
    "        print(\"Issue with the internal try block,please check\")"
   ]
  },
  {
   "cell_type": "code",
   "execution_count": 23,
   "id": "b3ef3ce3",
   "metadata": {},
   "outputs": [
    {
     "name": "stdout",
     "output_type": "stream",
     "text": [
      "Enter 1st no : 1\n",
      "Enter 2nd no : 2\n",
      "Executed successfully : division =  0.5\n",
      "Issue with the internal try block,please check\n"
     ]
    }
   ],
   "source": [
    "try :\n",
    "    a = int(input('Enter 1st no : '))\n",
    "    b = int(input('Enter 2nd no : '))\n",
    "    c = a/b\n",
    "except ArithmeticError as e:\n",
    "    print(\"Please check your code again!,code error. \\n\",e)\n",
    "    \n",
    "else : \n",
    "    print(\"Executed successfully : division = \", c)\n",
    "    \n",
    "    try : \n",
    "        f = open(\"text.txt\",'r')\n",
    "        \n",
    "    except :\n",
    "        print(\"Issue with the internal try block,please check\")"
   ]
  },
  {
   "cell_type": "code",
   "execution_count": 24,
   "id": "a67043aa",
   "metadata": {},
   "outputs": [
    {
     "name": "stdout",
     "output_type": "stream",
     "text": [
      "Enter 1st no : 1\n",
      "Enter 2nd no : 0\n",
      "Please check your code again!,code error. \n",
      " division by zero\n"
     ]
    }
   ],
   "source": [
    "try :\n",
    "    a = int(input('Enter 1st no : '))\n",
    "    b = int(input('Enter 2nd no : '))\n",
    "    c = a/b\n",
    "except ArithmeticError as e:\n",
    "    print(\"Please check your code again!,code error. \\n\",e)\n",
    "    \n",
    "else : \n",
    "    print(\"Executed successfully : division = \", c)\n",
    "    \n",
    "    try : \n",
    "        f = open(\"text.txt\",'r')\n",
    "        \n",
    "    except :\n",
    "        print(\"Issue with the internal try block,please check\")"
   ]
  },
  {
   "cell_type": "code",
   "execution_count": 17,
   "id": "e8428a95",
   "metadata": {},
   "outputs": [
    {
     "name": "stdout",
     "output_type": "stream",
     "text": [
      "[Errno 2] No such file or directory: 'vish.txt'\n",
      "This is not my set of code\n",
      "This will be executed anytime\n"
     ]
    }
   ],
   "source": [
    "try :\n",
    "    f = open(\"vish.txt\",\"r\") \n",
    "    f.write(\"The suspicuous code\")\n",
    "except Exception as e :\n",
    "    print(e)\n",
    "    print(\"This is not my set of code\")\n",
    "finally :\n",
    "    print(\"This will be executed anytime\")"
   ]
  },
  {
   "cell_type": "code",
   "execution_count": 19,
   "id": "1e37e68c",
   "metadata": {},
   "outputs": [],
   "source": [
    "def askint() :\n",
    "    try : \n",
    "        val = int(input(\"Enter an integer value = \"))\n",
    "    except Exception as e:\n",
    "        print(e)\n",
    "        print(\"Wrong value has been entered\")\n",
    "        try :\n",
    "            val = int(input(\"Enter an integer value = \"))\n",
    "        except :\n",
    "            print(\"We have handled mistake 2nd time\")\n",
    "    finally :\n",
    "        print('Finally will be executed anyhow')"
   ]
  },
  {
   "cell_type": "code",
   "execution_count": 20,
   "id": "cb8b3794",
   "metadata": {},
   "outputs": [
    {
     "name": "stdout",
     "output_type": "stream",
     "text": [
      "Enter an integer value = abc\n",
      "invalid literal for int() with base 10: 'abc'\n",
      "Wrong value has been entered\n",
      "Enter an integer value = 10\n",
      "Finallt will be executed anyhow\n"
     ]
    }
   ],
   "source": [
    "askint()"
   ]
  },
  {
   "cell_type": "code",
   "execution_count": 29,
   "id": "9a5438ff",
   "metadata": {},
   "outputs": [],
   "source": [
    "def askint1() :\n",
    "    while True :\n",
    "        try :\n",
    "            val = int(input(\"Enter integer = \"))\n",
    "            print('Got an integer number')\n",
    "            break\n",
    "            \n",
    "        except :\n",
    "            print(\"Looks like you have not entered an integer\")\n",
    "            continue "
   ]
  },
  {
   "cell_type": "code",
   "execution_count": 30,
   "id": "9e68bf96",
   "metadata": {},
   "outputs": [
    {
     "name": "stdout",
     "output_type": "stream",
     "text": [
      "Enter integer = 2\n",
      "Got an integer number\n"
     ]
    }
   ],
   "source": [
    "askint1()"
   ]
  },
  {
   "cell_type": "code",
   "execution_count": null,
   "id": "abaa4480",
   "metadata": {},
   "outputs": [],
   "source": [
    " while True :\n",
    "        try :\n",
    "            val = int(input(\"Enter integer = \"))\n",
    "            break\n",
    "        except :\n",
    "            print(\"Looks like you have not entered an integer\")\n",
    "            continue "
   ]
  },
  {
   "cell_type": "code",
   "execution_count": 27,
   "id": "a8f9be49",
   "metadata": {},
   "outputs": [
    {
     "ename": "IndexError",
     "evalue": "list index out of range",
     "output_type": "error",
     "traceback": [
      "\u001b[1;31m---------------------------------------------------------------------------\u001b[0m",
      "\u001b[1;31mIndexError\u001b[0m                                Traceback (most recent call last)",
      "\u001b[1;32m~\\AppData\\Local\\Temp/ipykernel_28472/2583462738.py\u001b[0m in \u001b[0;36m<module>\u001b[1;34m\u001b[0m\n\u001b[0;32m      1\u001b[0m \u001b[0ml\u001b[0m \u001b[1;33m=\u001b[0m \u001b[1;33m[\u001b[0m\u001b[1;36m1\u001b[0m\u001b[1;33m,\u001b[0m\u001b[1;36m2\u001b[0m\u001b[1;33m,\u001b[0m\u001b[1;36m3\u001b[0m\u001b[1;33m,\u001b[0m\u001b[1;36m4\u001b[0m\u001b[1;33m,\u001b[0m\u001b[1;36m5\u001b[0m\u001b[1;33m,\u001b[0m\u001b[1;36m6\u001b[0m\u001b[1;33m,\u001b[0m\u001b[1;36m7\u001b[0m\u001b[1;33m,\u001b[0m\u001b[1;36m8\u001b[0m\u001b[1;33m,\u001b[0m\u001b[1;36m9\u001b[0m\u001b[1;33m]\u001b[0m\u001b[1;33m\u001b[0m\u001b[1;33m\u001b[0m\u001b[0m\n\u001b[1;32m----> 2\u001b[1;33m \u001b[0ml\u001b[0m\u001b[1;33m[\u001b[0m\u001b[1;36m100\u001b[0m\u001b[1;33m]\u001b[0m\u001b[1;33m\u001b[0m\u001b[1;33m\u001b[0m\u001b[0m\n\u001b[0m\u001b[0;32m      3\u001b[0m \u001b[0mt\u001b[0m \u001b[1;33m=\u001b[0m \u001b[1;33m(\u001b[0m\u001b[1;36m2\u001b[0m\u001b[1;33m,\u001b[0m\u001b[1;36m3\u001b[0m\u001b[1;33m,\u001b[0m\u001b[1;36m5\u001b[0m\u001b[1;33m,\u001b[0m\u001b[1;36m6\u001b[0m\u001b[1;33m,\u001b[0m\u001b[1;36m7\u001b[0m\u001b[1;33m,\u001b[0m\u001b[1;36m8\u001b[0m\u001b[1;33m,\u001b[0m\u001b[1;36m9\u001b[0m\u001b[1;33m)\u001b[0m\u001b[1;33m\u001b[0m\u001b[1;33m\u001b[0m\u001b[0m\n\u001b[0;32m      4\u001b[0m \u001b[0mprint\u001b[0m\u001b[1;33m(\u001b[0m\u001b[0mt\u001b[0m\u001b[1;33m)\u001b[0m\u001b[1;33m\u001b[0m\u001b[1;33m\u001b[0m\u001b[0m\n",
      "\u001b[1;31mIndexError\u001b[0m: list index out of range"
     ]
    }
   ],
   "source": [
    "l = [1,2,3,4,5,6,7,8,9]\n",
    "l[100]\n",
    "t = (2,3,5,6,7,8,9)\n",
    "print(t)\n",
    "t[0] = 'vish'"
   ]
  },
  {
   "cell_type": "code",
   "execution_count": 38,
   "id": "424741bc",
   "metadata": {},
   "outputs": [
    {
     "name": "stdout",
     "output_type": "stream",
     "text": [
      "Error in the code\n",
      "(2, 3, 5, 6, 7, 8, 9)\n",
      "Tupples are immutable\n"
     ]
    }
   ],
   "source": [
    "try : \n",
    "    l = [1,2,3,4,5,6,7,8,9]\n",
    "    l[100] # ..... except block will execute\n",
    "    #l[3]  # ..... try block and else block will execute\n",
    "except :\n",
    "    print(\"Error in the code\")\n",
    "    t = (2,3,5,6,7,8,9)\n",
    "    print(t)\n",
    "    try :\n",
    "        t[0] = 'vish'\n",
    "    except :\n",
    "        print(\"Tupples are immutable\")\n",
    "else :\n",
    "    print(\"executed successfully\")\n",
    "    "
   ]
  },
  {
   "cell_type": "code",
   "execution_count": 2,
   "id": "8f92cbf1",
   "metadata": {},
   "outputs": [
    {
     "name": "stdout",
     "output_type": "stream",
     "text": [
      "Finally will execute in any case\n"
     ]
    },
    {
     "ename": "FileNotFoundError",
     "evalue": "[Errno 2] No such file or directory: 'Text.txt'",
     "output_type": "error",
     "traceback": [
      "\u001b[1;31m---------------------------------------------------------------------------\u001b[0m",
      "\u001b[1;31mFileNotFoundError\u001b[0m                         Traceback (most recent call last)",
      "\u001b[1;32m~\\AppData\\Local\\Temp/ipykernel_16292/1661314700.py\u001b[0m in \u001b[0;36m<module>\u001b[1;34m\u001b[0m\n\u001b[0;32m      1\u001b[0m \u001b[1;32mtry\u001b[0m \u001b[1;33m:\u001b[0m\u001b[1;33m\u001b[0m\u001b[1;33m\u001b[0m\u001b[0m\n\u001b[1;32m----> 2\u001b[1;33m     \u001b[0mf\u001b[0m \u001b[1;33m=\u001b[0m \u001b[0mopen\u001b[0m\u001b[1;33m(\u001b[0m\u001b[1;34m'Text.txt'\u001b[0m\u001b[1;33m,\u001b[0m\u001b[1;34m'r'\u001b[0m\u001b[1;33m)\u001b[0m\u001b[1;33m\u001b[0m\u001b[1;33m\u001b[0m\u001b[0m\n\u001b[0m\u001b[0;32m      3\u001b[0m \u001b[1;33m\u001b[0m\u001b[0m\n\u001b[0;32m      4\u001b[0m \u001b[1;32mfinally\u001b[0m \u001b[1;33m:\u001b[0m\u001b[1;33m\u001b[0m\u001b[1;33m\u001b[0m\u001b[0m\n\u001b[0;32m      5\u001b[0m     \u001b[0mprint\u001b[0m\u001b[1;33m(\u001b[0m\u001b[1;34m\"Finally will execute in any case\"\u001b[0m\u001b[1;33m)\u001b[0m\u001b[1;33m\u001b[0m\u001b[1;33m\u001b[0m\u001b[0m\n",
      "\u001b[1;31mFileNotFoundError\u001b[0m: [Errno 2] No such file or directory: 'Text.txt'"
     ]
    }
   ],
   "source": [
    "try :\n",
    "    f = open('Text.txt','r')\n",
    "finally :\n",
    "    print(\"Finally will execute in any case\")"
   ]
  },
  {
   "cell_type": "markdown",
   "id": "88f7bf42",
   "metadata": {},
   "source": [
    "Finally block will execute in any circumstances,whether there is an issue with the try block, or not handle errors."
   ]
  },
  {
   "cell_type": "code",
   "execution_count": 3,
   "id": "4360296c",
   "metadata": {},
   "outputs": [
    {
     "name": "stdout",
     "output_type": "stream",
     "text": [
      "Finally will execute in any case\n",
      "1\n"
     ]
    },
    {
     "ename": "FileNotFoundError",
     "evalue": "[Errno 2] No such file or directory: 'Text.txt'",
     "output_type": "error",
     "traceback": [
      "\u001b[1;31m---------------------------------------------------------------------------\u001b[0m",
      "\u001b[1;31mFileNotFoundError\u001b[0m                         Traceback (most recent call last)",
      "\u001b[1;32m~\\AppData\\Local\\Temp/ipykernel_16292/2101817789.py\u001b[0m in \u001b[0;36m<module>\u001b[1;34m\u001b[0m\n\u001b[0;32m      1\u001b[0m \u001b[1;32mtry\u001b[0m \u001b[1;33m:\u001b[0m\u001b[1;33m\u001b[0m\u001b[1;33m\u001b[0m\u001b[0m\n\u001b[1;32m----> 2\u001b[1;33m     \u001b[0mf\u001b[0m \u001b[1;33m=\u001b[0m \u001b[0mopen\u001b[0m\u001b[1;33m(\u001b[0m\u001b[1;34m'Text.txt'\u001b[0m\u001b[1;33m,\u001b[0m\u001b[1;34m'r'\u001b[0m\u001b[1;33m)\u001b[0m\u001b[1;33m\u001b[0m\u001b[1;33m\u001b[0m\u001b[0m\n\u001b[0m\u001b[0;32m      3\u001b[0m \u001b[1;32mfinally\u001b[0m \u001b[1;33m:\u001b[0m\u001b[1;33m\u001b[0m\u001b[1;33m\u001b[0m\u001b[0m\n\u001b[0;32m      4\u001b[0m     \u001b[0mprint\u001b[0m\u001b[1;33m(\u001b[0m\u001b[1;34m\"Finally will execute in any case\"\u001b[0m\u001b[1;33m)\u001b[0m\u001b[1;33m\u001b[0m\u001b[1;33m\u001b[0m\u001b[0m\n\u001b[0;32m      5\u001b[0m     \u001b[0ml\u001b[0m \u001b[1;33m=\u001b[0m \u001b[1;33m[\u001b[0m\u001b[1;36m1\u001b[0m\u001b[1;33m,\u001b[0m\u001b[1;36m2\u001b[0m\u001b[1;33m,\u001b[0m\u001b[1;36m3\u001b[0m\u001b[1;33m,\u001b[0m\u001b[1;36m4\u001b[0m\u001b[1;33m,\u001b[0m\u001b[1;36m5\u001b[0m\u001b[1;33m]\u001b[0m\u001b[1;33m\u001b[0m\u001b[1;33m\u001b[0m\u001b[0m\n",
      "\u001b[1;31mFileNotFoundError\u001b[0m: [Errno 2] No such file or directory: 'Text.txt'"
     ]
    }
   ],
   "source": [
    "try :\n",
    "    f = open('Text.txt','r')\n",
    "finally :\n",
    "    print(\"Finally will execute in any case\")\n",
    "    l = [1,2,3,4,5]\n",
    "    print(l[0])"
   ]
  },
  {
   "cell_type": "code",
   "execution_count": 7,
   "id": "29695e76",
   "metadata": {},
   "outputs": [
    {
     "name": "stdout",
     "output_type": "stream",
     "text": [
      "Finally will execute in any case\n",
      "List index out of range \n"
     ]
    }
   ],
   "source": [
    "try :\n",
    "    f = open('Text.txt','r')\n",
    "except :\n",
    "    pass\n",
    "else :\n",
    "    print(\"Else will execute if try will execute successfully\")\n",
    "finally :\n",
    "    print(\"Finally will execute in any case\")\n",
    "    l = [1,2,3,4,5]\n",
    "    try :\n",
    "        print(l[10])\n",
    "    except :\n",
    "        print(\"List index out of range \")\n",
    "\n",
    "    "
   ]
  },
  {
   "cell_type": "code",
   "execution_count": 9,
   "id": "989ad310",
   "metadata": {},
   "outputs": [
    {
     "name": "stdout",
     "output_type": "stream",
     "text": [
      "Else will execute if try will execute successfully \n",
      "\n",
      "Finally will execute in any case \n",
      "\n",
      "List index out of range \n"
     ]
    }
   ],
   "source": [
    "try :\n",
    "    f = open('Text.txt','w+')\n",
    "except :\n",
    "    pass\n",
    "else :\n",
    "    print(\"Else will execute if try will execute successfully \\n\")\n",
    "finally :\n",
    "    print(\"Finally will execute in any case \\n\")\n",
    "    l = [1,2,3,4,5]\n",
    "    try :\n",
    "        print(l[10])\n",
    "    except :\n",
    "        print(\"List index out of range \")"
   ]
  },
  {
   "cell_type": "markdown",
   "id": "3a098c34",
   "metadata": {},
   "source": [
    "### Multiple except statements/custom exceptations"
   ]
  },
  {
   "cell_type": "code",
   "execution_count": 14,
   "id": "6c6b0434",
   "metadata": {},
   "outputs": [
    {
     "name": "stdout",
     "output_type": "stream",
     "text": [
      "The error is :\n",
      "\n",
      " [Errno 2] No such file or directory: 'Test1.txt'\n"
     ]
    }
   ],
   "source": [
    "try  :\n",
    "    f = open(\"Test1.txt\",'r')\n",
    "except IOError as e :\n",
    "    print('The error is :\\n\\n',e)"
   ]
  },
  {
   "cell_type": "code",
   "execution_count": 1,
   "id": "53be3514",
   "metadata": {},
   "outputs": [],
   "source": [
    "def askforint() :\n",
    "    while True :\n",
    "        try :\n",
    "            a = int(input(\"Enter a number : \"))\n",
    "        except Exception as e :                # generalized exception\n",
    "            print(\"The error massage is:\\t\",e)\n",
    "        else :\n",
    "            print(\"Correct type of data has been enter, Awesome!\")\n",
    "            break\n",
    "        finally :\n",
    "            print('Close this issue')"
   ]
  },
  {
   "cell_type": "code",
   "execution_count": 2,
   "id": "f73eb7e5",
   "metadata": {},
   "outputs": [
    {
     "name": "stdout",
     "output_type": "stream",
     "text": [
      "Enter a number : c\n",
      "The error massage is:\t invalid literal for int() with base 10: 'c'\n",
      "Close this issue\n",
      "Enter a number : 3\n",
      "Correct type of data has been enter, Awesome!\n",
      "Close this issue\n"
     ]
    }
   ],
   "source": [
    "askforint()"
   ]
  },
  {
   "cell_type": "code",
   "execution_count": 15,
   "id": "0ea17d3c",
   "metadata": {},
   "outputs": [],
   "source": [
    "def askforint() :\n",
    "    while True :\n",
    "        try :\n",
    "            a = int(input(\"Enter a number : \"))\n",
    "        except FileNotFoundError as e :\n",
    "            print(\"The error massage is:\\t\",e)\n",
    "            continue\n",
    "        except IOError as e :\n",
    "            print(e)\n",
    "        except ValueError as e :\n",
    "            print(e) \n",
    "         \n",
    "        else :\n",
    "            print(\"Correct type of data has been enter, Awesome!\")\n",
    "            break\n",
    "        finally :\n",
    "            print('Close this issue')"
   ]
  },
  {
   "cell_type": "code",
   "execution_count": 16,
   "id": "d181a7bd",
   "metadata": {},
   "outputs": [
    {
     "name": "stdout",
     "output_type": "stream",
     "text": [
      "Enter a number : 0\n",
      "Correct type of data has been enter, Awesome!\n",
      "Close this issue\n"
     ]
    }
   ],
   "source": [
    "askforint()"
   ]
  },
  {
   "cell_type": "code",
   "execution_count": 40,
   "id": "ea7789f9",
   "metadata": {},
   "outputs": [],
   "source": [
    "def askforint() :\n",
    "    while True :\n",
    "        try :\n",
    "            a = int(input(\"\\nEnter a number = \"))\n",
    "            c = 8/a\n",
    "        except FileNotFoundError as e :\n",
    "            print(\"The error massage is : \",e)\n",
    "            continue\n",
    "        except IOError as e :\n",
    "            print(e)\n",
    "        except ValueError as e :\n",
    "            print(e) \n",
    "#         except Exception as e :\n",
    "#             print(\"Parent Exception :\", e)\n",
    "        \n",
    "        except ArithmeticError as e :\n",
    "            print(\"This is a Arithmetic error : \",e)\n",
    "        except ZeroDivisionError as e :\n",
    "            print(e)\n",
    "         \n",
    "        else :\n",
    "            print(\"\\nCorrect type of data has been enter, Awesome!\")\n",
    "            print(\"Division is : = \",c)\n",
    "            break\n",
    "        finally :\n",
    "            print('Close this issue')"
   ]
  },
  {
   "cell_type": "code",
   "execution_count": 42,
   "id": "9112c884",
   "metadata": {},
   "outputs": [
    {
     "name": "stdout",
     "output_type": "stream",
     "text": [
      "\n",
      "Enter a number = faf\n",
      "invalid literal for int() with base 10: 'faf'\n",
      "Close this issue\n",
      "\n",
      "Enter a number = faf\n",
      "invalid literal for int() with base 10: 'faf'\n",
      "Close this issue\n",
      "\n",
      "Enter a number = 0\n",
      "This is a Arithmetic error :  division by zero\n",
      "Close this issue\n",
      "\n",
      "Enter a number = 5\n",
      "\n",
      "Correct type of data has been enter, Awesome!\n",
      "Division is : =  1.6\n",
      "Close this issue\n"
     ]
    }
   ],
   "source": [
    "askforint()"
   ]
  },
  {
   "cell_type": "markdown",
   "id": "e7b6b2c7",
   "metadata": {},
   "source": [
    "### Raise Exception"
   ]
  },
  {
   "cell_type": "code",
   "execution_count": 51,
   "id": "14a872f2",
   "metadata": {},
   "outputs": [],
   "source": [
    "def create_exception(a) :\n",
    "    if a == 6 :\n",
    "        raise Exception(a)\n",
    "    return a\n"
   ]
  },
  {
   "cell_type": "code",
   "execution_count": 52,
   "id": "f04734a4",
   "metadata": {},
   "outputs": [
    {
     "ename": "Exception",
     "evalue": "6",
     "output_type": "error",
     "traceback": [
      "\u001b[1;31m---------------------------------------------------------------------------\u001b[0m",
      "\u001b[1;31mException\u001b[0m                                 Traceback (most recent call last)",
      "\u001b[1;32m~\\AppData\\Local\\Temp/ipykernel_22872/3892290943.py\u001b[0m in \u001b[0;36m<module>\u001b[1;34m\u001b[0m\n\u001b[1;32m----> 1\u001b[1;33m \u001b[0mcreate_exception\u001b[0m\u001b[1;33m(\u001b[0m\u001b[1;36m6\u001b[0m\u001b[1;33m)\u001b[0m\u001b[1;33m\u001b[0m\u001b[1;33m\u001b[0m\u001b[0m\n\u001b[0m",
      "\u001b[1;32m~\\AppData\\Local\\Temp/ipykernel_22872/146648459.py\u001b[0m in \u001b[0;36mcreate_exception\u001b[1;34m(a)\u001b[0m\n\u001b[0;32m      1\u001b[0m \u001b[1;32mdef\u001b[0m \u001b[0mcreate_exception\u001b[0m\u001b[1;33m(\u001b[0m\u001b[0ma\u001b[0m\u001b[1;33m)\u001b[0m \u001b[1;33m:\u001b[0m\u001b[1;33m\u001b[0m\u001b[1;33m\u001b[0m\u001b[0m\n\u001b[0;32m      2\u001b[0m     \u001b[1;32mif\u001b[0m \u001b[0ma\u001b[0m \u001b[1;33m==\u001b[0m \u001b[1;36m6\u001b[0m \u001b[1;33m:\u001b[0m\u001b[1;33m\u001b[0m\u001b[1;33m\u001b[0m\u001b[0m\n\u001b[1;32m----> 3\u001b[1;33m         \u001b[1;32mraise\u001b[0m \u001b[0mException\u001b[0m\u001b[1;33m(\u001b[0m\u001b[0ma\u001b[0m\u001b[1;33m)\u001b[0m\u001b[1;33m\u001b[0m\u001b[1;33m\u001b[0m\u001b[0m\n\u001b[0m\u001b[0;32m      4\u001b[0m     \u001b[1;32mreturn\u001b[0m \u001b[0ma\u001b[0m\u001b[1;33m\u001b[0m\u001b[1;33m\u001b[0m\u001b[0m\n",
      "\u001b[1;31mException\u001b[0m: 6"
     ]
    }
   ],
   "source": [
    "create_exception(6)"
   ]
  },
  {
   "cell_type": "code",
   "execution_count": 53,
   "id": "670d43fa",
   "metadata": {},
   "outputs": [
    {
     "data": {
      "text/plain": [
       "7"
      ]
     },
     "execution_count": 53,
     "metadata": {},
     "output_type": "execute_result"
    }
   ],
   "source": [
    "a = create_exception(7)\n",
    "a"
   ]
  },
  {
   "cell_type": "code",
   "execution_count": 63,
   "id": "b4f866fc",
   "metadata": {},
   "outputs": [],
   "source": [
    "def create_exception(a) :\n",
    "    if a == 6 :\n",
    "        #raise Exception(a)\n",
    "        raise Exception(\"Error is \",a)\n",
    "    else :\n",
    "        a = 5+a\n",
    "    return a\n"
   ]
  },
  {
   "cell_type": "code",
   "execution_count": 64,
   "id": "cf378f2c",
   "metadata": {},
   "outputs": [
    {
     "data": {
      "text/plain": [
       "17"
      ]
     },
     "execution_count": 64,
     "metadata": {},
     "output_type": "execute_result"
    }
   ],
   "source": [
    "create_exception(12)"
   ]
  },
  {
   "cell_type": "code",
   "execution_count": 65,
   "id": "4f0cd63e",
   "metadata": {},
   "outputs": [
    {
     "name": "stdout",
     "output_type": "stream",
     "text": [
      "('Error is ', 6)\n"
     ]
    }
   ],
   "source": [
    "try :\n",
    "    create_exception(6)\n",
    "except Exception as e :\n",
    "    print(e)"
   ]
  },
  {
   "cell_type": "code",
   "execution_count": 71,
   "id": "fc843367",
   "metadata": {},
   "outputs": [],
   "source": [
    "def create_exception1(a) :s\n",
    "    if a > 6 :\n",
    "        #raise Exception(a)\n",
    "        raise Exception(\"Error value is \",a)\n",
    "    else :\n",
    "        a = 5+a\n",
    "    return a\n"
   ]
  },
  {
   "cell_type": "code",
   "execution_count": 72,
   "id": "43707d4a",
   "metadata": {},
   "outputs": [
    {
     "name": "stdout",
     "output_type": "stream",
     "text": [
      "('Error value is ', 9)\n"
     ]
    }
   ],
   "source": [
    "try :\n",
    "    create_exception1(9)\n",
    "except Exception as e :\n",
    "    print(e)"
   ]
  },
  {
   "cell_type": "code",
   "execution_count": null,
   "id": "8589d26f",
   "metadata": {},
   "outputs": [],
   "source": []
  }
 ],
 "metadata": {
  "kernelspec": {
   "display_name": "Python 3 (ipykernel)",
   "language": "python",
   "name": "python3"
  },
  "language_info": {
   "codemirror_mode": {
    "name": "ipython",
    "version": 3
   },
   "file_extension": ".py",
   "mimetype": "text/x-python",
   "name": "python",
   "nbconvert_exporter": "python",
   "pygments_lexer": "ipython3",
   "version": "3.9.7"
  }
 },
 "nbformat": 4,
 "nbformat_minor": 5
}
