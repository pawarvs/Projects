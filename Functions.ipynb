{
 "cells": [
  {
   "cell_type": "markdown",
   "id": "cd18f017",
   "metadata": {},
   "source": [
    "## Functions "
   ]
  },
  {
   "cell_type": "code",
   "execution_count": 1,
   "id": "fdbaeb1a",
   "metadata": {},
   "outputs": [],
   "source": [
    "# Defining a function\n",
    "def test() :\n",
    "    print('First function created.')"
   ]
  },
  {
   "cell_type": "code",
   "execution_count": 2,
   "id": "6600d6cc",
   "metadata": {},
   "outputs": [
    {
     "name": "stdout",
     "output_type": "stream",
     "text": [
      "First function created.\n"
     ]
    }
   ],
   "source": [
    "# calling a function\n",
    "test()"
   ]
  },
  {
   "cell_type": "code",
   "execution_count": 3,
   "id": "9e941956",
   "metadata": {},
   "outputs": [
    {
     "name": "stdout",
     "output_type": "stream",
     "text": [
      "First function created.\n"
     ]
    },
    {
     "ename": "TypeError",
     "evalue": "unsupported operand type(s) for +: 'NoneType' and 'str'",
     "output_type": "error",
     "traceback": [
      "\u001b[1;31m---------------------------------------------------------------------------\u001b[0m",
      "\u001b[1;31mTypeError\u001b[0m                                 Traceback (most recent call last)",
      "\u001b[1;32m~\\AppData\\Local\\Temp/ipykernel_11184/2752020213.py\u001b[0m in \u001b[0;36m<module>\u001b[1;34m\u001b[0m\n\u001b[0;32m      1\u001b[0m \u001b[1;31m#\u001b[0m\u001b[1;33m\u001b[0m\u001b[1;33m\u001b[0m\u001b[0m\n\u001b[1;32m----> 2\u001b[1;33m \u001b[0mtest\u001b[0m\u001b[1;33m(\u001b[0m\u001b[1;33m)\u001b[0m\u001b[1;33m+\u001b[0m\u001b[1;34m\"vish\"\u001b[0m\u001b[1;33m\u001b[0m\u001b[1;33m\u001b[0m\u001b[0m\n\u001b[0m",
      "\u001b[1;31mTypeError\u001b[0m: unsupported operand type(s) for +: 'NoneType' and 'str'"
     ]
    }
   ],
   "source": [
    "# \n",
    "test()+\"vish\""
   ]
  },
  {
   "cell_type": "code",
   "execution_count": 4,
   "id": "d1cb38c8",
   "metadata": {},
   "outputs": [
    {
     "name": "stdout",
     "output_type": "stream",
     "text": [
      "First function created.\n"
     ]
    },
    {
     "data": {
      "text/plain": [
       "NoneType"
      ]
     },
     "execution_count": 4,
     "metadata": {},
     "output_type": "execute_result"
    }
   ],
   "source": [
    "type(test())"
   ]
  },
  {
   "cell_type": "code",
   "execution_count": 5,
   "id": "eadc596b",
   "metadata": {},
   "outputs": [
    {
     "name": "stdout",
     "output_type": "stream",
     "text": [
      "First function created.\n"
     ]
    },
    {
     "data": {
      "text/plain": [
       "'None Vish'"
      ]
     },
     "execution_count": 5,
     "metadata": {},
     "output_type": "execute_result"
    }
   ],
   "source": [
    "# typecasting will also unable to work.\n",
    "str(test())+' Vish'"
   ]
  },
  {
   "cell_type": "code",
   "execution_count": 6,
   "id": "589c2ee9",
   "metadata": {},
   "outputs": [
    {
     "data": {
      "text/plain": [
       "'First function created'"
      ]
     },
     "execution_count": 6,
     "metadata": {},
     "output_type": "execute_result"
    }
   ],
   "source": [
    "def test1() :\n",
    "    return \"First function created\"\n",
    "test1()"
   ]
  },
  {
   "cell_type": "code",
   "execution_count": 7,
   "id": "bc672e7d",
   "metadata": {},
   "outputs": [
    {
     "data": {
      "text/plain": [
       "str"
      ]
     },
     "execution_count": 7,
     "metadata": {},
     "output_type": "execute_result"
    }
   ],
   "source": [
    "type(test1())"
   ]
  },
  {
   "cell_type": "code",
   "execution_count": 8,
   "id": "83ba35cc",
   "metadata": {},
   "outputs": [
    {
     "data": {
      "text/plain": [
       "'First function created By Vishal'"
      ]
     },
     "execution_count": 8,
     "metadata": {},
     "output_type": "execute_result"
    }
   ],
   "source": [
    "test1() + \" By Vishal\""
   ]
  },
  {
   "cell_type": "code",
   "execution_count": 9,
   "id": "829a46ec",
   "metadata": {},
   "outputs": [],
   "source": [
    "# Body of the function is not created then it will throw an error\n",
    "def test2() :\n",
    "    pass \n",
    "# to avoid errors"
   ]
  },
  {
   "cell_type": "code",
   "execution_count": 10,
   "id": "c7cdb1fb",
   "metadata": {},
   "outputs": [],
   "source": [
    "def test3() :\n",
    "    return 1,3,5,[1,23,4,5,6]\n",
    "test3()\n",
    "#a = test3()\n",
    "a,b,c,d = test3()"
   ]
  },
  {
   "cell_type": "code",
   "execution_count": 11,
   "id": "b0e71dab",
   "metadata": {},
   "outputs": [
    {
     "data": {
      "text/plain": [
       "[1, 23, 4, 5, 6]"
      ]
     },
     "execution_count": 11,
     "metadata": {},
     "output_type": "execute_result"
    }
   ],
   "source": [
    "#a\n",
    "#b\n",
    "#c\n",
    "d"
   ]
  },
  {
   "cell_type": "code",
   "execution_count": 12,
   "id": "9266f08a",
   "metadata": {},
   "outputs": [],
   "source": [
    "def test4() :\n",
    "    a = 4*5\n",
    "    b = 6+6\n",
    "    return a, b\n",
    "(mul,add) = test4()"
   ]
  },
  {
   "cell_type": "code",
   "execution_count": 13,
   "id": "1b5409ec",
   "metadata": {},
   "outputs": [
    {
     "data": {
      "text/plain": [
       "20"
      ]
     },
     "execution_count": 13,
     "metadata": {},
     "output_type": "execute_result"
    }
   ],
   "source": [
    "mul"
   ]
  },
  {
   "cell_type": "code",
   "execution_count": 14,
   "id": "6bfc7820",
   "metadata": {},
   "outputs": [
    {
     "data": {
      "text/plain": [
       "12"
      ]
     },
     "execution_count": 14,
     "metadata": {},
     "output_type": "execute_result"
    }
   ],
   "source": [
    "add"
   ]
  },
  {
   "cell_type": "code",
   "execution_count": 15,
   "id": "393fd341",
   "metadata": {},
   "outputs": [],
   "source": [
    "# \"_\" work as a placeholder\n",
    "_,add = test4()"
   ]
  },
  {
   "cell_type": "code",
   "execution_count": 16,
   "id": "3d176fd7",
   "metadata": {},
   "outputs": [
    {
     "data": {
      "text/plain": [
       "20"
      ]
     },
     "execution_count": 16,
     "metadata": {},
     "output_type": "execute_result"
    }
   ],
   "source": [
    "_\n",
    "#add"
   ]
  },
  {
   "cell_type": "code",
   "execution_count": 17,
   "id": "d0383191",
   "metadata": {},
   "outputs": [],
   "source": [
    "_,_,_,l = test3()"
   ]
  },
  {
   "cell_type": "code",
   "execution_count": 18,
   "id": "c2a914eb",
   "metadata": {},
   "outputs": [
    {
     "data": {
      "text/plain": [
       "[1, 23, 4, 5, 6]"
      ]
     },
     "execution_count": 18,
     "metadata": {},
     "output_type": "execute_result"
    }
   ],
   "source": [
    "l"
   ]
  },
  {
   "cell_type": "code",
   "execution_count": 19,
   "id": "fa1ae834",
   "metadata": {},
   "outputs": [
    {
     "name": "stdout",
     "output_type": "stream",
     "text": [
      "1  2  3  4  5  6  7  8  9  10  Else block\n"
     ]
    }
   ],
   "source": [
    "a = 1\n",
    "b = 10\n",
    "while a <= b :\n",
    "    print(a, end = '  ')\n",
    "    a=a+1\n",
    "else :\n",
    "    print(\"Else block\")"
   ]
  },
  {
   "cell_type": "code",
   "execution_count": 20,
   "id": "55e62f6a",
   "metadata": {},
   "outputs": [],
   "source": [
    "def test5() :\n",
    "    \n",
    "    while a <= b :\n",
    "        print(a, end = '  ')\n",
    "        a=a+1\n",
    "    else :\n",
    "        print(\"Else block\")\n"
   ]
  },
  {
   "cell_type": "code",
   "execution_count": 21,
   "id": "5f3d2962",
   "metadata": {},
   "outputs": [
    {
     "ename": "UnboundLocalError",
     "evalue": "local variable 'a' referenced before assignment",
     "output_type": "error",
     "traceback": [
      "\u001b[1;31m---------------------------------------------------------------------------\u001b[0m",
      "\u001b[1;31mUnboundLocalError\u001b[0m                         Traceback (most recent call last)",
      "\u001b[1;32m~\\AppData\\Local\\Temp/ipykernel_11184/379652043.py\u001b[0m in \u001b[0;36m<module>\u001b[1;34m\u001b[0m\n\u001b[1;32m----> 1\u001b[1;33m \u001b[0mtest5\u001b[0m\u001b[1;33m(\u001b[0m\u001b[1;33m)\u001b[0m\u001b[1;33m\u001b[0m\u001b[1;33m\u001b[0m\u001b[0m\n\u001b[0m",
      "\u001b[1;32m~\\AppData\\Local\\Temp/ipykernel_11184/1006075625.py\u001b[0m in \u001b[0;36mtest5\u001b[1;34m()\u001b[0m\n\u001b[0;32m      1\u001b[0m \u001b[1;32mdef\u001b[0m \u001b[0mtest5\u001b[0m\u001b[1;33m(\u001b[0m\u001b[1;33m)\u001b[0m \u001b[1;33m:\u001b[0m\u001b[1;33m\u001b[0m\u001b[1;33m\u001b[0m\u001b[0m\n\u001b[0;32m      2\u001b[0m \u001b[1;33m\u001b[0m\u001b[0m\n\u001b[1;32m----> 3\u001b[1;33m     \u001b[1;32mwhile\u001b[0m \u001b[0ma\u001b[0m \u001b[1;33m<=\u001b[0m \u001b[0mb\u001b[0m \u001b[1;33m:\u001b[0m\u001b[1;33m\u001b[0m\u001b[1;33m\u001b[0m\u001b[0m\n\u001b[0m\u001b[0;32m      4\u001b[0m         \u001b[0mprint\u001b[0m\u001b[1;33m(\u001b[0m\u001b[0ma\u001b[0m\u001b[1;33m,\u001b[0m \u001b[0mend\u001b[0m \u001b[1;33m=\u001b[0m \u001b[1;34m'  '\u001b[0m\u001b[1;33m)\u001b[0m\u001b[1;33m\u001b[0m\u001b[1;33m\u001b[0m\u001b[0m\n\u001b[0;32m      5\u001b[0m         \u001b[0ma\u001b[0m\u001b[1;33m=\u001b[0m\u001b[0ma\u001b[0m\u001b[1;33m+\u001b[0m\u001b[1;36m1\u001b[0m\u001b[1;33m\u001b[0m\u001b[1;33m\u001b[0m\u001b[0m\n",
      "\u001b[1;31mUnboundLocalError\u001b[0m: local variable 'a' referenced before assignment"
     ]
    }
   ],
   "source": [
    "test5()"
   ]
  },
  {
   "cell_type": "code",
   "execution_count": 22,
   "id": "bb55a4a9",
   "metadata": {},
   "outputs": [
    {
     "name": "stdout",
     "output_type": "stream",
     "text": [
      "else block\n"
     ]
    },
    {
     "data": {
      "text/plain": [
       "[3, 4, 5, 6, 7, 8, 9, 10, 11, 12, 13, 14, 15]"
      ]
     },
     "execution_count": 22,
     "metadata": {},
     "output_type": "execute_result"
    }
   ],
   "source": [
    "def test5(a,b) :\n",
    "    l = []\n",
    "    \n",
    "    while a <= b :\n",
    "        #print(a)\n",
    "        l.append(a)\n",
    "        a=a+1\n",
    "    else :\n",
    "        print( \"else block\" )\n",
    "        \n",
    "    return l\n",
    "    \n",
    "        \n",
    "        \n",
    "test5(3,15)"
   ]
  },
  {
   "cell_type": "code",
   "execution_count": 23,
   "id": "d036b877",
   "metadata": {},
   "outputs": [
    {
     "name": "stdout",
     "output_type": "stream",
     "text": [
      "else block\n"
     ]
    },
    {
     "data": {
      "text/plain": [
       "[1, 2, 3, 4, 5, 6, 7, 8, 9, 10]"
      ]
     },
     "execution_count": 23,
     "metadata": {},
     "output_type": "execute_result"
    }
   ],
   "source": [
    "\n",
    "test5(1,10)"
   ]
  },
  {
   "cell_type": "code",
   "execution_count": 24,
   "id": "7d543041",
   "metadata": {},
   "outputs": [
    {
     "name": "stdout",
     "output_type": "stream",
     "text": [
      "else block\n"
     ]
    },
    {
     "data": {
      "text/plain": [
       "list"
      ]
     },
     "execution_count": 24,
     "metadata": {},
     "output_type": "execute_result"
    }
   ],
   "source": [
    "type(test5(1,10))"
   ]
  },
  {
   "cell_type": "code",
   "execution_count": 25,
   "id": "37ff9f46",
   "metadata": {},
   "outputs": [],
   "source": [
    "l = [4,5,6,67,7,8,9,8,9,9,[3,4,5,6,7],'Vish']"
   ]
  },
  {
   "cell_type": "code",
   "execution_count": 26,
   "id": "895cbf9a",
   "metadata": {},
   "outputs": [
    {
     "data": {
      "text/plain": [
       "[[3, 4, 5, 6, 7]]"
      ]
     },
     "execution_count": 26,
     "metadata": {},
     "output_type": "execute_result"
    }
   ],
   "source": [
    "l1 = []\n",
    "for i in l :\n",
    "    if type(i) == list :\n",
    "        l1.append(i)\n",
    "\n",
    "l1  "
   ]
  },
  {
   "cell_type": "code",
   "execution_count": 27,
   "id": "a581fbc3",
   "metadata": {},
   "outputs": [],
   "source": [
    "def test7() :\n",
    "    l1 = []\n",
    "    for i in l :\n",
    "        if type(i) == int :\n",
    "            l1.append(i)\n",
    "    return l1"
   ]
  },
  {
   "cell_type": "code",
   "execution_count": 28,
   "id": "81d77368",
   "metadata": {},
   "outputs": [
    {
     "data": {
      "text/plain": [
       "[4, 5, 6, 67, 7, 8, 9, 8, 9, 9]"
      ]
     },
     "execution_count": 28,
     "metadata": {},
     "output_type": "execute_result"
    }
   ],
   "source": [
    "test7()"
   ]
  },
  {
   "cell_type": "code",
   "execution_count": 29,
   "id": "06197c8c",
   "metadata": {},
   "outputs": [],
   "source": [
    "l3 = [123,12,30,43,432,'Vishal',(1,2,3)]"
   ]
  },
  {
   "cell_type": "code",
   "execution_count": 30,
   "id": "0dd1a08a",
   "metadata": {},
   "outputs": [],
   "source": [
    "def test7(l) :\n",
    "    l1 = []\n",
    "    for i in l :\n",
    "        if type(i) == int :\n",
    "            l1.append(i)\n",
    "    return l1"
   ]
  },
  {
   "cell_type": "code",
   "execution_count": 31,
   "id": "631b2aed",
   "metadata": {},
   "outputs": [
    {
     "data": {
      "text/plain": [
       "[123, 12, 30, 43, 432]"
      ]
     },
     "execution_count": 31,
     "metadata": {},
     "output_type": "execute_result"
    }
   ],
   "source": [
    "test7(l3)"
   ]
  },
  {
   "cell_type": "code",
   "execution_count": 32,
   "id": "c8b83142",
   "metadata": {},
   "outputs": [
    {
     "name": "stdout",
     "output_type": "stream",
     "text": [
      "Index of 6 is :  -4\n",
      "Index of 5 is :  -5\n"
     ]
    }
   ],
   "source": [
    "t = (3,4,2,5,6,7,8,9)\n",
    "a = -1 \n",
    "while a >= -len(t) :\n",
    "    if t[a] == 5 or t[a] == 6 :\n",
    "        print('Index of',t[a],'is : ', a)\n",
    "    a = a-1"
   ]
  },
  {
   "cell_type": "code",
   "execution_count": 33,
   "id": "a06cb7f2",
   "metadata": {},
   "outputs": [
    {
     "name": "stdout",
     "output_type": "stream",
     "text": [
      "Index of 6 is :  -4\n",
      "Index of 5 is :  -5\n"
     ]
    }
   ],
   "source": [
    "def test8(t) :\n",
    "    a = -1 \n",
    "    while a >= -len(t) :\n",
    "        if t[a] == 5 or t[a] == 6 :\n",
    "            print('Index of',t[a],'is : ', a)\n",
    "        a = a-1\n",
    "test8(t)"
   ]
  },
  {
   "cell_type": "code",
   "execution_count": 34,
   "id": "cea748c7",
   "metadata": {},
   "outputs": [
    {
     "name": "stdout",
     "output_type": "stream",
     "text": [
      "Index of 5 is :  -3\n",
      "Index of 6 is :  -5\n",
      "Index of 5 is :  -6\n"
     ]
    }
   ],
   "source": [
    "test8((2,3,4,5,6,7,5,7,8))"
   ]
  },
  {
   "cell_type": "code",
   "execution_count": 35,
   "id": "22b11860",
   "metadata": {},
   "outputs": [],
   "source": [
    "def add(a,b) :\n",
    "    '''This is my function for addition or concatination '''\n",
    "    return a+b"
   ]
  },
  {
   "cell_type": "code",
   "execution_count": 36,
   "id": "81906dd5",
   "metadata": {},
   "outputs": [
    {
     "data": {
      "text/plain": [
       "22"
      ]
     },
     "execution_count": 36,
     "metadata": {},
     "output_type": "execute_result"
    }
   ],
   "source": [
    "add(10,12)"
   ]
  },
  {
   "cell_type": "code",
   "execution_count": 37,
   "id": "fd743ddb",
   "metadata": {},
   "outputs": [
    {
     "data": {
      "text/plain": [
       "'Vishal Pawar'"
      ]
     },
     "execution_count": 37,
     "metadata": {},
     "output_type": "execute_result"
    }
   ],
   "source": [
    "add('Vishal ','Pawar')"
   ]
  },
  {
   "cell_type": "code",
   "execution_count": 38,
   "id": "92514717",
   "metadata": {},
   "outputs": [
    {
     "data": {
      "text/plain": [
       "17"
      ]
     },
     "execution_count": 38,
     "metadata": {},
     "output_type": "execute_result"
    }
   ],
   "source": [
    "add(a = 9,b = 8)"
   ]
  },
  {
   "cell_type": "code",
   "execution_count": 39,
   "id": "77053ebe",
   "metadata": {},
   "outputs": [
    {
     "data": {
      "text/plain": [
       "27"
      ]
     },
     "execution_count": 39,
     "metadata": {},
     "output_type": "execute_result"
    }
   ],
   "source": [
    "add(b = 22,a=5)"
   ]
  },
  {
   "cell_type": "code",
   "execution_count": 40,
   "id": "e2e5cb21",
   "metadata": {},
   "outputs": [
    {
     "name": "stdout",
     "output_type": "stream",
     "text": [
      "Hello :)\n"
     ]
    }
   ],
   "source": [
    "print(\"Hello :)\")"
   ]
  },
  {
   "cell_type": "code",
   "execution_count": 41,
   "id": "7b0ea19a",
   "metadata": {},
   "outputs": [],
   "source": [
    "def check(a,b,c,d,e):\n",
    "    return a,b,c,d,e "
   ]
  },
  {
   "cell_type": "code",
   "execution_count": 42,
   "id": "5099d9f9",
   "metadata": {},
   "outputs": [
    {
     "ename": "TypeError",
     "evalue": "check() missing 1 required positional argument: 'e'",
     "output_type": "error",
     "traceback": [
      "\u001b[1;31m---------------------------------------------------------------------------\u001b[0m",
      "\u001b[1;31mTypeError\u001b[0m                                 Traceback (most recent call last)",
      "\u001b[1;32m~\\AppData\\Local\\Temp/ipykernel_11184/3011297250.py\u001b[0m in \u001b[0;36m<module>\u001b[1;34m\u001b[0m\n\u001b[1;32m----> 1\u001b[1;33m \u001b[0mcheck\u001b[0m\u001b[1;33m(\u001b[0m\u001b[1;36m3\u001b[0m\u001b[1;33m,\u001b[0m\u001b[1;36m4\u001b[0m\u001b[1;33m,\u001b[0m\u001b[1;36m5\u001b[0m\u001b[1;33m,\u001b[0m\u001b[1;36m6\u001b[0m\u001b[1;33m)\u001b[0m\u001b[1;33m\u001b[0m\u001b[1;33m\u001b[0m\u001b[0m\n\u001b[0m",
      "\u001b[1;31mTypeError\u001b[0m: check() missing 1 required positional argument: 'e'"
     ]
    }
   ],
   "source": [
    "check(3,4,5,6)"
   ]
  },
  {
   "cell_type": "code",
   "execution_count": 43,
   "id": "6de89721",
   "metadata": {},
   "outputs": [],
   "source": [
    "def test(*a) :\n",
    "    return a"
   ]
  },
  {
   "cell_type": "code",
   "execution_count": 44,
   "id": "8e0a2505",
   "metadata": {},
   "outputs": [
    {
     "data": {
      "text/plain": [
       "('Vishal', 12, 23, 4, 5, 53, 2, 34, 'pawar')"
      ]
     },
     "execution_count": 44,
     "metadata": {},
     "output_type": "execute_result"
    }
   ],
   "source": [
    "test(\"Vishal\",12,23,4,5,53,2,34,'pawar')"
   ]
  },
  {
   "cell_type": "code",
   "execution_count": 45,
   "id": "a5a306d3",
   "metadata": {},
   "outputs": [
    {
     "data": {
      "text/plain": [
       "([12, 12, 32], 1, 1, 23, 4, 5, 5)"
      ]
     },
     "execution_count": 45,
     "metadata": {},
     "output_type": "execute_result"
    }
   ],
   "source": [
    "test([12,12,32],1,1,23,4,5,5)"
   ]
  },
  {
   "cell_type": "code",
   "execution_count": 46,
   "id": "db587a55",
   "metadata": {},
   "outputs": [
    {
     "data": {
      "text/plain": [
       "[1, 2, 34, 5, 6, 7, 8, 9, 8, 98, 'Vish Pawar']"
      ]
     },
     "execution_count": 46,
     "metadata": {},
     "output_type": "execute_result"
    }
   ],
   "source": [
    "def test1(*a) :\n",
    "    l = []\n",
    "    for i in a :\n",
    "        l.append(i)\n",
    "    return l\n",
    "test1(1,2,34,5,6,7,8,9,8,98,'Vish Pawar')"
   ]
  },
  {
   "cell_type": "code",
   "execution_count": 47,
   "id": "30f93dc0",
   "metadata": {},
   "outputs": [
    {
     "data": {
      "text/plain": [
       "(1, 2, 3, 4, 5, 6, 7, 8, 8, 21, 32, 12, 18)"
      ]
     },
     "execution_count": 47,
     "metadata": {},
     "output_type": "execute_result"
    }
   ],
   "source": [
    "def show(*a,b,c,d,e) :\n",
    "    return *a,b,c,d,e\n",
    "show(1,2,3,4,5,6,7,8,8,b=21,c=32,d=12,e=18)"
   ]
  },
  {
   "cell_type": "code",
   "execution_count": 48,
   "id": "2873f699",
   "metadata": {},
   "outputs": [
    {
     "data": {
      "text/plain": [
       "(1, 2, 3, 4, 5, 10, 21, 29, 30)"
      ]
     },
     "execution_count": 48,
     "metadata": {},
     "output_type": "execute_result"
    }
   ],
   "source": [
    "def show1(a,b,c,d,e,*m) :\n",
    "    return a,b,c,d,e,*m\n",
    "show1(1,2,3,4,5,10,21,29,30)\n",
    "    "
   ]
  },
  {
   "cell_type": "code",
   "execution_count": 57,
   "id": "8f69764c",
   "metadata": {},
   "outputs": [
    {
     "data": {
      "text/plain": [
       "{'a': 4, 'b': 5, 'c': 6, 'd': 8, 'e': [1, 23, 4, 5]}"
      ]
     },
     "execution_count": 57,
     "metadata": {},
     "output_type": "execute_result"
    }
   ],
   "source": [
    "# to give key value type of input we use \"**\" in function.\n",
    "def test8(**vish) :\n",
    "    return vish\n",
    "# test8(4,5,6,7)\n",
    "test8(a=4,b=5,c=6,d=8,e=[1,23,4,5])"
   ]
  },
  {
   "cell_type": "code",
   "execution_count": 54,
   "id": "a731bc85",
   "metadata": {},
   "outputs": [],
   "source": [
    "d = {'b':4,'c':5,'d':6,'e':7}"
   ]
  },
  {
   "cell_type": "code",
   "execution_count": 55,
   "id": "b337a188",
   "metadata": {},
   "outputs": [
    {
     "ename": "KeyError",
     "evalue": "-1",
     "output_type": "error",
     "traceback": [
      "\u001b[1;31m---------------------------------------------------------------------------\u001b[0m",
      "\u001b[1;31mKeyError\u001b[0m                                  Traceback (most recent call last)",
      "\u001b[1;32m~\\AppData\\Local\\Temp/ipykernel_11184/2123698705.py\u001b[0m in \u001b[0;36m<module>\u001b[1;34m\u001b[0m\n\u001b[1;32m----> 1\u001b[1;33m \u001b[0mtest8\u001b[0m\u001b[1;33m(\u001b[0m\u001b[0md\u001b[0m\u001b[1;33m)\u001b[0m\u001b[1;33m\u001b[0m\u001b[1;33m\u001b[0m\u001b[0m\n\u001b[0m",
      "\u001b[1;32m~\\AppData\\Local\\Temp/ipykernel_11184/423022270.py\u001b[0m in \u001b[0;36mtest8\u001b[1;34m(t)\u001b[0m\n\u001b[0;32m      2\u001b[0m     \u001b[0ma\u001b[0m \u001b[1;33m=\u001b[0m \u001b[1;33m-\u001b[0m\u001b[1;36m1\u001b[0m\u001b[1;33m\u001b[0m\u001b[1;33m\u001b[0m\u001b[0m\n\u001b[0;32m      3\u001b[0m     \u001b[1;32mwhile\u001b[0m \u001b[0ma\u001b[0m \u001b[1;33m>=\u001b[0m \u001b[1;33m-\u001b[0m\u001b[0mlen\u001b[0m\u001b[1;33m(\u001b[0m\u001b[0mt\u001b[0m\u001b[1;33m)\u001b[0m \u001b[1;33m:\u001b[0m\u001b[1;33m\u001b[0m\u001b[1;33m\u001b[0m\u001b[0m\n\u001b[1;32m----> 4\u001b[1;33m         \u001b[1;32mif\u001b[0m \u001b[0mt\u001b[0m\u001b[1;33m[\u001b[0m\u001b[0ma\u001b[0m\u001b[1;33m]\u001b[0m \u001b[1;33m==\u001b[0m \u001b[1;36m5\u001b[0m \u001b[1;32mor\u001b[0m \u001b[0mt\u001b[0m\u001b[1;33m[\u001b[0m\u001b[0ma\u001b[0m\u001b[1;33m]\u001b[0m \u001b[1;33m==\u001b[0m \u001b[1;36m6\u001b[0m \u001b[1;33m:\u001b[0m\u001b[1;33m\u001b[0m\u001b[1;33m\u001b[0m\u001b[0m\n\u001b[0m\u001b[0;32m      5\u001b[0m             \u001b[0mprint\u001b[0m\u001b[1;33m(\u001b[0m\u001b[1;34m'Index of'\u001b[0m\u001b[1;33m,\u001b[0m\u001b[0mt\u001b[0m\u001b[1;33m[\u001b[0m\u001b[0ma\u001b[0m\u001b[1;33m]\u001b[0m\u001b[1;33m,\u001b[0m\u001b[1;34m'is : '\u001b[0m\u001b[1;33m,\u001b[0m \u001b[0ma\u001b[0m\u001b[1;33m)\u001b[0m\u001b[1;33m\u001b[0m\u001b[1;33m\u001b[0m\u001b[0m\n\u001b[0;32m      6\u001b[0m         \u001b[0ma\u001b[0m \u001b[1;33m=\u001b[0m \u001b[0ma\u001b[0m\u001b[1;33m-\u001b[0m\u001b[1;36m1\u001b[0m\u001b[1;33m\u001b[0m\u001b[1;33m\u001b[0m\u001b[0m\n",
      "\u001b[1;31mKeyError\u001b[0m: -1"
     ]
    }
   ],
   "source": [
    "test8(d)"
   ]
  },
  {
   "cell_type": "code",
   "execution_count": 63,
   "id": "2ecb88c1",
   "metadata": {},
   "outputs": [
    {
     "data": {
      "text/plain": [
       "((1, 2, 34, 5, 6, 6, 78),\n",
       " {'b': 10, 'c': 'Vish', 'd': 23, 'e': 'Vi12', 'f1': 2})"
      ]
     },
     "execution_count": 63,
     "metadata": {},
     "output_type": "execute_result"
    }
   ],
   "source": [
    "def test9(*m,**s) :\n",
    "    return m,s\n",
    "test9(1,2,34,5,6,6,78,b=10,c='Vish',d=23,e='Vi12',f1=2)"
   ]
  },
  {
   "cell_type": "code",
   "execution_count": 68,
   "id": "7a31e1c5",
   "metadata": {},
   "outputs": [
    {
     "data": {
      "text/plain": [
       "576"
      ]
     },
     "execution_count": 68,
     "metadata": {},
     "output_type": "execute_result"
    }
   ],
   "source": [
    "def mul(*m) :\n",
    "    n=1\n",
    "    for i in m :\n",
    "        if type(i) ==int:\n",
    "            n = n*i\n",
    "    return n\n",
    "mul(2,1,3,6,16,'Vish')\n",
    "            "
   ]
  },
  {
   "cell_type": "code",
   "execution_count": 70,
   "id": "5709ace2",
   "metadata": {},
   "outputs": [
    {
     "data": {
      "text/plain": [
       "97"
      ]
     },
     "execution_count": 70,
     "metadata": {},
     "output_type": "execute_result"
    }
   ],
   "source": [
    "def add(*m) :\n",
    "    n=0\n",
    "    for i in m :\n",
    "        if type(i) ==int:\n",
    "            n = n+i\n",
    "    return n\n",
    "add(2,1,3,6,16,5,20,10,34,'Vish')"
   ]
  },
  {
   "cell_type": "markdown",
   "id": "894f11af",
   "metadata": {},
   "source": [
    "## lambda functions"
   ]
  },
  {
   "cell_type": "code",
   "execution_count": 72,
   "id": "f69900bd",
   "metadata": {},
   "outputs": [
    {
     "data": {
      "text/plain": [
       "<function __main__.<lambda>(a, b)>"
      ]
     },
     "execution_count": 72,
     "metadata": {},
     "output_type": "execute_result"
    }
   ],
   "source": [
    "n = lambda a,b : a+b\n",
    "n"
   ]
  },
  {
   "cell_type": "code",
   "execution_count": 73,
   "id": "9a686dd4",
   "metadata": {},
   "outputs": [
    {
     "data": {
      "text/plain": [
       "31"
      ]
     },
     "execution_count": 73,
     "metadata": {},
     "output_type": "execute_result"
    }
   ],
   "source": [
    "n(10,21)"
   ]
  },
  {
   "cell_type": "code",
   "execution_count": 74,
   "id": "95eb0456",
   "metadata": {},
   "outputs": [
    {
     "data": {
      "text/plain": [
       "3"
      ]
     },
     "execution_count": 74,
     "metadata": {},
     "output_type": "execute_result"
    }
   ],
   "source": [
    "def test(a,b) :\n",
    "    return a+b\n",
    "test(1,2)"
   ]
  },
  {
   "cell_type": "code",
   "execution_count": 75,
   "id": "991930a1",
   "metadata": {},
   "outputs": [
    {
     "data": {
      "text/plain": [
       "'VISH Pawar'"
      ]
     },
     "execution_count": 75,
     "metadata": {},
     "output_type": "execute_result"
    }
   ],
   "source": [
    "n('VISH ','Pawar')"
   ]
  },
  {
   "cell_type": "code",
   "execution_count": 79,
   "id": "476e92a9",
   "metadata": {},
   "outputs": [
    {
     "data": {
      "text/plain": [
       "49"
      ]
     },
     "execution_count": 79,
     "metadata": {},
     "output_type": "execute_result"
    }
   ],
   "source": [
    "n = lambda a,b : a*b\n",
    "n(7,7)"
   ]
  },
  {
   "cell_type": "code",
   "execution_count": 80,
   "id": "fcdd0f95",
   "metadata": {},
   "outputs": [
    {
     "data": {
      "text/plain": [
       "(21, 23, 4, 5, 6, 7, 8, 89)"
      ]
     },
     "execution_count": 80,
     "metadata": {},
     "output_type": "execute_result"
    }
   ],
   "source": [
    "b = lambda *vish : vish\n",
    "b(21,23,4,5,6,7,8,89)"
   ]
  },
  {
   "cell_type": "markdown",
   "id": "9d707144",
   "metadata": {},
   "source": [
    "#### Comprehension operations "
   ]
  },
  {
   "cell_type": "code",
   "execution_count": 83,
   "id": "ef70b1be",
   "metadata": {},
   "outputs": [
    {
     "data": {
      "text/plain": [
       "[3, 4, 5, 6, 7, 88, 9, 'v']"
      ]
     },
     "execution_count": 83,
     "metadata": {},
     "output_type": "execute_result"
    }
   ],
   "source": [
    "t = (3,4,5,6,7,88,9,'v')\n",
    "l = []\n",
    "for i in t:\n",
    "    l.append(i)\n",
    "l"
   ]
  },
  {
   "cell_type": "code",
   "execution_count": 84,
   "id": "d0366670",
   "metadata": {},
   "outputs": [
    {
     "data": {
      "text/plain": [
       "[3, 4, 5, 6, 7, 88, 9, 'v']"
      ]
     },
     "execution_count": 84,
     "metadata": {},
     "output_type": "execute_result"
    }
   ],
   "source": [
    "[i for i in t]"
   ]
  },
  {
   "cell_type": "code",
   "execution_count": 85,
   "id": "175f0e9c",
   "metadata": {},
   "outputs": [
    {
     "data": {
      "text/plain": [
       "['V', 'I', 'S', 'H', 'A', 'L', 'P', 'A', 'W', 'A', 'R']"
      ]
     },
     "execution_count": 85,
     "metadata": {},
     "output_type": "execute_result"
    }
   ],
   "source": [
    "s = 'VISHALPAWAR'\n",
    "[i for i in s]"
   ]
  },
  {
   "cell_type": "code",
   "execution_count": 88,
   "id": "16cabd10",
   "metadata": {},
   "outputs": [
    {
     "data": {
      "text/plain": [
       "[0, 1, 4, 9, 16, 25, 36, 49, 64, 81, 100, 121]"
      ]
     },
     "execution_count": 88,
     "metadata": {},
     "output_type": "execute_result"
    }
   ],
   "source": [
    "#square of numbers range(12)\n",
    "[i*i for i in range(12)]"
   ]
  },
  {
   "cell_type": "code",
   "execution_count": 90,
   "id": "818ce8dc",
   "metadata": {},
   "outputs": [
    {
     "data": {
      "text/plain": [
       "[0, 1, 4, 9, 16, 25, 36, 49, 64, 81, 100, 121]"
      ]
     },
     "execution_count": 90,
     "metadata": {},
     "output_type": "execute_result"
    }
   ],
   "source": [
    "l= []\n",
    "\n",
    "for i in range(12) :\n",
    "    l.append(i*i)\n",
    "l"
   ]
  },
  {
   "cell_type": "code",
   "execution_count": 92,
   "id": "18eab927",
   "metadata": {},
   "outputs": [
    {
     "data": {
      "text/plain": [
       "[1, 4, 9, 16, 25, 4225, 36, 16, 9, 484, 1]"
      ]
     },
     "execution_count": 92,
     "metadata": {},
     "output_type": "execute_result"
    }
   ],
   "source": [
    "l = lambda *x : [i*i for i in x]\n",
    "l(1,2,3,4,5,65,6,4,3,22,1)"
   ]
  },
  {
   "cell_type": "code",
   "execution_count": 5,
   "id": "f3919a15",
   "metadata": {},
   "outputs": [
    {
     "data": {
      "text/plain": [
       "3"
      ]
     },
     "execution_count": 5,
     "metadata": {},
     "output_type": "execute_result"
    }
   ],
   "source": [
    "def test_1(**m) :\n",
    "    count = 0\n",
    "    for i in m.values() :\n",
    "        if type(i) == str :\n",
    "            count+=1\n",
    "           \n",
    "        if type(i) == list :\n",
    "            for v in i :\n",
    "                if type(v) == str :\n",
    "                    count+=1\n",
    " \n",
    "    return count\n",
    "\n",
    "test_1(a=7,b='vish',c = 'vish',d = 10, l=[2,3,4,12,4,'vish'])\n",
    "\n"
   ]
  },
  {
   "cell_type": "code",
   "execution_count": 2,
   "id": "0dd3fc99",
   "metadata": {},
   "outputs": [
    {
     "data": {
      "text/plain": [
       "1"
      ]
     },
     "execution_count": 2,
     "metadata": {},
     "output_type": "execute_result"
    }
   ],
   "source": [
    "def func(**m) :\n",
    "    count = 0 \n",
    "    for i in m.values() :\n",
    "        if type(i) == list :\n",
    "            for ele in i :\n",
    "                if type(ele) == str :\n",
    "                    count += 1\n",
    "    return count\n",
    "func(a=7,b='vish',c = 'vish',d = 10, l=[2,3,4,12,4,'vish'])\n",
    "            "
   ]
  },
  {
   "cell_type": "code",
   "execution_count": 97,
   "id": "ff9559bd",
   "metadata": {},
   "outputs": [
    {
     "data": {
      "text/plain": [
       "[7, 'vish', [2, 3, 4, 12, 4, 'vish']]"
      ]
     },
     "execution_count": 97,
     "metadata": {},
     "output_type": "execute_result"
    }
   ],
   "source": [
    "def test_2(**m) :\n",
    "    return list(m.values())\n",
    "test_2(a=7,b='vish',l=[2,3,4,12,4,'vish'])\n",
    "            "
   ]
  },
  {
   "cell_type": "raw",
   "id": "59f3c3c5",
   "metadata": {},
   "source": [
    "Today's task\n",
    "1. Try to print a prime number in between 1 to 1000\n",
    "2. Try to write a function which is eqvivalent to print function in python\n",
    "3. Try to write a function which is a replica of list append\n",
    "4. Try to write a lambda function which can return a concatination of all the strings that will pass.\n",
    "5. Try to write 10 different examples of lambda functions \n",
    "6. Try to write a task which can perform a read operation from .txt file.\n",
    "7. Try to write a lambda function which can return list of squares of all the data between 1 -100"
   ]
  },
  {
   "cell_type": "code",
   "execution_count": 126,
   "id": "86d83cc7",
   "metadata": {},
   "outputs": [
    {
     "name": "stdout",
     "output_type": "stream",
     "text": [
      "[1, 121, 441, 961, 1681, 2601, 3721, 5041, 6561, 8281]\n"
     ]
    }
   ],
   "source": [
    "# 7. Try to write a lambda function which can return list of squares of all the data between 1 -100\n",
    "l = lambda *x : [i*i for i in range(1,100,10)]\n",
    "res = l(l)\n",
    " \n",
    "print(res)"
   ]
  },
  {
   "cell_type": "code",
   "execution_count": 113,
   "id": "40850df3",
   "metadata": {},
   "outputs": [
    {
     "data": {
      "text/plain": [
       "[1, 100, 361, 784, 1369, 2116, 3025, 4096, 5329, 6724, 8281]"
      ]
     },
     "execution_count": 113,
     "metadata": {},
     "output_type": "execute_result"
    }
   ],
   "source": [
    "l = []\n",
    "for i in range(1,100,9) :\n",
    "    l.append(i*i)\n",
    "l"
   ]
  },
  {
   "cell_type": "code",
   "execution_count": 107,
   "id": "72c815a3",
   "metadata": {},
   "outputs": [
    {
     "data": {
      "text/plain": [
       "[1, 121, 441, 961, 1681, 2601, 3721, 5041, 6561, 8281]"
      ]
     },
     "execution_count": 107,
     "metadata": {},
     "output_type": "execute_result"
    }
   ],
   "source": [
    "[i*i for i in range(1,100,10)]"
   ]
  },
  {
   "cell_type": "code",
   "execution_count": 127,
   "id": "308b328e",
   "metadata": {
    "scrolled": true
   },
   "outputs": [
    {
     "ename": "SyntaxError",
     "evalue": "invalid syntax (Temp/ipykernel_11184/3359066254.py, line 1)",
     "output_type": "error",
     "traceback": [
      "\u001b[1;36m  File \u001b[1;32m\"C:\\Users\\svish\\AppData\\Local\\Temp/ipykernel_11184/3359066254.py\"\u001b[1;36m, line \u001b[1;32m1\u001b[0m\n\u001b[1;33m    def test(**m,*s) :\u001b[0m\n\u001b[1;37m                 ^\u001b[0m\n\u001b[1;31mSyntaxError\u001b[0m\u001b[1;31m:\u001b[0m invalid syntax\n"
     ]
    }
   ],
   "source": [
    "def test(**m,*s) :\n",
    "    pass"
   ]
  },
  {
   "cell_type": "code",
   "execution_count": 10,
   "id": "4d70e807",
   "metadata": {},
   "outputs": [
    {
     "data": {
      "text/plain": [
       "'V'"
      ]
     },
     "execution_count": 10,
     "metadata": {},
     "output_type": "execute_result"
    }
   ],
   "source": [
    "s = 'Vishal'\n",
    "s[0::-1]\n",
    "s[0::-1]\n",
    "# what is by defualt upper bound here. Why it should gives answer as 'V' only."
   ]
  },
  {
   "cell_type": "code",
   "execution_count": 7,
   "id": "8a086c98",
   "metadata": {},
   "outputs": [
    {
     "data": {
      "text/plain": [
       "''"
      ]
     },
     "execution_count": 7,
     "metadata": {},
     "output_type": "execute_result"
    }
   ],
   "source": [
    "s[0:len(s):-1]"
   ]
  },
  {
   "cell_type": "code",
   "execution_count": 8,
   "id": "afb3faca",
   "metadata": {},
   "outputs": [
    {
     "data": {
      "text/plain": [
       "'Vishal'"
      ]
     },
     "execution_count": 8,
     "metadata": {},
     "output_type": "execute_result"
    }
   ],
   "source": [
    "s[0:len(s)]"
   ]
  },
  {
   "cell_type": "code",
   "execution_count": 12,
   "id": "dee0095f",
   "metadata": {},
   "outputs": [
    {
     "data": {
      "text/plain": [
       "'A'"
      ]
     },
     "execution_count": 12,
     "metadata": {},
     "output_type": "execute_result"
    }
   ],
   "source": [
    "s = 'AKSHAY'\n",
    "s[0::-1]"
   ]
  },
  {
   "cell_type": "code",
   "execution_count": 13,
   "id": "3e330be4",
   "metadata": {},
   "outputs": [
    {
     "data": {
      "text/plain": [
       "'A'"
      ]
     },
     "execution_count": 13,
     "metadata": {},
     "output_type": "execute_result"
    }
   ],
   "source": [
    "s[0:-7:-1]"
   ]
  },
  {
   "cell_type": "code",
   "execution_count": 16,
   "id": "7b1dc4a9",
   "metadata": {},
   "outputs": [
    {
     "data": {
      "text/plain": [
       "'Vish Pawar'"
      ]
     },
     "execution_count": 16,
     "metadata": {},
     "output_type": "execute_result"
    }
   ],
   "source": [
    "def concat(*m) :\n",
    "    l = []\n",
    "    for i in m:\n",
    "            if type(i) == str :\n",
    "                l.append(i)\n",
    "                a = \"\".join(l)\n",
    "    return a\n",
    "concat(1,23,4,'Vish ',[1,23,4,4],'Pawar')\n",
    "    "
   ]
  },
  {
   "cell_type": "code",
   "execution_count": 18,
   "id": "1e72a686",
   "metadata": {},
   "outputs": [
    {
     "data": {
      "text/plain": [
       "'Vishal Pawar'"
      ]
     },
     "execution_count": 18,
     "metadata": {},
     "output_type": "execute_result"
    }
   ],
   "source": [
    "e = lambda a,b : a+b\n",
    "e('Vishal ','Pawar')"
   ]
  },
  {
   "cell_type": "code",
   "execution_count": 28,
   "id": "8f88eb04",
   "metadata": {},
   "outputs": [
    {
     "data": {
      "text/plain": [
       "'Vish Sanay Pawar'"
      ]
     },
     "execution_count": 28,
     "metadata": {},
     "output_type": "execute_result"
    },
    {
     "name": "stderr",
     "output_type": "stream",
     "text": [
      "Exception in callback BaseSelectorEventLoop._read_from_self()\n",
      "handle: <Handle BaseSelectorEventLoop._read_from_self()>\n",
      "Traceback (most recent call last):\n",
      "  File \"C:\\Users\\svish\\anaconda3\\lib\\asyncio\\events.py\", line 80, in _run\n",
      "    self._context.run(self._callback, *self._args)\n",
      "  File \"C:\\Users\\svish\\anaconda3\\lib\\asyncio\\selector_events.py\", line 120, in _read_from_self\n",
      "    data = self._ssock.recv(4096)\n",
      "ConnectionResetError: [WinError 10054] An existing connection was forcibly closed by the remote host\n",
      "Exception in callback BaseSelectorEventLoop._read_from_self()\n",
      "handle: <Handle BaseSelectorEventLoop._read_from_self()>\n",
      "Traceback (most recent call last):\n",
      "  File \"C:\\Users\\svish\\anaconda3\\lib\\asyncio\\events.py\", line 80, in _run\n",
      "    self._context.run(self._callback, *self._args)\n",
      "  File \"C:\\Users\\svish\\anaconda3\\lib\\asyncio\\selector_events.py\", line 120, in _read_from_self\n",
      "    data = self._ssock.recv(4096)\n",
      "ConnectionResetError: [WinError 10054] An existing connection was forcibly closed by the remote host\n",
      "Exception in callback BaseSelectorEventLoop._read_from_self()\n",
      "handle: <Handle BaseSelectorEventLoop._read_from_self()>\n",
      "Traceback (most recent call last):\n",
      "  File \"C:\\Users\\svish\\anaconda3\\lib\\asyncio\\events.py\", line 80, in _run\n",
      "    self._context.run(self._callback, *self._args)\n",
      "  File \"C:\\Users\\svish\\anaconda3\\lib\\asyncio\\selector_events.py\", line 120, in _read_from_self\n",
      "    data = self._ssock.recv(4096)\n",
      "ConnectionResetError: [WinError 10054] An existing connection was forcibly closed by the remote host\n",
      "Exception in callback BaseSelectorEventLoop._read_from_self()\n",
      "handle: <Handle BaseSelectorEventLoop._read_from_self()>\n",
      "Traceback (most recent call last):\n",
      "  File \"C:\\Users\\svish\\anaconda3\\lib\\asyncio\\events.py\", line 80, in _run\n",
      "    self._context.run(self._callback, *self._args)\n",
      "  File \"C:\\Users\\svish\\anaconda3\\lib\\asyncio\\selector_events.py\", line 120, in _read_from_self\n",
      "    data = self._ssock.recv(4096)\n",
      "ConnectionResetError: [WinError 10054] An existing connection was forcibly closed by the remote host\n",
      "Exception in callback BaseSelectorEventLoop._read_from_self()\n",
      "handle: <Handle BaseSelectorEventLoop._read_from_self()>\n",
      "Traceback (most recent call last):\n",
      "  File \"C:\\Users\\svish\\anaconda3\\lib\\asyncio\\events.py\", line 80, in _run\n",
      "    self._context.run(self._callback, *self._args)\n",
      "  File \"C:\\Users\\svish\\anaconda3\\lib\\asyncio\\selector_events.py\", line 120, in _read_from_self\n",
      "    data = self._ssock.recv(4096)\n",
      "ConnectionResetError: [WinError 10054] An existing connection was forcibly closed by the remote host\n",
      "Exception in callback BaseSelectorEventLoop._read_from_self()\n",
      "handle: <Handle BaseSelectorEventLoop._read_from_self()>\n",
      "Traceback (most recent call last):\n",
      "  File \"C:\\Users\\svish\\anaconda3\\lib\\asyncio\\events.py\", line 80, in _run\n",
      "    self._context.run(self._callback, *self._args)\n",
      "  File \"C:\\Users\\svish\\anaconda3\\lib\\asyncio\\selector_events.py\", line 120, in _read_from_self\n",
      "    data = self._ssock.recv(4096)\n",
      "ConnectionResetError: [WinError 10054] An existing connection was forcibly closed by the remote host\n",
      "Exception in callback BaseSelectorEventLoop._read_from_self()\n",
      "handle: <Handle BaseSelectorEventLoop._read_from_self()>\n",
      "Traceback (most recent call last):\n",
      "  File \"C:\\Users\\svish\\anaconda3\\lib\\asyncio\\events.py\", line 80, in _run\n",
      "    self._context.run(self._callback, *self._args)\n",
      "  File \"C:\\Users\\svish\\anaconda3\\lib\\asyncio\\selector_events.py\", line 120, in _read_from_self\n",
      "    data = self._ssock.recv(4096)\n",
      "ConnectionResetError: [WinError 10054] An existing connection was forcibly closed by the remote host\n",
      "Exception in callback BaseSelectorEventLoop._read_from_self()\n",
      "handle: <Handle BaseSelectorEventLoop._read_from_self()>\n",
      "Traceback (most recent call last):\n",
      "  File \"C:\\Users\\svish\\anaconda3\\lib\\asyncio\\events.py\", line 80, in _run\n",
      "    self._context.run(self._callback, *self._args)\n",
      "  File \"C:\\Users\\svish\\anaconda3\\lib\\asyncio\\selector_events.py\", line 120, in _read_from_self\n",
      "    data = self._ssock.recv(4096)\n",
      "ConnectionResetError: [WinError 10054] An existing connection was forcibly closed by the remote host\n",
      "Exception in callback BaseSelectorEventLoop._read_from_self()\n",
      "handle: <Handle BaseSelectorEventLoop._read_from_self()>\n",
      "Traceback (most recent call last):\n",
      "  File \"C:\\Users\\svish\\anaconda3\\lib\\asyncio\\events.py\", line 80, in _run\n",
      "    self._context.run(self._callback, *self._args)\n",
      "  File \"C:\\Users\\svish\\anaconda3\\lib\\asyncio\\selector_events.py\", line 120, in _read_from_self\n",
      "    data = self._ssock.recv(4096)\n",
      "ConnectionResetError: [WinError 10054] An existing connection was forcibly closed by the remote host\n"
     ]
    }
   ],
   "source": [
    "# concatination of a string using lambda function by passing an argument of different types.\n",
    "l_concat = lambda *m :\" \".join([i for i in m if type(i) == str])\n",
    "l_concat(1,2,3,4,'Vish','Sanay','Pawar')"
   ]
  },
  {
   "cell_type": "code",
   "execution_count": 20,
   "id": "5c924c1b",
   "metadata": {},
   "outputs": [],
   "source": [
    "m = [1,2,3,4,'Vish','Sanay','Pawar',12,20,'from Ahmednagr',(1,23,3)]"
   ]
  },
  {
   "cell_type": "code",
   "execution_count": 22,
   "id": "2429c228",
   "metadata": {},
   "outputs": [
    {
     "data": {
      "text/plain": [
       "'Vish $ Sanay $ Pawar $ from Ahmednagr'"
      ]
     },
     "execution_count": 22,
     "metadata": {},
     "output_type": "execute_result"
    }
   ],
   "source": [
    "\" $ \".join([i for i in m if type(i)==str ])"
   ]
  },
  {
   "cell_type": "code",
   "execution_count": 24,
   "id": "432602fc",
   "metadata": {},
   "outputs": [
    {
     "data": {
      "text/plain": [
       "[1, 4, 9, 16]"
      ]
     },
     "execution_count": 24,
     "metadata": {},
     "output_type": "execute_result"
    }
   ],
   "source": [
    "m = lambda *x : [i*i for i in x if type(i) == int]\n",
    "m(1,2,3,4,'Vish',(1,23,4),{20,20,20,12,23},{'k1':123,'k2':\"vish\",12:23})"
   ]
  },
  {
   "cell_type": "code",
   "execution_count": null,
   "id": "d5d136b8",
   "metadata": {},
   "outputs": [],
   "source": []
  }
 ],
 "metadata": {
  "kernelspec": {
   "display_name": "Python 3 (ipykernel)",
   "language": "python",
   "name": "python3"
  },
  "language_info": {
   "codemirror_mode": {
    "name": "ipython",
    "version": 3
   },
   "file_extension": ".py",
   "mimetype": "text/x-python",
   "name": "python",
   "nbconvert_exporter": "python",
   "pygments_lexer": "ipython3",
   "version": "3.9.7"
  }
 },
 "nbformat": 4,
 "nbformat_minor": 5
}
