{
 "cells": [
  {
   "cell_type": "markdown",
   "id": "8521bad5",
   "metadata": {},
   "source": [
    "## DICTIONARY"
   ]
  },
  {
   "cell_type": "code",
   "execution_count": 1,
   "id": "06f531a7",
   "metadata": {},
   "outputs": [],
   "source": [
    "di = {1:\"Vish\",'Place':'MAHA','id':'VISH123','Key':'value'}"
   ]
  },
  {
   "cell_type": "code",
   "execution_count": 2,
   "id": "a5f271a7",
   "metadata": {},
   "outputs": [
    {
     "data": {
      "text/plain": [
       "dict"
      ]
     },
     "execution_count": 2,
     "metadata": {},
     "output_type": "execute_result"
    }
   ],
   "source": [
    "type(di)"
   ]
  },
  {
   "cell_type": "code",
   "execution_count": 4,
   "id": "24dcf715",
   "metadata": {},
   "outputs": [
    {
     "data": {
      "text/plain": [
       "'Vish'"
      ]
     },
     "execution_count": 4,
     "metadata": {},
     "output_type": "execute_result"
    }
   ],
   "source": [
    "di[1]"
   ]
  },
  {
   "cell_type": "code",
   "execution_count": 5,
   "id": "55baf8d2",
   "metadata": {},
   "outputs": [
    {
     "data": {
      "text/plain": [
       "'MAHA'"
      ]
     },
     "execution_count": 5,
     "metadata": {},
     "output_type": "execute_result"
    }
   ],
   "source": [
    "di['Place']"
   ]
  },
  {
   "cell_type": "code",
   "execution_count": 6,
   "id": "61c5615a",
   "metadata": {},
   "outputs": [
    {
     "ename": "KeyError",
     "evalue": "'value'",
     "output_type": "error",
     "traceback": [
      "\u001b[1;31m---------------------------------------------------------------------------\u001b[0m",
      "\u001b[1;31mKeyError\u001b[0m                                  Traceback (most recent call last)",
      "\u001b[1;32m~\\AppData\\Local\\Temp/ipykernel_15788/1365406977.py\u001b[0m in \u001b[0;36m<module>\u001b[1;34m\u001b[0m\n\u001b[1;32m----> 1\u001b[1;33m \u001b[0mdi\u001b[0m\u001b[1;33m[\u001b[0m\u001b[1;34m'value'\u001b[0m\u001b[1;33m]\u001b[0m\u001b[1;33m\u001b[0m\u001b[1;33m\u001b[0m\u001b[0m\n\u001b[0m",
      "\u001b[1;31mKeyError\u001b[0m: 'value'"
     ]
    }
   ],
   "source": [
    "di['value']"
   ]
  },
  {
   "cell_type": "code",
   "execution_count": 7,
   "id": "38d183ed",
   "metadata": {},
   "outputs": [],
   "source": [
    "d1 = {'Name':'Vishal','Skills':['Python','ML','SQL','Powerbi','R-software'],'kind':'Happy'}"
   ]
  },
  {
   "cell_type": "code",
   "execution_count": 8,
   "id": "21132128",
   "metadata": {},
   "outputs": [
    {
     "data": {
      "text/plain": [
       "True"
      ]
     },
     "execution_count": 8,
     "metadata": {},
     "output_type": "execute_result"
    }
   ],
   "source": [
    "'SQL' in d1['Skills']"
   ]
  },
  {
   "cell_type": "code",
   "execution_count": 9,
   "id": "c0431ff6",
   "metadata": {},
   "outputs": [
    {
     "data": {
      "text/plain": [
       "True"
      ]
     },
     "execution_count": 9,
     "metadata": {},
     "output_type": "execute_result"
    }
   ],
   "source": [
    "'Happy' in d1['kind']"
   ]
  },
  {
   "cell_type": "code",
   "execution_count": 12,
   "id": "a5cc7a4e",
   "metadata": {},
   "outputs": [
    {
     "data": {
      "text/plain": [
       "{'Cmp': 'Wipro', 'c.info': 'Tele:23456'}"
      ]
     },
     "execution_count": 12,
     "metadata": {},
     "output_type": "execute_result"
    }
   ],
   "source": [
    "# In case of a dictionary, keys are always suppose to be unique.\n",
    "d4 = {'Cmp':'TCS','c.info':'Tele:23456','Cmp':'Wipro'}\n",
    "d4"
   ]
  },
  {
   "cell_type": "code",
   "execution_count": 13,
   "id": "2c2eef0b",
   "metadata": {},
   "outputs": [],
   "source": [
    "d4['key'] = 'Great'"
   ]
  },
  {
   "cell_type": "code",
   "execution_count": 14,
   "id": "a1d130cd",
   "metadata": {},
   "outputs": [
    {
     "data": {
      "text/plain": [
       "{'Cmp': 'Wipro', 'c.info': 'Tele:23456', 'key': 'Great'}"
      ]
     },
     "execution_count": 14,
     "metadata": {},
     "output_type": "execute_result"
    }
   ],
   "source": [
    "d4"
   ]
  },
  {
   "cell_type": "code",
   "execution_count": 16,
   "id": "54a1b01c",
   "metadata": {},
   "outputs": [],
   "source": [
    "d4['New'] = d1"
   ]
  },
  {
   "cell_type": "code",
   "execution_count": 17,
   "id": "c8abbeee",
   "metadata": {},
   "outputs": [
    {
     "data": {
      "text/plain": [
       "{'Cmp': 'Wipro',\n",
       " 'c.info': 'Tele:23456',\n",
       " 'key': 'Great',\n",
       " 'New': {'Name': 'Vishal',\n",
       "  'Skills': ['Python', 'ML', 'SQL', 'Powerbi', 'R-software'],\n",
       "  'kind': 'Happy'}}"
      ]
     },
     "execution_count": 17,
     "metadata": {},
     "output_type": "execute_result"
    }
   ],
   "source": [
    "d4"
   ]
  },
  {
   "cell_type": "code",
   "execution_count": 18,
   "id": "385a8251",
   "metadata": {},
   "outputs": [
    {
     "data": {
      "text/plain": [
       "{'Name': 'Vishal',\n",
       " 'Skills': ['Python', 'ML', 'SQL', 'Powerbi', 'R-software'],\n",
       " 'kind': 'Happy'}"
      ]
     },
     "execution_count": 18,
     "metadata": {},
     "output_type": "execute_result"
    }
   ],
   "source": [
    "d4['New']"
   ]
  },
  {
   "cell_type": "code",
   "execution_count": 19,
   "id": "ef84a789",
   "metadata": {},
   "outputs": [
    {
     "data": {
      "text/plain": [
       "'Happy'"
      ]
     },
     "execution_count": 19,
     "metadata": {},
     "output_type": "execute_result"
    }
   ],
   "source": [
    "d4['New']['kind']"
   ]
  },
  {
   "cell_type": "code",
   "execution_count": 20,
   "id": "2a0ad446",
   "metadata": {},
   "outputs": [],
   "source": [
    "# Special charcaters like @,#,$ cannot be used as a key\n",
    "#d5 = {@:'Vishal',#:'Pawar'}\n",
    "# '_' can be used as key\n",
    "d5 = {_:98,'Mo':9850}"
   ]
  },
  {
   "cell_type": "code",
   "execution_count": 21,
   "id": "1da6c943",
   "metadata": {},
   "outputs": [
    {
     "data": {
      "text/plain": [
       "98"
      ]
     },
     "execution_count": 21,
     "metadata": {},
     "output_type": "execute_result"
    }
   ],
   "source": [
    "d5[_]"
   ]
  },
  {
   "cell_type": "code",
   "execution_count": 23,
   "id": "6eb71725",
   "metadata": {},
   "outputs": [],
   "source": [
    "d6 = {(1,2,3):'numbers'}"
   ]
  },
  {
   "cell_type": "code",
   "execution_count": 24,
   "id": "68400c58",
   "metadata": {},
   "outputs": [
    {
     "data": {
      "text/plain": [
       "'numbers'"
      ]
     },
     "execution_count": 24,
     "metadata": {},
     "output_type": "execute_result"
    }
   ],
   "source": [
    "d6[(1,2,3)]"
   ]
  },
  {
   "cell_type": "code",
   "execution_count": 25,
   "id": "47feac59",
   "metadata": {},
   "outputs": [
    {
     "ename": "TypeError",
     "evalue": "unhashable type: 'list'",
     "output_type": "error",
     "traceback": [
      "\u001b[1;31m---------------------------------------------------------------------------\u001b[0m",
      "\u001b[1;31mTypeError\u001b[0m                                 Traceback (most recent call last)",
      "\u001b[1;32m~\\AppData\\Local\\Temp/ipykernel_15788/2815019900.py\u001b[0m in \u001b[0;36m<module>\u001b[1;34m\u001b[0m\n\u001b[1;32m----> 1\u001b[1;33m \u001b[0md7\u001b[0m \u001b[1;33m=\u001b[0m \u001b[1;33m{\u001b[0m\u001b[1;33m[\u001b[0m\u001b[1;36m1\u001b[0m\u001b[1;33m,\u001b[0m\u001b[1;36m2\u001b[0m\u001b[1;33m,\u001b[0m\u001b[1;36m3\u001b[0m\u001b[1;33m,\u001b[0m\u001b[1;36m4\u001b[0m\u001b[1;33m]\u001b[0m\u001b[1;33m:\u001b[0m\u001b[1;34m'Integers'\u001b[0m\u001b[1;33m}\u001b[0m\u001b[1;33m\u001b[0m\u001b[1;33m\u001b[0m\u001b[0m\n\u001b[0m",
      "\u001b[1;31mTypeError\u001b[0m: unhashable type: 'list'"
     ]
    }
   ],
   "source": [
    "# keys should be immutable ( list and dictionary itself as a key are not allowed )\n",
    "d7 = {[1,2,3,4]:'Integers'}"
   ]
  },
  {
   "cell_type": "code",
   "execution_count": 26,
   "id": "45dc7bd8",
   "metadata": {},
   "outputs": [
    {
     "ename": "TypeError",
     "evalue": "unhashable type: 'set'",
     "output_type": "error",
     "traceback": [
      "\u001b[1;31m---------------------------------------------------------------------------\u001b[0m",
      "\u001b[1;31mTypeError\u001b[0m                                 Traceback (most recent call last)",
      "\u001b[1;32m~\\AppData\\Local\\Temp/ipykernel_15788/1303817626.py\u001b[0m in \u001b[0;36m<module>\u001b[1;34m\u001b[0m\n\u001b[1;32m----> 1\u001b[1;33m \u001b[0md8\u001b[0m \u001b[1;33m=\u001b[0m \u001b[1;33m{\u001b[0m\u001b[1;33m{\u001b[0m\u001b[1;36m1\u001b[0m\u001b[1;33m,\u001b[0m\u001b[1;36m2\u001b[0m\u001b[1;33m}\u001b[0m\u001b[1;33m:\u001b[0m\u001b[1;34m\"Wrong\"\u001b[0m\u001b[1;33m}\u001b[0m\u001b[1;33m\u001b[0m\u001b[1;33m\u001b[0m\u001b[0m\n\u001b[0m",
      "\u001b[1;31mTypeError\u001b[0m: unhashable type: 'set'"
     ]
    }
   ],
   "source": [
    "d8 = {{1,2}:\"Wrong\"}"
   ]
  },
  {
   "cell_type": "markdown",
   "id": "9a9edaac",
   "metadata": {},
   "source": [
    "### Functions"
   ]
  },
  {
   "cell_type": "code",
   "execution_count": 27,
   "id": "3b90e388",
   "metadata": {},
   "outputs": [
    {
     "data": {
      "text/plain": [
       "{1: 'Vish', 'Place': 'MAHA', 'id': 'VISH123', 'Key': 'value'}"
      ]
     },
     "execution_count": 27,
     "metadata": {},
     "output_type": "execute_result"
    }
   ],
   "source": [
    "di"
   ]
  },
  {
   "cell_type": "code",
   "execution_count": 28,
   "id": "3b8b5baa",
   "metadata": {},
   "outputs": [],
   "source": [
    "di[1]='pawar'"
   ]
  },
  {
   "cell_type": "code",
   "execution_count": 29,
   "id": "cff69c4e",
   "metadata": {},
   "outputs": [
    {
     "data": {
      "text/plain": [
       "{1: 'pawar', 'Place': 'MAHA', 'id': 'VISH123', 'Key': 'value'}"
      ]
     },
     "execution_count": 29,
     "metadata": {},
     "output_type": "execute_result"
    }
   ],
   "source": [
    "di"
   ]
  },
  {
   "cell_type": "code",
   "execution_count": 30,
   "id": "a616009d",
   "metadata": {},
   "outputs": [
    {
     "data": {
      "text/plain": [
       "dict_keys([1, 'Place', 'id', 'Key'])"
      ]
     },
     "execution_count": 30,
     "metadata": {},
     "output_type": "execute_result"
    }
   ],
   "source": [
    "di.keys()"
   ]
  },
  {
   "cell_type": "code",
   "execution_count": 31,
   "id": "2f0052da",
   "metadata": {},
   "outputs": [
    {
     "data": {
      "text/plain": [
       "dict_values(['pawar', 'MAHA', 'VISH123', 'value'])"
      ]
     },
     "execution_count": 31,
     "metadata": {},
     "output_type": "execute_result"
    }
   ],
   "source": [
    "di.values()"
   ]
  },
  {
   "cell_type": "code",
   "execution_count": 32,
   "id": "21af03c1",
   "metadata": {},
   "outputs": [
    {
     "data": {
      "text/plain": [
       "dict_items([(1, 'pawar'), ('Place', 'MAHA'), ('id', 'VISH123'), ('Key', 'value')])"
      ]
     },
     "execution_count": 32,
     "metadata": {},
     "output_type": "execute_result"
    }
   ],
   "source": [
    "di.items()"
   ]
  },
  {
   "cell_type": "markdown",
   "id": "024c2b11",
   "metadata": {},
   "source": [
    "#### A list cannot be used as a key because the key in a dictonary should be immutable"
   ]
  },
  {
   "cell_type": "code",
   "execution_count": 1,
   "id": "e5905045",
   "metadata": {},
   "outputs": [
    {
     "ename": "TypeError",
     "evalue": "unhashable type: 'list'",
     "output_type": "error",
     "traceback": [
      "\u001b[1;31m---------------------------------------------------------------------------\u001b[0m",
      "\u001b[1;31mTypeError\u001b[0m                                 Traceback (most recent call last)",
      "\u001b[1;32m~\\AppData\\Local\\Temp/ipykernel_23308/1266740318.py\u001b[0m in \u001b[0;36m<module>\u001b[1;34m\u001b[0m\n\u001b[1;32m----> 1\u001b[1;33m \u001b[1;33m{\u001b[0m\u001b[1;33m[\u001b[0m\u001b[1;36m1\u001b[0m\u001b[1;33m,\u001b[0m\u001b[1;36m2\u001b[0m\u001b[1;33m]\u001b[0m\u001b[1;33m:\u001b[0m\u001b[1;36m10\u001b[0m\u001b[1;33m}\u001b[0m\u001b[1;33m\u001b[0m\u001b[1;33m\u001b[0m\u001b[0m\n\u001b[0m",
      "\u001b[1;31mTypeError\u001b[0m: unhashable type: 'list'"
     ]
    }
   ],
   "source": [
    "{[1,2]:10}"
   ]
  },
  {
   "cell_type": "code",
   "execution_count": 4,
   "id": "4440d391",
   "metadata": {},
   "outputs": [
    {
     "data": {
      "text/plain": [
       "{2: 10}"
      ]
     },
     "execution_count": 4,
     "metadata": {},
     "output_type": "execute_result"
    }
   ],
   "source": [
    "{len([1,2]):10}"
   ]
  },
  {
   "cell_type": "code",
   "execution_count": 5,
   "id": "b3ec05de",
   "metadata": {},
   "outputs": [
    {
     "data": {
      "text/plain": [
       "{(1, 2): 10}"
      ]
     },
     "execution_count": 5,
     "metadata": {},
     "output_type": "execute_result"
    }
   ],
   "source": [
    "{(1,2):10}"
   ]
  },
  {
   "cell_type": "code",
   "execution_count": 6,
   "id": "71e45f0c",
   "metadata": {},
   "outputs": [],
   "source": [
    "media = {'Twitter':149,\"FB\":\"status\",\"instagram\":\"photo\",\"Linkedin\":\"Work\"}"
   ]
  },
  {
   "cell_type": "code",
   "execution_count": 14,
   "id": "9a85a9ef",
   "metadata": {},
   "outputs": [
    {
     "name": "stdout",
     "output_type": "stream",
     "text": [
      "status\n"
     ]
    }
   ],
   "source": [
    "print(media.get(\"FB\"))"
   ]
  },
  {
   "cell_type": "code",
   "execution_count": 15,
   "id": "84c4f025",
   "metadata": {},
   "outputs": [],
   "source": [
    "SAMPLE = {2+2j:\"complex\",18.1:\"float\"}"
   ]
  },
  {
   "cell_type": "code",
   "execution_count": 16,
   "id": "c1ef6e05",
   "metadata": {},
   "outputs": [
    {
     "data": {
      "text/plain": [
       "{(2+2j): 'complex', 18.1: 'float'}"
      ]
     },
     "execution_count": 16,
     "metadata": {},
     "output_type": "execute_result"
    }
   ],
   "source": [
    "SAMPLE"
   ]
  },
  {
   "cell_type": "code",
   "execution_count": 17,
   "id": "326f5f25",
   "metadata": {},
   "outputs": [],
   "source": [
    "media[\"Twitter\"] = \"Fraud\""
   ]
  },
  {
   "cell_type": "code",
   "execution_count": 18,
   "id": "f02c7612",
   "metadata": {},
   "outputs": [
    {
     "data": {
      "text/plain": [
       "{(2+2j): 'complex', 18.1: 'float'}"
      ]
     },
     "execution_count": 18,
     "metadata": {},
     "output_type": "execute_result"
    }
   ],
   "source": [
    "SAMPLE"
   ]
  },
  {
   "cell_type": "code",
   "execution_count": 19,
   "id": "5d146037",
   "metadata": {},
   "outputs": [
    {
     "data": {
      "text/plain": [
       "{'Twitter': 'Fraud', 'FB': 'status', 'instagram': 'photo', 'Linkedin': 'Work'}"
      ]
     },
     "execution_count": 19,
     "metadata": {},
     "output_type": "execute_result"
    }
   ],
   "source": [
    "media"
   ]
  },
  {
   "cell_type": "code",
   "execution_count": 20,
   "id": "14c0bebd",
   "metadata": {},
   "outputs": [
    {
     "data": {
      "text/plain": [
       "dict_items([('England', 'Root'), ('Australia', 'Smith'), ('India', 'Virat'), ('Pakistan', 'Sarfraz')])"
      ]
     },
     "execution_count": 20,
     "metadata": {},
     "output_type": "execute_result"
    }
   ],
   "source": [
    "captains={'England': 'Root', 'Australia': 'Smith', 'India': 'Virat', 'Pakistan': 'Sarfraz'}\n",
    "captains.items()"
   ]
  },
  {
   "cell_type": "code",
   "execution_count": 21,
   "id": "d07f59f7",
   "metadata": {},
   "outputs": [
    {
     "data": {
      "text/plain": [
       "dict_keys(['England', 'Australia', 'India', 'Pakistan'])"
      ]
     },
     "execution_count": 21,
     "metadata": {},
     "output_type": "execute_result"
    }
   ],
   "source": [
    "captains.keys()"
   ]
  },
  {
   "cell_type": "code",
   "execution_count": 22,
   "id": "9b9612ae",
   "metadata": {},
   "outputs": [
    {
     "data": {
      "text/plain": [
       "dict_values(['Root', 'Smith', 'Virat', 'Sarfraz'])"
      ]
     },
     "execution_count": 22,
     "metadata": {},
     "output_type": "execute_result"
    }
   ],
   "source": [
    "captains.values()"
   ]
  },
  {
   "cell_type": "code",
   "execution_count": 23,
   "id": "e1abc30a",
   "metadata": {},
   "outputs": [
    {
     "data": {
      "text/plain": [
       "4"
      ]
     },
     "execution_count": 23,
     "metadata": {},
     "output_type": "execute_result"
    }
   ],
   "source": [
    "len(captains)"
   ]
  },
  {
   "cell_type": "code",
   "execution_count": 24,
   "id": "31892500",
   "metadata": {},
   "outputs": [
    {
     "data": {
      "text/plain": [
       "'Pakistan'"
      ]
     },
     "execution_count": 24,
     "metadata": {},
     "output_type": "execute_result"
    }
   ],
   "source": [
    "max(captains)"
   ]
  },
  {
   "cell_type": "code",
   "execution_count": 26,
   "id": "2b4cf777",
   "metadata": {},
   "outputs": [
    {
     "data": {
      "text/plain": [
       "'Australia'"
      ]
     },
     "execution_count": 26,
     "metadata": {},
     "output_type": "execute_result"
    }
   ],
   "source": [
    "min(captains)"
   ]
  },
  {
   "cell_type": "code",
   "execution_count": 27,
   "id": "cffade92",
   "metadata": {},
   "outputs": [],
   "source": [
    "del captains[\"Pakistan\"]"
   ]
  },
  {
   "cell_type": "code",
   "execution_count": 28,
   "id": "cd82a0e0",
   "metadata": {},
   "outputs": [
    {
     "data": {
      "text/plain": [
       "{'England': 'Root', 'Australia': 'Smith', 'India': 'Virat'}"
      ]
     },
     "execution_count": 28,
     "metadata": {},
     "output_type": "execute_result"
    }
   ],
   "source": [
    "captains"
   ]
  },
  {
   "cell_type": "code",
   "execution_count": 29,
   "id": "76b20d48",
   "metadata": {},
   "outputs": [],
   "source": [
    "del SAMPLE"
   ]
  },
  {
   "cell_type": "code",
   "execution_count": 30,
   "id": "0c64d2de",
   "metadata": {},
   "outputs": [
    {
     "ename": "NameError",
     "evalue": "name 'SAMPLE' is not defined",
     "output_type": "error",
     "traceback": [
      "\u001b[1;31m---------------------------------------------------------------------------\u001b[0m",
      "\u001b[1;31mNameError\u001b[0m                                 Traceback (most recent call last)",
      "\u001b[1;32m~\\AppData\\Local\\Temp/ipykernel_23308/3291916424.py\u001b[0m in \u001b[0;36m<module>\u001b[1;34m\u001b[0m\n\u001b[1;32m----> 1\u001b[1;33m \u001b[0mSAMPLE\u001b[0m\u001b[1;33m\u001b[0m\u001b[1;33m\u001b[0m\u001b[0m\n\u001b[0m",
      "\u001b[1;31mNameError\u001b[0m: name 'SAMPLE' is not defined"
     ]
    }
   ],
   "source": [
    "SAMPLE"
   ]
  },
  {
   "cell_type": "code",
   "execution_count": 31,
   "id": "ab23cfd2",
   "metadata": {},
   "outputs": [
    {
     "data": {
      "text/plain": [
       "'Root'"
      ]
     },
     "execution_count": 31,
     "metadata": {},
     "output_type": "execute_result"
    }
   ],
   "source": [
    "captains.pop(\"England\")"
   ]
  },
  {
   "cell_type": "code",
   "execution_count": 32,
   "id": "370f2200",
   "metadata": {},
   "outputs": [
    {
     "data": {
      "text/plain": [
       "{'Australia': 'Smith', 'India': 'Virat'}"
      ]
     },
     "execution_count": 32,
     "metadata": {},
     "output_type": "execute_result"
    }
   ],
   "source": [
    "captains"
   ]
  },
  {
   "cell_type": "code",
   "execution_count": 33,
   "id": "d6169126",
   "metadata": {},
   "outputs": [],
   "source": [
    "captains.clear()"
   ]
  },
  {
   "cell_type": "code",
   "execution_count": 34,
   "id": "1e29711d",
   "metadata": {},
   "outputs": [
    {
     "data": {
      "text/plain": [
       "{}"
      ]
     },
     "execution_count": 34,
     "metadata": {},
     "output_type": "execute_result"
    }
   ],
   "source": [
    "captains"
   ]
  },
  {
   "cell_type": "code",
   "execution_count": 46,
   "id": "846f29d7",
   "metadata": {},
   "outputs": [],
   "source": [
    "villians={1:\"magneto\", 2:\"Joker\", 3:\"Doctor Doom\", 5:\"Lex Luthor\", 9:\"Green Goblin\", 6:\"Loki\"}"
   ]
  },
  {
   "cell_type": "code",
   "execution_count": 47,
   "id": "0a63884d",
   "metadata": {},
   "outputs": [
    {
     "data": {
      "text/plain": [
       "6"
      ]
     },
     "execution_count": 47,
     "metadata": {},
     "output_type": "execute_result"
    }
   ],
   "source": [
    "# Q.1 Display the length of the dictionary.\n",
    "len(villians)"
   ]
  },
  {
   "cell_type": "code",
   "execution_count": 48,
   "id": "3e7a8c8b",
   "metadata": {},
   "outputs": [
    {
     "data": {
      "text/plain": [
       "1"
      ]
     },
     "execution_count": 48,
     "metadata": {},
     "output_type": "execute_result"
    }
   ],
   "source": [
    "# Q.2 Display the key which has the least value.\n",
    "min(villians)"
   ]
  },
  {
   "cell_type": "code",
   "execution_count": 49,
   "id": "9666022a",
   "metadata": {},
   "outputs": [
    {
     "data": {
      "text/plain": [
       "'Green Goblin'"
      ]
     },
     "execution_count": 49,
     "metadata": {},
     "output_type": "execute_result"
    }
   ],
   "source": [
    "# Q.3 Display the value of the key 9 as well as delete it simultaneously.\n",
    "villians.pop(9)"
   ]
  },
  {
   "cell_type": "code",
   "execution_count": 50,
   "id": "c5908848",
   "metadata": {},
   "outputs": [
    {
     "data": {
      "text/plain": [
       "dict_values(['magneto', 'Joker', 'Doctor Doom', 'Lex Luthor', 'Loki'])"
      ]
     },
     "execution_count": 50,
     "metadata": {},
     "output_type": "execute_result"
    }
   ],
   "source": [
    "# Q.4 Display all the values in dictionary.\n",
    "villians.values()"
   ]
  },
  {
   "cell_type": "code",
   "execution_count": 51,
   "id": "f1dd8d79",
   "metadata": {},
   "outputs": [],
   "source": [
    "# Q.5 Delete all the elements in the dictionary while retaining the empty object.\n",
    "villians.clear()"
   ]
  },
  {
   "cell_type": "code",
   "execution_count": 52,
   "id": "fdccc827",
   "metadata": {},
   "outputs": [
    {
     "data": {
      "text/plain": [
       "{}"
      ]
     },
     "execution_count": 52,
     "metadata": {},
     "output_type": "execute_result"
    }
   ],
   "source": [
    "villians"
   ]
  },
  {
   "cell_type": "code",
   "execution_count": 53,
   "id": "baeab2f4",
   "metadata": {},
   "outputs": [
    {
     "data": {
      "text/plain": [
       "False"
      ]
     },
     "execution_count": 53,
     "metadata": {},
     "output_type": "execute_result"
    }
   ],
   "source": [
    "l = [[1,2],[3,4]]\n",
    "3 in l"
   ]
  },
  {
   "cell_type": "code",
   "execution_count": 54,
   "id": "8b0c8643",
   "metadata": {},
   "outputs": [
    {
     "data": {
      "text/plain": [
       "True"
      ]
     },
     "execution_count": 54,
     "metadata": {},
     "output_type": "execute_result"
    }
   ],
   "source": [
    "[3,4] in l"
   ]
  },
  {
   "cell_type": "code",
   "execution_count": 55,
   "id": "060b7f1c",
   "metadata": {},
   "outputs": [
    {
     "data": {
      "text/plain": [
       "'Py'"
      ]
     },
     "execution_count": 55,
     "metadata": {},
     "output_type": "execute_result"
    }
   ],
   "source": [
    "s = \"Python\"\n",
    "s[:2]"
   ]
  },
  {
   "cell_type": "code",
   "execution_count": 56,
   "id": "fe157fc4",
   "metadata": {},
   "outputs": [
    {
     "data": {
      "text/plain": [
       "'worl'"
      ]
     },
     "execution_count": 56,
     "metadata": {},
     "output_type": "execute_result"
    }
   ],
   "source": [
    "s = \"Where in the world is Carmen\"\n",
    "s[13:17]"
   ]
  },
  {
   "cell_type": "code",
   "execution_count": 57,
   "id": "2464b56f",
   "metadata": {},
   "outputs": [
    {
     "data": {
      "text/plain": [
       "'world'"
      ]
     },
     "execution_count": 57,
     "metadata": {},
     "output_type": "execute_result"
    }
   ],
   "source": [
    "s[13:18]"
   ]
  },
  {
   "cell_type": "code",
   "execution_count": 60,
   "id": "ae59f3b9",
   "metadata": {},
   "outputs": [],
   "source": [
    "l1 = ['one',\"four\",'three','two']"
   ]
  },
  {
   "cell_type": "code",
   "execution_count": 61,
   "id": "5b507423",
   "metadata": {},
   "outputs": [],
   "source": [
    "l1.sort()"
   ]
  },
  {
   "cell_type": "code",
   "execution_count": 62,
   "id": "8870ca1f",
   "metadata": {},
   "outputs": [
    {
     "data": {
      "text/plain": [
       "['four', 'one', 'three', 'two']"
      ]
     },
     "execution_count": 62,
     "metadata": {},
     "output_type": "execute_result"
    }
   ],
   "source": [
    "l1"
   ]
  },
  {
   "cell_type": "code",
   "execution_count": 63,
   "id": "094e59b8",
   "metadata": {},
   "outputs": [],
   "source": [
    "a = 4 \n",
    "b = a\n",
    "a = \"Vishal\""
   ]
  },
  {
   "cell_type": "code",
   "execution_count": 64,
   "id": "3df8c161",
   "metadata": {},
   "outputs": [
    {
     "data": {
      "text/plain": [
       "4"
      ]
     },
     "execution_count": 64,
     "metadata": {},
     "output_type": "execute_result"
    }
   ],
   "source": [
    "b"
   ]
  },
  {
   "cell_type": "code",
   "execution_count": 65,
   "id": "75d254bb",
   "metadata": {},
   "outputs": [
    {
     "ename": "TypeError",
     "evalue": "unsupported operand type(s) for ^: 'list' and 'int'",
     "output_type": "error",
     "traceback": [
      "\u001b[1;31m---------------------------------------------------------------------------\u001b[0m",
      "\u001b[1;31mTypeError\u001b[0m                                 Traceback (most recent call last)",
      "\u001b[1;32m~\\AppData\\Local\\Temp/ipykernel_23308/2309158404.py\u001b[0m in \u001b[0;36m<module>\u001b[1;34m\u001b[0m\n\u001b[1;32m----> 1\u001b[1;33m \u001b[1;33m[\u001b[0m\u001b[1;36m1\u001b[0m\u001b[1;33m,\u001b[0m\u001b[1;36m2\u001b[0m\u001b[1;33m]\u001b[0m\u001b[1;33m^\u001b[0m\u001b[1;36m4\u001b[0m\u001b[1;33m\u001b[0m\u001b[1;33m\u001b[0m\u001b[0m\n\u001b[0m",
      "\u001b[1;31mTypeError\u001b[0m: unsupported operand type(s) for ^: 'list' and 'int'"
     ]
    }
   ],
   "source": [
    "[1,2]^4"
   ]
  },
  {
   "cell_type": "code",
   "execution_count": 68,
   "id": "50807782",
   "metadata": {},
   "outputs": [
    {
     "data": {
      "text/plain": [
       "[1, 2, 4]"
      ]
     },
     "execution_count": 68,
     "metadata": {},
     "output_type": "execute_result"
    }
   ],
   "source": [
    "[1,2]+[4]"
   ]
  },
  {
   "cell_type": "code",
   "execution_count": 69,
   "id": "7a35d60b",
   "metadata": {},
   "outputs": [
    {
     "data": {
      "text/plain": [
       "3.0"
      ]
     },
     "execution_count": 69,
     "metadata": {},
     "output_type": "execute_result"
    }
   ],
   "source": [
    "27**(1/3)"
   ]
  },
  {
   "cell_type": "code",
   "execution_count": 70,
   "id": "cce1288e",
   "metadata": {},
   "outputs": [
    {
     "data": {
      "text/plain": [
       "9.0"
      ]
     },
     "execution_count": 70,
     "metadata": {},
     "output_type": "execute_result"
    }
   ],
   "source": [
    "27**1/3"
   ]
  },
  {
   "cell_type": "code",
   "execution_count": 71,
   "id": "4bda9b5e",
   "metadata": {},
   "outputs": [
    {
     "data": {
      "text/plain": [
       "81.0"
      ]
     },
     "execution_count": 71,
     "metadata": {},
     "output_type": "execute_result"
    }
   ],
   "source": [
    "27//(1/3)"
   ]
  },
  {
   "cell_type": "code",
   "execution_count": 73,
   "id": "00210a5b",
   "metadata": {},
   "outputs": [
    {
     "ename": "ValueError",
     "evalue": "substring not found",
     "output_type": "error",
     "traceback": [
      "\u001b[1;31m---------------------------------------------------------------------------\u001b[0m",
      "\u001b[1;31mValueError\u001b[0m                                Traceback (most recent call last)",
      "\u001b[1;32m~\\AppData\\Local\\Temp/ipykernel_23308/3141119004.py\u001b[0m in \u001b[0;36m<module>\u001b[1;34m\u001b[0m\n\u001b[0;32m      1\u001b[0m \u001b[0mv\u001b[0m \u001b[1;33m=\u001b[0m \u001b[1;34m'Vishal'\u001b[0m\u001b[1;33m\u001b[0m\u001b[1;33m\u001b[0m\u001b[0m\n\u001b[1;32m----> 2\u001b[1;33m \u001b[0mv\u001b[0m\u001b[1;33m.\u001b[0m\u001b[0mindex\u001b[0m\u001b[1;33m(\u001b[0m\u001b[1;34m\"H\"\u001b[0m\u001b[1;33m)\u001b[0m\u001b[1;33m\u001b[0m\u001b[1;33m\u001b[0m\u001b[0m\n\u001b[0m",
      "\u001b[1;31mValueError\u001b[0m: substring not found"
     ]
    }
   ],
   "source": [
    "v = 'Vishal'\n",
    "v.index(\"H\")"
   ]
  },
  {
   "cell_type": "code",
   "execution_count": null,
   "id": "f2fd944d",
   "metadata": {},
   "outputs": [],
   "source": []
  }
 ],
 "metadata": {
  "kernelspec": {
   "display_name": "Python 3 (ipykernel)",
   "language": "python",
   "name": "python3"
  },
  "language_info": {
   "codemirror_mode": {
    "name": "ipython",
    "version": 3
   },
   "file_extension": ".py",
   "mimetype": "text/x-python",
   "name": "python",
   "nbconvert_exporter": "python",
   "pygments_lexer": "ipython3",
   "version": "3.9.7"
  }
 },
 "nbformat": 4,
 "nbformat_minor": 5
}
