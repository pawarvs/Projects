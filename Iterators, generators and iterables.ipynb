{
 "cells": [
  {
   "cell_type": "markdown",
   "id": "3f99b3bb",
   "metadata": {},
   "source": [
    "### Iterable "
   ]
  },
  {
   "cell_type": "code",
   "execution_count": 1,
   "id": "10980d04",
   "metadata": {},
   "outputs": [],
   "source": [
    "l = [1,2,'vish']"
   ]
  },
  {
   "cell_type": "code",
   "execution_count": 2,
   "id": "93409fbb",
   "metadata": {},
   "outputs": [
    {
     "name": "stdout",
     "output_type": "stream",
     "text": [
      "1   2   vish   "
     ]
    }
   ],
   "source": [
    "for i in l :\n",
    "    print(i,end = '   ')"
   ]
  },
  {
   "cell_type": "code",
   "execution_count": 3,
   "id": "10749d2f",
   "metadata": {},
   "outputs": [
    {
     "ename": "TypeError",
     "evalue": "'list' object is not an iterator",
     "output_type": "error",
     "traceback": [
      "\u001b[1;31m---------------------------------------------------------------------------\u001b[0m",
      "\u001b[1;31mTypeError\u001b[0m                                 Traceback (most recent call last)",
      "\u001b[1;32m~\\AppData\\Local\\Temp/ipykernel_4204/2016234150.py\u001b[0m in \u001b[0;36m<module>\u001b[1;34m\u001b[0m\n\u001b[1;32m----> 1\u001b[1;33m \u001b[0mnext\u001b[0m\u001b[1;33m(\u001b[0m\u001b[0ml\u001b[0m\u001b[1;33m)\u001b[0m\u001b[1;33m\u001b[0m\u001b[1;33m\u001b[0m\u001b[0m\n\u001b[0m",
      "\u001b[1;31mTypeError\u001b[0m: 'list' object is not an iterator"
     ]
    }
   ],
   "source": [
    "next(l)"
   ]
  },
  {
   "cell_type": "code",
   "execution_count": null,
   "id": "e87edcc8",
   "metadata": {},
   "outputs": [],
   "source": [
    "b = iter(l)"
   ]
  },
  {
   "cell_type": "code",
   "execution_count": 4,
   "id": "769a77ba",
   "metadata": {},
   "outputs": [
    {
     "ename": "NameError",
     "evalue": "name 'b' is not defined",
     "output_type": "error",
     "traceback": [
      "\u001b[1;31m---------------------------------------------------------------------------\u001b[0m",
      "\u001b[1;31mNameError\u001b[0m                                 Traceback (most recent call last)",
      "\u001b[1;32m~\\AppData\\Local\\Temp/ipykernel_4204/973617480.py\u001b[0m in \u001b[0;36m<module>\u001b[1;34m\u001b[0m\n\u001b[1;32m----> 1\u001b[1;33m \u001b[0mnext\u001b[0m\u001b[1;33m(\u001b[0m\u001b[0mb\u001b[0m\u001b[1;33m)\u001b[0m\u001b[1;33m\u001b[0m\u001b[1;33m\u001b[0m\u001b[0m\n\u001b[0m",
      "\u001b[1;31mNameError\u001b[0m: name 'b' is not defined"
     ]
    }
   ],
   "source": [
    "next(b)"
   ]
  },
  {
   "cell_type": "code",
   "execution_count": 5,
   "id": "be31e780",
   "metadata": {},
   "outputs": [
    {
     "ename": "NameError",
     "evalue": "name 'b' is not defined",
     "output_type": "error",
     "traceback": [
      "\u001b[1;31m---------------------------------------------------------------------------\u001b[0m",
      "\u001b[1;31mNameError\u001b[0m                                 Traceback (most recent call last)",
      "\u001b[1;32m~\\AppData\\Local\\Temp/ipykernel_4204/973617480.py\u001b[0m in \u001b[0;36m<module>\u001b[1;34m\u001b[0m\n\u001b[1;32m----> 1\u001b[1;33m \u001b[0mnext\u001b[0m\u001b[1;33m(\u001b[0m\u001b[0mb\u001b[0m\u001b[1;33m)\u001b[0m\u001b[1;33m\u001b[0m\u001b[1;33m\u001b[0m\u001b[0m\n\u001b[0m",
      "\u001b[1;31mNameError\u001b[0m: name 'b' is not defined"
     ]
    }
   ],
   "source": [
    "next(b)"
   ]
  },
  {
   "cell_type": "code",
   "execution_count": 6,
   "id": "dac5b657",
   "metadata": {},
   "outputs": [
    {
     "ename": "NameError",
     "evalue": "name 'b' is not defined",
     "output_type": "error",
     "traceback": [
      "\u001b[1;31m---------------------------------------------------------------------------\u001b[0m",
      "\u001b[1;31mNameError\u001b[0m                                 Traceback (most recent call last)",
      "\u001b[1;32m~\\AppData\\Local\\Temp/ipykernel_4204/973617480.py\u001b[0m in \u001b[0;36m<module>\u001b[1;34m\u001b[0m\n\u001b[1;32m----> 1\u001b[1;33m \u001b[0mnext\u001b[0m\u001b[1;33m(\u001b[0m\u001b[0mb\u001b[0m\u001b[1;33m)\u001b[0m\u001b[1;33m\u001b[0m\u001b[1;33m\u001b[0m\u001b[0m\n\u001b[0m",
      "\u001b[1;31mNameError\u001b[0m: name 'b' is not defined"
     ]
    }
   ],
   "source": [
    "next(b)"
   ]
  },
  {
   "cell_type": "code",
   "execution_count": 7,
   "id": "7d5c890d",
   "metadata": {},
   "outputs": [
    {
     "ename": "NameError",
     "evalue": "name 'b' is not defined",
     "output_type": "error",
     "traceback": [
      "\u001b[1;31m---------------------------------------------------------------------------\u001b[0m",
      "\u001b[1;31mNameError\u001b[0m                                 Traceback (most recent call last)",
      "\u001b[1;32m~\\AppData\\Local\\Temp/ipykernel_4204/973617480.py\u001b[0m in \u001b[0;36m<module>\u001b[1;34m\u001b[0m\n\u001b[1;32m----> 1\u001b[1;33m \u001b[0mnext\u001b[0m\u001b[1;33m(\u001b[0m\u001b[0mb\u001b[0m\u001b[1;33m)\u001b[0m\u001b[1;33m\u001b[0m\u001b[1;33m\u001b[0m\u001b[0m\n\u001b[0m",
      "\u001b[1;31mNameError\u001b[0m: name 'b' is not defined"
     ]
    }
   ],
   "source": [
    "next(b)"
   ]
  },
  {
   "cell_type": "code",
   "execution_count": 8,
   "id": "eda6e496",
   "metadata": {},
   "outputs": [
    {
     "ename": "TypeError",
     "evalue": "'int' object is not an iterator",
     "output_type": "error",
     "traceback": [
      "\u001b[1;31m---------------------------------------------------------------------------\u001b[0m",
      "\u001b[1;31mTypeError\u001b[0m                                 Traceback (most recent call last)",
      "\u001b[1;32m~\\AppData\\Local\\Temp/ipykernel_4204/2317411141.py\u001b[0m in \u001b[0;36m<module>\u001b[1;34m\u001b[0m\n\u001b[1;32m----> 1\u001b[1;33m \u001b[0mnext\u001b[0m\u001b[1;33m(\u001b[0m\u001b[1;36m45\u001b[0m\u001b[1;33m)\u001b[0m\u001b[1;33m\u001b[0m\u001b[1;33m\u001b[0m\u001b[0m\n\u001b[0m",
      "\u001b[1;31mTypeError\u001b[0m: 'int' object is not an iterator"
     ]
    }
   ],
   "source": [
    "next(45)"
   ]
  },
  {
   "cell_type": "code",
   "execution_count": 9,
   "id": "69852af9",
   "metadata": {},
   "outputs": [
    {
     "ename": "TypeError",
     "evalue": "'int' object is not iterable",
     "output_type": "error",
     "traceback": [
      "\u001b[1;31m---------------------------------------------------------------------------\u001b[0m",
      "\u001b[1;31mTypeError\u001b[0m                                 Traceback (most recent call last)",
      "\u001b[1;32m~\\AppData\\Local\\Temp/ipykernel_4204/3186544426.py\u001b[0m in \u001b[0;36m<module>\u001b[1;34m\u001b[0m\n\u001b[1;32m----> 1\u001b[1;33m \u001b[0miter\u001b[0m\u001b[1;33m(\u001b[0m\u001b[1;36m45\u001b[0m\u001b[1;33m)\u001b[0m\u001b[1;33m\u001b[0m\u001b[1;33m\u001b[0m\u001b[0m\n\u001b[0m",
      "\u001b[1;31mTypeError\u001b[0m: 'int' object is not iterable"
     ]
    }
   ],
   "source": [
    "iter(45)"
   ]
  },
  {
   "cell_type": "markdown",
   "id": "14866e2a",
   "metadata": {},
   "source": [
    "If object is iterable, for loop try to convert those objects into an iterators. Then by applying next function it will start extracting the data."
   ]
  },
  {
   "cell_type": "code",
   "execution_count": 10,
   "id": "3a196cef",
   "metadata": {},
   "outputs": [
    {
     "data": {
      "text/plain": [
       "<list_iterator at 0x20185c5f880>"
      ]
     },
     "execution_count": 10,
     "metadata": {},
     "output_type": "execute_result"
    }
   ],
   "source": [
    "iter([1,2,3,4,5,6])"
   ]
  },
  {
   "cell_type": "markdown",
   "id": "d48f2da1",
   "metadata": {},
   "source": [
    "By default list object is not a iterator. it is iterable object\n",
    "Internally for loop by default call iter function and then next \n",
    "function. \n",
    "iter function coverts interable into iterator. and then with the help of next function it will extract a data.\n",
    "If some object are not iterable, you will not able to convert it into an iterator.\n",
    "example: integers, digits"
   ]
  },
  {
   "cell_type": "markdown",
   "id": "eddd3a7b",
   "metadata": {},
   "source": [
    "If objects are iterable for loop converts them into interator. And then by applying next function the data is extracted."
   ]
  },
  {
   "cell_type": "code",
   "execution_count": 11,
   "id": "8cdcdce5",
   "metadata": {},
   "outputs": [
    {
     "ename": "TypeError",
     "evalue": "'str' object is not an iterator",
     "output_type": "error",
     "traceback": [
      "\u001b[1;31m---------------------------------------------------------------------------\u001b[0m",
      "\u001b[1;31mTypeError\u001b[0m                                 Traceback (most recent call last)",
      "\u001b[1;32m~\\AppData\\Local\\Temp/ipykernel_4204/1837640172.py\u001b[0m in \u001b[0;36m<module>\u001b[1;34m\u001b[0m\n\u001b[0;32m      1\u001b[0m \u001b[0ms\u001b[0m \u001b[1;33m=\u001b[0m \u001b[1;34m'AKSHAY'\u001b[0m\u001b[1;33m\u001b[0m\u001b[1;33m\u001b[0m\u001b[0m\n\u001b[1;32m----> 2\u001b[1;33m \u001b[0mnext\u001b[0m\u001b[1;33m(\u001b[0m\u001b[0ms\u001b[0m\u001b[1;33m)\u001b[0m\u001b[1;33m\u001b[0m\u001b[1;33m\u001b[0m\u001b[0m\n\u001b[0m",
      "\u001b[1;31mTypeError\u001b[0m: 'str' object is not an iterator"
     ]
    }
   ],
   "source": [
    "s = 'AKSHAY'\n",
    "next(s)"
   ]
  },
  {
   "cell_type": "markdown",
   "id": "c96b2025",
   "metadata": {},
   "source": [
    "By default strings are not iterator, but strings are iterable objects.\n",
    "So by default I would like to convert string into an iterator unless and until, I will not able to extract any infomation from this string.\n"
   ]
  },
  {
   "cell_type": "code",
   "execution_count": 12,
   "id": "c48e47ef",
   "metadata": {},
   "outputs": [
    {
     "data": {
      "text/plain": [
       "'A'"
      ]
     },
     "execution_count": 12,
     "metadata": {},
     "output_type": "execute_result"
    }
   ],
   "source": [
    "b = iter(s)\n",
    "next(b)"
   ]
  },
  {
   "cell_type": "code",
   "execution_count": 13,
   "id": "0bab7af5",
   "metadata": {},
   "outputs": [
    {
     "data": {
      "text/plain": [
       "'K'"
      ]
     },
     "execution_count": 13,
     "metadata": {},
     "output_type": "execute_result"
    }
   ],
   "source": [
    "next(b)"
   ]
  },
  {
   "cell_type": "code",
   "execution_count": 14,
   "id": "233e2efc",
   "metadata": {},
   "outputs": [
    {
     "data": {
      "text/plain": [
       "'S'"
      ]
     },
     "execution_count": 14,
     "metadata": {},
     "output_type": "execute_result"
    }
   ],
   "source": [
    "next(b)"
   ]
  },
  {
   "cell_type": "code",
   "execution_count": 15,
   "id": "eadbf40b",
   "metadata": {},
   "outputs": [
    {
     "data": {
      "text/plain": [
       "'H'"
      ]
     },
     "execution_count": 15,
     "metadata": {},
     "output_type": "execute_result"
    }
   ],
   "source": [
    "next(b)"
   ]
  },
  {
   "cell_type": "code",
   "execution_count": 16,
   "id": "f411bf98",
   "metadata": {},
   "outputs": [
    {
     "data": {
      "text/plain": [
       "'A'"
      ]
     },
     "execution_count": 16,
     "metadata": {},
     "output_type": "execute_result"
    }
   ],
   "source": [
    "next(b)"
   ]
  },
  {
   "cell_type": "code",
   "execution_count": 17,
   "id": "35bb9c5d",
   "metadata": {},
   "outputs": [
    {
     "data": {
      "text/plain": [
       "'Y'"
      ]
     },
     "execution_count": 17,
     "metadata": {},
     "output_type": "execute_result"
    }
   ],
   "source": [
    "next(b)"
   ]
  },
  {
   "cell_type": "code",
   "execution_count": 18,
   "id": "31ea17d7",
   "metadata": {},
   "outputs": [
    {
     "name": "stdout",
     "output_type": "stream",
     "text": [
      "V   i   s   h   "
     ]
    }
   ],
   "source": [
    "s = 'Vish'\n",
    "for i in s :\n",
    "    print(i,end = '   ')"
   ]
  },
  {
   "cell_type": "markdown",
   "id": "f1436ee5",
   "metadata": {},
   "source": [
    "To make string iterable, for loop uses len() function, iter function and next function to extract the data out of a sting.\n",
    "len() function knows where to stop \n",
    "iter function to converts any iterable bariers to iterator\n",
    "next function call the one by one to show you the data."
   ]
  },
  {
   "cell_type": "code",
   "execution_count": 19,
   "id": "4eedf388",
   "metadata": {},
   "outputs": [
    {
     "ename": "TypeError",
     "evalue": "'tuple' object is not an iterator",
     "output_type": "error",
     "traceback": [
      "\u001b[1;31m---------------------------------------------------------------------------\u001b[0m",
      "\u001b[1;31mTypeError\u001b[0m                                 Traceback (most recent call last)",
      "\u001b[1;32m~\\AppData\\Local\\Temp/ipykernel_4204/1583330898.py\u001b[0m in \u001b[0;36m<module>\u001b[1;34m\u001b[0m\n\u001b[0;32m      1\u001b[0m \u001b[0mt\u001b[0m \u001b[1;33m=\u001b[0m \u001b[1;33m(\u001b[0m\u001b[1;36m1\u001b[0m\u001b[1;33m,\u001b[0m\u001b[1;36m2\u001b[0m\u001b[1;33m,\u001b[0m\u001b[1;36m5\u001b[0m\u001b[1;33m,\u001b[0m\u001b[1;36m6\u001b[0m\u001b[1;33m)\u001b[0m\u001b[1;33m\u001b[0m\u001b[1;33m\u001b[0m\u001b[0m\n\u001b[1;32m----> 2\u001b[1;33m \u001b[0mnext\u001b[0m\u001b[1;33m(\u001b[0m\u001b[0mt\u001b[0m\u001b[1;33m)\u001b[0m\u001b[1;33m\u001b[0m\u001b[1;33m\u001b[0m\u001b[0m\n\u001b[0m",
      "\u001b[1;31mTypeError\u001b[0m: 'tuple' object is not an iterator"
     ]
    }
   ],
   "source": [
    "t = (1,2,5,6)\n",
    "next(t)\n"
   ]
  },
  {
   "cell_type": "code",
   "execution_count": 20,
   "id": "29f7debe",
   "metadata": {},
   "outputs": [
    {
     "data": {
      "text/plain": [
       "(1, 2, 5, 6)"
      ]
     },
     "execution_count": 20,
     "metadata": {},
     "output_type": "execute_result"
    }
   ],
   "source": [
    "b = iter(t)\n",
    "(next(b),next(b),next(b),next(b))"
   ]
  },
  {
   "cell_type": "code",
   "execution_count": 21,
   "id": "3e363823",
   "metadata": {},
   "outputs": [
    {
     "ename": "StopIteration",
     "evalue": "",
     "output_type": "error",
     "traceback": [
      "\u001b[1;31m---------------------------------------------------------------------------\u001b[0m",
      "\u001b[1;31mStopIteration\u001b[0m                             Traceback (most recent call last)",
      "\u001b[1;32m~\\AppData\\Local\\Temp/ipykernel_4204/973617480.py\u001b[0m in \u001b[0;36m<module>\u001b[1;34m\u001b[0m\n\u001b[1;32m----> 1\u001b[1;33m \u001b[0mnext\u001b[0m\u001b[1;33m(\u001b[0m\u001b[0mb\u001b[0m\u001b[1;33m)\u001b[0m\u001b[1;33m\u001b[0m\u001b[1;33m\u001b[0m\u001b[0m\n\u001b[0m",
      "\u001b[1;31mStopIteration\u001b[0m: "
     ]
    }
   ],
   "source": [
    "next(b)"
   ]
  },
  {
   "cell_type": "code",
   "execution_count": 22,
   "id": "b6e06524",
   "metadata": {},
   "outputs": [
    {
     "name": "stdout",
     "output_type": "stream",
     "text": [
      "1  2  5  6  "
     ]
    }
   ],
   "source": [
    "for i in t :\n",
    "    print(i, end = '  ')"
   ]
  },
  {
   "cell_type": "markdown",
   "id": "07d26ad5",
   "metadata": {},
   "source": [
    "### Generator function"
   ]
  },
  {
   "cell_type": "code",
   "execution_count": 23,
   "id": "95e71213",
   "metadata": {},
   "outputs": [
    {
     "data": {
      "text/plain": [
       "range(0, 10)"
      ]
     },
     "execution_count": 23,
     "metadata": {},
     "output_type": "execute_result"
    }
   ],
   "source": [
    "range(0,10)"
   ]
  },
  {
   "cell_type": "code",
   "execution_count": 24,
   "id": "81359f13",
   "metadata": {},
   "outputs": [
    {
     "data": {
      "text/plain": [
       "[0, 1, 2, 3, 4, 5, 6, 7, 8, 9]"
      ]
     },
     "execution_count": 24,
     "metadata": {},
     "output_type": "execute_result"
    }
   ],
   "source": [
    "list(range(0,10))"
   ]
  },
  {
   "cell_type": "code",
   "execution_count": 25,
   "id": "f174afee",
   "metadata": {},
   "outputs": [
    {
     "data": {
      "text/plain": [
       "[1, 4, 9, 16, 25, 36, 49, 64, 81]"
      ]
     },
     "execution_count": 25,
     "metadata": {},
     "output_type": "execute_result"
    }
   ],
   "source": [
    "def square(n) :\n",
    "    x = [i*i for i in range(1,n)]\n",
    "    return x\n",
    "square(10)\n",
    "\n"
   ]
  },
  {
   "cell_type": "code",
   "execution_count": 26,
   "id": "fe1f4586",
   "metadata": {},
   "outputs": [
    {
     "data": {
      "text/plain": [
       "[1, 4, 9, 16]"
      ]
     },
     "execution_count": 26,
     "metadata": {},
     "output_type": "execute_result"
    }
   ],
   "source": [
    "square(5)"
   ]
  },
  {
   "cell_type": "code",
   "execution_count": 27,
   "id": "9769e35c",
   "metadata": {},
   "outputs": [
    {
     "data": {
      "text/plain": [
       "[0, 1, 2, 3]"
      ]
     },
     "execution_count": 27,
     "metadata": {},
     "output_type": "execute_result"
    }
   ],
   "source": [
    "list(range(4))"
   ]
  },
  {
   "cell_type": "code",
   "execution_count": 28,
   "id": "67522c8e",
   "metadata": {},
   "outputs": [
    {
     "data": {
      "text/plain": [
       "<generator object square1 at 0x0000020185D51040>"
      ]
     },
     "execution_count": 28,
     "metadata": {},
     "output_type": "execute_result"
    }
   ],
   "source": [
    "def square1(n) :\n",
    "    x = [i*i for i in range(1,n)]\n",
    "    yield x\n",
    "\n",
    "square1(5)"
   ]
  },
  {
   "cell_type": "markdown",
   "id": "9843b1a9",
   "metadata": {},
   "source": [
    "To convert any function into a gererator function,yield keyword is used. \n",
    "yield function converts original function to the gererator function which gives object instead of output."
   ]
  },
  {
   "cell_type": "code",
   "execution_count": 29,
   "id": "6d4b71e7",
   "metadata": {},
   "outputs": [
    {
     "data": {
      "text/plain": [
       "range(0, 5)"
      ]
     },
     "execution_count": 29,
     "metadata": {},
     "output_type": "execute_result"
    }
   ],
   "source": [
    "range(5)"
   ]
  },
  {
   "cell_type": "code",
   "execution_count": 30,
   "id": "261d4a8a",
   "metadata": {},
   "outputs": [
    {
     "name": "stdout",
     "output_type": "stream",
     "text": [
      "[1, 4, 9, 16]\n"
     ]
    }
   ],
   "source": [
    "for i in square1(5) :\n",
    "    print(i)"
   ]
  },
  {
   "cell_type": "code",
   "execution_count": 31,
   "id": "f8ccee4c",
   "metadata": {},
   "outputs": [
    {
     "data": {
      "text/plain": [
       "[1, 4, 9, 16]"
      ]
     },
     "execution_count": 31,
     "metadata": {},
     "output_type": "execute_result"
    }
   ],
   "source": [
    "next(square1(5))"
   ]
  },
  {
   "cell_type": "code",
   "execution_count": 32,
   "id": "9ae2d26d",
   "metadata": {},
   "outputs": [
    {
     "ename": "TypeError",
     "evalue": "'range' object is not an iterator",
     "output_type": "error",
     "traceback": [
      "\u001b[1;31m---------------------------------------------------------------------------\u001b[0m",
      "\u001b[1;31mTypeError\u001b[0m                                 Traceback (most recent call last)",
      "\u001b[1;32m~\\AppData\\Local\\Temp/ipykernel_4204/2900367581.py\u001b[0m in \u001b[0;36m<module>\u001b[1;34m\u001b[0m\n\u001b[1;32m----> 1\u001b[1;33m \u001b[0mnext\u001b[0m\u001b[1;33m(\u001b[0m\u001b[0mrange\u001b[0m\u001b[1;33m(\u001b[0m\u001b[1;36m4\u001b[0m\u001b[1;33m)\u001b[0m\u001b[1;33m)\u001b[0m\u001b[1;33m\u001b[0m\u001b[1;33m\u001b[0m\u001b[0m\n\u001b[0m",
      "\u001b[1;31mTypeError\u001b[0m: 'range' object is not an iterator"
     ]
    }
   ],
   "source": [
    "next(range(4))"
   ]
  },
  {
   "cell_type": "code",
   "execution_count": 33,
   "id": "2bb54342",
   "metadata": {},
   "outputs": [],
   "source": [
    "r = iter(range(4))"
   ]
  },
  {
   "cell_type": "code",
   "execution_count": 34,
   "id": "bbdc27c8",
   "metadata": {},
   "outputs": [
    {
     "data": {
      "text/plain": [
       "(0, 1, 2)"
      ]
     },
     "execution_count": 34,
     "metadata": {},
     "output_type": "execute_result"
    }
   ],
   "source": [
    "(next(r),next(r),next(r))"
   ]
  },
  {
   "cell_type": "markdown",
   "id": "1e28c006",
   "metadata": {},
   "source": [
    "fibonacci serires : Every number will be a addition of previous two number"
   ]
  },
  {
   "cell_type": "code",
   "execution_count": 35,
   "id": "93594001",
   "metadata": {},
   "outputs": [
    {
     "data": {
      "text/plain": [
       "[1, 1, 2, 3, 5, 8, 13, 21, 34, 55]"
      ]
     },
     "execution_count": 35,
     "metadata": {},
     "output_type": "execute_result"
    }
   ],
   "source": [
    "def genfib(n) :\n",
    "    a = 1\n",
    "    b = 1\n",
    "    l = []\n",
    "    for i in range(n) :\n",
    "        l.append(a)\n",
    "        a,b = b,a+b\n",
    "    return l\n",
    "genfib(10)"
   ]
  },
  {
   "cell_type": "code",
   "execution_count": 36,
   "id": "2ccda2d6",
   "metadata": {},
   "outputs": [],
   "source": [
    "# generator function of of fibonacci serires\n",
    "def genfib1(n) :\n",
    "     a = 1\n",
    "     b = 1\n",
    "     l = []\n",
    "     for i in range(n) :\n",
    "         l.append(a)\n",
    "         a,b = b,a+b\n",
    "     yield l\n",
    "\n",
    "    "
   ]
  },
  {
   "cell_type": "code",
   "execution_count": 37,
   "id": "a02ad657",
   "metadata": {},
   "outputs": [
    {
     "data": {
      "text/plain": [
       "<generator object genfib1 at 0x0000020185D51890>"
      ]
     },
     "execution_count": 37,
     "metadata": {},
     "output_type": "execute_result"
    }
   ],
   "source": [
    "genfib1(10)"
   ]
  },
  {
   "cell_type": "code",
   "execution_count": 38,
   "id": "1985c22b",
   "metadata": {},
   "outputs": [
    {
     "name": "stdout",
     "output_type": "stream",
     "text": [
      "[1, 1, 2, 3, 5, 8, 13, 21, 34, 55]\n"
     ]
    }
   ],
   "source": [
    "for i in genfib1(10) :\n",
    "    print(i)"
   ]
  },
  {
   "cell_type": "markdown",
   "id": "394ab15a",
   "metadata": {},
   "source": [
    "### File Handling "
   ]
  },
  {
   "cell_type": "markdown",
   "id": "c4b092e0",
   "metadata": {},
   "source": [
    "File operations"
   ]
  },
  {
   "cell_type": "code",
   "execution_count": 39,
   "id": "320c2f9e",
   "metadata": {},
   "outputs": [],
   "source": [
    "# f = open(\"vishal1.txt\")\n",
    "f = open('vishal1.txt','w')"
   ]
  },
  {
   "cell_type": "code",
   "execution_count": 40,
   "id": "5308e2f1",
   "metadata": {},
   "outputs": [
    {
     "ename": "NameError",
     "evalue": "name 'ls' is not defined",
     "output_type": "error",
     "traceback": [
      "\u001b[1;31m---------------------------------------------------------------------------\u001b[0m",
      "\u001b[1;31mNameError\u001b[0m                                 Traceback (most recent call last)",
      "\u001b[1;32m~\\AppData\\Local\\Temp/ipykernel_4204/118655116.py\u001b[0m in \u001b[0;36m<module>\u001b[1;34m\u001b[0m\n\u001b[0;32m      1\u001b[0m \u001b[1;31m# To check all the files avilable in the system.\u001b[0m\u001b[1;33m\u001b[0m\u001b[1;33m\u001b[0m\u001b[0m\n\u001b[1;32m----> 2\u001b[1;33m \u001b[0mls\u001b[0m\u001b[1;33m\u001b[0m\u001b[1;33m\u001b[0m\u001b[0m\n\u001b[0m",
      "\u001b[1;31mNameError\u001b[0m: name 'ls' is not defined"
     ]
    }
   ],
   "source": [
    "# To check all the files avilable in the system.\n",
    "ls"
   ]
  },
  {
   "cell_type": "code",
   "execution_count": 41,
   "id": "be0c1067",
   "metadata": {},
   "outputs": [
    {
     "data": {
      "text/plain": [
       "36"
      ]
     },
     "execution_count": 41,
     "metadata": {},
     "output_type": "execute_result"
    }
   ],
   "source": [
    "f.write(\"This is my very first file operation\")"
   ]
  },
  {
   "cell_type": "code",
   "execution_count": 42,
   "id": "6f6d336e",
   "metadata": {},
   "outputs": [],
   "source": [
    "f.close()"
   ]
  },
  {
   "cell_type": "code",
   "execution_count": 43,
   "id": "71cb1e61",
   "metadata": {},
   "outputs": [
    {
     "name": "stdout",
     "output_type": "stream",
     "text": [
      " Volume in drive D has no label.\n",
      " Volume Serial Number is 4EBE-833C\n",
      "\n",
      " Directory of D:\\Ineuron learning\n",
      "\n",
      "08/12/2022  01:20 PM    <DIR>          .\n",
      "08/12/2022  08:51 AM    <DIR>          .ipynb_checkpoints\n",
      "08/08/2022  05:11 PM            13,310 Conditionals_if,else,elif.ipynb\n",
      "08/05/2022  04:04 PM            11,668 Dictionary.ipynb\n",
      "08/12/2022  08:36 AM             3,255 Exception_handling.ipynb\n",
      "08/10/2022  01:16 PM            17,921 For_loop.ipynb\n",
      "08/12/2022  12:58 PM                18 fun.vish\n",
      "08/11/2022  11:14 PM            44,773 Functions.ipynb\n",
      "08/11/2022  08:40 AM             8,640 Hello.mp3\n",
      "08/12/2022  01:20 PM            34,845 Iterators, generators and iterables.ipynb\n",
      "08/05/2022  06:05 PM            36,013 List and it's manupulations.ipynb\n",
      "08/12/2022  12:32 PM                31 list.txt\n",
      "08/04/2022  02:34 PM            11,393 Python basics.ipynb\n",
      "08/05/2022  04:24 PM            11,736 Python_sets.ipynb\n",
      "08/05/2022  01:30 PM             7,638 Python_tuples.ipynb\n",
      "08/10/2022  02:21 PM           113,561 Revision and task solving (1).ipynb\n",
      "08/10/2022  11:35 AM            48,347 String.ipynb\n",
      "08/10/2022  02:00 PM            12,190 Task_string.ipynb\n",
      "08/10/2022  02:54 PM             5,981 Task2.ipynb\n",
      "08/10/2022  06:26 PM            13,746 Task3.ipynb\n",
      "08/11/2022  08:52 AM            52,280 Task4_while loop.ipynb\n",
      "08/12/2022  12:28 PM                33 test.txt\n",
      "08/12/2022  01:10 PM                65 text2.txt\n",
      "08/12/2022  01:22 PM                36 vishal1.txt\n",
      "08/09/2022  09:19 AM         3,583,813 While_loop.ipynb\n",
      "              23 File(s)      4,031,293 bytes\n",
      "               2 Dir(s)  315,310,424,064 bytes free\n"
     ]
    }
   ],
   "source": [
    "ls"
   ]
  },
  {
   "cell_type": "code",
   "execution_count": 44,
   "id": "40e20c71",
   "metadata": {},
   "outputs": [],
   "source": [
    "f1 = open(\"test.txt\",'w')"
   ]
  },
  {
   "cell_type": "code",
   "execution_count": 45,
   "id": "9c7d4bce",
   "metadata": {},
   "outputs": [
    {
     "name": "stdout",
     "output_type": "stream",
     "text": [
      " Volume in drive D has no label.\n",
      " Volume Serial Number is 4EBE-833C\n",
      "\n",
      " Directory of D:\\Ineuron learning\n",
      "\n",
      "08/12/2022  01:20 PM    <DIR>          .\n",
      "08/12/2022  08:51 AM    <DIR>          .ipynb_checkpoints\n",
      "08/08/2022  05:11 PM            13,310 Conditionals_if,else,elif.ipynb\n",
      "08/05/2022  04:04 PM            11,668 Dictionary.ipynb\n",
      "08/12/2022  08:36 AM             3,255 Exception_handling.ipynb\n",
      "08/10/2022  01:16 PM            17,921 For_loop.ipynb\n",
      "08/12/2022  12:58 PM                18 fun.vish\n",
      "08/11/2022  11:14 PM            44,773 Functions.ipynb\n",
      "08/11/2022  08:40 AM             8,640 Hello.mp3\n",
      "08/12/2022  01:20 PM            34,845 Iterators, generators and iterables.ipynb\n",
      "08/05/2022  06:05 PM            36,013 List and it's manupulations.ipynb\n",
      "08/12/2022  12:32 PM                31 list.txt\n",
      "08/04/2022  02:34 PM            11,393 Python basics.ipynb\n",
      "08/05/2022  04:24 PM            11,736 Python_sets.ipynb\n",
      "08/05/2022  01:30 PM             7,638 Python_tuples.ipynb\n",
      "08/10/2022  02:21 PM           113,561 Revision and task solving (1).ipynb\n",
      "08/10/2022  11:35 AM            48,347 String.ipynb\n",
      "08/10/2022  02:00 PM            12,190 Task_string.ipynb\n",
      "08/10/2022  02:54 PM             5,981 Task2.ipynb\n",
      "08/10/2022  06:26 PM            13,746 Task3.ipynb\n",
      "08/11/2022  08:52 AM            52,280 Task4_while loop.ipynb\n",
      "08/12/2022  01:22 PM                 0 test.txt\n",
      "08/12/2022  01:10 PM                65 text2.txt\n",
      "08/12/2022  01:22 PM                36 vishal1.txt\n",
      "08/09/2022  09:19 AM         3,583,813 While_loop.ipynb\n",
      "              23 File(s)      4,031,260 bytes\n",
      "               2 Dir(s)  315,310,424,064 bytes free\n"
     ]
    }
   ],
   "source": [
    "ls"
   ]
  },
  {
   "cell_type": "code",
   "execution_count": 46,
   "id": "c5f68040",
   "metadata": {},
   "outputs": [
    {
     "data": {
      "text/plain": [
       "33"
      ]
     },
     "execution_count": 46,
     "metadata": {},
     "output_type": "execute_result"
    }
   ],
   "source": [
    "f1.write(\"I trying to learn file operations\")"
   ]
  },
  {
   "cell_type": "code",
   "execution_count": 47,
   "id": "bbcefc0a",
   "metadata": {},
   "outputs": [],
   "source": [
    "f1.close()"
   ]
  },
  {
   "cell_type": "code",
   "execution_count": 48,
   "id": "6d8dd813",
   "metadata": {},
   "outputs": [
    {
     "name": "stdout",
     "output_type": "stream",
     "text": [
      " Volume in drive D has no label.\n",
      " Volume Serial Number is 4EBE-833C\n",
      "\n",
      " Directory of D:\\Ineuron learning\n",
      "\n",
      "08/12/2022  01:20 PM    <DIR>          .\n",
      "08/12/2022  08:51 AM    <DIR>          .ipynb_checkpoints\n",
      "08/08/2022  05:11 PM            13,310 Conditionals_if,else,elif.ipynb\n",
      "08/05/2022  04:04 PM            11,668 Dictionary.ipynb\n",
      "08/12/2022  08:36 AM             3,255 Exception_handling.ipynb\n",
      "08/10/2022  01:16 PM            17,921 For_loop.ipynb\n",
      "08/12/2022  12:58 PM                18 fun.vish\n",
      "08/11/2022  11:14 PM            44,773 Functions.ipynb\n",
      "08/11/2022  08:40 AM             8,640 Hello.mp3\n",
      "08/12/2022  01:20 PM            34,845 Iterators, generators and iterables.ipynb\n",
      "08/05/2022  06:05 PM            36,013 List and it's manupulations.ipynb\n",
      "08/12/2022  12:32 PM                31 list.txt\n",
      "08/04/2022  02:34 PM            11,393 Python basics.ipynb\n",
      "08/05/2022  04:24 PM            11,736 Python_sets.ipynb\n",
      "08/05/2022  01:30 PM             7,638 Python_tuples.ipynb\n",
      "08/10/2022  02:21 PM           113,561 Revision and task solving (1).ipynb\n",
      "08/10/2022  11:35 AM            48,347 String.ipynb\n",
      "08/10/2022  02:00 PM            12,190 Task_string.ipynb\n",
      "08/10/2022  02:54 PM             5,981 Task2.ipynb\n",
      "08/10/2022  06:26 PM            13,746 Task3.ipynb\n",
      "08/11/2022  08:52 AM            52,280 Task4_while loop.ipynb\n",
      "08/12/2022  01:22 PM                33 test.txt\n",
      "08/12/2022  01:10 PM                65 text2.txt\n",
      "08/12/2022  01:22 PM                36 vishal1.txt\n",
      "08/09/2022  09:19 AM         3,583,813 While_loop.ipynb\n",
      "              23 File(s)      4,031,293 bytes\n",
      "               2 Dir(s)  315,310,424,064 bytes free\n"
     ]
    }
   ],
   "source": [
    "ls"
   ]
  },
  {
   "cell_type": "code",
   "execution_count": 49,
   "id": "5b7673b9",
   "metadata": {},
   "outputs": [
    {
     "data": {
      "text/plain": [
       "31"
      ]
     },
     "execution_count": 49,
     "metadata": {},
     "output_type": "execute_result"
    }
   ],
   "source": [
    "l = [1,2,3,4,5,6,7,8,9,99]\n",
    "f2 = open('list.txt','w')\n",
    "f2.write(str(l))"
   ]
  },
  {
   "cell_type": "code",
   "execution_count": 50,
   "id": "59963c68",
   "metadata": {},
   "outputs": [],
   "source": [
    "f2.close()"
   ]
  },
  {
   "cell_type": "code",
   "execution_count": 51,
   "id": "b434ad90",
   "metadata": {},
   "outputs": [],
   "source": [
    "#Any knid of file extension can be use \n",
    "f3 = open('fun.vish','w')\n",
    "f3.write('Hi, this is vishal')\n",
    "f3.close()"
   ]
  },
  {
   "cell_type": "code",
   "execution_count": 16,
   "id": "6fb477a1",
   "metadata": {},
   "outputs": [
    {
     "name": "stdout",
     "output_type": "stream",
     "text": [
      "Overwriting text2.txt\n"
     ]
    }
   ],
   "source": [
    "%%writefile text2.txt\n",
    "This is my python program to write into a file in different way\n",
    "This is my python program to write into a file in different way\n",
    "This is my python program to write into a file in different way"
   ]
  },
  {
   "cell_type": "code",
   "execution_count": 17,
   "id": "39dbc379",
   "metadata": {},
   "outputs": [
    {
     "data": {
      "text/plain": [
       "'[1, 2, 3, 4, 5, 6, 7, 8, 9, 99]'"
      ]
     },
     "execution_count": 17,
     "metadata": {},
     "output_type": "execute_result"
    }
   ],
   "source": [
    "f = open(\"list.txt\")\n",
    "f.read()"
   ]
  },
  {
   "cell_type": "code",
   "execution_count": 18,
   "id": "584aa98d",
   "metadata": {},
   "outputs": [
    {
     "data": {
      "text/plain": [
       "''"
      ]
     },
     "execution_count": 18,
     "metadata": {},
     "output_type": "execute_result"
    }
   ],
   "source": [
    "f.read()"
   ]
  },
  {
   "cell_type": "code",
   "execution_count": 19,
   "id": "b8be6d51",
   "metadata": {},
   "outputs": [
    {
     "data": {
      "text/plain": [
       "0"
      ]
     },
     "execution_count": 19,
     "metadata": {},
     "output_type": "execute_result"
    }
   ],
   "source": [
    "f.seek(0)"
   ]
  },
  {
   "cell_type": "code",
   "execution_count": 20,
   "id": "48ffd2b2",
   "metadata": {},
   "outputs": [
    {
     "data": {
      "text/plain": [
       "'[1, 2, 3, 4, 5, 6, 7, 8, 9, 99]'"
      ]
     },
     "execution_count": 20,
     "metadata": {},
     "output_type": "execute_result"
    }
   ],
   "source": [
    "f.read()"
   ]
  },
  {
   "cell_type": "code",
   "execution_count": 21,
   "id": "7a87044e",
   "metadata": {},
   "outputs": [
    {
     "data": {
      "text/plain": [
       "'This is my python program to write into a file in different way\\nThis is my python program to write into a file in different way\\nThis is my python program to write into a file in different way\\n'"
      ]
     },
     "execution_count": 21,
     "metadata": {},
     "output_type": "execute_result"
    }
   ],
   "source": [
    "f = open('text2.txt')\n",
    "f.read()"
   ]
  },
  {
   "cell_type": "code",
   "execution_count": 22,
   "id": "856a2f6a",
   "metadata": {},
   "outputs": [
    {
     "data": {
      "text/plain": [
       "'python program to write into a file in different way\\nThis is my python program to write into a file in different way\\nThis is my python program to write into a file in different way\\n'"
      ]
     },
     "execution_count": 22,
     "metadata": {},
     "output_type": "execute_result"
    }
   ],
   "source": [
    "f.seek(11)\n",
    "f.read()\n"
   ]
  },
  {
   "cell_type": "code",
   "execution_count": 23,
   "id": "89edfd1a",
   "metadata": {},
   "outputs": [
    {
     "data": {
      "text/plain": [
       "0"
      ]
     },
     "execution_count": 23,
     "metadata": {},
     "output_type": "execute_result"
    }
   ],
   "source": [
    "f1 = open('text2.txt')\n",
    "f1.tell()"
   ]
  },
  {
   "cell_type": "code",
   "execution_count": 24,
   "id": "3e46535d",
   "metadata": {},
   "outputs": [
    {
     "data": {
      "text/plain": [
       "'This is my python program to write into a file in different way\\nThis is my python program to write into a file in different way\\nThis is my python program to write into a file in different way\\n'"
      ]
     },
     "execution_count": 24,
     "metadata": {},
     "output_type": "execute_result"
    }
   ],
   "source": [
    "f1.read()"
   ]
  },
  {
   "cell_type": "code",
   "execution_count": 25,
   "id": "12d7c219",
   "metadata": {},
   "outputs": [
    {
     "data": {
      "text/plain": [
       "195"
      ]
     },
     "execution_count": 25,
     "metadata": {},
     "output_type": "execute_result"
    }
   ],
   "source": [
    "f1.tell()"
   ]
  },
  {
   "cell_type": "code",
   "execution_count": 26,
   "id": "b48637de",
   "metadata": {},
   "outputs": [
    {
     "data": {
      "text/plain": [
       "11"
      ]
     },
     "execution_count": 26,
     "metadata": {},
     "output_type": "execute_result"
    }
   ],
   "source": [
    "f1.seek(11)\n",
    "#f.read()"
   ]
  },
  {
   "cell_type": "code",
   "execution_count": 27,
   "id": "601dc90f",
   "metadata": {},
   "outputs": [
    {
     "data": {
      "text/plain": [
       "11"
      ]
     },
     "execution_count": 27,
     "metadata": {},
     "output_type": "execute_result"
    }
   ],
   "source": [
    "f1.tell()"
   ]
  },
  {
   "cell_type": "code",
   "execution_count": 30,
   "id": "2945ad49",
   "metadata": {},
   "outputs": [
    {
     "data": {
      "text/plain": [
       "'my python program to write into a file in different way'"
      ]
     },
     "execution_count": 30,
     "metadata": {},
     "output_type": "execute_result"
    }
   ],
   "source": [
    "f1.read(55)"
   ]
  },
  {
   "cell_type": "code",
   "execution_count": 31,
   "id": "7b95f1bd",
   "metadata": {},
   "outputs": [
    {
     "data": {
      "text/plain": [
       "'This is my python program to write into a file in different way\\nThis is my python program to write into a file in different way\\nThis is my python program to write into a file in different way\\n'"
      ]
     },
     "execution_count": 31,
     "metadata": {},
     "output_type": "execute_result"
    }
   ],
   "source": [
    "f1.seek(0)\n",
    "f1.read()"
   ]
  },
  {
   "cell_type": "code",
   "execution_count": 32,
   "id": "ff952d79",
   "metadata": {},
   "outputs": [
    {
     "data": {
      "text/plain": [
       "'This is my python program to write into a file in different way\\n'"
      ]
     },
     "execution_count": 32,
     "metadata": {},
     "output_type": "execute_result"
    }
   ],
   "source": [
    "f1.seek(0)\n",
    "f1.readline()"
   ]
  },
  {
   "cell_type": "code",
   "execution_count": 33,
   "id": "6f56cf65",
   "metadata": {},
   "outputs": [
    {
     "data": {
      "text/plain": [
       "['This is my python program to write into a file in different way\\n',\n",
       " 'This is my python program to write into a file in different way\\n',\n",
       " 'This is my python program to write into a file in different way\\n']"
      ]
     },
     "execution_count": 33,
     "metadata": {},
     "output_type": "execute_result"
    }
   ],
   "source": [
    "f1.seek(0)\n",
    "f1.readlines()"
   ]
  },
  {
   "cell_type": "code",
   "execution_count": 34,
   "id": "d4176c66",
   "metadata": {},
   "outputs": [
    {
     "data": {
      "text/plain": [
       "195"
      ]
     },
     "execution_count": 34,
     "metadata": {},
     "output_type": "execute_result"
    }
   ],
   "source": [
    "f1.tell()"
   ]
  },
  {
   "cell_type": "code",
   "execution_count": 36,
   "id": "fb77e7b5",
   "metadata": {},
   "outputs": [
    {
     "data": {
      "text/plain": [
       "<_io.TextIOWrapper name='text2.txt' mode='r' encoding='cp1252'>"
      ]
     },
     "execution_count": 36,
     "metadata": {},
     "output_type": "execute_result"
    }
   ],
   "source": [
    "f1"
   ]
  },
  {
   "cell_type": "code",
   "execution_count": 37,
   "id": "3ee77ff4",
   "metadata": {},
   "outputs": [
    {
     "data": {
      "text/plain": [
       "6"
      ]
     },
     "execution_count": 37,
     "metadata": {},
     "output_type": "execute_result"
    }
   ],
   "source": [
    "f1.fileno()"
   ]
  },
  {
   "cell_type": "code",
   "execution_count": 1,
   "id": "d4db47fd",
   "metadata": {},
   "outputs": [
    {
     "data": {
      "text/plain": [
       "203"
      ]
     },
     "execution_count": 1,
     "metadata": {},
     "output_type": "execute_result"
    }
   ],
   "source": [
    "f = open('test.txt','w')\n",
    "f.write(\"\"\"This is my python program to write into a file in different way\\n',\n",
    " 'This is my python program to write into a file in different way\\n',\n",
    " 'This is my python program to write into a file in different way\\n \"\"\")"
   ]
  },
  {
   "cell_type": "code",
   "execution_count": 2,
   "id": "272275d6",
   "metadata": {},
   "outputs": [],
   "source": [
    "f.close()"
   ]
  },
  {
   "cell_type": "code",
   "execution_count": 6,
   "id": "10f077af",
   "metadata": {},
   "outputs": [
    {
     "data": {
      "text/plain": [
       "38"
      ]
     },
     "execution_count": 6,
     "metadata": {},
     "output_type": "execute_result"
    }
   ],
   "source": [
    "f = open('test.txt','w')\n",
    "f.write(\"knsajfaskg jsgnjdsnglsdnksdb vosndagkn\")"
   ]
  },
  {
   "cell_type": "code",
   "execution_count": 7,
   "id": "0b676ebb",
   "metadata": {},
   "outputs": [],
   "source": [
    "f.close()"
   ]
  },
  {
   "cell_type": "code",
   "execution_count": 8,
   "id": "24b614e1",
   "metadata": {},
   "outputs": [
    {
     "data": {
      "text/plain": [
       "19"
      ]
     },
     "execution_count": 8,
     "metadata": {},
     "output_type": "execute_result"
    }
   ],
   "source": [
    "f = open('test.txt','w')\n",
    "f.write(\"Vishal Sanjay Pawar\")"
   ]
  },
  {
   "cell_type": "code",
   "execution_count": 11,
   "id": "ec0d6725",
   "metadata": {},
   "outputs": [],
   "source": [
    "# Append operation will add data to the existing data of the file has\n",
    "f = open('test.txt','a')\n",
    "f.write(\" learnig the python programming and databases\")\n",
    "f.close()"
   ]
  },
  {
   "cell_type": "code",
   "execution_count": 12,
   "id": "76824cca",
   "metadata": {},
   "outputs": [],
   "source": [
    "# If there is no such file exist, it will create a file and append the data to it.\n",
    "f = open('radhika.txt','a')\n",
    "f.write('Hello all !')\n",
    "f.close()"
   ]
  },
  {
   "cell_type": "code",
   "execution_count": 17,
   "id": "303114fb",
   "metadata": {},
   "outputs": [
    {
     "data": {
      "text/plain": [
       "'radhika.txt'"
      ]
     },
     "execution_count": 17,
     "metadata": {},
     "output_type": "execute_result"
    }
   ],
   "source": [
    "#To check the name of the file just closed\n",
    "f.name"
   ]
  },
  {
   "cell_type": "code",
   "execution_count": 15,
   "id": "a48cae54",
   "metadata": {},
   "outputs": [
    {
     "data": {
      "text/plain": [
       "True"
      ]
     },
     "execution_count": 15,
     "metadata": {},
     "output_type": "execute_result"
    }
   ],
   "source": [
    "# To check whether the file is closed or not.\n",
    "f.closed"
   ]
  },
  {
   "cell_type": "code",
   "execution_count": 16,
   "id": "5c15e12b",
   "metadata": {},
   "outputs": [
    {
     "data": {
      "text/plain": [
       "'a'"
      ]
     },
     "execution_count": 16,
     "metadata": {},
     "output_type": "execute_result"
    }
   ],
   "source": [
    "# To check the mode of the file\n",
    "f.mode"
   ]
  },
  {
   "cell_type": "code",
   "execution_count": 24,
   "id": "d22ae9e9",
   "metadata": {},
   "outputs": [
    {
     "data": {
      "text/plain": [
       "'Hello dear, how are you? all good!Hello dear, how are you? all good!Hello dear, how are you? all good!Hello dear, how are you? all good!Hello dear, how are you? all good!Hello dearHello dear'"
      ]
     },
     "execution_count": 24,
     "metadata": {},
     "output_type": "execute_result"
    }
   ],
   "source": [
    "f = open('sum.txt','a+')\n",
    "f.write('Hello dear')\n",
    "f.seek(0)\n",
    "f.read()"
   ]
  },
  {
   "cell_type": "code",
   "execution_count": 27,
   "id": "2adf2ada",
   "metadata": {},
   "outputs": [],
   "source": [
    "f = open('sum.txt','w')\n",
    "f.write(\"Hi\")\n",
    "f.close()"
   ]
  },
  {
   "cell_type": "code",
   "execution_count": 29,
   "id": "25e2a160",
   "metadata": {},
   "outputs": [
    {
     "data": {
      "text/plain": [
       "'Hi'"
      ]
     },
     "execution_count": 29,
     "metadata": {},
     "output_type": "execute_result"
    }
   ],
   "source": [
    "f= open('sum.txt','r')\n",
    "f.read()"
   ]
  },
  {
   "cell_type": "code",
   "execution_count": 32,
   "id": "c35ce01b",
   "metadata": {},
   "outputs": [],
   "source": [
    "# To create a file in a specific folder\n",
    "f = open('F:/test.txt','w')\n",
    "f.write('Hello world!')\n",
    "f.close()"
   ]
  },
  {
   "cell_type": "markdown",
   "id": "61e0706d",
   "metadata": {},
   "source": [
    "### Map, reduce, filter"
   ]
  },
  {
   "cell_type": "markdown",
   "id": "7e6b8668",
   "metadata": {},
   "source": [
    "MAP"
   ]
  },
  {
   "cell_type": "code",
   "execution_count": 33,
   "id": "4f9a6fcf",
   "metadata": {},
   "outputs": [
    {
     "data": {
      "text/plain": [
       "[4, 9, 16, 25, 36]"
      ]
     },
     "execution_count": 33,
     "metadata": {},
     "output_type": "execute_result"
    }
   ],
   "source": [
    "# To find the square of each item of list.\n",
    "l = [2,3,4,5,6]\n",
    "l1 = []\n",
    "for i in l :\n",
    "    l1.append(i*i)\n",
    "l1"
   ]
  },
  {
   "cell_type": "code",
   "execution_count": 34,
   "id": "eec0f656",
   "metadata": {},
   "outputs": [
    {
     "data": {
      "text/plain": [
       "<map at 0x1e7aafbffd0>"
      ]
     },
     "execution_count": 34,
     "metadata": {},
     "output_type": "execute_result"
    }
   ],
   "source": [
    "# To find the square of every item of a list using map function\n",
    "def sq(n) :\n",
    "    return n*n\n",
    "\n",
    "map(sq,l)"
   ]
  },
  {
   "cell_type": "code",
   "execution_count": 35,
   "id": "6b52e7fd",
   "metadata": {},
   "outputs": [
    {
     "data": {
      "text/plain": [
       "[4, 9, 16, 25, 36]"
      ]
     },
     "execution_count": 35,
     "metadata": {},
     "output_type": "execute_result"
    }
   ],
   "source": [
    "list(map(sq,l))"
   ]
  },
  {
   "cell_type": "code",
   "execution_count": 36,
   "id": "611e9a0d",
   "metadata": {},
   "outputs": [
    {
     "data": {
      "text/plain": [
       "[4, 9, 16, 25, 36]"
      ]
     },
     "execution_count": 36,
     "metadata": {},
     "output_type": "execute_result"
    }
   ],
   "source": [
    "#map(lambda x : x*x, l)\n",
    "list(map(lambda x : x*x, l))"
   ]
  },
  {
   "cell_type": "code",
   "execution_count": 37,
   "id": "58cbf658",
   "metadata": {},
   "outputs": [
    {
     "data": {
      "text/plain": [
       "<map at 0x1e7aafbf400>"
      ]
     },
     "execution_count": 37,
     "metadata": {},
     "output_type": "execute_result"
    }
   ],
   "source": [
    "# convert every element of list into a string.\n",
    "map(lambda x : str(x),l)"
   ]
  },
  {
   "cell_type": "code",
   "execution_count": 38,
   "id": "0d0cdd78",
   "metadata": {},
   "outputs": [
    {
     "data": {
      "text/plain": [
       "['2', '3', '4', '5', '6']"
      ]
     },
     "execution_count": 38,
     "metadata": {},
     "output_type": "execute_result"
    }
   ],
   "source": [
    "list(map(lambda x : str(x), l))"
   ]
  },
  {
   "cell_type": "code",
   "execution_count": 39,
   "id": "98f9c6d5",
   "metadata": {},
   "outputs": [
    {
     "data": {
      "text/plain": [
       "['2', '3', '4', '5', '6']"
      ]
     },
     "execution_count": 39,
     "metadata": {},
     "output_type": "execute_result"
    }
   ],
   "source": [
    "list(map(str,l))"
   ]
  },
  {
   "cell_type": "markdown",
   "id": "02fa6696",
   "metadata": {},
   "source": [
    "REDUCE"
   ]
  },
  {
   "cell_type": "code",
   "execution_count": 40,
   "id": "e9ebe2fd",
   "metadata": {},
   "outputs": [],
   "source": [
    "from functools import reduce"
   ]
  },
  {
   "cell_type": "code",
   "execution_count": 42,
   "id": "35b0f148",
   "metadata": {},
   "outputs": [
    {
     "data": {
      "text/plain": [
       "67"
      ]
     },
     "execution_count": 42,
     "metadata": {},
     "output_type": "execute_result"
    }
   ],
   "source": [
    "l = [3,4,2,12,15,30,1]\n",
    "sum(l)"
   ]
  },
  {
   "cell_type": "code",
   "execution_count": 43,
   "id": "5f016da2",
   "metadata": {},
   "outputs": [
    {
     "data": {
      "text/plain": [
       "67"
      ]
     },
     "execution_count": 43,
     "metadata": {},
     "output_type": "execute_result"
    }
   ],
   "source": [
    "reduce(lambda a,b : a+b, l)"
   ]
  },
  {
   "cell_type": "code",
   "execution_count": 44,
   "id": "c6f26a02",
   "metadata": {},
   "outputs": [
    {
     "data": {
      "text/plain": [
       "129600"
      ]
     },
     "execution_count": 44,
     "metadata": {},
     "output_type": "execute_result"
    }
   ],
   "source": [
    "reduce(lambda a,b :a*b, l)"
   ]
  },
  {
   "cell_type": "code",
   "execution_count": 51,
   "id": "a201ee1d",
   "metadata": {},
   "outputs": [],
   "source": [
    "#reduce(lambda a,b,c :a*b*c, l)"
   ]
  },
  {
   "cell_type": "code",
   "execution_count": 52,
   "id": "810ced1a",
   "metadata": {},
   "outputs": [
    {
     "data": {
      "text/plain": [
       "2"
      ]
     },
     "execution_count": 52,
     "metadata": {},
     "output_type": "execute_result"
    }
   ],
   "source": [
    "l = [2]\n",
    "sum(l)"
   ]
  },
  {
   "cell_type": "code",
   "execution_count": 53,
   "id": "1c35f320",
   "metadata": {},
   "outputs": [
    {
     "data": {
      "text/plain": [
       "2"
      ]
     },
     "execution_count": 53,
     "metadata": {},
     "output_type": "execute_result"
    }
   ],
   "source": [
    "reduce(lambda a,b : a*b, l)"
   ]
  },
  {
   "cell_type": "code",
   "execution_count": 55,
   "id": "103738eb",
   "metadata": {},
   "outputs": [
    {
     "data": {
      "text/plain": [
       "[1, 3, 45, 5]"
      ]
     },
     "execution_count": 55,
     "metadata": {},
     "output_type": "execute_result"
    }
   ],
   "source": [
    "l = [1,2,3,4,45,5]\n",
    "list(filter(lambda x : x%2 , l))"
   ]
  },
  {
   "cell_type": "code",
   "execution_count": 56,
   "id": "632adea1",
   "metadata": {},
   "outputs": [
    {
     "data": {
      "text/plain": [
       "[2, 4]"
      ]
     },
     "execution_count": 56,
     "metadata": {},
     "output_type": "execute_result"
    }
   ],
   "source": [
    "list(filter(lambda x : x%2 ==0 , l))"
   ]
  },
  {
   "cell_type": "code",
   "execution_count": null,
   "id": "a4b846c9",
   "metadata": {},
   "outputs": [],
   "source": []
  }
 ],
 "metadata": {
  "kernelspec": {
   "display_name": "Python 3 (ipykernel)",
   "language": "python",
   "name": "python3"
  },
  "language_info": {
   "codemirror_mode": {
    "name": "ipython",
    "version": 3
   },
   "file_extension": ".py",
   "mimetype": "text/x-python",
   "name": "python",
   "nbconvert_exporter": "python",
   "pygments_lexer": "ipython3",
   "version": "3.9.7"
  }
 },
 "nbformat": 4,
 "nbformat_minor": 5
}
