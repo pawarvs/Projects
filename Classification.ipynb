{
 "cells": [
  {
   "cell_type": "code",
   "execution_count": 1,
   "id": "2187b13f",
   "metadata": {},
   "outputs": [],
   "source": [
    "# importing the necessary libraries for uploading data and data manupulations\n",
    "import pandas as pd \n",
    "import numpy as np "
   ]
  },
  {
   "cell_type": "code",
   "execution_count": 2,
   "id": "ea392e93",
   "metadata": {},
   "outputs": [],
   "source": [
    "a0 = pd.Series([230,1,1,1,1,0,1])\n",
    "a1 = pd.Series([60,1,1,1,1,0,1])\n",
    "a2 = pd.Series([51,1,1,0,1,0,1])\n",
    "a3 = pd.Series([432,0,1,1,0,1,1])\n",
    "a4 = pd.Series([121,1,1,0,1,1,0])\n",
    "a5 = pd.Series([89,0,0,1,0,1,0])\n",
    "\n",
    "new = pd.Series([95,1,0,1,1,0,1])\n"
   ]
  },
  {
   "cell_type": "code",
   "execution_count": 3,
   "id": "6fcd0472",
   "metadata": {},
   "outputs": [],
   "source": [
    "# 1) Euclidean distance between the new customer and each of the other customers.\n",
    "dist_newa0 = np.sqrt(np.sum([(x-y)**2 for x, y in zip(new, a0)]))     \n",
    "dist_newa1 = np.sqrt(np.sum([(x-y)**2 for x, y in zip(new, a1)]))     \n",
    "dist_newa2 = np.sqrt(np.sum([(x-y)**2 for x, y in zip(new, a2)])) \n",
    "dist_newa3 = np.sqrt(np.sum([(x-y)**2 for x, y in zip(new, a3)]))\n",
    "dist_newa4 = np.sqrt(np.sum([(x-y)**2 for x, y in zip(new, a4)])) \n",
    "dist_newa5 = np.sqrt(np.sum([(x-y)**2 for x, y in zip(new, a5)])) "
   ]
  },
  {
   "cell_type": "code",
   "execution_count": 4,
   "id": "21ad654d",
   "metadata": {},
   "outputs": [
    {
     "name": "stdout",
     "output_type": "stream",
     "text": [
      "The Euclidean distance from customer new to A is 135.00370365289984\n",
      "The Euclidean distance from customer new to B is 35.014282800023196\n"
     ]
    }
   ],
   "source": [
    "print(\"The Euclidean distance from customer new to A is\", dist_newa0)\n",
    "  \n",
    "print(\"The Euclidean distance from customer new to B is\", dist_newa1)"
   ]
  },
  {
   "cell_type": "code",
   "execution_count": 5,
   "id": "aed55420",
   "metadata": {},
   "outputs": [
    {
     "name": "stdout",
     "output_type": "stream",
     "text": [
      "The Euclidean distance from customer new to A is 44.02272140611028\n",
      "The Euclidean distance from customer new to B is 337.0059346658453\n"
     ]
    }
   ],
   "source": [
    "print(\"The Euclidean distance from customer new to A is\", dist_newa2)\n",
    "  \n",
    "print(\"The Euclidean distance from customer new to B is\", dist_newa3)"
   ]
  },
  {
   "cell_type": "code",
   "execution_count": 6,
   "id": "1174d799",
   "metadata": {},
   "outputs": [
    {
     "name": "stdout",
     "output_type": "stream",
     "text": [
      "The Euclidean distance from customer new to A is 26.076809620810597\n",
      "The Euclidean distance from customer new to B is 6.324555320336759\n"
     ]
    }
   ],
   "source": [
    "print(\"The Euclidean distance from customer new to A is\", dist_newa4)\n",
    "  \n",
    "print(\"The Euclidean distance from customer new to B is\", dist_newa5)"
   ]
  },
  {
   "cell_type": "markdown",
   "id": "4c9e230f",
   "metadata": {},
   "source": [
    "The distance is minimum of  6.32 between the new custmer and 6th custmer.\n",
    "As the custmer 6th has baby shower registry ( registry = 1 ), the new custmer should also have a baby shower registry \n",
    "as per minimum distance criteria."
   ]
  },
  {
   "cell_type": "code",
   "execution_count": 7,
   "id": "11b0a38c",
   "metadata": {},
   "outputs": [
    {
     "data": {
      "text/html": [
       "<div>\n",
       "<style scoped>\n",
       "    .dataframe tbody tr th:only-of-type {\n",
       "        vertical-align: middle;\n",
       "    }\n",
       "\n",
       "    .dataframe tbody tr th {\n",
       "        vertical-align: top;\n",
       "    }\n",
       "\n",
       "    .dataframe thead th {\n",
       "        text-align: right;\n",
       "    }\n",
       "</style>\n",
       "<table border=\"1\" class=\"dataframe\">\n",
       "  <thead>\n",
       "    <tr style=\"text-align: right;\">\n",
       "      <th></th>\n",
       "      <th>Spent60Norm</th>\n",
       "      <th>Zinc10Norm</th>\n",
       "      <th>Zinc90Norm</th>\n",
       "      <th>Mag10Norm</th>\n",
       "      <th>Mag90Norm</th>\n",
       "      <th>Cotton10Norm</th>\n",
       "      <th>Cotton90Norm</th>\n",
       "    </tr>\n",
       "  </thead>\n",
       "  <tbody>\n",
       "    <tr>\n",
       "      <th>0</th>\n",
       "      <td>0.558009</td>\n",
       "      <td>0.58554</td>\n",
       "      <td>0.58554</td>\n",
       "      <td>0.58554</td>\n",
       "      <td>0.58554</td>\n",
       "      <td>-0.801784</td>\n",
       "      <td>0.58554</td>\n",
       "    </tr>\n",
       "    <tr>\n",
       "      <th>1</th>\n",
       "      <td>-0.690170</td>\n",
       "      <td>0.58554</td>\n",
       "      <td>0.58554</td>\n",
       "      <td>0.58554</td>\n",
       "      <td>0.58554</td>\n",
       "      <td>-0.801784</td>\n",
       "      <td>0.58554</td>\n",
       "    </tr>\n",
       "    <tr>\n",
       "      <th>2</th>\n",
       "      <td>-0.756250</td>\n",
       "      <td>0.58554</td>\n",
       "      <td>0.58554</td>\n",
       "      <td>-1.46385</td>\n",
       "      <td>0.58554</td>\n",
       "      <td>-0.801784</td>\n",
       "      <td>0.58554</td>\n",
       "    </tr>\n",
       "    <tr>\n",
       "      <th>3</th>\n",
       "      <td>2.041140</td>\n",
       "      <td>-1.46385</td>\n",
       "      <td>0.58554</td>\n",
       "      <td>0.58554</td>\n",
       "      <td>-1.46385</td>\n",
       "      <td>1.069045</td>\n",
       "      <td>0.58554</td>\n",
       "    </tr>\n",
       "    <tr>\n",
       "      <th>4</th>\n",
       "      <td>-0.242294</td>\n",
       "      <td>0.58554</td>\n",
       "      <td>0.58554</td>\n",
       "      <td>-1.46385</td>\n",
       "      <td>0.58554</td>\n",
       "      <td>1.069045</td>\n",
       "      <td>-1.46385</td>\n",
       "    </tr>\n",
       "    <tr>\n",
       "      <th>5</th>\n",
       "      <td>-0.477245</td>\n",
       "      <td>-1.46385</td>\n",
       "      <td>-1.46385</td>\n",
       "      <td>0.58554</td>\n",
       "      <td>-1.46385</td>\n",
       "      <td>1.069045</td>\n",
       "      <td>-1.46385</td>\n",
       "    </tr>\n",
       "    <tr>\n",
       "      <th>6</th>\n",
       "      <td>-0.433192</td>\n",
       "      <td>0.58554</td>\n",
       "      <td>-1.46385</td>\n",
       "      <td>0.58554</td>\n",
       "      <td>0.58554</td>\n",
       "      <td>-0.801784</td>\n",
       "      <td>0.58554</td>\n",
       "    </tr>\n",
       "    <tr>\n",
       "      <th>7</th>\n",
       "      <td>NaN</td>\n",
       "      <td>NaN</td>\n",
       "      <td>NaN</td>\n",
       "      <td>NaN</td>\n",
       "      <td>NaN</td>\n",
       "      <td>NaN</td>\n",
       "      <td>NaN</td>\n",
       "    </tr>\n",
       "    <tr>\n",
       "      <th>8</th>\n",
       "      <td>NaN</td>\n",
       "      <td>NaN</td>\n",
       "      <td>NaN</td>\n",
       "      <td>NaN</td>\n",
       "      <td>NaN</td>\n",
       "      <td>NaN</td>\n",
       "      <td>NaN</td>\n",
       "    </tr>\n",
       "    <tr>\n",
       "      <th>9</th>\n",
       "      <td>0.982480</td>\n",
       "      <td>0.00000</td>\n",
       "      <td>4.20000</td>\n",
       "      <td>0.00000</td>\n",
       "      <td>0.00000</td>\n",
       "      <td>0.000000</td>\n",
       "      <td>0.00000</td>\n",
       "    </tr>\n",
       "  </tbody>\n",
       "</table>\n",
       "</div>"
      ],
      "text/plain": [
       "   Spent60Norm  Zinc10Norm  Zinc90Norm  Mag10Norm  Mag90Norm  Cotton10Norm  \\\n",
       "0     0.558009     0.58554     0.58554    0.58554    0.58554     -0.801784   \n",
       "1    -0.690170     0.58554     0.58554    0.58554    0.58554     -0.801784   \n",
       "2    -0.756250     0.58554     0.58554   -1.46385    0.58554     -0.801784   \n",
       "3     2.041140    -1.46385     0.58554    0.58554   -1.46385      1.069045   \n",
       "4    -0.242294     0.58554     0.58554   -1.46385    0.58554      1.069045   \n",
       "5    -0.477245    -1.46385    -1.46385    0.58554   -1.46385      1.069045   \n",
       "6    -0.433192     0.58554    -1.46385    0.58554    0.58554     -0.801784   \n",
       "7          NaN         NaN         NaN        NaN        NaN           NaN   \n",
       "8          NaN         NaN         NaN        NaN        NaN           NaN   \n",
       "9     0.982480     0.00000     4.20000    0.00000    0.00000      0.000000   \n",
       "\n",
       "   Cotton90Norm  \n",
       "0       0.58554  \n",
       "1       0.58554  \n",
       "2       0.58554  \n",
       "3       0.58554  \n",
       "4      -1.46385  \n",
       "5      -1.46385  \n",
       "6       0.58554  \n",
       "7           NaN  \n",
       "8           NaN  \n",
       "9       0.00000  "
      ]
     },
     "execution_count": 7,
     "metadata": {},
     "output_type": "execute_result"
    }
   ],
   "source": [
    "# 2) Standardize (normalize) the predictor variables\n",
    "df1 = pd.read_csv('Classfication.csv')\n",
    "df1\n"
   ]
  },
  {
   "cell_type": "code",
   "execution_count": 8,
   "id": "9dfd2f95",
   "metadata": {},
   "outputs": [],
   "source": [
    "a0Norm = pd.Series([0.558009,0.58554,0.58554,0.58554,0.58554,-0.801784,0.58554])\n",
    "a1Norm = pd.Series([-0.690170,0.58554,0.58554,0.58554,0.58554,-0.801784,0.58554])\n",
    "a2Norm = pd.Series([-0.756250,0.58554,0.58554,-1.46385,0.58554,-0.801784,0.58554])\n",
    "a3Norm = pd.Series([2.041140,-1.46385,0.58554,0.58554,-1.46385,1.069045,0.58554])\n",
    "a4Norm = pd.Series([-0.242294,0.58554,0.58554,-1.46385,0.58554,1.069045,-1.46385])\n",
    "a5Norm = pd.Series([-0.477245,-1.46385,-1.46385,0.58554,-1.46385,1.069045,-1.46385])\n",
    "a6Norm = pd.Series([-0.433192,0.58554,-1.46385,0.58554,0.58554,-0.801784,0.58554])"
   ]
  },
  {
   "cell_type": "code",
   "execution_count": 9,
   "id": "5b518bbf",
   "metadata": {},
   "outputs": [],
   "source": [
    "dist_newa0N = np.sqrt(np.sum([(x-y)**2 for x, y in zip(a6Norm, a0Norm)]))     \n",
    "dist_newa1N = np.sqrt(np.sum([(x-y)**2 for x, y in zip(a6Norm, a1Norm)]))     \n",
    "dist_newa2N = np.sqrt(np.sum([(x-y)**2 for x, y in zip(a6Norm, a2Norm)])) \n",
    "dist_newa3N = np.sqrt(np.sum([(x-y)**2 for x, y in zip(a6Norm, a3Norm)]))\n",
    "dist_newa4N = np.sqrt(np.sum([(x-y)**2 for x, y in zip(a6Norm, a4Norm)])) \n",
    "dist_newa5N = np.sqrt(np.sum([(x-y)**2 for x, y in zip(a6Norm, a5Norm)])) "
   ]
  },
  {
   "cell_type": "code",
   "execution_count": 10,
   "id": "e332f20a",
   "metadata": {},
   "outputs": [
    {
     "name": "stdout",
     "output_type": "stream",
     "text": [
      "The Euclidean distance from customer new to A is 2.276505830104768\n",
      "The Euclidean distance from customer new to B is 2.0654387099558287\n"
     ]
    }
   ],
   "source": [
    "print(\"The Euclidean distance from customer new to A is\", dist_newa0N)\n",
    "  \n",
    "print(\"The Euclidean distance from customer new to B is\", dist_newa1N)"
   ]
  },
  {
   "cell_type": "code",
   "execution_count": 11,
   "id": "f57f6916",
   "metadata": {},
   "outputs": [
    {
     "name": "stdout",
     "output_type": "stream",
     "text": [
      "The Euclidean distance from customer new to A is 2.916224479624982\n",
      "The Euclidean distance from customer new to B is 4.714055378309105\n"
     ]
    }
   ],
   "source": [
    "print(\"The Euclidean distance from customer new to A is\", dist_newa2N)\n",
    "  \n",
    "print(\"The Euclidean distance from customer new to B is\", dist_newa3N)"
   ]
  },
  {
   "cell_type": "code",
   "execution_count": 12,
   "id": "2684756c",
   "metadata": {},
   "outputs": [
    {
     "name": "stdout",
     "output_type": "stream",
     "text": [
      "The Euclidean distance from customer new to A is 4.017018958126163\n",
      "The Euclidean distance from customer new to B is 4.012722259308511\n"
     ]
    }
   ],
   "source": [
    "print(\"The Euclidean distance from customer new to A is\", dist_newa4N)\n",
    "  \n",
    "print(\"The Euclidean distance from customer new to B is\", dist_newa5N)"
   ]
  },
  {
   "cell_type": "markdown",
   "id": "852b59d8",
   "metadata": {},
   "source": [
    "When predictor variables are standardized the distance is minimum of 2.07 is between 2nd and new custmer.\n",
    "Custmer second is predicted as no registry = 0 , therefore this time new custmer will also be predicted as no registry = 0.\n",
    "By making the predictors standardized the result has been changed."
   ]
  },
  {
   "cell_type": "code",
   "execution_count": null,
   "id": "9945d752",
   "metadata": {},
   "outputs": [],
   "source": []
  }
 ],
 "metadata": {
  "kernelspec": {
   "display_name": "Python 3 (ipykernel)",
   "language": "python",
   "name": "python3"
  },
  "language_info": {
   "codemirror_mode": {
    "name": "ipython",
    "version": 3
   },
   "file_extension": ".py",
   "mimetype": "text/x-python",
   "name": "python",
   "nbconvert_exporter": "python",
   "pygments_lexer": "ipython3",
   "version": "3.9.7"
  }
 },
 "nbformat": 4,
 "nbformat_minor": 5
}
