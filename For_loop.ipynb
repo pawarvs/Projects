{
 "cells": [
  {
   "cell_type": "markdown",
   "id": "cc0d5c67",
   "metadata": {},
   "source": [
    "## For Loop"
   ]
  },
  {
   "cell_type": "code",
   "execution_count": 6,
   "id": "9e99b32a",
   "metadata": {},
   "outputs": [],
   "source": [
    "l = [2,5,10,20,54,12,'Vish',20.3,'Pawar']"
   ]
  },
  {
   "cell_type": "code",
   "execution_count": 7,
   "id": "e53a732f",
   "metadata": {},
   "outputs": [
    {
     "name": "stdout",
     "output_type": "stream",
     "text": [
      "2   5   10   20   54   12   Vish   20.3   Pawar   "
     ]
    }
   ],
   "source": [
    "for i in l:\n",
    "    print(i, end = '   ')"
   ]
  },
  {
   "cell_type": "code",
   "execution_count": 8,
   "id": "ce11c57c",
   "metadata": {},
   "outputs": [],
   "source": [
    "# If we don't have mentioned the body part of a loop\n",
    "for i in l :\n",
    "    pass \n",
    "# it will avoid error."
   ]
  },
  {
   "cell_type": "code",
   "execution_count": 9,
   "id": "b28913a8",
   "metadata": {},
   "outputs": [
    {
     "name": "stdout",
     "output_type": "stream",
     "text": [
      "M   a   h   a   r   a   s   h   t   r   a   "
     ]
    }
   ],
   "source": [
    "s = 'Maharashtra'\n",
    "for i in s:\n",
    "    print(i,end = '   ')"
   ]
  },
  {
   "cell_type": "code",
   "execution_count": 15,
   "id": "a022627d",
   "metadata": {},
   "outputs": [
    {
     "name": "stdout",
     "output_type": "stream",
     "text": [
      "2 5 10 20 54 12 Vish 20.3 Pawar \n",
      "\t'That completes the execution' \n"
     ]
    }
   ],
   "source": [
    "for i in l :\n",
    "    print(i, end = \" \")\n",
    "else :\n",
    "    print(\"\\n\\t'That completes the execution' \")"
   ]
  },
  {
   "cell_type": "code",
   "execution_count": 12,
   "id": "c85a2e4f",
   "metadata": {},
   "outputs": [
    {
     "data": {
      "text/plain": [
       "[2, 5, 10, 20, 54, 12, 'Vish', 20.3, 'Pawar']"
      ]
     },
     "execution_count": 12,
     "metadata": {},
     "output_type": "execute_result"
    }
   ],
   "source": [
    "l"
   ]
  },
  {
   "cell_type": "code",
   "execution_count": 14,
   "id": "018cf10a",
   "metadata": {},
   "outputs": [
    {
     "name": "stdout",
     "output_type": "stream",
     "text": [
      "2   5   10   20   54   "
     ]
    }
   ],
   "source": [
    "for i in l :\n",
    "    if i == 12 :\n",
    "        break\n",
    "    print(i, end = '   ')\n",
    "else :\n",
    "    print(\"That's it for now.\")"
   ]
  },
  {
   "cell_type": "code",
   "execution_count": 23,
   "id": "5dfcb3cf",
   "metadata": {},
   "outputs": [
    {
     "name": "stdout",
     "output_type": "stream",
     "text": [
      "V\n",
      "i\n",
      "s\n",
      "h\n",
      "a\n"
     ]
    }
   ],
   "source": [
    "s = 'Vishalpawar'\n",
    "\n",
    "for i in s :\n",
    "    if i == 'l' :\n",
    "        break\n",
    "    print(i)\n",
    "else :\n",
    "    print(\"Show entire string \",s)"
   ]
  },
  {
   "cell_type": "code",
   "execution_count": 25,
   "id": "8183d067",
   "metadata": {},
   "outputs": [
    {
     "name": "stdout",
     "output_type": "stream",
     "text": [
      "4  5  6  7  8  1  Vish  "
     ]
    }
   ],
   "source": [
    "t = (4,5,6,7,8,1,'Vish')\n",
    "for i in t :\n",
    "    print(i, end = '  ')"
   ]
  },
  {
   "cell_type": "code",
   "execution_count": 28,
   "id": "3c53e1c0",
   "metadata": {},
   "outputs": [
    {
     "data": {
      "text/plain": [
       "{10, 20, 30, 40, 49, 55, 'S', 'V', 's'}"
      ]
     },
     "execution_count": 28,
     "metadata": {},
     "output_type": "execute_result"
    }
   ],
   "source": [
    "set = { 10,10,20,20,30,40,49,55,55, \"V\", \"V\", \"S\", 's' }\n",
    "type(set)\n",
    "set"
   ]
  },
  {
   "cell_type": "code",
   "execution_count": 29,
   "id": "ae4efcc2",
   "metadata": {},
   "outputs": [
    {
     "name": "stdout",
     "output_type": "stream",
     "text": [
      "S  40  10  V  49  20  55  s  30  "
     ]
    }
   ],
   "source": [
    "for i in set :\n",
    "    print(i, end = '  ' )"
   ]
  },
  {
   "cell_type": "code",
   "execution_count": 31,
   "id": "120ea7f1",
   "metadata": {},
   "outputs": [
    {
     "data": {
      "text/plain": [
       "{'K1': 10, 'K2': 'Vishal', 'K3': 'Pawar'}"
      ]
     },
     "execution_count": 31,
     "metadata": {},
     "output_type": "execute_result"
    }
   ],
   "source": [
    "d = {'K1':10,'K2':'Vish','K3':'Pawar','K2':'Vishal'}\n",
    "d"
   ]
  },
  {
   "cell_type": "code",
   "execution_count": 34,
   "id": "f32067b0",
   "metadata": {},
   "outputs": [
    {
     "name": "stdout",
     "output_type": "stream",
     "text": [
      "K1  :  10\n",
      "K2  :  Vishal\n",
      "K3  :  Pawar\n"
     ]
    }
   ],
   "source": [
    "for i in d :\n",
    "    print(i,' : ', d[i])"
   ]
  },
  {
   "cell_type": "code",
   "execution_count": 35,
   "id": "e2b9f537",
   "metadata": {},
   "outputs": [
    {
     "data": {
      "text/plain": [
       "[0, 1, 2, 3, 4, 5, 6, 7, 8, 9]"
      ]
     },
     "execution_count": 35,
     "metadata": {},
     "output_type": "execute_result"
    }
   ],
   "source": [
    "list(range(10))"
   ]
  },
  {
   "cell_type": "code",
   "execution_count": 37,
   "id": "4e61059c",
   "metadata": {},
   "outputs": [
    {
     "name": "stdout",
     "output_type": "stream",
     "text": [
      "0   2   4   6   8   10   12   14   16   18   "
     ]
    }
   ],
   "source": [
    "for i in range(0,20,2) :\n",
    "    print(i, end = '   ')"
   ]
  },
  {
   "cell_type": "code",
   "execution_count": 39,
   "id": "32c8af33",
   "metadata": {},
   "outputs": [
    {
     "data": {
      "text/plain": [
       "[]"
      ]
     },
     "execution_count": 39,
     "metadata": {},
     "output_type": "execute_result"
    }
   ],
   "source": [
    "# empty list\n",
    "list(range(0,10,-1))"
   ]
  },
  {
   "cell_type": "code",
   "execution_count": 40,
   "id": "0a37c21c",
   "metadata": {},
   "outputs": [
    {
     "data": {
      "text/plain": [
       "[9, 8, 7, 6, 5, 4, 3, 2, 1]"
      ]
     },
     "execution_count": 40,
     "metadata": {},
     "output_type": "execute_result"
    }
   ],
   "source": [
    "# 0 is upper bound, movement in same direction\n",
    "list(range(9,0,-1))"
   ]
  },
  {
   "cell_type": "code",
   "execution_count": 3,
   "id": "c19ec585",
   "metadata": {},
   "outputs": [
    {
     "name": "stdout",
     "output_type": "stream",
     "text": [
      "Vish   \n",
      "\n",
      "Vish   Vish   \n",
      "\n",
      "Vish   Vish   Vish   \n",
      "\n",
      "Vish   Vish   Vish   Vish   \n",
      "\n"
     ]
    }
   ],
   "source": [
    "n = 4\n",
    "for i in range(4) :\n",
    "    for j in range(0,i+1) :\n",
    "        print(\"Vish\", end = '   ')\n",
    "    print(\"\\n\")"
   ]
  },
  {
   "cell_type": "code",
   "execution_count": 10,
   "id": "efd29810",
   "metadata": {},
   "outputs": [
    {
     "name": "stdout",
     "output_type": "stream",
     "text": [
      "** \n",
      "\n",
      "** ** \n",
      "\n",
      "** ** ** \n",
      "\n",
      "** ** ** ** \n",
      "\n",
      "** ** ** ** ** \n",
      "\n"
     ]
    }
   ],
   "source": [
    "n = 5\n",
    "for i in range(5) :\n",
    "    for j in range(0,i+1) :\n",
    "        print(\"**\", end = ' ')\n",
    "    print(\"\\n\")"
   ]
  },
  {
   "cell_type": "code",
   "execution_count": 17,
   "id": "cb3dc4fb",
   "metadata": {},
   "outputs": [
    {
     "name": "stdout",
     "output_type": "stream",
     "text": [
      "          Vish \n",
      "\n",
      "     Vish Vish Vish \n",
      "\n",
      "Vish Vish Vish Vish Vish \n",
      "\n"
     ]
    }
   ],
   "source": [
    "n = 3\n",
    "for i in range(3) :\n",
    "    for j in range(i, n-1) :\n",
    "        print(\" \"*len('Vish'), end = ' ')\n",
    "    for j in range(i+1) :\n",
    "        print(\"Vish\", end = ' ')\n",
    "    for j in range(i) :\n",
    "        print('Vish',end  = \" \")\n",
    "    print('\\n')\n",
    "        "
   ]
  },
  {
   "cell_type": "code",
   "execution_count": 18,
   "id": "10da7582",
   "metadata": {},
   "outputs": [
    {
     "data": {
      "text/plain": [
       "[]"
      ]
     },
     "execution_count": 18,
     "metadata": {},
     "output_type": "execute_result"
    }
   ],
   "source": [
    "list(range(0))"
   ]
  },
  {
   "cell_type": "code",
   "execution_count": 20,
   "id": "889dd013",
   "metadata": {},
   "outputs": [
    {
     "data": {
      "text/plain": [
       "[0, 1, 2, 3, 4, 5, 6, 7]"
      ]
     },
     "execution_count": 20,
     "metadata": {},
     "output_type": "execute_result"
    }
   ],
   "source": [
    "t = (3,23,45,67,2,3,5,6)\n",
    "list(range(len(t)))"
   ]
  },
  {
   "cell_type": "code",
   "execution_count": 21,
   "id": "0933e5b3",
   "metadata": {},
   "outputs": [
    {
     "name": "stdout",
     "output_type": "stream",
     "text": [
      "0 3\n",
      "1 23\n",
      "2 45\n",
      "3 67\n",
      "4 2\n",
      "5 3\n",
      "6 5\n",
      "7 6\n"
     ]
    }
   ],
   "source": [
    "for i in range(len(t)) :\n",
    "    print(i,t[i])"
   ]
  },
  {
   "cell_type": "code",
   "execution_count": 22,
   "id": "12def682",
   "metadata": {},
   "outputs": [
    {
     "data": {
      "text/plain": [
       "range(0, 11)"
      ]
     },
     "execution_count": 22,
     "metadata": {},
     "output_type": "execute_result"
    }
   ],
   "source": [
    "s = 'Maharashtra'\n",
    "range(len(s))"
   ]
  },
  {
   "cell_type": "code",
   "execution_count": 31,
   "id": "bd7ce860",
   "metadata": {},
   "outputs": [
    {
     "name": "stdout",
     "output_type": "stream",
     "text": [
      "10 a\n",
      "9 r\n",
      "8 t\n",
      "7 h\n",
      "6 s\n",
      "5 a\n",
      "4 r\n",
      "3 a\n",
      "2 h\n",
      "1 a\n",
      "0 M\n"
     ]
    }
   ],
   "source": [
    "for i in range(len(s)-1,-1,-1) : \n",
    "    print(i , s[i])"
   ]
  },
  {
   "cell_type": "code",
   "execution_count": 33,
   "id": "05e87df3",
   "metadata": {},
   "outputs": [
    {
     "name": "stdout",
     "output_type": "stream",
     "text": [
      "('k1', 'Vish') <class 'tuple'> <class 'str'>\n",
      "('k2', 'Stats') <class 'tuple'> <class 'str'>\n",
      "('k3', 'Python') <class 'tuple'> <class 'str'>\n"
     ]
    }
   ],
   "source": [
    "d = {'k1':'Vish','k2':'Stats','k3':'Python'}\n",
    "for i in d.items() :\n",
    "    print(i,type(i),type(i[1]))"
   ]
  },
  {
   "cell_type": "code",
   "execution_count": 35,
   "id": "d81c3796",
   "metadata": {},
   "outputs": [],
   "source": [
    "l = [\"vish\",'Stats',9850,'vishalpawar@gmail.com',258,1098]"
   ]
  },
  {
   "cell_type": "code",
   "execution_count": 36,
   "id": "9b006b51",
   "metadata": {},
   "outputs": [
    {
     "name": "stdout",
     "output_type": "stream",
     "text": [
      "[9850, 258, 1098]\n"
     ]
    }
   ],
   "source": [
    "l1 = []\n",
    "for i in l :\n",
    "    if type(i) == int :\n",
    "        l1.append(i)\n",
    "print(l1)"
   ]
  },
  {
   "cell_type": "code",
   "execution_count": 37,
   "id": "05d47726",
   "metadata": {},
   "outputs": [],
   "source": [
    "d = {1:240,'Name':\"Vish\",'email_id':'vp@gmail.com',23:450, 120:345}"
   ]
  },
  {
   "cell_type": "code",
   "execution_count": 38,
   "id": "689fdc0d",
   "metadata": {},
   "outputs": [
    {
     "name": "stdout",
     "output_type": "stream",
     "text": [
      "1\n",
      "Name\n",
      "email_id\n",
      "23\n",
      "120\n"
     ]
    }
   ],
   "source": [
    "for i in d :\n",
    "    print(i)"
   ]
  },
  {
   "cell_type": "code",
   "execution_count": 43,
   "id": "8dceb7fb",
   "metadata": {},
   "outputs": [
    {
     "name": "stdout",
     "output_type": "stream",
     "text": [
      "1  : 240\n",
      "23  : 450\n",
      "120  : 345\n"
     ]
    }
   ],
   "source": [
    "for i in d :\n",
    "    if type(i) == int :\n",
    "        print(i,' :', d[i])"
   ]
  },
  {
   "cell_type": "code",
   "execution_count": 49,
   "id": "77a0a1ff",
   "metadata": {},
   "outputs": [
    {
     "data": {
      "text/plain": [
       "{'a', 'b', 'c', 'd'}"
      ]
     },
     "execution_count": 49,
     "metadata": {},
     "output_type": "execute_result"
    }
   ],
   "source": [
    "s = 'aaaabbccdaabb'\n",
    "set(s)"
   ]
  },
  {
   "cell_type": "code",
   "execution_count": 50,
   "id": "ea976e4d",
   "metadata": {},
   "outputs": [
    {
     "data": {
      "text/plain": [
       "6"
      ]
     },
     "execution_count": 50,
     "metadata": {},
     "output_type": "execute_result"
    }
   ],
   "source": [
    "s.count('a')"
   ]
  },
  {
   "cell_type": "code",
   "execution_count": 51,
   "id": "cf635dfd",
   "metadata": {},
   "outputs": [
    {
     "name": "stdout",
     "output_type": "stream",
     "text": [
      "b  :  4\n",
      "d  :  1\n",
      "a  :  6\n",
      "c  :  2\n"
     ]
    }
   ],
   "source": [
    "for i in set(s) :\n",
    "    print(i, ' : ' , s.count(i))"
   ]
  },
  {
   "cell_type": "code",
   "execution_count": 52,
   "id": "9bec45b6",
   "metadata": {},
   "outputs": [],
   "source": [
    "i = 3453465464435"
   ]
  },
  {
   "cell_type": "code",
   "execution_count": 57,
   "id": "1bbb3d1e",
   "metadata": {},
   "outputs": [
    {
     "name": "stdout",
     "output_type": "stream",
     "text": [
      "3 <class 'int'>\n",
      "4 <class 'int'>\n",
      "5 <class 'int'>\n",
      "3 <class 'int'>\n",
      "4 <class 'int'>\n",
      "6 <class 'int'>\n",
      "5 <class 'int'>\n",
      "4 <class 'int'>\n",
      "6 <class 'int'>\n",
      "4 <class 'int'>\n",
      "4 <class 'int'>\n",
      "3 <class 'int'>\n",
      "5 <class 'int'>\n"
     ]
    }
   ],
   "source": [
    "for j in str(i) :\n",
    "    print(int(j),type(int(j)))\n"
   ]
  },
  {
   "cell_type": "code",
   "execution_count": 67,
   "id": "db4b89b5",
   "metadata": {},
   "outputs": [],
   "source": [
    "t = ('Vish','Pawar',[1,2,3,4,5],(3,4,5,6),{3:3,'k2':'Pawar'})"
   ]
  },
  {
   "cell_type": "code",
   "execution_count": 69,
   "id": "23f143e7",
   "metadata": {},
   "outputs": [
    {
     "name": "stdout",
     "output_type": "stream",
     "text": [
      "3\n",
      "3\n",
      "3\n",
      "3\n"
     ]
    }
   ],
   "source": [
    "for i in t :\n",
    "    if type(i) == list or type(i) == tuple :\n",
    "        for j in i :\n",
    "            if j == 3 :\n",
    "                print(j)\n",
    "    if type(i) == dict :\n",
    "        for k,v in i.items() :\n",
    "            if k == 3 or v == 3 :\n",
    "                print(k)\n",
    "                print(v)\n",
    "         \n",
    "     "
   ]
  },
  {
   "cell_type": "code",
   "execution_count": 70,
   "id": "b18588a4",
   "metadata": {},
   "outputs": [
    {
     "data": {
      "text/plain": [
       "{1: 240, 'Name': 'Vish', 'email_id': 'vp@gmail.com', 23: 450, 120: 345}"
      ]
     },
     "execution_count": 70,
     "metadata": {},
     "output_type": "execute_result"
    }
   ],
   "source": [
    "d"
   ]
  },
  {
   "cell_type": "code",
   "execution_count": 73,
   "id": "a72c19ac",
   "metadata": {},
   "outputs": [
    {
     "name": "stdout",
     "output_type": "stream",
     "text": [
      "1\n",
      "Name\n",
      "email_id\n",
      "23\n",
      "120\n"
     ]
    }
   ],
   "source": [
    "for i,j in d.items() :\n",
    "    print(i)\n",
    "  "
   ]
  },
  {
   "cell_type": "code",
   "execution_count": 1,
   "id": "18c399f1",
   "metadata": {},
   "outputs": [
    {
     "name": "stdout",
     "output_type": "stream",
     "text": [
      "Ineauron \n",
      "Ineauron Ineauron \n",
      "Ineauron Ineauron Ineauron \n",
      "Ineauron Ineauron Ineauron Ineauron \n"
     ]
    }
   ],
   "source": [
    "n = 4\n",
    "for i in range(4) :\n",
    "    for j in range(0,i+1) :\n",
    "        print(\"Ineauron\", end = ' ')\n",
    "    print()"
   ]
  },
  {
   "cell_type": "code",
   "execution_count": 31,
   "id": "c8054231",
   "metadata": {},
   "outputs": [
    {
     "name": "stdout",
     "output_type": "stream",
     "text": [
      "                           \n",
      "                  INEAURON \n",
      "         INEAURON INEAURON INEAURON \n",
      "INEAURON INEAURON INEAURON INEAURON INEAURON \n"
     ]
    }
   ],
   "source": [
    "n = 4\n",
    "for i in range(4) :\n",
    "    for j in range(i,n-1) :\n",
    "        print(\" \"*len('INEAURON'), end = ' ')\n",
    "    for j in range(i-1) :\n",
    "        print(\"INEAURON\", end = ' ')\n",
    "    for j in range(i) :\n",
    "        print('INEAURON', end = ' ')\n",
    "    print()"
   ]
  },
  {
   "cell_type": "code",
   "execution_count": 1,
   "id": "187d7bf5",
   "metadata": {},
   "outputs": [
    {
     "name": "stdout",
     "output_type": "stream",
     "text": [
      "* \n",
      "* * \n",
      "* * * \n",
      "* * * * \n",
      "* * * * * \n",
      "* * * * * * \n"
     ]
    }
   ],
   "source": [
    "n = 9\n",
    "for i in range(6) :\n",
    "    for j in range(0,i+1) :\n",
    "        print(\"*\", end = ' ')\n",
    "    print()"
   ]
  },
  {
   "cell_type": "code",
   "execution_count": null,
   "id": "e4c702fb",
   "metadata": {},
   "outputs": [],
   "source": []
  }
 ],
 "metadata": {
  "kernelspec": {
   "display_name": "Python 3 (ipykernel)",
   "language": "python",
   "name": "python3"
  },
  "language_info": {
   "codemirror_mode": {
    "name": "ipython",
    "version": 3
   },
   "file_extension": ".py",
   "mimetype": "text/x-python",
   "name": "python",
   "nbconvert_exporter": "python",
   "pygments_lexer": "ipython3",
   "version": "3.9.7"
  }
 },
 "nbformat": 4,
 "nbformat_minor": 5
}
