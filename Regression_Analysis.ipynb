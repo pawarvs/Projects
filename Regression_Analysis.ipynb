{
 "cells": [
  {
   "cell_type": "code",
   "execution_count": 19,
   "id": "12077dba",
   "metadata": {},
   "outputs": [],
   "source": [
    "import numpy as np\n",
    "import random\n",
    "%matplotlib inline \n",
    "import matplotlib.pyplot as plt\n",
    "import pandas as pd\n",
    "from sklearn import linear_model\n",
    "import statsmodels.api as sm"
   ]
  },
  {
   "cell_type": "code",
   "execution_count": 20,
   "id": "513151a9",
   "metadata": {},
   "outputs": [
    {
     "data": {
      "text/html": [
       "<div>\n",
       "<style scoped>\n",
       "    .dataframe tbody tr th:only-of-type {\n",
       "        vertical-align: middle;\n",
       "    }\n",
       "\n",
       "    .dataframe tbody tr th {\n",
       "        vertical-align: top;\n",
       "    }\n",
       "\n",
       "    .dataframe thead th {\n",
       "        text-align: right;\n",
       "    }\n",
       "</style>\n",
       "<table border=\"1\" class=\"dataframe\">\n",
       "  <thead>\n",
       "    <tr style=\"text-align: right;\">\n",
       "      <th></th>\n",
       "      <th>CRIM</th>\n",
       "      <th>NOX</th>\n",
       "      <th>RM</th>\n",
       "      <th>PTRATIO</th>\n",
       "      <th>LSTAT</th>\n",
       "      <th>MEDV</th>\n",
       "    </tr>\n",
       "  </thead>\n",
       "  <tbody>\n",
       "    <tr>\n",
       "      <th>0</th>\n",
       "      <td>4.22239</td>\n",
       "      <td>0.770</td>\n",
       "      <td>5.803</td>\n",
       "      <td>20.2</td>\n",
       "      <td>14.64</td>\n",
       "      <td>16.8</td>\n",
       "    </tr>\n",
       "    <tr>\n",
       "      <th>1</th>\n",
       "      <td>0.22438</td>\n",
       "      <td>0.585</td>\n",
       "      <td>6.027</td>\n",
       "      <td>19.2</td>\n",
       "      <td>14.33</td>\n",
       "      <td>16.8</td>\n",
       "    </tr>\n",
       "    <tr>\n",
       "      <th>2</th>\n",
       "      <td>0.04301</td>\n",
       "      <td>0.413</td>\n",
       "      <td>5.663</td>\n",
       "      <td>22.0</td>\n",
       "      <td>8.05</td>\n",
       "      <td>18.2</td>\n",
       "    </tr>\n",
       "    <tr>\n",
       "      <th>3</th>\n",
       "      <td>0.05479</td>\n",
       "      <td>0.472</td>\n",
       "      <td>6.616</td>\n",
       "      <td>18.4</td>\n",
       "      <td>8.93</td>\n",
       "      <td>28.4</td>\n",
       "    </tr>\n",
       "    <tr>\n",
       "      <th>4</th>\n",
       "      <td>0.09178</td>\n",
       "      <td>0.510</td>\n",
       "      <td>6.416</td>\n",
       "      <td>16.6</td>\n",
       "      <td>9.04</td>\n",
       "      <td>23.6</td>\n",
       "    </tr>\n",
       "  </tbody>\n",
       "</table>\n",
       "</div>"
      ],
      "text/plain": [
       "      CRIM    NOX     RM  PTRATIO  LSTAT  MEDV\n",
       "0  4.22239  0.770  5.803     20.2  14.64  16.8\n",
       "1  0.22438  0.585  6.027     19.2  14.33  16.8\n",
       "2  0.04301  0.413  5.663     22.0   8.05  18.2\n",
       "3  0.05479  0.472  6.616     18.4   8.93  28.4\n",
       "4  0.09178  0.510  6.416     16.6   9.04  23.6"
      ]
     },
     "execution_count": 20,
     "metadata": {},
     "output_type": "execute_result"
    }
   ],
   "source": [
    "df = pd.read_csv('BostonHousingSmall5.csv')\n",
    "df.head(5)"
   ]
  },
  {
   "cell_type": "code",
   "execution_count": 21,
   "id": "6e937533",
   "metadata": {},
   "outputs": [],
   "source": [
    "# 1) scatterplot of MEDV versus CRIM. \n",
    "x = df['CRIM']\n",
    "y = df['MEDV']"
   ]
  },
  {
   "cell_type": "code",
   "execution_count": 22,
   "id": "40a0260b",
   "metadata": {},
   "outputs": [
    {
     "data": {
      "image/png": "[encoded data removed]",
      "text/plain": [
       "<Figure size 600x400 with 1 Axes>"
      ]
     },
     "metadata": {
      "needs_background": "light"
     },
     "output_type": "display_data"
    }
   ],
   "source": [
    "plt.figure(dpi = 100)\n",
    "plt.xlabel(\"Crime rate\")\n",
    "plt.ylabel(\"median house prices\")\n",
    "plt.scatter(df.CRIM, df.MEDV, marker = '*')\n",
    "plt.title('Scatter_plot : Crime Rate vs Median House Prices')\n",
    "plt.show()"
   ]
  },
  {
   "cell_type": "markdown",
   "id": "89703afe",
   "metadata": {},
   "source": [
    "It seems that there is negative linear relation between Crime rate and median house prices.\n",
    "It helps to predict the medain house prices using the crime rate.\n",
    "We can conclude that high median house prices has low crime rate. CRIM appear helpful in predicting MEDV."
   ]
  },
  {
   "cell_type": "code",
   "execution_count": 23,
   "id": "970da2f4",
   "metadata": {},
   "outputs": [
    {
     "data": {
      "text/plain": [
       "LinearRegression()"
      ]
     },
     "execution_count": 23,
     "metadata": {},
     "output_type": "execute_result"
    }
   ],
   "source": [
    "# 2) regression of MEDV versus CRIM. and p-value \n",
    "reg = linear_model.LinearRegression()\n",
    "reg.fit(df[['CRIM']], df.MEDV)"
   ]
  },
  {
   "cell_type": "code",
   "execution_count": 24,
   "id": "35bbb583",
   "metadata": {},
   "outputs": [
    {
     "name": "stdout",
     "output_type": "stream",
     "text": [
      "The Regression Coefficient is: [-0.48245636]\n",
      "The Intercept of regression line is: 20.484025119103073\n"
     ]
    }
   ],
   "source": [
    "# find and print the regression coefficients\n",
    "print(\"The Regression Coefficient is:\", reg.coef_)\n",
    "print(\"The Intercept of regression line is:\", reg.intercept_)"
   ]
  },
  {
   "cell_type": "raw",
   "id": "b3b675c4",
   "metadata": {},
   "source": [
    "Regression equation  MEDV(y) = 20.48 - 0.48 * CRIM(x)"
   ]
  },
  {
   "cell_type": "code",
   "execution_count": 25,
   "id": "88579655",
   "metadata": {},
   "outputs": [
    {
     "name": "stdout",
     "output_type": "stream",
     "text": [
      "                            OLS Regression Results                            \n",
      "==============================================================================\n",
      "Dep. Variable:                   MEDV   R-squared:                       0.368\n",
      "Model:                            OLS   Adj. R-squared:                  0.365\n",
      "Method:                 Least Squares   F-statistic:                     154.1\n",
      "Date:                Fri, 26 Aug 2022   Prob (F-statistic):           3.32e-28\n",
      "Time:                        13:32:38   Log-Likelihood:                -739.54\n",
      "No. Observations:                 267   AIC:                             1483.\n",
      "Df Residuals:                     265   BIC:                             1490.\n",
      "Df Model:                           1                                         \n",
      "Covariance Type:            nonrobust                                         \n",
      "==============================================================================\n",
      "                 coef    std err          t      P>|t|      [0.025      0.975]\n",
      "------------------------------------------------------------------------------\n",
      "const         20.4840      0.276     74.260      0.000      19.941      21.027\n",
      "CRIM          -0.4825      0.039    -12.415      0.000      -0.559      -0.406\n",
      "==============================================================================\n",
      "Omnibus:                        3.226   Durbin-Watson:                   1.988\n",
      "Prob(Omnibus):                  0.199   Jarque-Bera (JB):                3.430\n",
      "Skew:                          -0.096   Prob(JB):                        0.180\n",
      "Kurtosis:                       3.521   Cond. No.                         8.30\n",
      "==============================================================================\n",
      "\n",
      "Notes:\n",
      "[1] Standard Errors assume that the covariance matrix of the errors is correctly specified.\n"
     ]
    },
    {
     "name": "stderr",
     "output_type": "stream",
     "text": [
      "C:\\Users\\svish\\anaconda3\\lib\\site-packages\\statsmodels\\tsa\\tsatools.py:142: FutureWarning: In a future version of pandas all arguments of concat except for the argument 'objs' will be keyword-only\n",
      "  x = pd.concat(x[::order], 1)\n"
     ]
    }
   ],
   "source": [
    "x = sm.add_constant(x)\n",
    "\n",
    "# Regression analysis between MEDV and all predictor variables\n",
    "reg_model = sm.OLS(y, x)\n",
    "results = reg_model.fit()\n",
    "\n",
    "# Print out the statistics\n",
    "print(results.summary())"
   ]
  },
  {
   "cell_type": "markdown",
   "id": "5184b71a",
   "metadata": {},
   "source": [
    "Since Prob (F-statistic): 3.32e-28 < 0.05, the model is significant. \n",
    "Also p values for the intercept and CRIM are 0 < 0.05, So, the intercept and the independent variable contributes \n",
    "Significantly to the model.\n",
    "Adj. R-squared = 0.365 , that means 36.5 % of the data fit the regression model."
   ]
  },
  {
   "cell_type": "code",
   "execution_count": 26,
   "id": "caf8c3e6",
   "metadata": {},
   "outputs": [
    {
     "data": {
      "text/plain": [
       "Text(0.5, 1.0, 'Scatter Plot : Status vs Median House Prices')"
      ]
     },
     "execution_count": 26,
     "metadata": {},
     "output_type": "execute_result"
    },
    {
     "data": {
      "image/png": "[encoded data removed]",
      "text/plain": [
       "<Figure size 600x400 with 1 Axes>"
      ]
     },
     "metadata": {
      "needs_background": "light"
     },
     "output_type": "display_data"
    }
   ],
   "source": [
    "# 3) Make a scatterplot of MEDV versus LSTAT.\n",
    "plt.figure(dpi = 100)\n",
    "x1 = df['LSTAT']\n",
    "plt.xlabel(\"population status\")\n",
    "plt.ylabel(\"median house prices\")\n",
    "plt.scatter(df.LSTAT, df.MEDV, marker = '*')\n",
    "plt.title(\"Scatter Plot : Status vs Median House Prices\")"
   ]
  },
  {
   "cell_type": "markdown",
   "id": "3dac66ae",
   "metadata": {},
   "source": [
    "It seems that there is negative linear relation between population status and median house prices.\n",
    "It helps to predict the medain house prices using the lower population status.\n",
    "We can conclude that high median house prices has lower Population status. LSTAT appear helpful in predicting MEDV."
   ]
  },
  {
   "cell_type": "code",
   "execution_count": 27,
   "id": "cc32dfab",
   "metadata": {},
   "outputs": [
    {
     "name": "stdout",
     "output_type": "stream",
     "text": [
      "Coefficient is: [-0.55643537]\n",
      "Intercept is: 26.850076080546998\n"
     ]
    }
   ],
   "source": [
    " # 4 ) regression of MEDV versus LSTAT. and p-value\n",
    "reg = linear_model.LinearRegression()\n",
    "reg.fit(df[['LSTAT']], df.MEDV)\n",
    "\n",
    "# find and print the regression coefficients\n",
    "print(\"Coefficient is:\", reg.coef_)\n",
    "print(\"Intercept is:\", reg.intercept_)\n"
   ]
  },
  {
   "cell_type": "code",
   "execution_count": 28,
   "id": "1952a03e",
   "metadata": {},
   "outputs": [],
   "source": [
    "# Regression equation MEDV(y) = 26.85 - 0.556 * LSTAT(x)"
   ]
  },
  {
   "cell_type": "code",
   "execution_count": 29,
   "id": "4a40ce63",
   "metadata": {},
   "outputs": [
    {
     "name": "stdout",
     "output_type": "stream",
     "text": [
      "                            OLS Regression Results                            \n",
      "==============================================================================\n",
      "Dep. Variable:                   MEDV   R-squared:                       0.580\n",
      "Model:                            OLS   Adj. R-squared:                  0.578\n",
      "Method:                 Least Squares   F-statistic:                     365.5\n",
      "Date:                Fri, 26 Aug 2022   Prob (F-statistic):           8.52e-52\n",
      "Time:                        13:32:39   Log-Likelihood:                -685.03\n",
      "No. Observations:                 267   AIC:                             1374.\n",
      "Df Residuals:                     265   BIC:                             1381.\n",
      "Df Model:                           1                                         \n",
      "Covariance Type:            nonrobust                                         \n",
      "==============================================================================\n",
      "                 coef    std err          t      P>|t|      [0.025      0.975]\n",
      "------------------------------------------------------------------------------\n",
      "const         26.8501      0.466     57.564      0.000      25.932      27.768\n",
      "LSTAT         -0.5564      0.029    -19.118      0.000      -0.614      -0.499\n",
      "==============================================================================\n",
      "Omnibus:                       21.186   Durbin-Watson:                   2.070\n",
      "Prob(Omnibus):                  0.000   Jarque-Bera (JB):               42.832\n",
      "Skew:                           0.407   Prob(JB):                     5.00e-10\n",
      "Kurtosis:                       4.786   Cond. No.                         38.8\n",
      "==============================================================================\n",
      "\n",
      "Notes:\n",
      "[1] Standard Errors assume that the covariance matrix of the errors is correctly specified.\n"
     ]
    },
    {
     "name": "stderr",
     "output_type": "stream",
     "text": [
      "C:\\Users\\svish\\anaconda3\\lib\\site-packages\\statsmodels\\tsa\\tsatools.py:142: FutureWarning: In a future version of pandas all arguments of concat except for the argument 'objs' will be keyword-only\n",
      "  x = pd.concat(x[::order], 1)\n"
     ]
    }
   ],
   "source": [
    "x1 = sm.add_constant(x1)\n",
    "\n",
    "# Regression analysis between MEDV and all predictor variables\n",
    "reg_model = sm.OLS(y, x1)\n",
    "results = reg_model.fit()\n",
    "\n",
    "# Print out the statistics\n",
    "print(results.summary())"
   ]
  },
  {
   "cell_type": "markdown",
   "id": "06f452d8",
   "metadata": {},
   "source": [
    "Since Prob (F-statistic): 8.52e-52 < 0.05, the model is significant. \n",
    "Also p values for the intercept and LSTAT are 0 < 0.05, So, the intercept and the independent variable contributes \n",
    "Significantly to the model.\n",
    "Adj. R-squared = 57.8 %, that means 57.8 % of the data fit the regression model\n",
    "The regression model appears helpful to predict the median house prices."
   ]
  },
  {
   "cell_type": "code",
   "execution_count": 30,
   "id": "b172e146",
   "metadata": {},
   "outputs": [],
   "source": [
    "# 5) Multiple linear regression model \n",
    "X = df.drop('MEDV',axis = 1)"
   ]
  },
  {
   "cell_type": "code",
   "execution_count": 31,
   "id": "4f0d8c4b",
   "metadata": {},
   "outputs": [
    {
     "data": {
      "text/html": [
       "<div>\n",
       "<style scoped>\n",
       "    .dataframe tbody tr th:only-of-type {\n",
       "        vertical-align: middle;\n",
       "    }\n",
       "\n",
       "    .dataframe tbody tr th {\n",
       "        vertical-align: top;\n",
       "    }\n",
       "\n",
       "    .dataframe thead th {\n",
       "        text-align: right;\n",
       "    }\n",
       "</style>\n",
       "<table border=\"1\" class=\"dataframe\">\n",
       "  <thead>\n",
       "    <tr style=\"text-align: right;\">\n",
       "      <th></th>\n",
       "      <th>CRIM</th>\n",
       "      <th>NOX</th>\n",
       "      <th>RM</th>\n",
       "      <th>PTRATIO</th>\n",
       "      <th>LSTAT</th>\n",
       "    </tr>\n",
       "  </thead>\n",
       "  <tbody>\n",
       "    <tr>\n",
       "      <th>0</th>\n",
       "      <td>4.22239</td>\n",
       "      <td>0.770</td>\n",
       "      <td>5.803</td>\n",
       "      <td>20.2</td>\n",
       "      <td>14.64</td>\n",
       "    </tr>\n",
       "    <tr>\n",
       "      <th>1</th>\n",
       "      <td>0.22438</td>\n",
       "      <td>0.585</td>\n",
       "      <td>6.027</td>\n",
       "      <td>19.2</td>\n",
       "      <td>14.33</td>\n",
       "    </tr>\n",
       "    <tr>\n",
       "      <th>2</th>\n",
       "      <td>0.04301</td>\n",
       "      <td>0.413</td>\n",
       "      <td>5.663</td>\n",
       "      <td>22.0</td>\n",
       "      <td>8.05</td>\n",
       "    </tr>\n",
       "    <tr>\n",
       "      <th>3</th>\n",
       "      <td>0.05479</td>\n",
       "      <td>0.472</td>\n",
       "      <td>6.616</td>\n",
       "      <td>18.4</td>\n",
       "      <td>8.93</td>\n",
       "    </tr>\n",
       "    <tr>\n",
       "      <th>4</th>\n",
       "      <td>0.09178</td>\n",
       "      <td>0.510</td>\n",
       "      <td>6.416</td>\n",
       "      <td>16.6</td>\n",
       "      <td>9.04</td>\n",
       "    </tr>\n",
       "  </tbody>\n",
       "</table>\n",
       "</div>"
      ],
      "text/plain": [
       "      CRIM    NOX     RM  PTRATIO  LSTAT\n",
       "0  4.22239  0.770  5.803     20.2  14.64\n",
       "1  0.22438  0.585  6.027     19.2  14.33\n",
       "2  0.04301  0.413  5.663     22.0   8.05\n",
       "3  0.05479  0.472  6.616     18.4   8.93\n",
       "4  0.09178  0.510  6.416     16.6   9.04"
      ]
     },
     "execution_count": 31,
     "metadata": {},
     "output_type": "execute_result"
    }
   ],
   "source": [
    "X.head()"
   ]
  },
  {
   "cell_type": "code",
   "execution_count": 32,
   "id": "6ee0c250",
   "metadata": {},
   "outputs": [
    {
     "name": "stdout",
     "output_type": "stream",
     "text": [
      "                            OLS Regression Results                            \n",
      "==============================================================================\n",
      "Dep. Variable:                   MEDV   R-squared:                       0.654\n",
      "Model:                            OLS   Adj. R-squared:                  0.647\n",
      "Method:                 Least Squares   F-statistic:                     98.49\n",
      "Date:                Fri, 26 Aug 2022   Prob (F-statistic):           4.99e-58\n",
      "Time:                        13:32:41   Log-Likelihood:                -659.22\n",
      "No. Observations:                 267   AIC:                             1330.\n",
      "Df Residuals:                     261   BIC:                             1352.\n",
      "Df Model:                           5                                         \n",
      "Covariance Type:            nonrobust                                         \n",
      "==============================================================================\n",
      "                 coef    std err          t      P>|t|      [0.025      0.975]\n",
      "------------------------------------------------------------------------------\n",
      "const         35.0999      3.234     10.855      0.000      28.733      41.467\n",
      "CRIM          -0.1302      0.038     -3.404      0.001      -0.206      -0.055\n",
      "NOX           -5.5745      1.980     -2.815      0.005      -9.474      -1.675\n",
      "RM             0.2785      0.410      0.679      0.498      -0.530       1.086\n",
      "PTRATIO       -0.4544      0.101     -4.479      0.000      -0.654      -0.255\n",
      "LSTAT         -0.3963      0.041     -9.580      0.000      -0.478      -0.315\n",
      "==============================================================================\n",
      "Omnibus:                       30.060   Durbin-Watson:                   2.044\n",
      "Prob(Omnibus):                  0.000   Jarque-Bera (JB):               60.766\n",
      "Skew:                           0.586   Prob(JB):                     6.38e-14\n",
      "Kurtosis:                       5.022   Cond. No.                         472.\n",
      "==============================================================================\n",
      "\n",
      "Notes:\n",
      "[1] Standard Errors assume that the covariance matrix of the errors is correctly specified.\n"
     ]
    },
    {
     "name": "stderr",
     "output_type": "stream",
     "text": [
      "C:\\Users\\svish\\anaconda3\\lib\\site-packages\\statsmodels\\tsa\\tsatools.py:142: FutureWarning: In a future version of pandas all arguments of concat except for the argument 'objs' will be keyword-only\n",
      "  x = pd.concat(x[::order], 1)\n"
     ]
    }
   ],
   "source": [
    "# Add a constant term to the predictor variables to reflect the intercept\n",
    "X = sm.add_constant(X)\n",
    "\n",
    "# Regression analysis between MEDV and all predictor variables\n",
    "reg_model = sm.OLS(y, X)\n",
    "results = reg_model.fit()\n",
    "\n",
    "# Print out the statistics\n",
    "print(results.summary())"
   ]
  },
  {
   "cell_type": "raw",
   "id": "09d774e8",
   "metadata": {},
   "source": [
    "Regression model: MEDV(y) = 35.10 - 0.13*CRIM - 5.57*NOX + 0.29*RM - 0.45*PTRATIO - 0.40*LSTAT "
   ]
  },
  {
   "cell_type": "markdown",
   "id": "f25ab65f",
   "metadata": {},
   "source": [
    " \n",
    "\n",
    "The independent variable RM has p value = 0.498 > 0.05, that means it is not significantly contributing to the regression\n",
    "model. All other p values are less than 0.05 , so the remaining independent variables contributing significantly to the model.\n",
    "Prob (F-statistic) = 4.99e-58 < 0.05, the regression model is significant.\n",
    "Adj. R-squared = 64.7 % , that means 64.7 % of the data fit the regression model.\n",
    "Therefore the model appears helpful to predict the median house prices."
   ]
  },
  {
   "cell_type": "code",
   "execution_count": null,
   "id": "1e37234a",
   "metadata": {},
   "outputs": [],
   "source": []
  }
 ],
 "metadata": {
  "kernelspec": {
   "display_name": "Python 3 (ipykernel)",
   "language": "python",
   "name": "python3"
  },
  "language_info": {
   "codemirror_mode": {
    "name": "ipython",
    "version": 3
   },
   "file_extension": ".py",
   "mimetype": "text/x-python",
   "name": "python",
   "nbconvert_exporter": "python",
   "pygments_lexer": "ipython3",
   "version": "3.9.7"
  }
 },
 "nbformat": 4,
 "nbformat_minor": 5
}
