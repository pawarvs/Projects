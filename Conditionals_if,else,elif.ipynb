{
 "cells": [
  {
   "cell_type": "markdown",
   "id": "28a8f22f",
   "metadata": {},
   "source": [
    "## Conditional Statements"
   ]
  },
  {
   "cell_type": "code",
   "execution_count": 5,
   "id": "df12db8c",
   "metadata": {},
   "outputs": [],
   "source": [
    "# If condition is not matches with the statement\n",
    "a = 20\n",
    "if a == 10:\n",
    "    print(\"First condition\")\n"
   ]
  },
  {
   "cell_type": "code",
   "execution_count": 6,
   "id": "1c6a8612",
   "metadata": {},
   "outputs": [],
   "source": [
    "# without writing a condition\n",
    "a = 10\n",
    "if a > 5 :\n",
    "    pass"
   ]
  },
  {
   "cell_type": "code",
   "execution_count": 10,
   "id": "1b799c54",
   "metadata": {},
   "outputs": [
    {
     "name": "stdout",
     "output_type": "stream",
     "text": [
      "True\n"
     ]
    }
   ],
   "source": [
    "a = 10\n",
    "if a > 9 :\n",
    "#if a > 11 :\n",
    "    print('True')\n",
    "else :\n",
    "    print('False')"
   ]
  },
  {
   "cell_type": "code",
   "execution_count": 12,
   "id": "63addfe8",
   "metadata": {},
   "outputs": [
    {
     "name": "stdout",
     "output_type": "stream",
     "text": [
      "Great ! print a =  10\n"
     ]
    }
   ],
   "source": [
    "a = 10\n",
    "#if a != 11 :\n",
    "if a == 11 :\n",
    "    print(\"False condition\")\n",
    "else :\n",
    "    print(\"Great ! print a = \",a)"
   ]
  },
  {
   "cell_type": "code",
   "execution_count": 1,
   "id": "7214ec6c",
   "metadata": {},
   "outputs": [
    {
     "name": "stdout",
     "output_type": "stream",
     "text": [
      "Fail to do this !\n"
     ]
    }
   ],
   "source": [
    "a = 10\n",
    "if a == 12 :\n",
    "    print(\"Compare 10 with 12\")\n",
    "elif a == 11 :\n",
    "# elif a == 10\n",
    "    print(\"Compare 10 with 11\")\n",
    "else:\n",
    "    print(\"Fail to do this !\")"
   ]
  },
  {
   "cell_type": "code",
   "execution_count": 2,
   "id": "b4926eb6",
   "metadata": {},
   "outputs": [
    {
     "name": "stdout",
     "output_type": "stream",
     "text": [
      "Buying a jacket\n",
      "Very Happy !\n"
     ]
    }
   ],
   "source": [
    "price = 500\n",
    "if price > 500 :\n",
    "    print(\" Unable to buy jacket\")\n",
    "elif price <= 500 :\n",
    "    print(\"Buying a jacket\")\n",
    "    print(\"Very Happy !\")\n",
    "    "
   ]
  },
  {
   "cell_type": "code",
   "execution_count": 4,
   "id": "556335d2",
   "metadata": {},
   "outputs": [
    {
     "name": "stdout",
     "output_type": "stream",
     "text": [
      "Going for trip, Awesome!\n"
     ]
    }
   ],
   "source": [
    "price = 500\n",
    "if price > 500 :\n",
    "    print(\" Unable to buy jacket\")\n",
    "elif price < 500 :\n",
    "    print(\"Buying a jacket\")\n",
    "    print(\"Very Happy !\")\n",
    "elif price == 500 :\n",
    "    print(\"Going for trip, Awesome!\")"
   ]
  },
  {
   "cell_type": "code",
   "execution_count": 8,
   "id": "7f4e25c6",
   "metadata": {},
   "outputs": [
    {
     "name": "stdout",
     "output_type": "stream",
     "text": [
      "Take square of 2 is =  4\n"
     ]
    }
   ],
   "source": [
    "l = [1,2,3,4,5,6,7,8]\n",
    "if 2 in l:\n",
    "    print(\"Take square of 2 is = \",2*2)\n",
    "else :\n",
    "    print(\"Not present in the list\")"
   ]
  },
  {
   "cell_type": "code",
   "execution_count": 12,
   "id": "585c59b9",
   "metadata": {},
   "outputs": [
    {
     "name": "stdout",
     "output_type": "stream",
     "text": [
      "Take addition\n"
     ]
    }
   ],
   "source": [
    "if 1 in l :\n",
    "    print(\"Take addition\")\n",
    "elif 2 in l :\n",
    "    print(\"Take Substraction\")\n",
    "elif 3 in l :\n",
    "    print('Try multiplication')"
   ]
  },
  {
   "cell_type": "code",
   "execution_count": 11,
   "id": "03b1bf4a",
   "metadata": {},
   "outputs": [
    {
     "name": "stdout",
     "output_type": "stream",
     "text": [
      "Take Substraction\n"
     ]
    }
   ],
   "source": [
    "if 10 in l :\n",
    "    print(\"Take addition\")\n",
    "elif 2 in l :\n",
    "    print(\"Take Substraction\")\n",
    "elif 3 in l :\n",
    "    print('Try multiplication')"
   ]
  },
  {
   "cell_type": "code",
   "execution_count": 13,
   "id": "9b3166da",
   "metadata": {},
   "outputs": [
    {
     "name": "stdout",
     "output_type": "stream",
     "text": [
      "Try multiplication\n"
     ]
    }
   ],
   "source": [
    "if 11 in l :\n",
    "    print(\"Take addition\")\n",
    "elif 20 in l :\n",
    "    print(\"Take Substraction\")\n",
    "elif 3 in l :\n",
    "    print('Try multiplication')"
   ]
  },
  {
   "cell_type": "markdown",
   "id": "c80b49c9",
   "metadata": {},
   "source": [
    "## Nested if else"
   ]
  },
  {
   "cell_type": "code",
   "execution_count": 14,
   "id": "146fb9fb",
   "metadata": {},
   "outputs": [],
   "source": [
    "a = 500"
   ]
  },
  {
   "cell_type": "code",
   "execution_count": 25,
   "id": "5b8a0e5d",
   "metadata": {},
   "outputs": [
    {
     "name": "stdout",
     "output_type": "stream",
     "text": [
      "600\n"
     ]
    }
   ],
   "source": [
    "#b = input()\n",
    "# By defualt input() it will gives data in form of string format \n",
    "b = int(input())"
   ]
  },
  {
   "cell_type": "code",
   "execution_count": 26,
   "id": "960c6d0b",
   "metadata": {},
   "outputs": [
    {
     "data": {
      "text/plain": [
       "600"
      ]
     },
     "execution_count": 26,
     "metadata": {},
     "output_type": "execute_result"
    }
   ],
   "source": [
    "b"
   ]
  },
  {
   "cell_type": "code",
   "execution_count": 22,
   "id": "45ff8dba",
   "metadata": {},
   "outputs": [
    {
     "data": {
      "text/plain": [
       "int"
      ]
     },
     "execution_count": 22,
     "metadata": {},
     "output_type": "execute_result"
    }
   ],
   "source": [
    "type(b)\n"
   ]
  },
  {
   "cell_type": "code",
   "execution_count": 33,
   "id": "9a6a497a",
   "metadata": {},
   "outputs": [
    {
     "name": "stdout",
     "output_type": "stream",
     "text": [
      "100\n",
      "Buy Something!\n",
      "Will buy a jacket\n"
     ]
    }
   ],
   "source": [
    "price = int(input())\n",
    "if price < 500 :\n",
    "    print(\"Buy Something!\")\n",
    "    if price < 400 :\n",
    "        print(\"Will buy a jacket\")\n",
    "    elif price < 300 :\n",
    "        print(\"Will Buy a Short\")\n",
    "        if price < 200 :\n",
    "            print(\"Bad condition\")\n",
    "    else :\n",
    "        print(\"Hail!\")\n",
    "else :\n",
    "    print(\"What Can be done.\")\n",
    "    if price > 500 :\n",
    "        print(\"Let's try something else\")"
   ]
  },
  {
   "cell_type": "code",
   "execution_count": 40,
   "id": "c19be33f",
   "metadata": {},
   "outputs": [
    {
     "name": "stdout",
     "output_type": "stream",
     "text": [
      "350\n",
      " Miss GRE\n",
      "TOFEL\n",
      "Try other\n"
     ]
    }
   ],
   "source": [
    "marks = int(input())\n",
    "if marks < 600 :\n",
    "    print(\" Miss GRE\")\n",
    "    if marks < 500 :\n",
    "        print(\"TOFEL\")\n",
    "        if marks < 400 :\n",
    "            print(\"Try other\")\n",
    "else :\n",
    "    if marks > 600 :\n",
    "        print(\"Congratulations ! \")\n",
    "        print(\"You Got GRE\")"
   ]
  },
  {
   "cell_type": "code",
   "execution_count": 43,
   "id": "27e3093c",
   "metadata": {},
   "outputs": [
    {
     "name": "stdout",
     "output_type": "stream",
     "text": [
      "True, Good work!\n"
     ]
    }
   ],
   "source": [
    "a = 10\n",
    "if a < 10 or a == 10 :\n",
    "    print(\"True, Good work!\")"
   ]
  },
  {
   "cell_type": "code",
   "execution_count": 45,
   "id": "4af142a2",
   "metadata": {},
   "outputs": [],
   "source": [
    "a = 10\n",
    "if a < 10 or a > 10 :\n",
    "    print(\"True, Good work!\")\n",
    "#else :\n",
    "#    print(\"Something went wrong\")"
   ]
  },
  {
   "cell_type": "code",
   "execution_count": 47,
   "id": "68c5a67d",
   "metadata": {},
   "outputs": [],
   "source": [
    "a = 'vish'\n",
    "if a == 'vish' and a == 'VISH' :\n",
    "    print(\"This is : 'vish'\")\n"
   ]
  },
  {
   "cell_type": "code",
   "execution_count": 48,
   "id": "4193114b",
   "metadata": {},
   "outputs": [
    {
     "name": "stdout",
     "output_type": "stream",
     "text": [
      "This is \"vish\"\n"
     ]
    }
   ],
   "source": [
    "a = 'vish'\n",
    "if a == 'vish' or a == 'VISH':\n",
    "    print('This is \"vish\"')\n"
   ]
  },
  {
   "cell_type": "code",
   "execution_count": 60,
   "id": "df2d71be",
   "metadata": {},
   "outputs": [
    {
     "data": {
      "text/plain": [
       "dict_keys(['key1', 'key2', 'kay3'])"
      ]
     },
     "execution_count": 60,
     "metadata": {},
     "output_type": "execute_result"
    }
   ],
   "source": [
    "d = {'key1':\"vish\",'key2':'Analyst','kay3':'Smart'}\n",
    "#d.values()\n",
    "d.keys()\n"
   ]
  },
  {
   "cell_type": "code",
   "execution_count": 58,
   "id": "5b8d7cc0",
   "metadata": {},
   "outputs": [
    {
     "name": "stdout",
     "output_type": "stream",
     "text": [
      "Return all values of dictionary\n",
      "dict_values(['vish', 'Analyst', 'Smart'])\n"
     ]
    }
   ],
   "source": [
    "if d['key1'] == 'vish' and d['key2'] == 'Analyst' and d['kay3'] == 'Smart':\n",
    "    print(\"Return all values of dictionary\")\n",
    "    print(d.values())\n",
    "else :\n",
    "    print('Values are not verified')"
   ]
  },
  {
   "cell_type": "code",
   "execution_count": null,
   "id": "3f39f04d",
   "metadata": {},
   "outputs": [],
   "source": [
    "l = [10,12,50,'Vish',20.2,40,50,10]\n",
    "for i in l:\n",
    "    print(i)\n",
    "    # To print output in one single line."
   ]
  },
  {
   "cell_type": "code",
   "execution_count": 82,
   "id": "d3c72328",
   "metadata": {},
   "outputs": [
    {
     "name": "stdout",
     "output_type": "stream",
     "text": [
      "20\n",
      "24\n",
      "100\n",
      "Vishal Pawar\n",
      "40.4\n",
      "80\n",
      "100\n",
      "20\n"
     ]
    },
    {
     "name": "stderr",
     "output_type": "stream",
     "text": [
      "Exception in callback BaseSelectorEventLoop._read_from_self()\n",
      "handle: <Handle BaseSelectorEventLoop._read_from_self()>\n",
      "Traceback (most recent call last):\n",
      "  File \"C:\\Users\\svish\\anaconda3\\lib\\asyncio\\events.py\", line 80, in _run\n",
      "    self._context.run(self._callback, *self._args)\n",
      "  File \"C:\\Users\\svish\\anaconda3\\lib\\asyncio\\selector_events.py\", line 120, in _read_from_self\n",
      "    data = self._ssock.recv(4096)\n",
      "ConnectionResetError: [WinError 10054] An existing connection was forcibly closed by the remote host\n",
      "Exception in callback BaseSelectorEventLoop._read_from_self()\n",
      "handle: <Handle BaseSelectorEventLoop._read_from_self()>\n",
      "Traceback (most recent call last):\n",
      "  File \"C:\\Users\\svish\\anaconda3\\lib\\asyncio\\events.py\", line 80, in _run\n",
      "    self._context.run(self._callback, *self._args)\n",
      "  File \"C:\\Users\\svish\\anaconda3\\lib\\asyncio\\selector_events.py\", line 120, in _read_from_self\n",
      "    data = self._ssock.recv(4096)\n",
      "ConnectionResetError: [WinError 10054] An existing connection was forcibly closed by the remote host\n"
     ]
    }
   ],
   "source": [
    "for i in l:\n",
    "    if type(i) == int or type(i) == float :\n",
    "        print(i*2)\n",
    "    elif type(i) == str :\n",
    "        print(i+str(\"al\")+str(\" Pawar\"))"
   ]
  },
  {
   "cell_type": "code",
   "execution_count": null,
   "id": "d853c01d",
   "metadata": {},
   "outputs": [
    {
     "name": "stderr",
     "output_type": "stream",
     "text": [
      "Exception in callback BaseSelectorEventLoop._read_from_self()\n",
      "handle: <Handle BaseSelectorEventLoop._read_from_self()>\n",
      "Traceback (most recent call last):\n",
      "  File \"C:\\Users\\svish\\anaconda3\\lib\\asyncio\\events.py\", line 80, in _run\n",
      "    self._context.run(self._callback, *self._args)\n",
      "  File \"C:\\Users\\svish\\anaconda3\\lib\\asyncio\\selector_events.py\", line 120, in _read_from_self\n",
      "    data = self._ssock.recv(4096)\n",
      "ConnectionResetError: [WinError 10054] An existing connection was forcibly closed by the remote host\n"
     ]
    }
   ],
   "source": []
  },
  {
   "cell_type": "code",
   "execution_count": null,
   "id": "8139a288",
   "metadata": {},
   "outputs": [],
   "source": []
  },
  {
   "cell_type": "code",
   "execution_count": null,
   "id": "8a2d801c",
   "metadata": {},
   "outputs": [],
   "source": []
  }
 ],
 "metadata": {
  "kernelspec": {
   "display_name": "Python 3 (ipykernel)",
   "language": "python",
   "name": "python3"
  },
  "language_info": {
   "codemirror_mode": {
    "name": "ipython",
    "version": 3
   },
   "file_extension": ".py",
   "mimetype": "text/x-python",
   "name": "python",
   "nbconvert_exporter": "python",
   "pygments_lexer": "ipython3",
   "version": "3.9.7"
  }
 },
 "nbformat": 4,
 "nbformat_minor": 5
}
