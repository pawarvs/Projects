{
 "cells": [
  {
   "cell_type": "code",
   "execution_count": 1,
   "id": "969d4196",
   "metadata": {},
   "outputs": [],
   "source": [
    "import pandas as pd\n",
    "import numpy as np\n",
    "import matplotlib.pyplot as plt\n",
    "import seaborn as sns"
   ]
  },
  {
   "cell_type": "code",
   "execution_count": 2,
   "id": "66863e75",
   "metadata": {},
   "outputs": [],
   "source": [
    "df = pd.read_csv(\"E:\\Machine learning\\Machine Learning - Data\\salary_data.csv\")"
   ]
  },
  {
   "cell_type": "code",
   "execution_count": 44,
   "id": "96c0133c",
   "metadata": {},
   "outputs": [
    {
     "data": {
      "text/html": [
       "<div>\n",
       "<style scoped>\n",
       "    .dataframe tbody tr th:only-of-type {\n",
       "        vertical-align: middle;\n",
       "    }\n",
       "\n",
       "    .dataframe tbody tr th {\n",
       "        vertical-align: top;\n",
       "    }\n",
       "\n",
       "    .dataframe thead th {\n",
       "        text-align: right;\n",
       "    }\n",
       "</style>\n",
       "<table border=\"1\" class=\"dataframe\">\n",
       "  <thead>\n",
       "    <tr style=\"text-align: right;\">\n",
       "      <th></th>\n",
       "      <th>YearsExperience</th>\n",
       "      <th>Salary</th>\n",
       "      <th>mean_salary</th>\n",
       "    </tr>\n",
       "  </thead>\n",
       "  <tbody>\n",
       "    <tr>\n",
       "      <th>0</th>\n",
       "      <td>1.1</td>\n",
       "      <td>39343</td>\n",
       "      <td>76003.0</td>\n",
       "    </tr>\n",
       "    <tr>\n",
       "      <th>1</th>\n",
       "      <td>1.3</td>\n",
       "      <td>46205</td>\n",
       "      <td>76003.0</td>\n",
       "    </tr>\n",
       "    <tr>\n",
       "      <th>2</th>\n",
       "      <td>1.5</td>\n",
       "      <td>37731</td>\n",
       "      <td>76003.0</td>\n",
       "    </tr>\n",
       "    <tr>\n",
       "      <th>3</th>\n",
       "      <td>2.0</td>\n",
       "      <td>43525</td>\n",
       "      <td>76003.0</td>\n",
       "    </tr>\n",
       "    <tr>\n",
       "      <th>4</th>\n",
       "      <td>2.2</td>\n",
       "      <td>39891</td>\n",
       "      <td>76003.0</td>\n",
       "    </tr>\n",
       "    <tr>\n",
       "      <th>5</th>\n",
       "      <td>2.9</td>\n",
       "      <td>56642</td>\n",
       "      <td>76003.0</td>\n",
       "    </tr>\n",
       "    <tr>\n",
       "      <th>6</th>\n",
       "      <td>3.0</td>\n",
       "      <td>60150</td>\n",
       "      <td>76003.0</td>\n",
       "    </tr>\n",
       "    <tr>\n",
       "      <th>7</th>\n",
       "      <td>3.2</td>\n",
       "      <td>54445</td>\n",
       "      <td>76003.0</td>\n",
       "    </tr>\n",
       "    <tr>\n",
       "      <th>8</th>\n",
       "      <td>3.2</td>\n",
       "      <td>64445</td>\n",
       "      <td>76003.0</td>\n",
       "    </tr>\n",
       "    <tr>\n",
       "      <th>9</th>\n",
       "      <td>3.7</td>\n",
       "      <td>57189</td>\n",
       "      <td>76003.0</td>\n",
       "    </tr>\n",
       "    <tr>\n",
       "      <th>10</th>\n",
       "      <td>3.9</td>\n",
       "      <td>63218</td>\n",
       "      <td>76003.0</td>\n",
       "    </tr>\n",
       "    <tr>\n",
       "      <th>11</th>\n",
       "      <td>4.0</td>\n",
       "      <td>55794</td>\n",
       "      <td>76003.0</td>\n",
       "    </tr>\n",
       "    <tr>\n",
       "      <th>12</th>\n",
       "      <td>4.0</td>\n",
       "      <td>56957</td>\n",
       "      <td>76003.0</td>\n",
       "    </tr>\n",
       "    <tr>\n",
       "      <th>13</th>\n",
       "      <td>4.1</td>\n",
       "      <td>57081</td>\n",
       "      <td>76003.0</td>\n",
       "    </tr>\n",
       "    <tr>\n",
       "      <th>14</th>\n",
       "      <td>4.5</td>\n",
       "      <td>61111</td>\n",
       "      <td>76003.0</td>\n",
       "    </tr>\n",
       "    <tr>\n",
       "      <th>15</th>\n",
       "      <td>4.9</td>\n",
       "      <td>67938</td>\n",
       "      <td>76003.0</td>\n",
       "    </tr>\n",
       "    <tr>\n",
       "      <th>16</th>\n",
       "      <td>5.1</td>\n",
       "      <td>66029</td>\n",
       "      <td>76003.0</td>\n",
       "    </tr>\n",
       "    <tr>\n",
       "      <th>17</th>\n",
       "      <td>5.3</td>\n",
       "      <td>83088</td>\n",
       "      <td>76003.0</td>\n",
       "    </tr>\n",
       "    <tr>\n",
       "      <th>18</th>\n",
       "      <td>5.9</td>\n",
       "      <td>81363</td>\n",
       "      <td>76003.0</td>\n",
       "    </tr>\n",
       "    <tr>\n",
       "      <th>19</th>\n",
       "      <td>6.0</td>\n",
       "      <td>93940</td>\n",
       "      <td>76003.0</td>\n",
       "    </tr>\n",
       "    <tr>\n",
       "      <th>20</th>\n",
       "      <td>6.8</td>\n",
       "      <td>91738</td>\n",
       "      <td>76003.0</td>\n",
       "    </tr>\n",
       "    <tr>\n",
       "      <th>21</th>\n",
       "      <td>7.1</td>\n",
       "      <td>98273</td>\n",
       "      <td>76003.0</td>\n",
       "    </tr>\n",
       "    <tr>\n",
       "      <th>22</th>\n",
       "      <td>7.9</td>\n",
       "      <td>101302</td>\n",
       "      <td>76003.0</td>\n",
       "    </tr>\n",
       "    <tr>\n",
       "      <th>23</th>\n",
       "      <td>8.2</td>\n",
       "      <td>113812</td>\n",
       "      <td>76003.0</td>\n",
       "    </tr>\n",
       "    <tr>\n",
       "      <th>24</th>\n",
       "      <td>8.7</td>\n",
       "      <td>109431</td>\n",
       "      <td>76003.0</td>\n",
       "    </tr>\n",
       "    <tr>\n",
       "      <th>25</th>\n",
       "      <td>9.0</td>\n",
       "      <td>105582</td>\n",
       "      <td>76003.0</td>\n",
       "    </tr>\n",
       "    <tr>\n",
       "      <th>26</th>\n",
       "      <td>9.5</td>\n",
       "      <td>116969</td>\n",
       "      <td>76003.0</td>\n",
       "    </tr>\n",
       "    <tr>\n",
       "      <th>27</th>\n",
       "      <td>9.6</td>\n",
       "      <td>112635</td>\n",
       "      <td>76003.0</td>\n",
       "    </tr>\n",
       "    <tr>\n",
       "      <th>28</th>\n",
       "      <td>10.3</td>\n",
       "      <td>122391</td>\n",
       "      <td>76003.0</td>\n",
       "    </tr>\n",
       "    <tr>\n",
       "      <th>29</th>\n",
       "      <td>10.5</td>\n",
       "      <td>121872</td>\n",
       "      <td>76003.0</td>\n",
       "    </tr>\n",
       "  </tbody>\n",
       "</table>\n",
       "</div>"
      ],
      "text/plain": [
       "    YearsExperience  Salary  mean_salary\n",
       "0               1.1   39343      76003.0\n",
       "1               1.3   46205      76003.0\n",
       "2               1.5   37731      76003.0\n",
       "3               2.0   43525      76003.0\n",
       "4               2.2   39891      76003.0\n",
       "5               2.9   56642      76003.0\n",
       "6               3.0   60150      76003.0\n",
       "7               3.2   54445      76003.0\n",
       "8               3.2   64445      76003.0\n",
       "9               3.7   57189      76003.0\n",
       "10              3.9   63218      76003.0\n",
       "11              4.0   55794      76003.0\n",
       "12              4.0   56957      76003.0\n",
       "13              4.1   57081      76003.0\n",
       "14              4.5   61111      76003.0\n",
       "15              4.9   67938      76003.0\n",
       "16              5.1   66029      76003.0\n",
       "17              5.3   83088      76003.0\n",
       "18              5.9   81363      76003.0\n",
       "19              6.0   93940      76003.0\n",
       "20              6.8   91738      76003.0\n",
       "21              7.1   98273      76003.0\n",
       "22              7.9  101302      76003.0\n",
       "23              8.2  113812      76003.0\n",
       "24              8.7  109431      76003.0\n",
       "25              9.0  105582      76003.0\n",
       "26              9.5  116969      76003.0\n",
       "27              9.6  112635      76003.0\n",
       "28             10.3  122391      76003.0\n",
       "29             10.5  121872      76003.0"
      ]
     },
     "execution_count": 44,
     "metadata": {},
     "output_type": "execute_result"
    }
   ],
   "source": [
    "df"
   ]
  },
  {
   "cell_type": "code",
   "execution_count": 4,
   "id": "17975d8e",
   "metadata": {},
   "outputs": [
    {
     "data": {
      "text/plain": [
       "(30, 2)"
      ]
     },
     "execution_count": 4,
     "metadata": {},
     "output_type": "execute_result"
    }
   ],
   "source": [
    "df.shape"
   ]
  },
  {
   "cell_type": "code",
   "execution_count": 5,
   "id": "2ece6876",
   "metadata": {},
   "outputs": [
    {
     "data": {
      "text/html": [
       "<div>\n",
       "<style scoped>\n",
       "    .dataframe tbody tr th:only-of-type {\n",
       "        vertical-align: middle;\n",
       "    }\n",
       "\n",
       "    .dataframe tbody tr th {\n",
       "        vertical-align: top;\n",
       "    }\n",
       "\n",
       "    .dataframe thead th {\n",
       "        text-align: right;\n",
       "    }\n",
       "</style>\n",
       "<table border=\"1\" class=\"dataframe\">\n",
       "  <thead>\n",
       "    <tr style=\"text-align: right;\">\n",
       "      <th></th>\n",
       "      <th>YearsExperience</th>\n",
       "      <th>Salary</th>\n",
       "    </tr>\n",
       "  </thead>\n",
       "  <tbody>\n",
       "    <tr>\n",
       "      <th>count</th>\n",
       "      <td>30.000000</td>\n",
       "      <td>30.000000</td>\n",
       "    </tr>\n",
       "    <tr>\n",
       "      <th>mean</th>\n",
       "      <td>5.313333</td>\n",
       "      <td>76003.000000</td>\n",
       "    </tr>\n",
       "    <tr>\n",
       "      <th>std</th>\n",
       "      <td>2.837888</td>\n",
       "      <td>27414.429785</td>\n",
       "    </tr>\n",
       "    <tr>\n",
       "      <th>min</th>\n",
       "      <td>1.100000</td>\n",
       "      <td>37731.000000</td>\n",
       "    </tr>\n",
       "    <tr>\n",
       "      <th>25%</th>\n",
       "      <td>3.200000</td>\n",
       "      <td>56720.750000</td>\n",
       "    </tr>\n",
       "    <tr>\n",
       "      <th>50%</th>\n",
       "      <td>4.700000</td>\n",
       "      <td>65237.000000</td>\n",
       "    </tr>\n",
       "    <tr>\n",
       "      <th>75%</th>\n",
       "      <td>7.700000</td>\n",
       "      <td>100544.750000</td>\n",
       "    </tr>\n",
       "    <tr>\n",
       "      <th>max</th>\n",
       "      <td>10.500000</td>\n",
       "      <td>122391.000000</td>\n",
       "    </tr>\n",
       "  </tbody>\n",
       "</table>\n",
       "</div>"
      ],
      "text/plain": [
       "       YearsExperience         Salary\n",
       "count        30.000000      30.000000\n",
       "mean          5.313333   76003.000000\n",
       "std           2.837888   27414.429785\n",
       "min           1.100000   37731.000000\n",
       "25%           3.200000   56720.750000\n",
       "50%           4.700000   65237.000000\n",
       "75%           7.700000  100544.750000\n",
       "max          10.500000  122391.000000"
      ]
     },
     "execution_count": 5,
     "metadata": {},
     "output_type": "execute_result"
    }
   ],
   "source": [
    "df.describe()"
   ]
  },
  {
   "cell_type": "code",
   "execution_count": 6,
   "id": "24738255",
   "metadata": {},
   "outputs": [
    {
     "data": {
      "image/png": "[encoded data removed]",
      "text/plain": [
       "<Figure size 432x288 with 1 Axes>"
      ]
     },
     "metadata": {
      "needs_background": "light"
     },
     "output_type": "display_data"
    }
   ],
   "source": [
    "# plt.figure(dpi = 100)\n",
    "plt.scatter(x = df.YearsExperience, y = df.Salary,color = 'red')\n",
    "plt.xlabel('Year of Experience')\n",
    "plt.ylabel('Salary')\n",
    "plt.title('Salary vs Year of Experience')\n",
    "# plt.legend()\n",
    "plt.show()"
   ]
  },
  {
   "cell_type": "code",
   "execution_count": 7,
   "id": "236c77b7",
   "metadata": {},
   "outputs": [
    {
     "data": {
      "image/png": "[encoded data removed]",
      "text/plain": [
       "<Figure size 780x520 with 1 Axes>"
      ]
     },
     "metadata": {
      "needs_background": "light"
     },
     "output_type": "display_data"
    }
   ],
   "source": [
    "df['mean_salary'] = df['Salary'].mean()\n",
    "\n",
    "plt.figure(dpi = 130)\n",
    "plt.scatter(x  = df.YearsExperience,y = df.Salary,color = 'red')\n",
    "plt.plot(df.YearsExperience,df.mean_salary, color = 'blue',label = 'Mean Salary')\n",
    "plt.xlabel('Years of Experience')\n",
    "plt.ylabel('Salary')\n",
    "plt.title('Salary vs Years of Experience')\n",
    "plt.legend()\n",
    "plt.show()"
   ]
  },
  {
   "cell_type": "code",
   "execution_count": 8,
   "id": "860d7796",
   "metadata": {},
   "outputs": [
    {
     "data": {
      "image/png": "[encoded data removed]",
      "text/plain": [
       "<Figure size 432x288 with 1 Axes>"
      ]
     },
     "metadata": {
      "needs_background": "light"
     },
     "output_type": "display_data"
    }
   ],
   "source": [
    "sns.regplot(x = df.YearsExperience,y = df.Salary)\n",
    "# figuresize \n",
    "sns.set(rc = {'figure.figsize':(20,10)})"
   ]
  },
  {
   "cell_type": "markdown",
   "id": "62f9bbe7",
   "metadata": {},
   "source": [
    "#### Defining the independent variable(y) and dependent variable(x)"
   ]
  },
  {
   "cell_type": "code",
   "execution_count": 9,
   "id": "4384edd9",
   "metadata": {},
   "outputs": [],
   "source": [
    "x = df['YearsExperience']\n",
    "y = df['Salary']"
   ]
  },
  {
   "cell_type": "code",
   "execution_count": 15,
   "id": "db023f22",
   "metadata": {},
   "outputs": [],
   "source": [
    "X = x.values.reshape(-1,1)"
   ]
  },
  {
   "cell_type": "code",
   "execution_count": 16,
   "id": "8a0ae52c",
   "metadata": {},
   "outputs": [
    {
     "data": {
      "text/plain": [
       "((30,), (30,))"
      ]
     },
     "execution_count": 16,
     "metadata": {},
     "output_type": "execute_result"
    }
   ],
   "source": [
    "x.shape,y.shape"
   ]
  },
  {
   "cell_type": "code",
   "execution_count": 11,
   "id": "6b4c489e",
   "metadata": {},
   "outputs": [],
   "source": [
    "import sklearn as sn"
   ]
  },
  {
   "cell_type": "code",
   "execution_count": 13,
   "id": "94e2fe07",
   "metadata": {},
   "outputs": [
    {
     "data": {
      "text/plain": [
       "LinearRegression()"
      ]
     },
     "execution_count": 13,
     "metadata": {},
     "output_type": "execute_result"
    }
   ],
   "source": [
    "from sklearn.linear_model import LinearRegression\n",
    "# initializing the algorithm\n",
    "regressor = LinearRegression()\n",
    "# Fitting Simple Linear Regression to the Training set\n",
    "regressor.fit(x.values.reshape(-1,1), y)"
   ]
  },
  {
   "cell_type": "code",
   "execution_count": 21,
   "id": "df4e65d5",
   "metadata": {},
   "outputs": [
    {
     "data": {
      "text/plain": [
       "array([ 36187.15875227,  38077.15121656,  39967.14368085,  44692.12484158,\n",
       "        46582.11730587,  53197.09093089,  54142.08716303,  56032.07962732,\n",
       "        56032.07962732,  60757.06078805,  62647.05325234,  63592.04948449,\n",
       "        63592.04948449,  64537.04571663,  68317.03064522,  72097.0155738 ,\n",
       "        73987.00803809,  75877.00050238,  81546.97789525,  82491.9741274 ,\n",
       "        90051.94398456,  92886.932681  , 100446.90253816, 103281.8912346 ,\n",
       "       108006.87239533, 110841.86109176, 115566.84225249, 116511.83848464,\n",
       "       123126.81210966, 125016.80457395])"
      ]
     },
     "execution_count": 21,
     "metadata": {},
     "output_type": "execute_result"
    }
   ],
   "source": [
    "y_pred = regressor.predict(X)\n",
    "y_pred"
   ]
  },
  {
   "cell_type": "code",
   "execution_count": 42,
   "id": "ead28cb4",
   "metadata": {},
   "outputs": [
    {
     "name": "stdout",
     "output_type": "stream",
     "text": [
      "Predicted salary of the person having 5 years of experience is =  [73042.01180594]\n"
     ]
    }
   ],
   "source": [
    "# Predicting the salary for the individual having 5 years of experience.\n",
    "Predicted_Salary = regressor.predict([[5]])\n",
    "print('Predicted salary of the person having 5 years of experience is = ',Predicted_Salary)"
   ]
  },
  {
   "cell_type": "code",
   "execution_count": 39,
   "id": "ea411388",
   "metadata": {},
   "outputs": [
    {
     "data": {
      "text/plain": [
       "array([9449.96232146])"
      ]
     },
     "execution_count": 39,
     "metadata": {},
     "output_type": "execute_result"
    }
   ],
   "source": [
    "a = regressor.coef_\n",
    "a"
   ]
  },
  {
   "cell_type": "code",
   "execution_count": 40,
   "id": "c5bc8909",
   "metadata": {},
   "outputs": [
    {
     "data": {
      "text/plain": [
       "25792.20019866871"
      ]
     },
     "execution_count": 40,
     "metadata": {},
     "output_type": "execute_result"
    }
   ],
   "source": [
    "b = regressor.intercept_\n",
    "b"
   ]
  },
  {
   "cell_type": "code",
   "execution_count": 37,
   "id": "bf9cf855",
   "metadata": {},
   "outputs": [
    {
     "name": "stdout",
     "output_type": "stream",
     "text": [
      "0.9569566641435086\n"
     ]
    }
   ],
   "source": [
    "r_squared = regressor.score(X, y)\n",
    "\n",
    "#view R-squared value\n",
    "print(r_squared)\n",
    "\n"
   ]
  },
  {
   "cell_type": "markdown",
   "id": "db851b0e",
   "metadata": {},
   "source": [
    "The R score of 0.96 is very high score, it indicates that 96% of the data fits to the model, and the model look perfect.\n",
    "96% variablibility present in the model is explained by the target variable. Higher the R2 squared value, indicated that more the variablity explained by the model."
   ]
  },
  {
   "cell_type": "code",
   "execution_count": null,
   "id": "3517b4e0",
   "metadata": {},
   "outputs": [],
   "source": []
  }
 ],
 "metadata": {
  "kernelspec": {
   "display_name": "Python 3 (ipykernel)",
   "language": "python",
   "name": "python3"
  },
  "language_info": {
   "codemirror_mode": {
    "name": "ipython",
    "version": 3
   },
   "file_extension": ".py",
   "mimetype": "text/x-python",
   "name": "python",
   "nbconvert_exporter": "python",
   "pygments_lexer": "ipython3",
   "version": "3.9.7"
  }
 },
 "nbformat": 4,
 "nbformat_minor": 5
}
