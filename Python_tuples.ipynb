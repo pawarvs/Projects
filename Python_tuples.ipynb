{
 "cells": [
  {
   "cell_type": "markdown",
   "id": "f1777974",
   "metadata": {},
   "source": [
    "## Tuples"
   ]
  },
  {
   "cell_type": "code",
   "execution_count": 1,
   "id": "b3b501d1",
   "metadata": {},
   "outputs": [],
   "source": [
    "t = (2,4,\"Vish\",[1,5],10.2,True)"
   ]
  },
  {
   "cell_type": "code",
   "execution_count": 2,
   "id": "b64e5d78",
   "metadata": {},
   "outputs": [
    {
     "data": {
      "text/plain": [
       "tuple"
      ]
     },
     "execution_count": 2,
     "metadata": {},
     "output_type": "execute_result"
    }
   ],
   "source": [
    "type(t)"
   ]
  },
  {
   "cell_type": "code",
   "execution_count": 3,
   "id": "215e3354",
   "metadata": {},
   "outputs": [
    {
     "data": {
      "text/plain": [
       "2"
      ]
     },
     "execution_count": 3,
     "metadata": {},
     "output_type": "execute_result"
    }
   ],
   "source": [
    "t[0]"
   ]
  },
  {
   "cell_type": "code",
   "execution_count": 6,
   "id": "cf4dc865",
   "metadata": {},
   "outputs": [
    {
     "data": {
      "text/plain": [
       "(2, 4, 'Vish', [1, 5], 10.2)"
      ]
     },
     "execution_count": 6,
     "metadata": {},
     "output_type": "execute_result"
    }
   ],
   "source": [
    "#t[0:4]\n",
    "#t[-2]\n",
    "t[0:5:1]"
   ]
  },
  {
   "cell_type": "code",
   "execution_count": 7,
   "id": "c11447fa",
   "metadata": {},
   "outputs": [
    {
     "data": {
      "text/plain": [
       "()"
      ]
     },
     "execution_count": 7,
     "metadata": {},
     "output_type": "execute_result"
    }
   ],
   "source": [
    "t[0:4:-1]"
   ]
  },
  {
   "cell_type": "code",
   "execution_count": 8,
   "id": "ed5c5605",
   "metadata": {},
   "outputs": [
    {
     "data": {
      "text/plain": [
       "(True, 10.2, [1, 5], 'Vish', 4, 2)"
      ]
     },
     "execution_count": 8,
     "metadata": {},
     "output_type": "execute_result"
    }
   ],
   "source": [
    "t[::-1]"
   ]
  },
  {
   "cell_type": "code",
   "execution_count": 10,
   "id": "fb90f7cb",
   "metadata": {},
   "outputs": [
    {
     "ename": "TypeError",
     "evalue": "'tuple' object does not support item assignment",
     "output_type": "error",
     "traceback": [
      "\u001b[1;31m---------------------------------------------------------------------------\u001b[0m",
      "\u001b[1;31mTypeError\u001b[0m                                 Traceback (most recent call last)",
      "\u001b[1;32m~\\AppData\\Local\\Temp/ipykernel_13516/3432497639.py\u001b[0m in \u001b[0;36m<module>\u001b[1;34m\u001b[0m\n\u001b[0;32m      1\u001b[0m \u001b[1;31m# Item assignment operations are not allowed with tuple.\u001b[0m\u001b[1;33m\u001b[0m\u001b[1;33m\u001b[0m\u001b[0m\n\u001b[1;32m----> 2\u001b[1;33m \u001b[0mt\u001b[0m\u001b[1;33m[\u001b[0m\u001b[1;36m1\u001b[0m\u001b[1;33m]\u001b[0m\u001b[1;33m=\u001b[0m\u001b[1;34m'Vis'\u001b[0m\u001b[1;33m\u001b[0m\u001b[1;33m\u001b[0m\u001b[0m\n\u001b[0m",
      "\u001b[1;31mTypeError\u001b[0m: 'tuple' object does not support item assignment"
     ]
    }
   ],
   "source": [
    "# Item assignment operations are not allowed with tuple. \" Tuples are immutable \"\n",
    "t[1]='Vis'"
   ]
  },
  {
   "cell_type": "code",
   "execution_count": 11,
   "id": "fded2676",
   "metadata": {},
   "outputs": [
    {
     "data": {
      "text/plain": [
       "[1, 2, 'vish', 4]"
      ]
     },
     "execution_count": 11,
     "metadata": {},
     "output_type": "execute_result"
    }
   ],
   "source": [
    "l = [1,2,3,4]\n",
    "l[2]='vish'\n",
    "l"
   ]
  },
  {
   "cell_type": "code",
   "execution_count": 12,
   "id": "997a945c",
   "metadata": {},
   "outputs": [
    {
     "data": {
      "text/plain": [
       "(2, 4, 'Vish', [1, 5], 10.2, True, 10, 20, 30)"
      ]
     },
     "execution_count": 12,
     "metadata": {},
     "output_type": "execute_result"
    }
   ],
   "source": [
    "t1 = (10,20,30)\n",
    "t+t1"
   ]
  },
  {
   "cell_type": "code",
   "execution_count": 14,
   "id": "93a49926",
   "metadata": {},
   "outputs": [
    {
     "data": {
      "text/plain": [
       "1"
      ]
     },
     "execution_count": 14,
     "metadata": {},
     "output_type": "execute_result"
    }
   ],
   "source": [
    "# t.count will show how many times a value appears in the tuple\n",
    "t.count('Vish')"
   ]
  },
  {
   "cell_type": "code",
   "execution_count": 15,
   "id": "23daa050",
   "metadata": {},
   "outputs": [
    {
     "data": {
      "text/plain": [
       "2"
      ]
     },
     "execution_count": 15,
     "metadata": {},
     "output_type": "execute_result"
    }
   ],
   "source": [
    "# t.index will gives the index/position of the value pass to it.\n",
    "t.index('Vish')"
   ]
  },
  {
   "cell_type": "code",
   "execution_count": 16,
   "id": "6a6efa49",
   "metadata": {},
   "outputs": [],
   "source": [
    "t = (2,19,26,'Vishal')"
   ]
  },
  {
   "cell_type": "code",
   "execution_count": 19,
   "id": "e695aa91",
   "metadata": {},
   "outputs": [
    {
     "data": {
      "text/plain": [
       "[2, 19, 26, 'Vishal']"
      ]
     },
     "execution_count": 19,
     "metadata": {},
     "output_type": "execute_result"
    }
   ],
   "source": [
    "t2 = list(t)\n",
    "t2"
   ]
  },
  {
   "cell_type": "code",
   "execution_count": 20,
   "id": "94f9e6d9",
   "metadata": {},
   "outputs": [],
   "source": [
    "l = ['V',2,4,5]"
   ]
  },
  {
   "cell_type": "code",
   "execution_count": 22,
   "id": "0447019b",
   "metadata": {},
   "outputs": [
    {
     "data": {
      "text/plain": [
       "('V', 2, 4, 5)"
      ]
     },
     "execution_count": 22,
     "metadata": {},
     "output_type": "execute_result"
    }
   ],
   "source": [
    "t2 = tuple(l)\n",
    "t2"
   ]
  },
  {
   "cell_type": "code",
   "execution_count": 23,
   "id": "5aae4902",
   "metadata": {},
   "outputs": [],
   "source": [
    "d = {}"
   ]
  },
  {
   "cell_type": "code",
   "execution_count": 24,
   "id": "1453c569",
   "metadata": {},
   "outputs": [
    {
     "data": {
      "text/plain": [
       "dict"
      ]
     },
     "execution_count": 24,
     "metadata": {},
     "output_type": "execute_result"
    }
   ],
   "source": [
    "type(d)"
   ]
  },
  {
   "cell_type": "code",
   "execution_count": 25,
   "id": "90da5858",
   "metadata": {},
   "outputs": [],
   "source": [
    "d = { }"
   ]
  },
  {
   "cell_type": "code",
   "execution_count": 26,
   "id": "ebebb62c",
   "metadata": {},
   "outputs": [
    {
     "data": {
      "text/plain": [
       "dict"
      ]
     },
     "execution_count": 26,
     "metadata": {},
     "output_type": "execute_result"
    }
   ],
   "source": [
    "type(d)"
   ]
  },
  {
   "cell_type": "code",
   "execution_count": 27,
   "id": "a818c71d",
   "metadata": {},
   "outputs": [
    {
     "data": {
      "text/plain": [
       "set"
      ]
     },
     "execution_count": 27,
     "metadata": {},
     "output_type": "execute_result"
    }
   ],
   "source": [
    "d = {1}\n",
    "type(d)\n"
   ]
  },
  {
   "cell_type": "markdown",
   "id": "67f9c3c7",
   "metadata": {},
   "source": [
    "When a sequence is not enclosed in any brackets, it is interpreted as tuple in python"
   ]
  },
  {
   "cell_type": "code",
   "execution_count": 1,
   "id": "4010f0c0",
   "metadata": {},
   "outputs": [],
   "source": [
    "Italian = 12,12,13,45,67,7,78,'Vishal'"
   ]
  },
  {
   "cell_type": "code",
   "execution_count": 2,
   "id": "80c8a34a",
   "metadata": {},
   "outputs": [
    {
     "data": {
      "text/plain": [
       "(12, 12, 13, 45, 67, 7, 78, 'Vishal')"
      ]
     },
     "execution_count": 2,
     "metadata": {},
     "output_type": "execute_result"
    }
   ],
   "source": [
    "Italian"
   ]
  },
  {
   "cell_type": "markdown",
   "id": "f63436e9",
   "metadata": {},
   "source": [
    "#### Concatination"
   ]
  },
  {
   "cell_type": "code",
   "execution_count": 4,
   "id": "5abcbec0",
   "metadata": {},
   "outputs": [
    {
     "name": "stdout",
     "output_type": "stream",
     "text": [
      "('Ned', 'Catelyn', 'Brandon', 'Sansa', 'Arya', 'Robb', 'Jeor', 'Maege', 'Jorah', 'Lyanna') "
     ]
    }
   ],
   "source": [
    "stark=(\"Ned\", \"Catelyn\", \"Brandon\", \"Sansa\", \"Arya\", \"Robb\")\n",
    "mormont=(\"Jeor\", \"Maege\", \"Jorah\", \"Lyanna\")\n",
    "print(stark + mormont, end = ' ')"
   ]
  },
  {
   "cell_type": "markdown",
   "id": "b5d99c38",
   "metadata": {},
   "source": [
    "#### Repetition"
   ]
  },
  {
   "cell_type": "code",
   "execution_count": 5,
   "id": "4fcdbfd5",
   "metadata": {},
   "outputs": [
    {
     "data": {
      "text/plain": [
       "('C6', 'H12', 'O6', 'C6', 'H12', 'O6')"
      ]
     },
     "execution_count": 5,
     "metadata": {},
     "output_type": "execute_result"
    }
   ],
   "source": [
    "glucose=(\"C6\", \"H12\", \"O6\")\n",
    ">>> glucose*2\n"
   ]
  },
  {
   "cell_type": "markdown",
   "id": "5d6dc7ec",
   "metadata": {},
   "source": [
    "#### In membership // Not in membership"
   ]
  },
  {
   "cell_type": "code",
   "execution_count": 11,
   "id": "467ba882",
   "metadata": {},
   "outputs": [
    {
     "data": {
      "text/plain": [
       "True"
      ]
     },
     "execution_count": 11,
     "metadata": {},
     "output_type": "execute_result"
    }
   ],
   "source": [
    "got=(\"Ned\", \"Catelyn\", \"Brandon\", \"Sansa\", \"Arya\", \"Robb\", \"Jeor\", \"Maege\", \"Jorah\", \"Lyanna\")\n",
    "\"Arya\" in got"
   ]
  },
  {
   "cell_type": "code",
   "execution_count": 12,
   "id": "601361f5",
   "metadata": {},
   "outputs": [
    {
     "data": {
      "text/plain": [
       "False"
      ]
     },
     "execution_count": 12,
     "metadata": {},
     "output_type": "execute_result"
    }
   ],
   "source": [
    "\"Jon\" in got\n"
   ]
  },
  {
   "cell_type": "code",
   "execution_count": 13,
   "id": "ed44eebf",
   "metadata": {},
   "outputs": [
    {
     "data": {
      "text/plain": [
       "False"
      ]
     },
     "execution_count": 13,
     "metadata": {},
     "output_type": "execute_result"
    }
   ],
   "source": [
    "\"Arya\" not in got"
   ]
  },
  {
   "cell_type": "code",
   "execution_count": 14,
   "id": "35106140",
   "metadata": {},
   "outputs": [
    {
     "data": {
      "text/plain": [
       "True"
      ]
     },
     "execution_count": 14,
     "metadata": {},
     "output_type": "execute_result"
    }
   ],
   "source": [
    "\"Jon\" not in got"
   ]
  },
  {
   "cell_type": "code",
   "execution_count": 15,
   "id": "84e79e58",
   "metadata": {},
   "outputs": [
    {
     "data": {
      "text/plain": [
       "('1', ',', '2')"
      ]
     },
     "execution_count": 15,
     "metadata": {},
     "output_type": "execute_result"
    }
   ],
   "source": [
    "tuple('1,2')"
   ]
  },
  {
   "cell_type": "code",
   "execution_count": 16,
   "id": "e8f82a01",
   "metadata": {},
   "outputs": [
    {
     "data": {
      "text/plain": [
       "(1, 2)"
      ]
     },
     "execution_count": 16,
     "metadata": {},
     "output_type": "execute_result"
    }
   ],
   "source": [
    "tuple((1,2))"
   ]
  },
  {
   "cell_type": "code",
   "execution_count": 17,
   "id": "36ff4efd",
   "metadata": {},
   "outputs": [
    {
     "ename": "TypeError",
     "evalue": "tuple expected at most 1 argument, got 2",
     "output_type": "error",
     "traceback": [
      "\u001b[1;31m---------------------------------------------------------------------------\u001b[0m",
      "\u001b[1;31mTypeError\u001b[0m                                 Traceback (most recent call last)",
      "\u001b[1;32m~\\AppData\\Local\\Temp/ipykernel_21400/1241600950.py\u001b[0m in \u001b[0;36m<module>\u001b[1;34m\u001b[0m\n\u001b[1;32m----> 1\u001b[1;33m \u001b[0mtuple\u001b[0m\u001b[1;33m(\u001b[0m\u001b[1;36m1\u001b[0m\u001b[1;33m,\u001b[0m\u001b[1;36m2\u001b[0m\u001b[1;33m)\u001b[0m\u001b[1;33m\u001b[0m\u001b[1;33m\u001b[0m\u001b[0m\n\u001b[0m",
      "\u001b[1;31mTypeError\u001b[0m: tuple expected at most 1 argument, got 2"
     ]
    }
   ],
   "source": [
    "tuple(1,2)"
   ]
  },
  {
   "cell_type": "code",
   "execution_count": 18,
   "id": "f2183f89",
   "metadata": {},
   "outputs": [
    {
     "data": {
      "text/plain": [
       "(1, 2)"
      ]
     },
     "execution_count": 18,
     "metadata": {},
     "output_type": "execute_result"
    }
   ],
   "source": [
    "tuple([1,2])"
   ]
  },
  {
   "cell_type": "code",
   "execution_count": null,
   "id": "b1810073",
   "metadata": {},
   "outputs": [],
   "source": []
  }
 ],
 "metadata": {
  "kernelspec": {
   "display_name": "Python 3 (ipykernel)",
   "language": "python",
   "name": "python3"
  },
  "language_info": {
   "codemirror_mode": {
    "name": "ipython",
    "version": 3
   },
   "file_extension": ".py",
   "mimetype": "text/x-python",
   "name": "python",
   "nbconvert_exporter": "python",
   "pygments_lexer": "ipython3",
   "version": "3.9.7"
  }
 },
 "nbformat": 4,
 "nbformat_minor": 5
}
